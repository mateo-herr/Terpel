{
 "cells": [
  {
   "cell_type": "markdown",
   "id": "89a3d08c",
   "metadata": {},
   "source": [
    "# Análisis de cliente terpel"
   ]
  },
  {
   "cell_type": "markdown",
   "id": "0af3c7d4",
   "metadata": {},
   "source": [
    "## Importaciones"
   ]
  },
  {
   "cell_type": "code",
   "execution_count": 1,
   "id": "e2786ce9",
   "metadata": {},
   "outputs": [],
   "source": [
    "import pandas as pd\n",
    "import plotly.express as px\n",
    "import plotly.graph_objects as go\n",
    "from plotly.subplots import make_subplots\n",
    "import numpy as np"
   ]
  },
  {
   "cell_type": "markdown",
   "id": "4ca2143d",
   "metadata": {},
   "source": [
    "## Cargue de bases"
   ]
  },
  {
   "cell_type": "code",
   "execution_count": 2,
   "id": "5630cad8",
   "metadata": {},
   "outputs": [],
   "source": [
    "from pathlib import Path\n",
    "import re\n",
    "import os\n",
    "\n",
    "# Construir ./data/costeos_detalle_terpel.xlsx concatenando todos los .xlsx en ./downloads/costeos_detalle\n",
    "\n",
    "def consolidar_cost_det():\n",
    "    src_dir = Path('./downloads/costeo_detallado')\n",
    "    out_path = Path('./data/costeos_detalle_terpel.xlsx')\n",
    "    out_path.parent.mkdir(parents=True, exist_ok=True)\n",
    "\n",
    "    files = sorted(src_dir.glob('*.xls'))\n",
    "    if not files:\n",
    "        raise FileNotFoundError(f\"No se encontraron archivos .xls en {src_dir.resolve()}\")\n",
    "\n",
    "    frames = []\n",
    "    for f in files:\n",
    "        try:\n",
    "            part = pd.read_excel(f)\n",
    "        except Exception as e:\n",
    "            print(f\"Error leyendo {f.name}: {e}. Se omite este archivo.\")\n",
    "            continue\n",
    "\n",
    "        # Extraer un id numérico del nombre del archivo (primer grupo de dígitos encontrado)\n",
    "        # Tomar el nombre del archivo sin extensión como id (si es numérico).\n",
    "        # Si no es un entero exacto, buscar el primer grupo de dígitos en el nombre.\n",
    "        stem = f.stem.strip()\n",
    "        m = re.match(r'^(\\d+)$', stem)\n",
    "        if not m:\n",
    "            m = re.search(r'(\\d{3,})', stem)\n",
    "        id_val = int(m.group(1)) if m else None\n",
    "\n",
    "        # Añadir/sobrescribir columna 'Id.' con el id extraído\n",
    "        part['Id.'] = id_val\n",
    "        frames.append(part)\n",
    "\n",
    "    if not frames:\n",
    "        raise RuntimeError(\"No se pudo leer ningún archivo válido para concatenar.\")\n",
    "\n",
    "    df_all = pd.concat(frames, ignore_index=True)\n",
    "\n",
    "    # Guardar el archivo final para que las celdas posteriores lo puedan leer\n",
    "    df_all.to_excel(out_path, index=False)\n",
    "    print(f\"Concatenados {len(frames)} archivos. Resultado: {df_all.shape[0]} filas x {df_all.shape[1]} columnas -> {out_path}\")"
   ]
  },
  {
   "cell_type": "code",
   "execution_count": 3,
   "id": "c18ba093",
   "metadata": {},
   "outputs": [],
   "source": [
    "from pathlib import Path\n",
    "\n",
    "_out_path = Path('./data/costeos_detalle_terpel.xlsx')\n",
    "if not _out_path.exists():\n",
    "    try:\n",
    "        consolidar_cost_det()\n",
    "    except Exception as e:\n",
    "        raise RuntimeError(f\"No se pudo consolidar costeos detalle: {e}\") from e\n",
    "\n",
    "# (re)leer para asegurarnos de tener el archivo actualizado\n",
    "df_costeos_detalle = pd.read_excel(_out_path)   "
   ]
  },
  {
   "cell_type": "code",
   "execution_count": 4,
   "id": "78e31eaf",
   "metadata": {},
   "outputs": [
    {
     "name": "stderr",
     "output_type": "stream",
     "text": [
      "c:\\Users\\Analitycs Data\\OneDrive - MOLT\\Documentos\\MOLT\\Analytics\\Forecast Producción\\Terpel\\.venv\\Lib\\site-packages\\openpyxl\\styles\\stylesheet.py:237: UserWarning: Workbook contains no default style, apply openpyxl's default\n",
      "  warn(\"Workbook contains no default style, apply openpyxl's default\")\n",
      "c:\\Users\\Analitycs Data\\OneDrive - MOLT\\Documentos\\MOLT\\Analytics\\Forecast Producción\\Terpel\\.venv\\Lib\\site-packages\\openpyxl\\styles\\stylesheet.py:237: UserWarning: Workbook contains no default style, apply openpyxl's default\n",
      "  warn(\"Workbook contains no default style, apply openpyxl's default\")\n",
      "C:\\Users\\Analitycs Data\\AppData\\Local\\Temp\\ipykernel_14180\\308708442.py:9: UserWarning: Parsing dates in %d/%m/%Y %H:%M format when dayfirst=False (the default) was specified. Pass `dayfirst=True` or specify a format to silence this warning.\n",
      "  if dcols: df[dcols] = df[dcols].apply(pd.to_datetime, errors='coerce')\n"
     ]
    }
   ],
   "source": [
    "df_ops_det = pd.read_excel('./data/ops_detalle_terpel.xlsx')\n",
    "df_costeos = pd.read_excel('./data/costeos_terpel.xlsx')\n",
    "\n",
    "# Asignación de tipos de datos\n",
    "for df in (df_ops_det, df_costeos, df_costeos_detalle):\n",
    "    dcols = [c for c in (globals().get('date_cols') or list(df.columns)) if ('fecha' in c.lower() or 'date' in c.lower() or 'creado' in c.lower()) and c in df.columns]\n",
    "    ncols = [c for c in (globals().get('num_cols') or df.select_dtypes(include=['number']).columns.tolist()) if c in df.columns]\n",
    "    scols = [c for c in (globals().get('str_cols') or [c for c in df.columns if c not in dcols + ncols]) if c in df.columns]\n",
    "    if dcols: df[dcols] = df[dcols].apply(pd.to_datetime, errors='coerce')\n",
    "    if ncols: df[ncols] = df[ncols].apply(pd.to_numeric, errors='coerce')\n",
    "    if scols: df[scols] = df[scols].astype('string')"
   ]
  },
  {
   "cell_type": "code",
   "execution_count": 5,
   "id": "f73b3456",
   "metadata": {},
   "outputs": [
    {
     "name": "stdout",
     "output_type": "stream",
     "text": [
      "<class 'pandas.core.frame.DataFrame'>\n",
      "RangeIndex: 1091 entries, 0 to 1090\n",
      "Data columns (total 22 columns):\n",
      " #   Column                   Non-Null Count  Dtype         \n",
      "---  ------                   --------------  -----         \n",
      " 0   Num-OP                   1091 non-null   int64         \n",
      " 1   Secuencia                1091 non-null   int64         \n",
      " 2   OP Det                   1091 non-null   string        \n",
      " 3   ClienteNombre            1091 non-null   string        \n",
      " 4   Productos                1091 non-null   string        \n",
      " 5   Categoría Proc           936 non-null    string        \n",
      " 6   Detalle                  1030 non-null   string        \n",
      " 7   Colores                  945 non-null    string        \n",
      " 8   Total Pieza              1070 non-null   float64       \n",
      " 9   Producir                 1091 non-null   int64         \n",
      " 10  Cantidad Remitida        1091 non-null   int64         \n",
      " 11  Precio Unitario Sin IVA  1091 non-null   int64         \n",
      " 12  Total Precio Sin IVA     1091 non-null   int64         \n",
      " 13  Estado OP                1091 non-null   string        \n",
      " 14  Creado El                1091 non-null   datetime64[ns]\n",
      " 15  Fecha Promesa            467 non-null    datetime64[ns]\n",
      " 16  Ficha Técnica Producto   847 non-null    string        \n",
      " 17  Muestra                  1091 non-null   string        \n",
      " 18  Id.                      1091 non-null   int64         \n",
      " 19  OS                       1091 non-null   string        \n",
      " 20  Id Costeo Producto       1091 non-null   int64         \n",
      " 21  Costeo_Producto          972 non-null    string        \n",
      "dtypes: datetime64[ns](2), float64(1), int64(8), string(11)\n",
      "memory usage: 187.6 KB\n"
     ]
    }
   ],
   "source": [
    "df_ops_det.info()"
   ]
  },
  {
   "cell_type": "markdown",
   "id": "d276433a",
   "metadata": {},
   "source": [
    "## Limpieza de bases"
   ]
  },
  {
   "cell_type": "code",
   "execution_count": 6,
   "id": "cdf79e05",
   "metadata": {},
   "outputs": [],
   "source": [
    "# Op detalle\n",
    "# Se eliminan muestras y OPs sin costeo asignado\n",
    "df_ops_det = df_ops_det[(df_ops_det['Muestra'] == 'False') & (df_ops_det['Costeo_Producto'].notna())]\n",
    "df_ops_det.drop(columns=['Estado OP', 'Ficha Técnica Producto', 'Id.', 'Id Costeo Producto', 'Muestra', 'OS', 'Fecha Promesa'], inplace=True, errors='ignore')\n",
    "\n",
    "# Costeos\n",
    "df_costeos.drop(columns=['Secuencia', 'Ficha Técnica Producto', 'Ficha Técnica Producto', 'Colores', 'Es Duplicado', 'Fijar Precio Venta', 'Costo Negociado Sin IVA', 'Negociado con', 'Categoría'], inplace=True, errors='ignore')\n",
    "\n",
    "# Costeos detalle\n",
    "df_costeos_detalle.drop(columns=['Costeo Detalle', 'Secuencia', 'Detalle', 'Costo SIN IVA', 'Generado Auto'], inplace=True, errors='ignore')"
   ]
  },
  {
   "cell_type": "code",
   "execution_count": 7,
   "id": "858d0320",
   "metadata": {},
   "outputs": [],
   "source": [
    "# normalización a lowercase de todos los valores de columnas de texto\n",
    "for df in (df_ops_det, df_costeos, df_costeos_detalle):\n",
    "    for c in df.select_dtypes(include=['string', 'object']).columns:\n",
    "        df[c] = df[c].str.lower().str.strip()"
   ]
  },
  {
   "cell_type": "markdown",
   "id": "e2abcdd9",
   "metadata": {},
   "source": [
    "### OPs Detalle"
   ]
  },
  {
   "cell_type": "code",
   "execution_count": 8,
   "id": "2372b2bf",
   "metadata": {},
   "outputs": [],
   "source": [
    "# Limpieza categorias\n",
    "# Eliminacion de caracteres especiales y espacios en blanco\n",
    "df_ops_det['Categoría Proc'] = df_ops_det['Categoría Proc'].str.replace(r'[^a-zA-Z0-9\\s]', '', regex=True).str.strip()\n",
    "\n",
    "# reemplazos manuales\n",
    "# si contiene chaqueta\n",
    "df_ops_det.loc[df_ops_det['Categoría Proc'].str.contains('chaqueta', na=False), 'Categoría Proc'] = 'chaquetas'\n",
    "# si contiene pantal\n",
    "df_ops_det.loc[df_ops_det['Categoría Proc'].str.contains('pantal', na=False), 'Categoría Proc'] = 'pantalones'\n",
    "# si contiene saco\n",
    "df_ops_det.loc[df_ops_det['Categoría Proc'].str.contains('saco', na=False), 'Categoría Proc'] = 'sacos'\n",
    "# si contiene sueter\n",
    "df_ops_det.loc[df_ops_det['Categoría Proc'].str.contains('sueter', na=False), 'Categoría Proc'] = 'sacos'"
   ]
  },
  {
   "cell_type": "code",
   "execution_count": 9,
   "id": "5e92c771",
   "metadata": {},
   "outputs": [],
   "source": [
    "df_ops_det['descripcion_concat'] = df_ops_det['Productos'].fillna('') + ' + ' + df_ops_det['Detalle'].fillna('')\n",
    "df_ops_det_catna = df_ops_det[df_ops_det['Categoría Proc'].isna()]"
   ]
  },
  {
   "cell_type": "code",
   "execution_count": 10,
   "id": "8cb2cfba",
   "metadata": {},
   "outputs": [],
   "source": [
    "# Clasificación automática de categorías faltantes\n",
    "# basado en palabras clave y Gemini\n",
    "categories = ['accesorios','bata','buzo','camisa','camiseta','chaleco','chaquetas','delantal','gorra','hoodie','merchandising','overol','pantalones','ropa interior','sacos','servicios','tapabocas','transporte']\n",
    "_kw = {\n",
    "    'accesorios':['correa','reata','termo','cartuchera','tote','bolsa'],\n",
    "    'bata':['bata','laboratorio'],\n",
    "    'buzo':['buzo','sudadera'],\n",
    "    'camisa':['camisa','oxford'],\n",
    "    'camiseta':['camiseta','polo','t-shirt','pique'],\n",
    "    'chaleco':['chaleco'],\n",
    "    'chaquetas':['chaqueta','rompevientos','enguatad','michellin','michelin'],\n",
    "    'delantal':['delantal'],\n",
    "    'gorra':['gorra'],\n",
    "    'hoodie':['hoodie','hoddie'],\n",
    "    'merchandising':['merchandising'],\n",
    "    'overol':['overol'],\n",
    "    'pantalones':['pantal','jean','dril'],\n",
    "    'ropa interior':['ropa interior'],\n",
    "    'sacos':['saco','sacos'],\n",
    "    'servicios':['servicios','transporte flete'],\n",
    "    'tapabocas':['tapabocas'],\n",
    "    'transporte':['transporte']\n",
    "}\n",
    "def kw_classify(text):\n",
    "        t = (text or '').lower()\n",
    "        for cat, keys in _kw.items():\n",
    "                if any(k in t for k in keys):\n",
    "                        return cat\n",
    "        return None\n",
    "\n",
    "# intento con Gemini si está disponible\n",
    "try:\n",
    "        import os\n",
    "        from google import generativeai as genai\n",
    "        def gemini_classify(text):\n",
    "                prompt = f\"Asignar UNA sola categoría exacta de la lista: {', '.join(categories)}. Responde únicamente la categoría (una palabra), sin explicaciones.\\n\\nTexto: \\\"{text}\\\"\\n\\nCategoría:\"\n",
    "                r = genai.generate_text(model='gemini-2.5-flash', prompt=prompt)\n",
    "                return r.candidates[0].content.strip().lower().splitlines()[0]\n",
    "except Exception:\n",
    "        gemini_classify = lambda t: None\n",
    "\n",
    "mask = df_ops_det['Categoría Proc'].isna()\n",
    "df_ops_det.loc[mask, 'Categoría Proc'] = (\n",
    "        df_ops_det.loc[mask, 'descripcion_concat'].fillna('').astype('string')\n",
    "        .apply(lambda s: kw_classify(s) or gemini_classify(s) or 'otro')\n",
    ")"
   ]
  },
  {
   "cell_type": "code",
   "execution_count": 11,
   "id": "9edb127b",
   "metadata": {},
   "outputs": [
    {
     "data": {
      "text/plain": [
       "Categoría Proc\n",
       "camiseta         215\n",
       "chaquetas        124\n",
       "gorra            107\n",
       "pantalones       104\n",
       "delantal          93\n",
       "camisa            84\n",
       "accesorios        60\n",
       "hoodie            33\n",
       "sacos             19\n",
       "merchandising     13\n",
       "chaleco           13\n",
       "buzo               7\n",
       "tapabocas          5\n",
       "ropa interior      4\n",
       "otro               3\n",
       "servicios          3\n",
       "overol             3\n",
       "bata               2\n",
       "transporte         1\n",
       "Name: Secuencia, dtype: int64"
      ]
     },
     "execution_count": 11,
     "metadata": {},
     "output_type": "execute_result"
    }
   ],
   "source": [
    "df_ops_det.groupby('Categoría Proc', dropna=False).count()['Secuencia'].sort_values(ascending=False)"
   ]
  },
  {
   "cell_type": "markdown",
   "id": "38ceea55",
   "metadata": {},
   "source": [
    "### Costeos detalle"
   ]
  },
  {
   "cell_type": "code",
   "execution_count": 12,
   "id": "16b275cb",
   "metadata": {},
   "outputs": [
    {
     "name": "stderr",
     "output_type": "stream",
     "text": [
      "C:\\Users\\Analitycs Data\\AppData\\Local\\Temp\\ipykernel_14180\\3837346730.py:12: FutureWarning: ChainedAssignmentError: behaviour will change in pandas 3.0!\n",
      "You are setting values through chained assignment. Currently this works in certain cases, but when using Copy-on-Write (which will become the default behaviour in pandas 3.0) this will never work to update the original DataFrame or Series, because the intermediate object on which we are setting values will behave as a copy.\n",
      "A typical example is when you are setting values in a column of a DataFrame, like:\n",
      "\n",
      "df[\"col\"][row_indexer] = value\n",
      "\n",
      "Use `df.loc[row_indexer, \"col\"] = values` instead, to perform the assignment in a single step and ensure this keeps updating the original `df`.\n",
      "\n",
      "See the caveats in the documentation: https://pandas.pydata.org/pandas-docs/stable/user_guide/indexing.html#returning-a-view-versus-a-copy\n",
      "\n",
      "  df_costeos_detalle[\"categoria_insumo\"].loc[\n",
      "C:\\Users\\Analitycs Data\\AppData\\Local\\Temp\\ipykernel_14180\\3837346730.py:17: FutureWarning: ChainedAssignmentError: behaviour will change in pandas 3.0!\n",
      "You are setting values through chained assignment. Currently this works in certain cases, but when using Copy-on-Write (which will become the default behaviour in pandas 3.0) this will never work to update the original DataFrame or Series, because the intermediate object on which we are setting values will behave as a copy.\n",
      "A typical example is when you are setting values in a column of a DataFrame, like:\n",
      "\n",
      "df[\"col\"][row_indexer] = value\n",
      "\n",
      "Use `df.loc[row_indexer, \"col\"] = values` instead, to perform the assignment in a single step and ensure this keeps updating the original `df`.\n",
      "\n",
      "See the caveats in the documentation: https://pandas.pydata.org/pandas-docs/stable/user_guide/indexing.html#returning-a-view-versus-a-copy\n",
      "\n",
      "  df_costeos_detalle[\"categoria_insumo\"].loc[\n"
     ]
    }
   ],
   "source": [
    "# Extraer categoria de insumo de substring dentro de parentesis en columna 'Insumo'\n",
    "df_costeos_detalle[\"categoria_insumo\"] = (\n",
    "    df_costeos_detalle[\"Insumo\"].str.extract(r\"\\((.*?)\\)\", expand=False).str.strip()\n",
    ")\n",
    "\n",
    "# eliminar texto dentro de parentesis en columna 'Insumo'\n",
    "df_costeos_detalle[\"Insumo\"] = (\n",
    "    df_costeos_detalle[\"Insumo\"].str.replace(r\"\\(.*?\\)\", \"\", regex=True).str.strip()\n",
    ")\n",
    "\n",
    "# reemplazar categoria_insumo por mat.prima o insumo\n",
    "df_costeos_detalle[\"categoria_insumo\"].loc[\n",
    "    (df_costeos_detalle[\"categoria_insumo\"] == \"producto/insumo/mat.prima\")\n",
    "    & (df_costeos_detalle[\"Insumo\"].str.startswith(\"t\"))\n",
    "] = \"mat.prima\"\n",
    "\n",
    "df_costeos_detalle[\"categoria_insumo\"].loc[\n",
    "    (df_costeos_detalle[\"categoria_insumo\"] == \"producto/insumo/mat.prima\")\n",
    "    & (~df_costeos_detalle[\"Insumo\"].str.startswith(\"t\"))\n",
    "] = \"insumo\""
   ]
  },
  {
   "cell_type": "markdown",
   "id": "8dc242f6",
   "metadata": {},
   "source": [
    "## Unificación de bases"
   ]
  },
  {
   "cell_type": "code",
   "execution_count": 13,
   "id": "839b6d20",
   "metadata": {},
   "outputs": [],
   "source": [
    "df_maestro = df_ops_det.merge(df_costeos, how='left', on='Costeo_Producto')\n",
    "df_maestro = df_maestro.merge(df_costeos_detalle, how='left', on='Id.')\n",
    "df_maestro = df_maestro[df_maestro['Id.'].notna()]"
   ]
  },
  {
   "cell_type": "code",
   "execution_count": 14,
   "id": "4321de53",
   "metadata": {},
   "outputs": [],
   "source": [
    "# Columnas agregadas\n",
    "df_maestro['CantInsumo'] = df_maestro['Producir'] * df_maestro['Consumo']\n",
    "df_maestro['CostoTotalInsumo'] = df_maestro['CantInsumo'] * df_maestro['Total']"
   ]
  },
  {
   "cell_type": "code",
   "execution_count": 15,
   "id": "3506c065",
   "metadata": {},
   "outputs": [],
   "source": [
    "# Eliminar columnas innecesarias\n",
    "df_maestro.drop(columns=['Costeo_Producto', 'Productos', 'Detalle_x', 'Detalle_y', 'descripcion_concat', 'Id Costeo Producto', 'Cliente'], inplace=True, errors='ignore')"
   ]
  },
  {
   "cell_type": "code",
   "execution_count": 16,
   "id": "390e2789",
   "metadata": {},
   "outputs": [
    {
     "name": "stdout",
     "output_type": "stream",
     "text": [
      "<class 'pandas.core.frame.DataFrame'>\n",
      "Index: 5985 entries, 0 to 5988\n",
      "Data columns (total 28 columns):\n",
      " #   Column                   Non-Null Count  Dtype         \n",
      "---  ------                   --------------  -----         \n",
      " 0   Num-OP                   5985 non-null   int64         \n",
      " 1   Secuencia                5985 non-null   int64         \n",
      " 2   OP Det                   5985 non-null   string        \n",
      " 3   ClienteNombre            5985 non-null   string        \n",
      " 4   Categoría Proc           5985 non-null   string        \n",
      " 5   Colores                  5530 non-null   string        \n",
      " 6   Total Pieza              5838 non-null   float64       \n",
      " 7   Producir                 5985 non-null   int64         \n",
      " 8   Cantidad Remitida        5985 non-null   int64         \n",
      " 9   Precio Unitario Sin IVA  5985 non-null   int64         \n",
      " 10  Total Precio Sin IVA     5985 non-null   int64         \n",
      " 11  Creado El                5985 non-null   datetime64[ns]\n",
      " 12  Producto                 5975 non-null   string        \n",
      " 13  Cantidad Solicitada      5985 non-null   float64       \n",
      " 14  Costo Total Unitario     5985 non-null   float64       \n",
      " 15  Costo Indirecto          5985 non-null   float64       \n",
      " 16  Ganancia                 5985 non-null   float64       \n",
      " 17  Margen Ganancia Real     5985 non-null   float64       \n",
      " 18  Precio Venta             5985 non-null   float64       \n",
      " 19  Id.                      5985 non-null   float64       \n",
      " 20  Insumo                   5872 non-null   string        \n",
      " 21  Color                    8 non-null      string        \n",
      " 22  Consumo                  5982 non-null   float64       \n",
      " 23  Unidad Medida            3490 non-null   string        \n",
      " 24  Total                    5982 non-null   float64       \n",
      " 25  categoria_insumo         5872 non-null   string        \n",
      " 26  CantInsumo               5982 non-null   float64       \n",
      " 27  CostoTotalInsumo         5982 non-null   float64       \n",
      "dtypes: datetime64[ns](1), float64(12), int64(6), string(9)\n",
      "memory usage: 1.3 MB\n"
     ]
    }
   ],
   "source": [
    "df_maestro.info()"
   ]
  },
  {
   "cell_type": "code",
   "execution_count": 17,
   "id": "1e673c8f",
   "metadata": {},
   "outputs": [
    {
     "data": {
      "text/plain": [
       "np.int64(19460)"
      ]
     },
     "execution_count": 17,
     "metadata": {},
     "output_type": "execute_result"
    }
   ],
   "source": [
    "df_costeos_detalle[df_costeos_detalle['Id.'] == 69007590]['Total'].sum()"
   ]
  },
  {
   "cell_type": "code",
   "execution_count": 18,
   "id": "6b16a32a",
   "metadata": {},
   "outputs": [
    {
     "data": {
      "text/plain": [
       "0.35000472054380666"
      ]
     },
     "execution_count": 18,
     "metadata": {},
     "output_type": "execute_result"
    }
   ],
   "source": [
    "(57197-(40350+2018))/(40350+2018)"
   ]
  },
  {
   "cell_type": "code",
   "execution_count": 19,
   "id": "5c496302",
   "metadata": {},
   "outputs": [
    {
     "data": {
      "text/html": [
       "<div>\n",
       "<style scoped>\n",
       "    .dataframe tbody tr th:only-of-type {\n",
       "        vertical-align: middle;\n",
       "    }\n",
       "\n",
       "    .dataframe tbody tr th {\n",
       "        vertical-align: top;\n",
       "    }\n",
       "\n",
       "    .dataframe thead th {\n",
       "        text-align: right;\n",
       "    }\n",
       "</style>\n",
       "<table border=\"1\" class=\"dataframe\">\n",
       "  <thead>\n",
       "    <tr style=\"text-align: right;\">\n",
       "      <th></th>\n",
       "      <th>Insumo</th>\n",
       "      <th>Color</th>\n",
       "      <th>Consumo</th>\n",
       "      <th>Unidad Medida</th>\n",
       "      <th>Total</th>\n",
       "      <th>categoria_insumo</th>\n",
       "      <th>CantInsumo</th>\n",
       "      <th>CostoTotalInsumo</th>\n",
       "    </tr>\n",
       "  </thead>\n",
       "  <tbody>\n",
       "    <tr>\n",
       "      <th>4011</th>\n",
       "      <td>corte y confeccion</td>\n",
       "      <td>&lt;NA&gt;</td>\n",
       "      <td>1.0</td>\n",
       "      <td>&lt;NA&gt;</td>\n",
       "      <td>7500.0</td>\n",
       "      <td>proceso producción</td>\n",
       "      <td>124.0</td>\n",
       "      <td>930000.0</td>\n",
       "    </tr>\n",
       "    <tr>\n",
       "      <th>2450</th>\n",
       "      <td>crn0003-cremallera nylon eka 80cm</td>\n",
       "      <td>&lt;NA&gt;</td>\n",
       "      <td>1.0</td>\n",
       "      <td>unidad</td>\n",
       "      <td>2100.0</td>\n",
       "      <td>insumo</td>\n",
       "      <td>10.0</td>\n",
       "      <td>21000.0</td>\n",
       "    </tr>\n",
       "    <tr>\n",
       "      <th>2366</th>\n",
       "      <td>tvi0069-vioto</td>\n",
       "      <td>&lt;NA&gt;</td>\n",
       "      <td>1.1</td>\n",
       "      <td>metro</td>\n",
       "      <td>8250.0</td>\n",
       "      <td>mat.prima</td>\n",
       "      <td>22.0</td>\n",
       "      <td>181500.0</td>\n",
       "    </tr>\n",
       "    <tr>\n",
       "      <th>4734</th>\n",
       "      <td>corte y confeccion</td>\n",
       "      <td>&lt;NA&gt;</td>\n",
       "      <td>1.0</td>\n",
       "      <td>&lt;NA&gt;</td>\n",
       "      <td>7500.0</td>\n",
       "      <td>proceso producción</td>\n",
       "      <td>200.0</td>\n",
       "      <td>1500000.0</td>\n",
       "    </tr>\n",
       "    <tr>\n",
       "      <th>819</th>\n",
       "      <td>man0054 marquilla nylon instrucciones de lavado</td>\n",
       "      <td>&lt;NA&gt;</td>\n",
       "      <td>1.0</td>\n",
       "      <td>metro</td>\n",
       "      <td>60.0</td>\n",
       "      <td>insumo</td>\n",
       "      <td>4.0</td>\n",
       "      <td>240.0</td>\n",
       "    </tr>\n",
       "  </tbody>\n",
       "</table>\n",
       "</div>"
      ],
      "text/plain": [
       "                                               Insumo Color  Consumo  \\\n",
       "4011                               corte y confeccion  <NA>      1.0   \n",
       "2450                crn0003-cremallera nylon eka 80cm  <NA>      1.0   \n",
       "2366                                    tvi0069-vioto  <NA>      1.1   \n",
       "4734                               corte y confeccion  <NA>      1.0   \n",
       "819   man0054 marquilla nylon instrucciones de lavado  <NA>      1.0   \n",
       "\n",
       "     Unidad Medida   Total    categoria_insumo  CantInsumo  CostoTotalInsumo  \n",
       "4011          <NA>  7500.0  proceso producción       124.0          930000.0  \n",
       "2450        unidad  2100.0              insumo        10.0           21000.0  \n",
       "2366         metro  8250.0           mat.prima        22.0          181500.0  \n",
       "4734          <NA>  7500.0  proceso producción       200.0         1500000.0  \n",
       "819          metro    60.0              insumo         4.0             240.0  "
      ]
     },
     "execution_count": 19,
     "metadata": {},
     "output_type": "execute_result"
    }
   ],
   "source": [
    "df_maestro[df_maestro.columns[20:]].sample(5)"
   ]
  },
  {
   "cell_type": "markdown",
   "id": "e565325a",
   "metadata": {},
   "source": [
    "## Análisis 2024"
   ]
  },
  {
   "cell_type": "code",
   "execution_count": 20,
   "id": "2e36b965",
   "metadata": {},
   "outputs": [],
   "source": [
    "df_maestro_2024 = df_maestro[df_maestro['Creado El'].dt.year == 2024]"
   ]
  },
  {
   "cell_type": "code",
   "execution_count": 21,
   "id": "3780d8ef",
   "metadata": {},
   "outputs": [],
   "source": [
    "import pandas as pd\n",
    "import plotly.graph_objects as go\n",
    "from plotly.subplots import make_subplots"
   ]
  },
  {
   "cell_type": "code",
   "execution_count": 22,
   "id": "91b1f2a0",
   "metadata": {},
   "outputs": [
    {
     "name": "stdout",
     "output_type": "stream",
     "text": [
      "<class 'pandas.core.frame.DataFrame'>\n",
      "Index: 2270 entries, 906 to 3175\n",
      "Data columns (total 28 columns):\n",
      " #   Column                   Non-Null Count  Dtype         \n",
      "---  ------                   --------------  -----         \n",
      " 0   Num-OP                   2270 non-null   int64         \n",
      " 1   Secuencia                2270 non-null   int64         \n",
      " 2   OP Det                   2270 non-null   string        \n",
      " 3   ClienteNombre            2270 non-null   string        \n",
      " 4   Categoría Proc           2270 non-null   string        \n",
      " 5   Colores                  2270 non-null   string        \n",
      " 6   Total Pieza              2220 non-null   float64       \n",
      " 7   Producir                 2270 non-null   int64         \n",
      " 8   Cantidad Remitida        2270 non-null   int64         \n",
      " 9   Precio Unitario Sin IVA  2270 non-null   int64         \n",
      " 10  Total Precio Sin IVA     2270 non-null   int64         \n",
      " 11  Creado El                2270 non-null   datetime64[ns]\n",
      " 12  Producto                 2270 non-null   string        \n",
      " 13  Cantidad Solicitada      2270 non-null   float64       \n",
      " 14  Costo Total Unitario     2270 non-null   float64       \n",
      " 15  Costo Indirecto          2270 non-null   float64       \n",
      " 16  Ganancia                 2270 non-null   float64       \n",
      " 17  Margen Ganancia Real     2270 non-null   float64       \n",
      " 18  Precio Venta             2270 non-null   float64       \n",
      " 19  Id.                      2270 non-null   float64       \n",
      " 20  Insumo                   2270 non-null   string        \n",
      " 21  Color                    0 non-null      string        \n",
      " 22  Consumo                  2270 non-null   float64       \n",
      " 23  Unidad Medida            1367 non-null   string        \n",
      " 24  Total                    2270 non-null   float64       \n",
      " 25  categoria_insumo         2270 non-null   string        \n",
      " 26  CantInsumo               2270 non-null   float64       \n",
      " 27  CostoTotalInsumo         2270 non-null   float64       \n",
      "dtypes: datetime64[ns](1), float64(12), int64(6), string(9)\n",
      "memory usage: 514.3 KB\n"
     ]
    }
   ],
   "source": [
    "df_maestro_2024.info()"
   ]
  },
  {
   "cell_type": "markdown",
   "id": "ac7e2dd1",
   "metadata": {},
   "source": [
    "### Volumenes de producción y participacion\n",
    "\n",
    "Insight: estacionalidad, picos de producción, comparación entre categorías."
   ]
  },
  {
   "cell_type": "code",
   "execution_count": 23,
   "id": "e2e518c1",
   "metadata": {},
   "outputs": [
    {
     "data": {
      "application/vnd.plotly.v1+json": {
       "config": {
        "plotlyServerURL": "https://plot.ly"
       },
       "data": [
        {
         "hovertemplate": "Categoría Proc=camiseta<br>Mes=%{x}<br>Producir=%{y}<extra></extra>",
         "legendgroup": "camiseta",
         "line": {
          "color": "#636efa",
          "dash": "solid"
         },
         "marker": {
          "symbol": "circle"
         },
         "mode": "lines+markers",
         "name": "camiseta",
         "orientation": "v",
         "showlegend": true,
         "type": "scatter",
         "x": [
          "January",
          "February",
          "March",
          "April",
          "May",
          "June",
          "July",
          "August",
          "September",
          "October",
          "December"
         ],
         "xaxis": "x",
         "y": {
          "bdata": "Ow4BAMBeAADAXQAAQI0AACgHAAD/PgAApAEAAKIbAADnOAAAHx8AAF0CAAA=",
          "dtype": "i4"
         },
         "yaxis": "y"
        },
        {
         "hovertemplate": "Categoría Proc=accesorios<br>Mes=%{x}<br>Producir=%{y}<extra></extra>",
         "legendgroup": "accesorios",
         "line": {
          "color": "#EF553B",
          "dash": "solid"
         },
         "marker": {
          "symbol": "circle"
         },
         "mode": "lines+markers",
         "name": "accesorios",
         "orientation": "v",
         "showlegend": true,
         "type": "scatter",
         "x": [
          "January",
          "April",
          "May",
          "June",
          "August",
          "September",
          "October",
          "December"
         ],
         "xaxis": "x",
         "y": {
          "bdata": "xwgAAFgCAAA8AAAA9IAAAAwDAADyDgAAS1EAANIAAAA=",
          "dtype": "i4"
         },
         "yaxis": "y"
        },
        {
         "hovertemplate": "Categoría Proc=chaquetas<br>Mes=%{x}<br>Producir=%{y}<extra></extra>",
         "legendgroup": "chaquetas",
         "line": {
          "color": "#00cc96",
          "dash": "solid"
         },
         "marker": {
          "symbol": "circle"
         },
         "mode": "lines+markers",
         "name": "chaquetas",
         "orientation": "v",
         "showlegend": true,
         "type": "scatter",
         "x": [
          "January",
          "April",
          "May",
          "June",
          "July",
          "August",
          "September",
          "October",
          "December"
         ],
         "xaxis": "x",
         "y": {
          "bdata": "VADYAPAAPDYeAFoGwGakAQgH",
          "dtype": "i2"
         },
         "yaxis": "y"
        },
        {
         "hovertemplate": "Categoría Proc=delantal<br>Mes=%{x}<br>Producir=%{y}<extra></extra>",
         "legendgroup": "delantal",
         "line": {
          "color": "#ab63fa",
          "dash": "solid"
         },
         "marker": {
          "symbol": "circle"
         },
         "mode": "lines+markers",
         "name": "delantal",
         "orientation": "v",
         "showlegend": true,
         "type": "scatter",
         "x": [
          "January",
          "April",
          "May",
          "June",
          "July",
          "August",
          "September",
          "October"
         ],
         "xaxis": "x",
         "y": {
          "bdata": "9B4IIC4BjTBCCEwO+A3GHw==",
          "dtype": "i2"
         },
         "yaxis": "y"
        },
        {
         "hovertemplate": "Categoría Proc=gorra<br>Mes=%{x}<br>Producir=%{y}<extra></extra>",
         "legendgroup": "gorra",
         "line": {
          "color": "#FFA15A",
          "dash": "solid"
         },
         "marker": {
          "symbol": "circle"
         },
         "mode": "lines+markers",
         "name": "gorra",
         "orientation": "v",
         "showlegend": true,
         "type": "scatter",
         "x": [
          "January",
          "April",
          "May",
          "June",
          "July",
          "August",
          "September",
          "October",
          "December"
         ],
         "xaxis": "x",
         "y": {
          "bdata": "WgzoA94C5StBDwgWGTIWd1oA",
          "dtype": "i2"
         },
         "yaxis": "y"
        },
        {
         "hovertemplate": "Categoría Proc=pantalones<br>Mes=%{x}<br>Producir=%{y}<extra></extra>",
         "legendgroup": "pantalones",
         "line": {
          "color": "#19d3f3",
          "dash": "solid"
         },
         "marker": {
          "symbol": "circle"
         },
         "mode": "lines+markers",
         "name": "pantalones",
         "orientation": "v",
         "showlegend": true,
         "type": "scatter",
         "x": [
          "January",
          "February",
          "April",
          "May",
          "June",
          "July",
          "August",
          "September",
          "October",
          "December"
         ],
         "xaxis": "x",
         "y": {
          "bdata": "IDIBAAB9AAA4rwAAvwEAAEwsAAAwAgAAdgkAAHygAACLMwAA9QAAAA==",
          "dtype": "i4"
         },
         "yaxis": "y"
        },
        {
         "hovertemplate": "Categoría Proc=servicios<br>Mes=%{x}<br>Producir=%{y}<extra></extra>",
         "legendgroup": "servicios",
         "line": {
          "color": "#FF6692",
          "dash": "solid"
         },
         "marker": {
          "symbol": "circle"
         },
         "mode": "lines+markers",
         "name": "servicios",
         "orientation": "v",
         "showlegend": true,
         "type": "scatter",
         "x": [
          "January",
          "August"
         ],
         "xaxis": "x",
         "y": {
          "bdata": "yAAHAA==",
          "dtype": "i2"
         },
         "yaxis": "y"
        },
        {
         "hovertemplate": "Categoría Proc=camisa<br>Mes=%{x}<br>Producir=%{y}<extra></extra>",
         "legendgroup": "camisa",
         "line": {
          "color": "#B6E880",
          "dash": "solid"
         },
         "marker": {
          "symbol": "circle"
         },
         "mode": "lines+markers",
         "name": "camisa",
         "orientation": "v",
         "showlegend": true,
         "type": "scatter",
         "x": [
          "January",
          "May",
          "June",
          "August",
          "September",
          "October"
         ],
         "xaxis": "x",
         "y": {
          "bdata": "oAUmAOoGXATgAa0G",
          "dtype": "i2"
         },
         "yaxis": "y"
        },
        {
         "hovertemplate": "Categoría Proc=buzo<br>Mes=%{x}<br>Producir=%{y}<extra></extra>",
         "legendgroup": "buzo",
         "line": {
          "color": "#FF97FF",
          "dash": "solid"
         },
         "marker": {
          "symbol": "circle"
         },
         "mode": "lines+markers",
         "name": "buzo",
         "orientation": "v",
         "showlegend": true,
         "type": "scatter",
         "x": [
          "February",
          "August"
         ],
         "xaxis": "x",
         "y": {
          "bdata": "wABeAQ==",
          "dtype": "i2"
         },
         "yaxis": "y"
        },
        {
         "hovertemplate": "Categoría Proc=sacos<br>Mes=%{x}<br>Producir=%{y}<extra></extra>",
         "legendgroup": "sacos",
         "line": {
          "color": "#FECB52",
          "dash": "solid"
         },
         "marker": {
          "symbol": "circle"
         },
         "mode": "lines+markers",
         "name": "sacos",
         "orientation": "v",
         "showlegend": true,
         "type": "scatter",
         "x": [
          "May",
          "August",
          "October"
         ],
         "xaxis": "x",
         "y": {
          "bdata": "IAN8ANgA",
          "dtype": "i2"
         },
         "yaxis": "y"
        },
        {
         "hovertemplate": "Categoría Proc=bata<br>Mes=%{x}<br>Producir=%{y}<extra></extra>",
         "legendgroup": "bata",
         "line": {
          "color": "#636efa",
          "dash": "solid"
         },
         "marker": {
          "symbol": "circle"
         },
         "mode": "lines+markers",
         "name": "bata",
         "orientation": "v",
         "showlegend": true,
         "type": "scatter",
         "x": [
          "October"
         ],
         "xaxis": "x",
         "y": {
          "bdata": "4AA=",
          "dtype": "i2"
         },
         "yaxis": "y"
        },
        {
         "hovertemplate": "Categoría Proc=overol<br>Mes=%{x}<br>Producir=%{y}<extra></extra>",
         "legendgroup": "overol",
         "line": {
          "color": "#EF553B",
          "dash": "solid"
         },
         "marker": {
          "symbol": "circle"
         },
         "mode": "lines+markers",
         "name": "overol",
         "orientation": "v",
         "showlegend": true,
         "type": "scatter",
         "x": [
          "October"
         ],
         "xaxis": "x",
         "y": {
          "bdata": "3AA=",
          "dtype": "i2"
         },
         "yaxis": "y"
        }
       ],
       "layout": {
        "hovermode": "x unified",
        "legend": {
         "title": {
          "text": "Categoría de Producto"
         },
         "tracegroupgap": 0
        },
        "template": {
         "data": {
          "bar": [
           {
            "error_x": {
             "color": "#2a3f5f"
            },
            "error_y": {
             "color": "#2a3f5f"
            },
            "marker": {
             "line": {
              "color": "white",
              "width": 0.5
             },
             "pattern": {
              "fillmode": "overlay",
              "size": 10,
              "solidity": 0.2
             }
            },
            "type": "bar"
           }
          ],
          "barpolar": [
           {
            "marker": {
             "line": {
              "color": "white",
              "width": 0.5
             },
             "pattern": {
              "fillmode": "overlay",
              "size": 10,
              "solidity": 0.2
             }
            },
            "type": "barpolar"
           }
          ],
          "carpet": [
           {
            "aaxis": {
             "endlinecolor": "#2a3f5f",
             "gridcolor": "#C8D4E3",
             "linecolor": "#C8D4E3",
             "minorgridcolor": "#C8D4E3",
             "startlinecolor": "#2a3f5f"
            },
            "baxis": {
             "endlinecolor": "#2a3f5f",
             "gridcolor": "#C8D4E3",
             "linecolor": "#C8D4E3",
             "minorgridcolor": "#C8D4E3",
             "startlinecolor": "#2a3f5f"
            },
            "type": "carpet"
           }
          ],
          "choropleth": [
           {
            "colorbar": {
             "outlinewidth": 0,
             "ticks": ""
            },
            "type": "choropleth"
           }
          ],
          "contour": [
           {
            "colorbar": {
             "outlinewidth": 0,
             "ticks": ""
            },
            "colorscale": [
             [
              0,
              "#0d0887"
             ],
             [
              0.1111111111111111,
              "#46039f"
             ],
             [
              0.2222222222222222,
              "#7201a8"
             ],
             [
              0.3333333333333333,
              "#9c179e"
             ],
             [
              0.4444444444444444,
              "#bd3786"
             ],
             [
              0.5555555555555556,
              "#d8576b"
             ],
             [
              0.6666666666666666,
              "#ed7953"
             ],
             [
              0.7777777777777778,
              "#fb9f3a"
             ],
             [
              0.8888888888888888,
              "#fdca26"
             ],
             [
              1,
              "#f0f921"
             ]
            ],
            "type": "contour"
           }
          ],
          "contourcarpet": [
           {
            "colorbar": {
             "outlinewidth": 0,
             "ticks": ""
            },
            "type": "contourcarpet"
           }
          ],
          "heatmap": [
           {
            "colorbar": {
             "outlinewidth": 0,
             "ticks": ""
            },
            "colorscale": [
             [
              0,
              "#0d0887"
             ],
             [
              0.1111111111111111,
              "#46039f"
             ],
             [
              0.2222222222222222,
              "#7201a8"
             ],
             [
              0.3333333333333333,
              "#9c179e"
             ],
             [
              0.4444444444444444,
              "#bd3786"
             ],
             [
              0.5555555555555556,
              "#d8576b"
             ],
             [
              0.6666666666666666,
              "#ed7953"
             ],
             [
              0.7777777777777778,
              "#fb9f3a"
             ],
             [
              0.8888888888888888,
              "#fdca26"
             ],
             [
              1,
              "#f0f921"
             ]
            ],
            "type": "heatmap"
           }
          ],
          "histogram": [
           {
            "marker": {
             "pattern": {
              "fillmode": "overlay",
              "size": 10,
              "solidity": 0.2
             }
            },
            "type": "histogram"
           }
          ],
          "histogram2d": [
           {
            "colorbar": {
             "outlinewidth": 0,
             "ticks": ""
            },
            "colorscale": [
             [
              0,
              "#0d0887"
             ],
             [
              0.1111111111111111,
              "#46039f"
             ],
             [
              0.2222222222222222,
              "#7201a8"
             ],
             [
              0.3333333333333333,
              "#9c179e"
             ],
             [
              0.4444444444444444,
              "#bd3786"
             ],
             [
              0.5555555555555556,
              "#d8576b"
             ],
             [
              0.6666666666666666,
              "#ed7953"
             ],
             [
              0.7777777777777778,
              "#fb9f3a"
             ],
             [
              0.8888888888888888,
              "#fdca26"
             ],
             [
              1,
              "#f0f921"
             ]
            ],
            "type": "histogram2d"
           }
          ],
          "histogram2dcontour": [
           {
            "colorbar": {
             "outlinewidth": 0,
             "ticks": ""
            },
            "colorscale": [
             [
              0,
              "#0d0887"
             ],
             [
              0.1111111111111111,
              "#46039f"
             ],
             [
              0.2222222222222222,
              "#7201a8"
             ],
             [
              0.3333333333333333,
              "#9c179e"
             ],
             [
              0.4444444444444444,
              "#bd3786"
             ],
             [
              0.5555555555555556,
              "#d8576b"
             ],
             [
              0.6666666666666666,
              "#ed7953"
             ],
             [
              0.7777777777777778,
              "#fb9f3a"
             ],
             [
              0.8888888888888888,
              "#fdca26"
             ],
             [
              1,
              "#f0f921"
             ]
            ],
            "type": "histogram2dcontour"
           }
          ],
          "mesh3d": [
           {
            "colorbar": {
             "outlinewidth": 0,
             "ticks": ""
            },
            "type": "mesh3d"
           }
          ],
          "parcoords": [
           {
            "line": {
             "colorbar": {
              "outlinewidth": 0,
              "ticks": ""
             }
            },
            "type": "parcoords"
           }
          ],
          "pie": [
           {
            "automargin": true,
            "type": "pie"
           }
          ],
          "scatter": [
           {
            "fillpattern": {
             "fillmode": "overlay",
             "size": 10,
             "solidity": 0.2
            },
            "type": "scatter"
           }
          ],
          "scatter3d": [
           {
            "line": {
             "colorbar": {
              "outlinewidth": 0,
              "ticks": ""
             }
            },
            "marker": {
             "colorbar": {
              "outlinewidth": 0,
              "ticks": ""
             }
            },
            "type": "scatter3d"
           }
          ],
          "scattercarpet": [
           {
            "marker": {
             "colorbar": {
              "outlinewidth": 0,
              "ticks": ""
             }
            },
            "type": "scattercarpet"
           }
          ],
          "scattergeo": [
           {
            "marker": {
             "colorbar": {
              "outlinewidth": 0,
              "ticks": ""
             }
            },
            "type": "scattergeo"
           }
          ],
          "scattergl": [
           {
            "marker": {
             "colorbar": {
              "outlinewidth": 0,
              "ticks": ""
             }
            },
            "type": "scattergl"
           }
          ],
          "scattermap": [
           {
            "marker": {
             "colorbar": {
              "outlinewidth": 0,
              "ticks": ""
             }
            },
            "type": "scattermap"
           }
          ],
          "scattermapbox": [
           {
            "marker": {
             "colorbar": {
              "outlinewidth": 0,
              "ticks": ""
             }
            },
            "type": "scattermapbox"
           }
          ],
          "scatterpolar": [
           {
            "marker": {
             "colorbar": {
              "outlinewidth": 0,
              "ticks": ""
             }
            },
            "type": "scatterpolar"
           }
          ],
          "scatterpolargl": [
           {
            "marker": {
             "colorbar": {
              "outlinewidth": 0,
              "ticks": ""
             }
            },
            "type": "scatterpolargl"
           }
          ],
          "scatterternary": [
           {
            "marker": {
             "colorbar": {
              "outlinewidth": 0,
              "ticks": ""
             }
            },
            "type": "scatterternary"
           }
          ],
          "surface": [
           {
            "colorbar": {
             "outlinewidth": 0,
             "ticks": ""
            },
            "colorscale": [
             [
              0,
              "#0d0887"
             ],
             [
              0.1111111111111111,
              "#46039f"
             ],
             [
              0.2222222222222222,
              "#7201a8"
             ],
             [
              0.3333333333333333,
              "#9c179e"
             ],
             [
              0.4444444444444444,
              "#bd3786"
             ],
             [
              0.5555555555555556,
              "#d8576b"
             ],
             [
              0.6666666666666666,
              "#ed7953"
             ],
             [
              0.7777777777777778,
              "#fb9f3a"
             ],
             [
              0.8888888888888888,
              "#fdca26"
             ],
             [
              1,
              "#f0f921"
             ]
            ],
            "type": "surface"
           }
          ],
          "table": [
           {
            "cells": {
             "fill": {
              "color": "#EBF0F8"
             },
             "line": {
              "color": "white"
             }
            },
            "header": {
             "fill": {
              "color": "#C8D4E3"
             },
             "line": {
              "color": "white"
             }
            },
            "type": "table"
           }
          ]
         },
         "layout": {
          "annotationdefaults": {
           "arrowcolor": "#2a3f5f",
           "arrowhead": 0,
           "arrowwidth": 1
          },
          "autotypenumbers": "strict",
          "coloraxis": {
           "colorbar": {
            "outlinewidth": 0,
            "ticks": ""
           }
          },
          "colorscale": {
           "diverging": [
            [
             0,
             "#8e0152"
            ],
            [
             0.1,
             "#c51b7d"
            ],
            [
             0.2,
             "#de77ae"
            ],
            [
             0.3,
             "#f1b6da"
            ],
            [
             0.4,
             "#fde0ef"
            ],
            [
             0.5,
             "#f7f7f7"
            ],
            [
             0.6,
             "#e6f5d0"
            ],
            [
             0.7,
             "#b8e186"
            ],
            [
             0.8,
             "#7fbc41"
            ],
            [
             0.9,
             "#4d9221"
            ],
            [
             1,
             "#276419"
            ]
           ],
           "sequential": [
            [
             0,
             "#0d0887"
            ],
            [
             0.1111111111111111,
             "#46039f"
            ],
            [
             0.2222222222222222,
             "#7201a8"
            ],
            [
             0.3333333333333333,
             "#9c179e"
            ],
            [
             0.4444444444444444,
             "#bd3786"
            ],
            [
             0.5555555555555556,
             "#d8576b"
            ],
            [
             0.6666666666666666,
             "#ed7953"
            ],
            [
             0.7777777777777778,
             "#fb9f3a"
            ],
            [
             0.8888888888888888,
             "#fdca26"
            ],
            [
             1,
             "#f0f921"
            ]
           ],
           "sequentialminus": [
            [
             0,
             "#0d0887"
            ],
            [
             0.1111111111111111,
             "#46039f"
            ],
            [
             0.2222222222222222,
             "#7201a8"
            ],
            [
             0.3333333333333333,
             "#9c179e"
            ],
            [
             0.4444444444444444,
             "#bd3786"
            ],
            [
             0.5555555555555556,
             "#d8576b"
            ],
            [
             0.6666666666666666,
             "#ed7953"
            ],
            [
             0.7777777777777778,
             "#fb9f3a"
            ],
            [
             0.8888888888888888,
             "#fdca26"
            ],
            [
             1,
             "#f0f921"
            ]
           ]
          },
          "colorway": [
           "#636efa",
           "#EF553B",
           "#00cc96",
           "#ab63fa",
           "#FFA15A",
           "#19d3f3",
           "#FF6692",
           "#B6E880",
           "#FF97FF",
           "#FECB52"
          ],
          "font": {
           "color": "#2a3f5f"
          },
          "geo": {
           "bgcolor": "white",
           "lakecolor": "white",
           "landcolor": "white",
           "showlakes": true,
           "showland": true,
           "subunitcolor": "#C8D4E3"
          },
          "hoverlabel": {
           "align": "left"
          },
          "hovermode": "closest",
          "mapbox": {
           "style": "light"
          },
          "paper_bgcolor": "white",
          "plot_bgcolor": "white",
          "polar": {
           "angularaxis": {
            "gridcolor": "#EBF0F8",
            "linecolor": "#EBF0F8",
            "ticks": ""
           },
           "bgcolor": "white",
           "radialaxis": {
            "gridcolor": "#EBF0F8",
            "linecolor": "#EBF0F8",
            "ticks": ""
           }
          },
          "scene": {
           "xaxis": {
            "backgroundcolor": "white",
            "gridcolor": "#DFE8F3",
            "gridwidth": 2,
            "linecolor": "#EBF0F8",
            "showbackground": true,
            "ticks": "",
            "zerolinecolor": "#EBF0F8"
           },
           "yaxis": {
            "backgroundcolor": "white",
            "gridcolor": "#DFE8F3",
            "gridwidth": 2,
            "linecolor": "#EBF0F8",
            "showbackground": true,
            "ticks": "",
            "zerolinecolor": "#EBF0F8"
           },
           "zaxis": {
            "backgroundcolor": "white",
            "gridcolor": "#DFE8F3",
            "gridwidth": 2,
            "linecolor": "#EBF0F8",
            "showbackground": true,
            "ticks": "",
            "zerolinecolor": "#EBF0F8"
           }
          },
          "shapedefaults": {
           "line": {
            "color": "#2a3f5f"
           }
          },
          "ternary": {
           "aaxis": {
            "gridcolor": "#DFE8F3",
            "linecolor": "#A2B1C6",
            "ticks": ""
           },
           "baxis": {
            "gridcolor": "#DFE8F3",
            "linecolor": "#A2B1C6",
            "ticks": ""
           },
           "bgcolor": "white",
           "caxis": {
            "gridcolor": "#DFE8F3",
            "linecolor": "#A2B1C6",
            "ticks": ""
           }
          },
          "title": {
           "x": 0.05
          },
          "xaxis": {
           "automargin": true,
           "gridcolor": "#EBF0F8",
           "linecolor": "#EBF0F8",
           "ticks": "",
           "title": {
            "standoff": 15
           },
           "zerolinecolor": "#EBF0F8",
           "zerolinewidth": 2
          },
          "yaxis": {
           "automargin": true,
           "gridcolor": "#EBF0F8",
           "linecolor": "#EBF0F8",
           "ticks": "",
           "title": {
            "standoff": 15
           },
           "zerolinecolor": "#EBF0F8",
           "zerolinewidth": 2
          }
         }
        },
        "title": {
         "text": "Volúmenes de Producción 2024 por Categoría de Producto"
        },
        "xaxis": {
         "anchor": "y",
         "domain": [
          0,
          1
         ],
         "title": {
          "text": "Mes"
         }
        },
        "yaxis": {
         "anchor": "x",
         "domain": [
          0,
          1
         ],
         "title": {
          "text": "Cantidad producida"
         }
        }
       }
      }
     },
     "metadata": {},
     "output_type": "display_data"
    }
   ],
   "source": [
    "def grafica_volumenes():\n",
    "    # Agrupamos por mes y categoría\n",
    "    df_plot = (\n",
    "        df_maestro_2024\n",
    "        .assign(Mes=df_maestro_2024[\"Creado El\"].dt.month_name())\n",
    "        .groupby([\"Mes\", \"Categoría Proc\"], as_index=False)[\"Producir\"].sum()\n",
    "    )\n",
    "    \n",
    "    # Para que los meses salgan en orden cronológico\n",
    "    orden_meses = [\n",
    "        \"January\",\"February\",\"March\",\"April\",\"May\",\"June\",\n",
    "        \"July\",\"August\",\"September\",\"October\",\"November\",\"December\"\n",
    "    ]\n",
    "    df_plot[\"Mes\"] = pd.Categorical(df_plot[\"Mes\"], categories=orden_meses, ordered=True)\n",
    "    df_plot = df_plot.sort_values(\"Mes\")\n",
    "\n",
    "    # Gráfica interactiva\n",
    "    fig = px.line(\n",
    "        df_plot,\n",
    "        x=\"Mes\",\n",
    "        y=\"Producir\",\n",
    "        color=\"Categoría Proc\",\n",
    "        markers=True,\n",
    "        title=\"Volúmenes de Producción 2024 por Categoría de Producto\"\n",
    "    )\n",
    "    \n",
    "    # Personalización moderna\n",
    "    fig.update_layout(\n",
    "        xaxis_title=\"Mes\",\n",
    "        yaxis_title=\"Cantidad producida\",\n",
    "        legend_title=\"Categoría de Producto\",\n",
    "        hovermode=\"x unified\",\n",
    "        template=\"plotly_white\"\n",
    "    )\n",
    "    \n",
    "    return fig\n",
    "\n",
    "grafica_volumenes().show()"
   ]
  },
  {
   "cell_type": "code",
   "execution_count": 41,
   "id": "b4b2aac2",
   "metadata": {},
   "outputs": [
    {
     "data": {
      "application/vnd.plotly.v1+json": {
       "config": {
        "plotlyServerURL": "https://plot.ly"
       },
       "data": [
        {
         "hoverinfo": "x+y+name",
         "mode": "lines",
         "name": "accesorios",
         "stackgroup": "one",
         "type": "scatter",
         "x": [
          "January",
          "February",
          "March",
          "April",
          "May",
          "June",
          "July",
          "August",
          "September",
          "October",
          "December"
         ],
         "y": {
          "bdata": "AAAAAACOoUAAAAAAAAAAAAAAAAAAAAAAAAAAAADAgkAAAAAAAABOQAAAAACAHuBAAAAAAAAAAAAAAAAAAGCIQAAAAAAA5K1AAAAAAMBS1EAAAAAAAEBqQA==",
          "dtype": "f8"
         }
        },
        {
         "hoverinfo": "x+y+name",
         "mode": "lines",
         "name": "bata",
         "stackgroup": "one",
         "type": "scatter",
         "x": [
          "January",
          "February",
          "March",
          "April",
          "May",
          "June",
          "July",
          "August",
          "September",
          "October",
          "December"
         ],
         "y": {
          "bdata": "AAAAAAAAAAAAAAAAAAAAAAAAAAAAAAAAAAAAAAAAAAAAAAAAAAAAAAAAAAAAAAAAAAAAAAAAAAAAAAAAAAAAAAAAAAAAAAAAAAAAAAAAbEAAAAAAAAAAAA==",
          "dtype": "f8"
         }
        },
        {
         "hoverinfo": "x+y+name",
         "mode": "lines",
         "name": "buzo",
         "stackgroup": "one",
         "type": "scatter",
         "x": [
          "January",
          "February",
          "March",
          "April",
          "May",
          "June",
          "July",
          "August",
          "September",
          "October",
          "December"
         ],
         "y": {
          "bdata": "AAAAAAAAAAAAAAAAAABoQAAAAAAAAAAAAAAAAAAAAAAAAAAAAAAAAAAAAAAAAAAAAAAAAAAAAAAAAAAAAOB1QAAAAAAAAAAAAAAAAAAAAAAAAAAAAAAAAA==",
          "dtype": "f8"
         }
        },
        {
         "hoverinfo": "x+y+name",
         "mode": "lines",
         "name": "camisa",
         "stackgroup": "one",
         "type": "scatter",
         "x": [
          "January",
          "February",
          "March",
          "April",
          "May",
          "June",
          "July",
          "August",
          "September",
          "October",
          "December"
         ],
         "y": {
          "bdata": "AAAAAACAlkAAAAAAAAAAAAAAAAAAAAAAAAAAAAAAAAAAAAAAAABDQAAAAAAAqJtAAAAAAAAAAAAAAAAAAHCRQAAAAAAAAH5AAAAAAAC0mkAAAAAAAAAAAA==",
          "dtype": "f8"
         }
        },
        {
         "hoverinfo": "x+y+name",
         "mode": "lines",
         "name": "camiseta",
         "stackgroup": "one",
         "type": "scatter",
         "x": [
          "January",
          "February",
          "March",
          "April",
          "May",
          "June",
          "July",
          "August",
          "September",
          "October",
          "December"
         ],
         "y": {
          "bdata": "AAAAALDj8EAAAAAAALDXQAAAAAAAcNdAAAAAAACo4UAAAAAAAKCcQAAAAACAf89AAAAAAABAekAAAAAAAKK7QAAAAACAc8xAAAAAAAAfv0AAAAAAAOiCQA==",
          "dtype": "f8"
         }
        },
        {
         "hoverinfo": "x+y+name",
         "mode": "lines",
         "name": "chaquetas",
         "stackgroup": "one",
         "type": "scatter",
         "x": [
          "January",
          "February",
          "March",
          "April",
          "May",
          "June",
          "July",
          "August",
          "September",
          "October",
          "December"
         ],
         "y": {
          "bdata": "AAAAAAAAVUAAAAAAAAAAAAAAAAAAAAAAAAAAAAAAa0AAAAAAAABuQAAAAAAAHstAAAAAAAAAPkAAAAAAAGiZQAAAAAAAsNlAAAAAAABAekAAAAAAACCcQA==",
          "dtype": "f8"
         }
        },
        {
         "hoverinfo": "x+y+name",
         "mode": "lines",
         "name": "delantal",
         "stackgroup": "one",
         "type": "scatter",
         "x": [
          "January",
          "February",
          "March",
          "April",
          "May",
          "June",
          "July",
          "August",
          "September",
          "October",
          "December"
         ],
         "y": {
          "bdata": "AAAAAAD0vkAAAAAAAAAAAAAAAAAAAAAAAAAAAAAEwEAAAAAAAOByQAAAAACARshAAAAAAACEoEAAAAAAAJisQAAAAAAA8KtAAAAAAADGv0AAAAAAAAAAAA==",
          "dtype": "f8"
         }
        },
        {
         "hoverinfo": "x+y+name",
         "mode": "lines",
         "name": "gorra",
         "stackgroup": "one",
         "type": "scatter",
         "x": [
          "January",
          "February",
          "March",
          "April",
          "May",
          "June",
          "July",
          "August",
          "September",
          "October",
          "December"
         ],
         "y": {
          "bdata": "AAAAAAC0qEAAAAAAAAAAAAAAAAAAAAAAAAAAAABAj0AAAAAAAPCGQAAAAACA8sVAAAAAAACCrkAAAAAAAAi2QAAAAACADMlAAAAAAIDF3UAAAAAAAIBWQA==",
          "dtype": "f8"
         }
        },
        {
         "hoverinfo": "x+y+name",
         "mode": "lines",
         "name": "overol",
         "stackgroup": "one",
         "type": "scatter",
         "x": [
          "January",
          "February",
          "March",
          "April",
          "May",
          "June",
          "July",
          "August",
          "September",
          "October",
          "December"
         ],
         "y": {
          "bdata": "AAAAAAAAAAAAAAAAAAAAAAAAAAAAAAAAAAAAAAAAAAAAAAAAAAAAAAAAAAAAAAAAAAAAAAAAAAAAAAAAAAAAAAAAAAAAAAAAAAAAAACAa0AAAAAAAAAAAA==",
          "dtype": "f8"
         }
        },
        {
         "hoverinfo": "x+y+name",
         "mode": "lines",
         "name": "pantalones",
         "stackgroup": "one",
         "type": "scatter",
         "x": [
          "January",
          "February",
          "March",
          "April",
          "May",
          "June",
          "July",
          "August",
          "September",
          "October",
          "December"
         ],
         "y": {
          "bdata": "AAAAAAAi80AAAAAAAEDfQAAAAAAAAAAAAAAAAADn5UAAAAAAAPB7QAAAAAAAJsZAAAAAAACAgUAAAAAAAOyiQAAAAACAD+RAAAAAAIDFyUAAAAAAAKBuQA==",
          "dtype": "f8"
         }
        },
        {
         "hoverinfo": "x+y+name",
         "mode": "lines",
         "name": "sacos",
         "stackgroup": "one",
         "type": "scatter",
         "x": [
          "January",
          "February",
          "March",
          "April",
          "May",
          "June",
          "July",
          "August",
          "September",
          "October",
          "December"
         ],
         "y": {
          "bdata": "AAAAAAAAAAAAAAAAAAAAAAAAAAAAAAAAAAAAAAAAAAAAAAAAAACJQAAAAAAAAAAAAAAAAAAAAAAAAAAAAABfQAAAAAAAAAAAAAAAAAAAa0AAAAAAAAAAAA==",
          "dtype": "f8"
         }
        },
        {
         "hoverinfo": "x+y+name",
         "mode": "lines",
         "name": "servicios",
         "stackgroup": "one",
         "type": "scatter",
         "x": [
          "January",
          "February",
          "March",
          "April",
          "May",
          "June",
          "July",
          "August",
          "September",
          "October",
          "December"
         ],
         "y": {
          "bdata": "AAAAAAAAaUAAAAAAAAAAAAAAAAAAAAAAAAAAAAAAAAAAAAAAAAAAAAAAAAAAAAAAAAAAAAAAAAAAAAAAAAAcQAAAAAAAAAAAAAAAAAAAAAAAAAAAAAAAAA==",
          "dtype": "f8"
         }
        },
        {
         "line": {
          "color": "black",
          "width": 3
         },
         "mode": "lines+markers",
         "name": "Total",
         "type": "scatter",
         "x": [
          "January",
          "February",
          "March",
          "April",
          "May",
          "June",
          "July",
          "August",
          "September",
          "October",
          "December"
         ],
         "y": {
          "bdata": "AAAAAGDZA0EAAAAAAJDrQAAAAAAAcNdAAAAAAIA59kAAAAAAAGWxQAAAAABwXfhAAAAAAAB1u0AAAAAAwEPWQAAAAABgEPlAAAAAAGBb9EAAAAAAAAynQA==",
          "dtype": "f8"
         }
        }
       ],
       "layout": {
        "hovermode": "x unified",
        "template": {
         "data": {
          "bar": [
           {
            "error_x": {
             "color": "#2a3f5f"
            },
            "error_y": {
             "color": "#2a3f5f"
            },
            "marker": {
             "line": {
              "color": "#E5ECF6",
              "width": 0.5
             },
             "pattern": {
              "fillmode": "overlay",
              "size": 10,
              "solidity": 0.2
             }
            },
            "type": "bar"
           }
          ],
          "barpolar": [
           {
            "marker": {
             "line": {
              "color": "#E5ECF6",
              "width": 0.5
             },
             "pattern": {
              "fillmode": "overlay",
              "size": 10,
              "solidity": 0.2
             }
            },
            "type": "barpolar"
           }
          ],
          "carpet": [
           {
            "aaxis": {
             "endlinecolor": "#2a3f5f",
             "gridcolor": "white",
             "linecolor": "white",
             "minorgridcolor": "white",
             "startlinecolor": "#2a3f5f"
            },
            "baxis": {
             "endlinecolor": "#2a3f5f",
             "gridcolor": "white",
             "linecolor": "white",
             "minorgridcolor": "white",
             "startlinecolor": "#2a3f5f"
            },
            "type": "carpet"
           }
          ],
          "choropleth": [
           {
            "colorbar": {
             "outlinewidth": 0,
             "ticks": ""
            },
            "type": "choropleth"
           }
          ],
          "contour": [
           {
            "colorbar": {
             "outlinewidth": 0,
             "ticks": ""
            },
            "colorscale": [
             [
              0,
              "#0d0887"
             ],
             [
              0.1111111111111111,
              "#46039f"
             ],
             [
              0.2222222222222222,
              "#7201a8"
             ],
             [
              0.3333333333333333,
              "#9c179e"
             ],
             [
              0.4444444444444444,
              "#bd3786"
             ],
             [
              0.5555555555555556,
              "#d8576b"
             ],
             [
              0.6666666666666666,
              "#ed7953"
             ],
             [
              0.7777777777777778,
              "#fb9f3a"
             ],
             [
              0.8888888888888888,
              "#fdca26"
             ],
             [
              1,
              "#f0f921"
             ]
            ],
            "type": "contour"
           }
          ],
          "contourcarpet": [
           {
            "colorbar": {
             "outlinewidth": 0,
             "ticks": ""
            },
            "type": "contourcarpet"
           }
          ],
          "heatmap": [
           {
            "colorbar": {
             "outlinewidth": 0,
             "ticks": ""
            },
            "colorscale": [
             [
              0,
              "#0d0887"
             ],
             [
              0.1111111111111111,
              "#46039f"
             ],
             [
              0.2222222222222222,
              "#7201a8"
             ],
             [
              0.3333333333333333,
              "#9c179e"
             ],
             [
              0.4444444444444444,
              "#bd3786"
             ],
             [
              0.5555555555555556,
              "#d8576b"
             ],
             [
              0.6666666666666666,
              "#ed7953"
             ],
             [
              0.7777777777777778,
              "#fb9f3a"
             ],
             [
              0.8888888888888888,
              "#fdca26"
             ],
             [
              1,
              "#f0f921"
             ]
            ],
            "type": "heatmap"
           }
          ],
          "histogram": [
           {
            "marker": {
             "pattern": {
              "fillmode": "overlay",
              "size": 10,
              "solidity": 0.2
             }
            },
            "type": "histogram"
           }
          ],
          "histogram2d": [
           {
            "colorbar": {
             "outlinewidth": 0,
             "ticks": ""
            },
            "colorscale": [
             [
              0,
              "#0d0887"
             ],
             [
              0.1111111111111111,
              "#46039f"
             ],
             [
              0.2222222222222222,
              "#7201a8"
             ],
             [
              0.3333333333333333,
              "#9c179e"
             ],
             [
              0.4444444444444444,
              "#bd3786"
             ],
             [
              0.5555555555555556,
              "#d8576b"
             ],
             [
              0.6666666666666666,
              "#ed7953"
             ],
             [
              0.7777777777777778,
              "#fb9f3a"
             ],
             [
              0.8888888888888888,
              "#fdca26"
             ],
             [
              1,
              "#f0f921"
             ]
            ],
            "type": "histogram2d"
           }
          ],
          "histogram2dcontour": [
           {
            "colorbar": {
             "outlinewidth": 0,
             "ticks": ""
            },
            "colorscale": [
             [
              0,
              "#0d0887"
             ],
             [
              0.1111111111111111,
              "#46039f"
             ],
             [
              0.2222222222222222,
              "#7201a8"
             ],
             [
              0.3333333333333333,
              "#9c179e"
             ],
             [
              0.4444444444444444,
              "#bd3786"
             ],
             [
              0.5555555555555556,
              "#d8576b"
             ],
             [
              0.6666666666666666,
              "#ed7953"
             ],
             [
              0.7777777777777778,
              "#fb9f3a"
             ],
             [
              0.8888888888888888,
              "#fdca26"
             ],
             [
              1,
              "#f0f921"
             ]
            ],
            "type": "histogram2dcontour"
           }
          ],
          "mesh3d": [
           {
            "colorbar": {
             "outlinewidth": 0,
             "ticks": ""
            },
            "type": "mesh3d"
           }
          ],
          "parcoords": [
           {
            "line": {
             "colorbar": {
              "outlinewidth": 0,
              "ticks": ""
             }
            },
            "type": "parcoords"
           }
          ],
          "pie": [
           {
            "automargin": true,
            "type": "pie"
           }
          ],
          "scatter": [
           {
            "fillpattern": {
             "fillmode": "overlay",
             "size": 10,
             "solidity": 0.2
            },
            "type": "scatter"
           }
          ],
          "scatter3d": [
           {
            "line": {
             "colorbar": {
              "outlinewidth": 0,
              "ticks": ""
             }
            },
            "marker": {
             "colorbar": {
              "outlinewidth": 0,
              "ticks": ""
             }
            },
            "type": "scatter3d"
           }
          ],
          "scattercarpet": [
           {
            "marker": {
             "colorbar": {
              "outlinewidth": 0,
              "ticks": ""
             }
            },
            "type": "scattercarpet"
           }
          ],
          "scattergeo": [
           {
            "marker": {
             "colorbar": {
              "outlinewidth": 0,
              "ticks": ""
             }
            },
            "type": "scattergeo"
           }
          ],
          "scattergl": [
           {
            "marker": {
             "colorbar": {
              "outlinewidth": 0,
              "ticks": ""
             }
            },
            "type": "scattergl"
           }
          ],
          "scattermap": [
           {
            "marker": {
             "colorbar": {
              "outlinewidth": 0,
              "ticks": ""
             }
            },
            "type": "scattermap"
           }
          ],
          "scattermapbox": [
           {
            "marker": {
             "colorbar": {
              "outlinewidth": 0,
              "ticks": ""
             }
            },
            "type": "scattermapbox"
           }
          ],
          "scatterpolar": [
           {
            "marker": {
             "colorbar": {
              "outlinewidth": 0,
              "ticks": ""
             }
            },
            "type": "scatterpolar"
           }
          ],
          "scatterpolargl": [
           {
            "marker": {
             "colorbar": {
              "outlinewidth": 0,
              "ticks": ""
             }
            },
            "type": "scatterpolargl"
           }
          ],
          "scatterternary": [
           {
            "marker": {
             "colorbar": {
              "outlinewidth": 0,
              "ticks": ""
             }
            },
            "type": "scatterternary"
           }
          ],
          "surface": [
           {
            "colorbar": {
             "outlinewidth": 0,
             "ticks": ""
            },
            "colorscale": [
             [
              0,
              "#0d0887"
             ],
             [
              0.1111111111111111,
              "#46039f"
             ],
             [
              0.2222222222222222,
              "#7201a8"
             ],
             [
              0.3333333333333333,
              "#9c179e"
             ],
             [
              0.4444444444444444,
              "#bd3786"
             ],
             [
              0.5555555555555556,
              "#d8576b"
             ],
             [
              0.6666666666666666,
              "#ed7953"
             ],
             [
              0.7777777777777778,
              "#fb9f3a"
             ],
             [
              0.8888888888888888,
              "#fdca26"
             ],
             [
              1,
              "#f0f921"
             ]
            ],
            "type": "surface"
           }
          ],
          "table": [
           {
            "cells": {
             "fill": {
              "color": "#EBF0F8"
             },
             "line": {
              "color": "white"
             }
            },
            "header": {
             "fill": {
              "color": "#C8D4E3"
             },
             "line": {
              "color": "white"
             }
            },
            "type": "table"
           }
          ]
         },
         "layout": {
          "annotationdefaults": {
           "arrowcolor": "#2a3f5f",
           "arrowhead": 0,
           "arrowwidth": 1
          },
          "autotypenumbers": "strict",
          "coloraxis": {
           "colorbar": {
            "outlinewidth": 0,
            "ticks": ""
           }
          },
          "colorscale": {
           "diverging": [
            [
             0,
             "#8e0152"
            ],
            [
             0.1,
             "#c51b7d"
            ],
            [
             0.2,
             "#de77ae"
            ],
            [
             0.3,
             "#f1b6da"
            ],
            [
             0.4,
             "#fde0ef"
            ],
            [
             0.5,
             "#f7f7f7"
            ],
            [
             0.6,
             "#e6f5d0"
            ],
            [
             0.7,
             "#b8e186"
            ],
            [
             0.8,
             "#7fbc41"
            ],
            [
             0.9,
             "#4d9221"
            ],
            [
             1,
             "#276419"
            ]
           ],
           "sequential": [
            [
             0,
             "#0d0887"
            ],
            [
             0.1111111111111111,
             "#46039f"
            ],
            [
             0.2222222222222222,
             "#7201a8"
            ],
            [
             0.3333333333333333,
             "#9c179e"
            ],
            [
             0.4444444444444444,
             "#bd3786"
            ],
            [
             0.5555555555555556,
             "#d8576b"
            ],
            [
             0.6666666666666666,
             "#ed7953"
            ],
            [
             0.7777777777777778,
             "#fb9f3a"
            ],
            [
             0.8888888888888888,
             "#fdca26"
            ],
            [
             1,
             "#f0f921"
            ]
           ],
           "sequentialminus": [
            [
             0,
             "#0d0887"
            ],
            [
             0.1111111111111111,
             "#46039f"
            ],
            [
             0.2222222222222222,
             "#7201a8"
            ],
            [
             0.3333333333333333,
             "#9c179e"
            ],
            [
             0.4444444444444444,
             "#bd3786"
            ],
            [
             0.5555555555555556,
             "#d8576b"
            ],
            [
             0.6666666666666666,
             "#ed7953"
            ],
            [
             0.7777777777777778,
             "#fb9f3a"
            ],
            [
             0.8888888888888888,
             "#fdca26"
            ],
            [
             1,
             "#f0f921"
            ]
           ]
          },
          "colorway": [
           "#636efa",
           "#EF553B",
           "#00cc96",
           "#ab63fa",
           "#FFA15A",
           "#19d3f3",
           "#FF6692",
           "#B6E880",
           "#FF97FF",
           "#FECB52"
          ],
          "font": {
           "color": "#2a3f5f"
          },
          "geo": {
           "bgcolor": "white",
           "lakecolor": "white",
           "landcolor": "#E5ECF6",
           "showlakes": true,
           "showland": true,
           "subunitcolor": "white"
          },
          "hoverlabel": {
           "align": "left"
          },
          "hovermode": "closest",
          "mapbox": {
           "style": "light"
          },
          "paper_bgcolor": "white",
          "plot_bgcolor": "#E5ECF6",
          "polar": {
           "angularaxis": {
            "gridcolor": "white",
            "linecolor": "white",
            "ticks": ""
           },
           "bgcolor": "#E5ECF6",
           "radialaxis": {
            "gridcolor": "white",
            "linecolor": "white",
            "ticks": ""
           }
          },
          "scene": {
           "xaxis": {
            "backgroundcolor": "#E5ECF6",
            "gridcolor": "white",
            "gridwidth": 2,
            "linecolor": "white",
            "showbackground": true,
            "ticks": "",
            "zerolinecolor": "white"
           },
           "yaxis": {
            "backgroundcolor": "#E5ECF6",
            "gridcolor": "white",
            "gridwidth": 2,
            "linecolor": "white",
            "showbackground": true,
            "ticks": "",
            "zerolinecolor": "white"
           },
           "zaxis": {
            "backgroundcolor": "#E5ECF6",
            "gridcolor": "white",
            "gridwidth": 2,
            "linecolor": "white",
            "showbackground": true,
            "ticks": "",
            "zerolinecolor": "white"
           }
          },
          "shapedefaults": {
           "line": {
            "color": "#2a3f5f"
           }
          },
          "ternary": {
           "aaxis": {
            "gridcolor": "white",
            "linecolor": "white",
            "ticks": ""
           },
           "baxis": {
            "gridcolor": "white",
            "linecolor": "white",
            "ticks": ""
           },
           "bgcolor": "#E5ECF6",
           "caxis": {
            "gridcolor": "white",
            "linecolor": "white",
            "ticks": ""
           }
          },
          "title": {
           "x": 0.05
          },
          "xaxis": {
           "automargin": true,
           "gridcolor": "white",
           "linecolor": "white",
           "ticks": "",
           "title": {
            "standoff": 15
           },
           "zerolinecolor": "white",
           "zerolinewidth": 2
          },
          "yaxis": {
           "automargin": true,
           "gridcolor": "white",
           "linecolor": "white",
           "ticks": "",
           "title": {
            "standoff": 15
           },
           "zerolinecolor": "white",
           "zerolinewidth": 2
          }
         }
        },
        "title": {
         "text": "Producción Mensual 2024 Acumulada por Categoría de Producto"
        },
        "xaxis": {
         "tickangle": 45,
         "title": {
          "text": "Mes"
         }
        },
        "yaxis": {
         "title": {
          "text": "Cantidad Producida"
         }
        }
       }
      }
     },
     "metadata": {},
     "output_type": "display_data"
    }
   ],
   "source": [
    "def grafica_voluenes_bajo_total():\n",
    "    # Agrupamos por mes y categoría\n",
    "    df_plot = (\n",
    "        df_maestro_2024\n",
    "        .assign(Mes=df_maestro_2024[\"Creado El\"].dt.strftime(\"%B\"))\n",
    "        .groupby([\"Mes\", \"Categoría Proc\"], as_index=False)[\"Producir\"]\n",
    "        .sum()\n",
    "    )\n",
    "\n",
    "    # Ordenar meses cronológicamente (enero a diciembre)\n",
    "    meses_orden = [\n",
    "        \"January\", \"February\", \"March\", \"April\", \"May\", \"June\",\n",
    "        \"July\", \"August\", \"September\", \"October\", \"November\", \"December\"\n",
    "    ]\n",
    "    df_plot[\"Mes\"] = pd.Categorical(df_plot[\"Mes\"], categories=meses_orden, ordered=True)\n",
    "    df_plot = df_plot.sort_values([\"Mes\", \"Categoría Proc\"])\n",
    "\n",
    "    # Pivot para áreas apiladas\n",
    "    df_pivot = df_plot.pivot(index=\"Mes\", columns=\"Categoría Proc\", values=\"Producir\").fillna(0)\n",
    "    df_pivot[\"Total\"] = df_pivot.sum(axis=1)\n",
    "\n",
    "    # Crear figura\n",
    "    fig = go.Figure()\n",
    "\n",
    "    # Áreas apiladas (categorías)\n",
    "    for cat in df_pivot.columns.drop(\"Total\"):\n",
    "        fig.add_trace(go.Scatter(\n",
    "            x=df_pivot.index,\n",
    "            y=df_pivot[cat],\n",
    "            mode=\"lines\",\n",
    "            stackgroup=\"one\",\n",
    "            name=cat,\n",
    "            hoverinfo=\"x+y+name\"\n",
    "        ))\n",
    "\n",
    "    # Línea del total\n",
    "    fig.add_trace(go.Scatter(\n",
    "        x=df_pivot.index,\n",
    "        y=df_pivot[\"Total\"],\n",
    "        mode=\"lines+markers\",\n",
    "        line=dict(color=\"black\", width=3),\n",
    "        name=\"Total\"\n",
    "    ))\n",
    "\n",
    "    # Ajustes visuales\n",
    "    fig.update_layout(\n",
    "        title=\"Producción Mensual 2024 Acumulada por Categoría de Producto\",\n",
    "        xaxis_title=\"Mes\",\n",
    "        yaxis_title=\"Cantidad Producida\",\n",
    "        hovermode=\"x unified\",\n",
    "        xaxis=dict(tickangle=45)\n",
    "    )\n",
    "\n",
    "    return fig\n",
    "\n",
    "grafica_voluenes_bajo_total().show()"
   ]
  },
  {
   "cell_type": "code",
   "execution_count": 25,
   "id": "bff5f22f",
   "metadata": {},
   "outputs": [
    {
     "data": {
      "text/html": [
       "<div>\n",
       "<style scoped>\n",
       "    .dataframe tbody tr th:only-of-type {\n",
       "        vertical-align: middle;\n",
       "    }\n",
       "\n",
       "    .dataframe tbody tr th {\n",
       "        vertical-align: top;\n",
       "    }\n",
       "\n",
       "    .dataframe thead th {\n",
       "        text-align: right;\n",
       "    }\n",
       "</style>\n",
       "<table border=\"1\" class=\"dataframe\">\n",
       "  <thead>\n",
       "    <tr style=\"text-align: right;\">\n",
       "      <th>Mes</th>\n",
       "      <th>January</th>\n",
       "      <th>February</th>\n",
       "      <th>March</th>\n",
       "      <th>April</th>\n",
       "      <th>May</th>\n",
       "      <th>June</th>\n",
       "      <th>July</th>\n",
       "      <th>August</th>\n",
       "      <th>September</th>\n",
       "      <th>October</th>\n",
       "      <th>November</th>\n",
       "      <th>December</th>\n",
       "      <th>Total_Anual</th>\n",
       "      <th>Pct_Anual</th>\n",
       "    </tr>\n",
       "  </thead>\n",
       "  <tbody>\n",
       "    <tr>\n",
       "      <th>pantalones</th>\n",
       "      <td>48.2</td>\n",
       "      <td>56.69</td>\n",
       "      <td>0.0</td>\n",
       "      <td>49.27</td>\n",
       "      <td>10.04</td>\n",
       "      <td>11.36</td>\n",
       "      <td>7.97</td>\n",
       "      <td>10.62</td>\n",
       "      <td>40.02</td>\n",
       "      <td>15.82</td>\n",
       "      <td>0.0</td>\n",
       "      <td>8.31</td>\n",
       "      <td>224517.0</td>\n",
       "      <td>34.16</td>\n",
       "    </tr>\n",
       "    <tr>\n",
       "      <th>camiseta</th>\n",
       "      <td>42.54</td>\n",
       "      <td>42.97</td>\n",
       "      <td>100.0</td>\n",
       "      <td>39.72</td>\n",
       "      <td>41.14</td>\n",
       "      <td>16.16</td>\n",
       "      <td>5.98</td>\n",
       "      <td>31.03</td>\n",
       "      <td>14.19</td>\n",
       "      <td>9.55</td>\n",
       "      <td>0.0</td>\n",
       "      <td>20.51</td>\n",
       "      <td>202187.0</td>\n",
       "      <td>30.77</td>\n",
       "    </tr>\n",
       "    <tr>\n",
       "      <th>gorra</th>\n",
       "      <td>1.94</td>\n",
       "      <td>0.0</td>\n",
       "      <td>0.0</td>\n",
       "      <td>1.1</td>\n",
       "      <td>16.48</td>\n",
       "      <td>11.26</td>\n",
       "      <td>55.56</td>\n",
       "      <td>24.74</td>\n",
       "      <td>12.49</td>\n",
       "      <td>36.56</td>\n",
       "      <td>0.0</td>\n",
       "      <td>3.05</td>\n",
       "      <td>69079.0</td>\n",
       "      <td>10.51</td>\n",
       "    </tr>\n",
       "    <tr>\n",
       "      <th>accesorios</th>\n",
       "      <td>1.38</td>\n",
       "      <td>0.0</td>\n",
       "      <td>0.0</td>\n",
       "      <td>0.66</td>\n",
       "      <td>1.35</td>\n",
       "      <td>33.08</td>\n",
       "      <td>0.0</td>\n",
       "      <td>3.42</td>\n",
       "      <td>3.73</td>\n",
       "      <td>24.96</td>\n",
       "      <td>0.0</td>\n",
       "      <td>7.12</td>\n",
       "      <td>61546.0</td>\n",
       "      <td>9.37</td>\n",
       "    </tr>\n",
       "    <tr>\n",
       "      <th>delantal</th>\n",
       "      <td>4.87</td>\n",
       "      <td>0.0</td>\n",
       "      <td>0.0</td>\n",
       "      <td>9.01</td>\n",
       "      <td>6.78</td>\n",
       "      <td>12.45</td>\n",
       "      <td>30.08</td>\n",
       "      <td>16.05</td>\n",
       "      <td>3.48</td>\n",
       "      <td>9.76</td>\n",
       "      <td>0.0</td>\n",
       "      <td>0.0</td>\n",
       "      <td>46339.0</td>\n",
       "      <td>7.05</td>\n",
       "    </tr>\n",
       "    <tr>\n",
       "      <th>chaquetas</th>\n",
       "      <td>0.05</td>\n",
       "      <td>0.0</td>\n",
       "      <td>0.0</td>\n",
       "      <td>0.24</td>\n",
       "      <td>5.39</td>\n",
       "      <td>13.91</td>\n",
       "      <td>0.43</td>\n",
       "      <td>7.13</td>\n",
       "      <td>25.62</td>\n",
       "      <td>0.5</td>\n",
       "      <td>0.0</td>\n",
       "      <td>61.02</td>\n",
       "      <td>44604.0</td>\n",
       "      <td>6.79</td>\n",
       "    </tr>\n",
       "    <tr>\n",
       "      <th>camisa</th>\n",
       "      <td>0.89</td>\n",
       "      <td>0.0</td>\n",
       "      <td>0.0</td>\n",
       "      <td>0.0</td>\n",
       "      <td>0.85</td>\n",
       "      <td>1.77</td>\n",
       "      <td>0.0</td>\n",
       "      <td>4.89</td>\n",
       "      <td>0.47</td>\n",
       "      <td>2.05</td>\n",
       "      <td>0.0</td>\n",
       "      <td>0.0</td>\n",
       "      <td>6553.0</td>\n",
       "      <td>1.0</td>\n",
       "    </tr>\n",
       "    <tr>\n",
       "      <th>sacos</th>\n",
       "      <td>0.0</td>\n",
       "      <td>0.0</td>\n",
       "      <td>0.0</td>\n",
       "      <td>0.0</td>\n",
       "      <td>17.97</td>\n",
       "      <td>0.0</td>\n",
       "      <td>0.0</td>\n",
       "      <td>0.54</td>\n",
       "      <td>0.0</td>\n",
       "      <td>0.26</td>\n",
       "      <td>0.0</td>\n",
       "      <td>0.0</td>\n",
       "      <td>1140.0</td>\n",
       "      <td>0.17</td>\n",
       "    </tr>\n",
       "    <tr>\n",
       "      <th>buzo</th>\n",
       "      <td>0.0</td>\n",
       "      <td>0.34</td>\n",
       "      <td>0.0</td>\n",
       "      <td>0.0</td>\n",
       "      <td>0.0</td>\n",
       "      <td>0.0</td>\n",
       "      <td>0.0</td>\n",
       "      <td>1.54</td>\n",
       "      <td>0.0</td>\n",
       "      <td>0.0</td>\n",
       "      <td>0.0</td>\n",
       "      <td>0.0</td>\n",
       "      <td>542.0</td>\n",
       "      <td>0.08</td>\n",
       "    </tr>\n",
       "    <tr>\n",
       "      <th>bata</th>\n",
       "      <td>0.0</td>\n",
       "      <td>0.0</td>\n",
       "      <td>0.0</td>\n",
       "      <td>0.0</td>\n",
       "      <td>0.0</td>\n",
       "      <td>0.0</td>\n",
       "      <td>0.0</td>\n",
       "      <td>0.0</td>\n",
       "      <td>0.0</td>\n",
       "      <td>0.27</td>\n",
       "      <td>0.0</td>\n",
       "      <td>0.0</td>\n",
       "      <td>224.0</td>\n",
       "      <td>0.03</td>\n",
       "    </tr>\n",
       "    <tr>\n",
       "      <th>overol</th>\n",
       "      <td>0.0</td>\n",
       "      <td>0.0</td>\n",
       "      <td>0.0</td>\n",
       "      <td>0.0</td>\n",
       "      <td>0.0</td>\n",
       "      <td>0.0</td>\n",
       "      <td>0.0</td>\n",
       "      <td>0.0</td>\n",
       "      <td>0.0</td>\n",
       "      <td>0.26</td>\n",
       "      <td>0.0</td>\n",
       "      <td>0.0</td>\n",
       "      <td>220.0</td>\n",
       "      <td>0.03</td>\n",
       "    </tr>\n",
       "    <tr>\n",
       "      <th>servicios</th>\n",
       "      <td>0.12</td>\n",
       "      <td>0.0</td>\n",
       "      <td>0.0</td>\n",
       "      <td>0.0</td>\n",
       "      <td>0.0</td>\n",
       "      <td>0.0</td>\n",
       "      <td>0.0</td>\n",
       "      <td>0.03</td>\n",
       "      <td>0.0</td>\n",
       "      <td>0.0</td>\n",
       "      <td>0.0</td>\n",
       "      <td>0.0</td>\n",
       "      <td>207.0</td>\n",
       "      <td>0.03</td>\n",
       "    </tr>\n",
       "    <tr>\n",
       "      <th>TOTAL UNIDADES</th>\n",
       "      <td>162604</td>\n",
       "      <td>56448</td>\n",
       "      <td>24000</td>\n",
       "      <td>91032</td>\n",
       "      <td>4453</td>\n",
       "      <td>99799</td>\n",
       "      <td>7029</td>\n",
       "      <td>22799</td>\n",
       "      <td>102662</td>\n",
       "      <td>83382</td>\n",
       "      <td>0</td>\n",
       "      <td>2950</td>\n",
       "      <td>657158</td>\n",
       "      <td>100.0</td>\n",
       "    </tr>\n",
       "  </tbody>\n",
       "</table>\n",
       "</div>"
      ],
      "text/plain": [
       "Mes            January February  March  April    May   June   July August  \\\n",
       "pantalones        48.2    56.69    0.0  49.27  10.04  11.36   7.97  10.62   \n",
       "camiseta         42.54    42.97  100.0  39.72  41.14  16.16   5.98  31.03   \n",
       "gorra             1.94      0.0    0.0    1.1  16.48  11.26  55.56  24.74   \n",
       "accesorios        1.38      0.0    0.0   0.66   1.35  33.08    0.0   3.42   \n",
       "delantal          4.87      0.0    0.0   9.01   6.78  12.45  30.08  16.05   \n",
       "chaquetas         0.05      0.0    0.0   0.24   5.39  13.91   0.43   7.13   \n",
       "camisa            0.89      0.0    0.0    0.0   0.85   1.77    0.0   4.89   \n",
       "sacos              0.0      0.0    0.0    0.0  17.97    0.0    0.0   0.54   \n",
       "buzo               0.0     0.34    0.0    0.0    0.0    0.0    0.0   1.54   \n",
       "bata               0.0      0.0    0.0    0.0    0.0    0.0    0.0    0.0   \n",
       "overol             0.0      0.0    0.0    0.0    0.0    0.0    0.0    0.0   \n",
       "servicios         0.12      0.0    0.0    0.0    0.0    0.0    0.0   0.03   \n",
       "TOTAL UNIDADES  162604    56448  24000  91032   4453  99799   7029  22799   \n",
       "\n",
       "Mes            September October November December Total_Anual Pct_Anual  \n",
       "pantalones         40.02   15.82      0.0     8.31    224517.0     34.16  \n",
       "camiseta           14.19    9.55      0.0    20.51    202187.0     30.77  \n",
       "gorra              12.49   36.56      0.0     3.05     69079.0     10.51  \n",
       "accesorios          3.73   24.96      0.0     7.12     61546.0      9.37  \n",
       "delantal            3.48    9.76      0.0      0.0     46339.0      7.05  \n",
       "chaquetas          25.62     0.5      0.0    61.02     44604.0      6.79  \n",
       "camisa              0.47    2.05      0.0      0.0      6553.0       1.0  \n",
       "sacos                0.0    0.26      0.0      0.0      1140.0      0.17  \n",
       "buzo                 0.0     0.0      0.0      0.0       542.0      0.08  \n",
       "bata                 0.0    0.27      0.0      0.0       224.0      0.03  \n",
       "overol               0.0    0.26      0.0      0.0       220.0      0.03  \n",
       "servicios            0.0     0.0      0.0      0.0       207.0      0.03  \n",
       "TOTAL UNIDADES    102662   83382        0     2950      657158     100.0  "
      ]
     },
     "metadata": {},
     "output_type": "display_data"
    }
   ],
   "source": [
    "# ...existing code...\n",
    "def resumen_unico_compacto(df=df_maestro_2024):\n",
    "    meses = [\"January\",\"February\",\"March\",\"April\",\"May\",\"June\",\"July\",\"August\",\"September\",\"October\",\"November\",\"December\"]\n",
    "    g = (df.assign(Mes=df[\"Creado El\"].dt.strftime(\"%B\"))\n",
    "         .groupby([\"Mes\",\"Categoría Proc\"], as_index=False)[\"Producir\"].sum())\n",
    "    g[\"Mes\"] = pd.Categorical(g[\"Mes\"], categories=meses, ordered=True)\n",
    "    pivot = g.pivot(index=\"Categoría Proc\", columns=\"Mes\", values=\"Producir\").reindex(columns=meses, fill_value=0)\n",
    "\n",
    "    monthly_totals_abs = pivot.sum(axis=0)\n",
    "    monthly_totals = monthly_totals_abs.replace(0, np.nan)\n",
    "    pct_month = pivot.div(monthly_totals, axis=1).multiply(100).round(2).fillna(0)\n",
    "\n",
    "    totals_annual = pivot.sum(axis=1)\n",
    "    total_all = totals_annual.sum()\n",
    "    pct_annual = (totals_annual / total_all * 100).round(2) if total_all else pd.Series(0.0, index=totals_annual.index)\n",
    "\n",
    "    out = pct_month.copy()\n",
    "    out[\"Total_Anual\"] = totals_annual\n",
    "    out[\"Pct_Anual\"] = pct_annual\n",
    "    out = out.sort_values(\"Pct_Anual\", ascending=False)\n",
    "\n",
    "    # fila final con totales absolutos por mes + total anual + pct 100%\n",
    "    total_row = pd.Series(index=out.columns, dtype=object)\n",
    "    for m in meses:\n",
    "        total_row[m] = int(monthly_totals_abs.get(m, 0))\n",
    "    total_row[\"Total_Anual\"] = int(total_all)\n",
    "    total_row[\"Pct_Anual\"] = 100.0\n",
    "\n",
    "    out = pd.concat([out, total_row.to_frame().T])\n",
    "    out.index = out.index.map(str)\n",
    "    out.rename(index={out.index[-1]: \"TOTAL UNIDADES\"}, inplace=True)\n",
    "    return out\n",
    "\n",
    "# generar y mostrar\n",
    "df_resumen_unico = resumen_unico_compacto()\n",
    "display(df_resumen_unico)\n",
    "# ...existing code..."
   ]
  },
  {
   "cell_type": "code",
   "execution_count": 26,
   "id": "397646c7",
   "metadata": {},
   "outputs": [
    {
     "data": {
      "application/vnd.plotly.v1+json": {
       "config": {
        "plotlyServerURL": "https://plot.ly"
       },
       "data": [
        {
         "colorbar": {
          "title": {
           "text": "%"
          }
         },
         "colorscale": [
          [
           0,
           "rgb(247,251,255)"
          ],
          [
           0.125,
           "rgb(222,235,247)"
          ],
          [
           0.25,
           "rgb(198,219,239)"
          ],
          [
           0.375,
           "rgb(158,202,225)"
          ],
          [
           0.5,
           "rgb(107,174,214)"
          ],
          [
           0.625,
           "rgb(66,146,198)"
          ],
          [
           0.75,
           "rgb(33,113,181)"
          ],
          [
           0.875,
           "rgb(8,81,156)"
          ],
          [
           1,
           "rgb(8,48,107)"
          ]
         ],
         "hovertemplate": "%{y}<br>%{x}: %{z}%<extra></extra>",
         "text": [
          [
           "48.2%",
           "56.69%",
           "0.0%",
           "49.27%",
           "10.04%",
           "11.36%",
           "7.97%",
           "10.62%",
           "40.02%",
           "15.82%",
           "0.0%",
           "8.31%"
          ],
          [
           "42.54%",
           "42.97%",
           "100.0%",
           "39.72%",
           "41.14%",
           "16.16%",
           "5.98%",
           "31.03%",
           "14.19%",
           "9.55%",
           "0.0%",
           "20.51%"
          ],
          [
           "1.94%",
           "0.0%",
           "0.0%",
           "1.1%",
           "16.48%",
           "11.26%",
           "55.56%",
           "24.74%",
           "12.49%",
           "36.56%",
           "0.0%",
           "3.05%"
          ],
          [
           "1.38%",
           "0.0%",
           "0.0%",
           "0.66%",
           "1.35%",
           "33.08%",
           "0.0%",
           "3.42%",
           "3.73%",
           "24.96%",
           "0.0%",
           "7.12%"
          ],
          [
           "4.87%",
           "0.0%",
           "0.0%",
           "9.01%",
           "6.78%",
           "12.45%",
           "30.08%",
           "16.05%",
           "3.48%",
           "9.76%",
           "0.0%",
           "0.0%"
          ],
          [
           "0.05%",
           "0.0%",
           "0.0%",
           "0.24%",
           "5.39%",
           "13.91%",
           "0.43%",
           "7.13%",
           "25.62%",
           "0.5%",
           "0.0%",
           "61.02%"
          ],
          [
           "0.89%",
           "0.0%",
           "0.0%",
           "0.0%",
           "0.85%",
           "1.77%",
           "0.0%",
           "4.89%",
           "0.47%",
           "2.05%",
           "0.0%",
           "0.0%"
          ],
          [
           "0.0%",
           "0.0%",
           "0.0%",
           "0.0%",
           "17.97%",
           "0.0%",
           "0.0%",
           "0.54%",
           "0.0%",
           "0.26%",
           "0.0%",
           "0.0%"
          ],
          [
           "0.0%",
           "0.34%",
           "0.0%",
           "0.0%",
           "0.0%",
           "0.0%",
           "0.0%",
           "1.54%",
           "0.0%",
           "0.0%",
           "0.0%",
           "0.0%"
          ],
          [
           "0.0%",
           "0.0%",
           "0.0%",
           "0.0%",
           "0.0%",
           "0.0%",
           "0.0%",
           "0.0%",
           "0.0%",
           "0.27%",
           "0.0%",
           "0.0%"
          ],
          [
           "0.0%",
           "0.0%",
           "0.0%",
           "0.0%",
           "0.0%",
           "0.0%",
           "0.0%",
           "0.0%",
           "0.0%",
           "0.26%",
           "0.0%",
           "0.0%"
          ],
          [
           "0.12%",
           "0.0%",
           "0.0%",
           "0.0%",
           "0.0%",
           "0.0%",
           "0.0%",
           "0.03%",
           "0.0%",
           "0.0%",
           "0.0%",
           "0.0%"
          ]
         ],
         "type": "heatmap",
         "x": [
          "January",
          "February",
          "March",
          "April",
          "May",
          "June",
          "July",
          "August",
          "September",
          "October",
          "November",
          "December"
         ],
         "xaxis": "x",
         "y": [
          "pantalones",
          "camiseta",
          "gorra",
          "accesorios",
          "delantal",
          "chaquetas",
          "camisa",
          "sacos",
          "buzo",
          "bata",
          "overol",
          "servicios"
         ],
         "yaxis": "y",
         "z": {
          "bdata": "mpmZmZkZSEC4HoXrUVhMQAAAAAAAAAAAw/UoXI+iSEAUrkfhehQkQLgehetRuCZA4XoUrkfhH0A9CtejcD0lQMP1KFyPAkRApHA9CtejL0AAAAAAAAAAAB+F61G4niBAhetRuB5FRUBcj8L1KHxFQAAAAAAAAFlAXI/C9SjcQ0BSuB6F65FEQClcj8L1KDBA7FG4HoXrF0BI4XoUrgc/QOF6FK5HYSxAmpmZmZkZI0AAAAAAAAAAAMP1KFyPgjRACtejcD0K/z8AAAAAAAAAAAAAAAAAAAAAmpmZmZmZ8T97FK5H4XowQIXrUbgehSZASOF6FK7HS0A9CtejcL04QHsUrkfh+ihASOF6FK5HQkAAAAAAAAAAAGZmZmZmZghAFK5H4XoU9j8AAAAAAAAAAAAAAAAAAAAAH4XrUbge5T+amZmZmZn1PwrXo3A9ikBAAAAAAAAAAABcj8L1KFwLQNejcD0K1w1A9ihcj8L1OEAAAAAAAAAAAHsUrkfhehxAexSuR+F6E0AAAAAAAAAAAAAAAAAAAAAAhetRuB4FIkAfhetRuB4bQGZmZmZm5ihAFK5H4XoUPkDNzMzMzAwwQNejcD0K1wtAhetRuB6FI0AAAAAAAAAAAAAAAAAAAAAAmpmZmZmZqT8AAAAAAAAAAAAAAAAAAAAAuB6F61G4zj+PwvUoXI8VQFK4HoXr0StAhetRuB6F2z+F61G4HoUcQB+F61G4njlAAAAAAAAA4D8AAAAAAAAAAMP1KFyPgk5AexSuR+F67D8AAAAAAAAAAAAAAAAAAAAAAAAAAAAAAAAzMzMzMzPrP1K4HoXrUfw/AAAAAAAAAACPwvUoXI8TQBSuR+F6FN4/ZmZmZmZmAEAAAAAAAAAAAAAAAAAAAAAAAAAAAAAAAAAAAAAAAAAAAAAAAAAAAAAAAAAAAAAAAAC4HoXrUfgxQAAAAAAAAAAAAAAAAAAAAABI4XoUrkfhPwAAAAAAAAAApHA9Ctej0D8AAAAAAAAAAAAAAAAAAAAAAAAAAAAAAADD9Shcj8LVPwAAAAAAAAAAAAAAAAAAAAAAAAAAAAAAAAAAAAAAAAAAAAAAAAAAAACkcD0K16P4PwAAAAAAAAAAAAAAAAAAAAAAAAAAAAAAAAAAAAAAAAAAAAAAAAAAAAAAAAAAAAAAAAAAAAAAAAAAAAAAAAAAAAAAAAAAAAAAAAAAAAAAAAAAAAAAAAAAAAAAAAAAAAAAAAAAAAAAAAAASOF6FK5H0T8AAAAAAAAAAAAAAAAAAAAAAAAAAAAAAAAAAAAAAAAAAAAAAAAAAAAAAAAAAAAAAAAAAAAAAAAAAAAAAAAAAAAAAAAAAAAAAAAAAAAAAAAAAAAAAAAAAAAApHA9Ctej0D8AAAAAAAAAAAAAAAAAAAAAuB6F61G4vj8AAAAAAAAAAAAAAAAAAAAAAAAAAAAAAAAAAAAAAAAAAAAAAAAAAAAAAAAAAAAAAAC4HoXrUbiePwAAAAAAAAAAAAAAAAAAAAAAAAAAAAAAAAAAAAAAAAAA",
          "dtype": "f8",
          "shape": "12, 12"
         }
        },
        {
         "marker": {
          "color": "darkblue"
         },
         "orientation": "h",
         "showlegend": false,
         "text": [
          "34.16%",
          "30.77%",
          "10.51%",
          "9.37%",
          "7.05%",
          "6.79%",
          "1.0%",
          "0.17%",
          "0.08%",
          "0.03%",
          "0.03%",
          "0.03%"
         ],
         "textposition": "outside",
         "type": "bar",
         "x": {
          "bdata": "FK5H4XoUQUCF61G4HsU+QIXrUbgeBSVAPQrXo3C9IkAzMzMzMzMcQClcj8L1KBtAAAAAAAAA8D/D9Shcj8LFP3sUrkfherQ/uB6F61G4nj+4HoXrUbieP7gehetRuJ4/",
          "dtype": "f8"
         },
         "xaxis": "x2",
         "y": [
          "pantalones",
          "camiseta",
          "gorra",
          "accesorios",
          "delantal",
          "chaquetas",
          "camisa",
          "sacos",
          "buzo",
          "bata",
          "overol",
          "servicios"
         ],
         "yaxis": "y2"
        }
       ],
       "layout": {
        "annotations": [
         {
          "font": {
           "size": 16
          },
          "showarrow": false,
          "text": "Participación mensual (%)",
          "x": 0.315,
          "xanchor": "center",
          "xref": "paper",
          "y": 1,
          "yanchor": "bottom",
          "yref": "paper"
         },
         {
          "font": {
           "size": 16
          },
          "showarrow": false,
          "text": "Participación anual (%)",
          "x": 0.865,
          "xanchor": "center",
          "xref": "paper",
          "y": 1,
          "yanchor": "bottom",
          "yref": "paper"
         }
        ],
        "height": 800,
        "margin": {
         "t": 60
        },
        "template": {
         "data": {
          "bar": [
           {
            "error_x": {
             "color": "#2a3f5f"
            },
            "error_y": {
             "color": "#2a3f5f"
            },
            "marker": {
             "line": {
              "color": "#E5ECF6",
              "width": 0.5
             },
             "pattern": {
              "fillmode": "overlay",
              "size": 10,
              "solidity": 0.2
             }
            },
            "type": "bar"
           }
          ],
          "barpolar": [
           {
            "marker": {
             "line": {
              "color": "#E5ECF6",
              "width": 0.5
             },
             "pattern": {
              "fillmode": "overlay",
              "size": 10,
              "solidity": 0.2
             }
            },
            "type": "barpolar"
           }
          ],
          "carpet": [
           {
            "aaxis": {
             "endlinecolor": "#2a3f5f",
             "gridcolor": "white",
             "linecolor": "white",
             "minorgridcolor": "white",
             "startlinecolor": "#2a3f5f"
            },
            "baxis": {
             "endlinecolor": "#2a3f5f",
             "gridcolor": "white",
             "linecolor": "white",
             "minorgridcolor": "white",
             "startlinecolor": "#2a3f5f"
            },
            "type": "carpet"
           }
          ],
          "choropleth": [
           {
            "colorbar": {
             "outlinewidth": 0,
             "ticks": ""
            },
            "type": "choropleth"
           }
          ],
          "contour": [
           {
            "colorbar": {
             "outlinewidth": 0,
             "ticks": ""
            },
            "colorscale": [
             [
              0,
              "#0d0887"
             ],
             [
              0.1111111111111111,
              "#46039f"
             ],
             [
              0.2222222222222222,
              "#7201a8"
             ],
             [
              0.3333333333333333,
              "#9c179e"
             ],
             [
              0.4444444444444444,
              "#bd3786"
             ],
             [
              0.5555555555555556,
              "#d8576b"
             ],
             [
              0.6666666666666666,
              "#ed7953"
             ],
             [
              0.7777777777777778,
              "#fb9f3a"
             ],
             [
              0.8888888888888888,
              "#fdca26"
             ],
             [
              1,
              "#f0f921"
             ]
            ],
            "type": "contour"
           }
          ],
          "contourcarpet": [
           {
            "colorbar": {
             "outlinewidth": 0,
             "ticks": ""
            },
            "type": "contourcarpet"
           }
          ],
          "heatmap": [
           {
            "colorbar": {
             "outlinewidth": 0,
             "ticks": ""
            },
            "colorscale": [
             [
              0,
              "#0d0887"
             ],
             [
              0.1111111111111111,
              "#46039f"
             ],
             [
              0.2222222222222222,
              "#7201a8"
             ],
             [
              0.3333333333333333,
              "#9c179e"
             ],
             [
              0.4444444444444444,
              "#bd3786"
             ],
             [
              0.5555555555555556,
              "#d8576b"
             ],
             [
              0.6666666666666666,
              "#ed7953"
             ],
             [
              0.7777777777777778,
              "#fb9f3a"
             ],
             [
              0.8888888888888888,
              "#fdca26"
             ],
             [
              1,
              "#f0f921"
             ]
            ],
            "type": "heatmap"
           }
          ],
          "histogram": [
           {
            "marker": {
             "pattern": {
              "fillmode": "overlay",
              "size": 10,
              "solidity": 0.2
             }
            },
            "type": "histogram"
           }
          ],
          "histogram2d": [
           {
            "colorbar": {
             "outlinewidth": 0,
             "ticks": ""
            },
            "colorscale": [
             [
              0,
              "#0d0887"
             ],
             [
              0.1111111111111111,
              "#46039f"
             ],
             [
              0.2222222222222222,
              "#7201a8"
             ],
             [
              0.3333333333333333,
              "#9c179e"
             ],
             [
              0.4444444444444444,
              "#bd3786"
             ],
             [
              0.5555555555555556,
              "#d8576b"
             ],
             [
              0.6666666666666666,
              "#ed7953"
             ],
             [
              0.7777777777777778,
              "#fb9f3a"
             ],
             [
              0.8888888888888888,
              "#fdca26"
             ],
             [
              1,
              "#f0f921"
             ]
            ],
            "type": "histogram2d"
           }
          ],
          "histogram2dcontour": [
           {
            "colorbar": {
             "outlinewidth": 0,
             "ticks": ""
            },
            "colorscale": [
             [
              0,
              "#0d0887"
             ],
             [
              0.1111111111111111,
              "#46039f"
             ],
             [
              0.2222222222222222,
              "#7201a8"
             ],
             [
              0.3333333333333333,
              "#9c179e"
             ],
             [
              0.4444444444444444,
              "#bd3786"
             ],
             [
              0.5555555555555556,
              "#d8576b"
             ],
             [
              0.6666666666666666,
              "#ed7953"
             ],
             [
              0.7777777777777778,
              "#fb9f3a"
             ],
             [
              0.8888888888888888,
              "#fdca26"
             ],
             [
              1,
              "#f0f921"
             ]
            ],
            "type": "histogram2dcontour"
           }
          ],
          "mesh3d": [
           {
            "colorbar": {
             "outlinewidth": 0,
             "ticks": ""
            },
            "type": "mesh3d"
           }
          ],
          "parcoords": [
           {
            "line": {
             "colorbar": {
              "outlinewidth": 0,
              "ticks": ""
             }
            },
            "type": "parcoords"
           }
          ],
          "pie": [
           {
            "automargin": true,
            "type": "pie"
           }
          ],
          "scatter": [
           {
            "fillpattern": {
             "fillmode": "overlay",
             "size": 10,
             "solidity": 0.2
            },
            "type": "scatter"
           }
          ],
          "scatter3d": [
           {
            "line": {
             "colorbar": {
              "outlinewidth": 0,
              "ticks": ""
             }
            },
            "marker": {
             "colorbar": {
              "outlinewidth": 0,
              "ticks": ""
             }
            },
            "type": "scatter3d"
           }
          ],
          "scattercarpet": [
           {
            "marker": {
             "colorbar": {
              "outlinewidth": 0,
              "ticks": ""
             }
            },
            "type": "scattercarpet"
           }
          ],
          "scattergeo": [
           {
            "marker": {
             "colorbar": {
              "outlinewidth": 0,
              "ticks": ""
             }
            },
            "type": "scattergeo"
           }
          ],
          "scattergl": [
           {
            "marker": {
             "colorbar": {
              "outlinewidth": 0,
              "ticks": ""
             }
            },
            "type": "scattergl"
           }
          ],
          "scattermap": [
           {
            "marker": {
             "colorbar": {
              "outlinewidth": 0,
              "ticks": ""
             }
            },
            "type": "scattermap"
           }
          ],
          "scattermapbox": [
           {
            "marker": {
             "colorbar": {
              "outlinewidth": 0,
              "ticks": ""
             }
            },
            "type": "scattermapbox"
           }
          ],
          "scatterpolar": [
           {
            "marker": {
             "colorbar": {
              "outlinewidth": 0,
              "ticks": ""
             }
            },
            "type": "scatterpolar"
           }
          ],
          "scatterpolargl": [
           {
            "marker": {
             "colorbar": {
              "outlinewidth": 0,
              "ticks": ""
             }
            },
            "type": "scatterpolargl"
           }
          ],
          "scatterternary": [
           {
            "marker": {
             "colorbar": {
              "outlinewidth": 0,
              "ticks": ""
             }
            },
            "type": "scatterternary"
           }
          ],
          "surface": [
           {
            "colorbar": {
             "outlinewidth": 0,
             "ticks": ""
            },
            "colorscale": [
             [
              0,
              "#0d0887"
             ],
             [
              0.1111111111111111,
              "#46039f"
             ],
             [
              0.2222222222222222,
              "#7201a8"
             ],
             [
              0.3333333333333333,
              "#9c179e"
             ],
             [
              0.4444444444444444,
              "#bd3786"
             ],
             [
              0.5555555555555556,
              "#d8576b"
             ],
             [
              0.6666666666666666,
              "#ed7953"
             ],
             [
              0.7777777777777778,
              "#fb9f3a"
             ],
             [
              0.8888888888888888,
              "#fdca26"
             ],
             [
              1,
              "#f0f921"
             ]
            ],
            "type": "surface"
           }
          ],
          "table": [
           {
            "cells": {
             "fill": {
              "color": "#EBF0F8"
             },
             "line": {
              "color": "white"
             }
            },
            "header": {
             "fill": {
              "color": "#C8D4E3"
             },
             "line": {
              "color": "white"
             }
            },
            "type": "table"
           }
          ]
         },
         "layout": {
          "annotationdefaults": {
           "arrowcolor": "#2a3f5f",
           "arrowhead": 0,
           "arrowwidth": 1
          },
          "autotypenumbers": "strict",
          "coloraxis": {
           "colorbar": {
            "outlinewidth": 0,
            "ticks": ""
           }
          },
          "colorscale": {
           "diverging": [
            [
             0,
             "#8e0152"
            ],
            [
             0.1,
             "#c51b7d"
            ],
            [
             0.2,
             "#de77ae"
            ],
            [
             0.3,
             "#f1b6da"
            ],
            [
             0.4,
             "#fde0ef"
            ],
            [
             0.5,
             "#f7f7f7"
            ],
            [
             0.6,
             "#e6f5d0"
            ],
            [
             0.7,
             "#b8e186"
            ],
            [
             0.8,
             "#7fbc41"
            ],
            [
             0.9,
             "#4d9221"
            ],
            [
             1,
             "#276419"
            ]
           ],
           "sequential": [
            [
             0,
             "#0d0887"
            ],
            [
             0.1111111111111111,
             "#46039f"
            ],
            [
             0.2222222222222222,
             "#7201a8"
            ],
            [
             0.3333333333333333,
             "#9c179e"
            ],
            [
             0.4444444444444444,
             "#bd3786"
            ],
            [
             0.5555555555555556,
             "#d8576b"
            ],
            [
             0.6666666666666666,
             "#ed7953"
            ],
            [
             0.7777777777777778,
             "#fb9f3a"
            ],
            [
             0.8888888888888888,
             "#fdca26"
            ],
            [
             1,
             "#f0f921"
            ]
           ],
           "sequentialminus": [
            [
             0,
             "#0d0887"
            ],
            [
             0.1111111111111111,
             "#46039f"
            ],
            [
             0.2222222222222222,
             "#7201a8"
            ],
            [
             0.3333333333333333,
             "#9c179e"
            ],
            [
             0.4444444444444444,
             "#bd3786"
            ],
            [
             0.5555555555555556,
             "#d8576b"
            ],
            [
             0.6666666666666666,
             "#ed7953"
            ],
            [
             0.7777777777777778,
             "#fb9f3a"
            ],
            [
             0.8888888888888888,
             "#fdca26"
            ],
            [
             1,
             "#f0f921"
            ]
           ]
          },
          "colorway": [
           "#636efa",
           "#EF553B",
           "#00cc96",
           "#ab63fa",
           "#FFA15A",
           "#19d3f3",
           "#FF6692",
           "#B6E880",
           "#FF97FF",
           "#FECB52"
          ],
          "font": {
           "color": "#2a3f5f"
          },
          "geo": {
           "bgcolor": "white",
           "lakecolor": "white",
           "landcolor": "#E5ECF6",
           "showlakes": true,
           "showland": true,
           "subunitcolor": "white"
          },
          "hoverlabel": {
           "align": "left"
          },
          "hovermode": "closest",
          "mapbox": {
           "style": "light"
          },
          "paper_bgcolor": "white",
          "plot_bgcolor": "#E5ECF6",
          "polar": {
           "angularaxis": {
            "gridcolor": "white",
            "linecolor": "white",
            "ticks": ""
           },
           "bgcolor": "#E5ECF6",
           "radialaxis": {
            "gridcolor": "white",
            "linecolor": "white",
            "ticks": ""
           }
          },
          "scene": {
           "xaxis": {
            "backgroundcolor": "#E5ECF6",
            "gridcolor": "white",
            "gridwidth": 2,
            "linecolor": "white",
            "showbackground": true,
            "ticks": "",
            "zerolinecolor": "white"
           },
           "yaxis": {
            "backgroundcolor": "#E5ECF6",
            "gridcolor": "white",
            "gridwidth": 2,
            "linecolor": "white",
            "showbackground": true,
            "ticks": "",
            "zerolinecolor": "white"
           },
           "zaxis": {
            "backgroundcolor": "#E5ECF6",
            "gridcolor": "white",
            "gridwidth": 2,
            "linecolor": "white",
            "showbackground": true,
            "ticks": "",
            "zerolinecolor": "white"
           }
          },
          "shapedefaults": {
           "line": {
            "color": "#2a3f5f"
           }
          },
          "ternary": {
           "aaxis": {
            "gridcolor": "white",
            "linecolor": "white",
            "ticks": ""
           },
           "baxis": {
            "gridcolor": "white",
            "linecolor": "white",
            "ticks": ""
           },
           "bgcolor": "#E5ECF6",
           "caxis": {
            "gridcolor": "white",
            "linecolor": "white",
            "ticks": ""
           }
          },
          "title": {
           "x": 0.05
          },
          "xaxis": {
           "automargin": true,
           "gridcolor": "white",
           "linecolor": "white",
           "ticks": "",
           "title": {
            "standoff": 15
           },
           "zerolinecolor": "white",
           "zerolinewidth": 2
          },
          "yaxis": {
           "automargin": true,
           "gridcolor": "white",
           "linecolor": "white",
           "ticks": "",
           "title": {
            "standoff": 15
           },
           "zerolinecolor": "white",
           "zerolinewidth": 2
          }
         }
        },
        "width": 1200,
        "xaxis": {
         "anchor": "y",
         "domain": [
          0,
          0.63
         ]
        },
        "xaxis2": {
         "anchor": "y2",
         "domain": [
          0.73,
          1
         ]
        },
        "yaxis": {
         "anchor": "x",
         "autorange": "reversed",
         "domain": [
          0,
          1
         ]
        },
        "yaxis2": {
         "anchor": "x2",
         "autorange": "reversed",
         "domain": [
          0,
          1
         ]
        }
       }
      }
     },
     "metadata": {},
     "output_type": "display_data"
    }
   ],
   "source": [
    "# ...existing code...\n",
    "def plot_resumen_plotly(df=df_maestro_2024):\n",
    "    meses = [\"January\",\"February\",\"March\",\"April\",\"May\",\"June\",\"July\",\"August\",\"September\",\"October\",\"November\",\"December\"]\n",
    "    g = (df.assign(Mes=df[\"Creado El\"].dt.strftime(\"%B\"))\n",
    "         .groupby([\"Mes\",\"Categoría Proc\"], as_index=False)[\"Producir\"].sum())\n",
    "    g[\"Mes\"] = pd.Categorical(g[\"Mes\"], categories=meses, ordered=True)\n",
    "    pivot = g.pivot(index=\"Categoría Proc\", columns=\"Mes\", values=\"Producir\").reindex(columns=meses, fill_value=0)\n",
    "\n",
    "    monthly_totals_abs = pivot.sum(axis=0)\n",
    "    month_pct = pivot.div(monthly_totals_abs.replace(0, np.nan), axis=1).multiply(100).round(2).fillna(0)\n",
    "\n",
    "    totals_annual = pivot.sum(axis=1)\n",
    "    total_all = totals_annual.sum()\n",
    "    pct_annual = (totals_annual / total_all * 100).round(2) if total_all else pd.Series(0.0, index=totals_annual.index)\n",
    "\n",
    "    # ordenar categorías por participación anual descendente\n",
    "    order = pct_annual.sort_values(ascending=False).index\n",
    "    month_pct = month_pct.reindex(order)\n",
    "    pct_annual = pct_annual.reindex(order)\n",
    "\n",
    "    # figura: heatmap (meses %) + barra horizontal (pct anual)\n",
    "    from plotly.subplots import make_subplots\n",
    "    import plotly.graph_objects as go\n",
    "\n",
    "    fig = make_subplots(rows=1, cols=2, column_widths=[0.7, 0.3],\n",
    "                        specs=[[{\"type\":\"heatmap\"},{\"type\":\"bar\"}]],\n",
    "                        subplot_titles=(\"Participación mensual (%)\",\"Participación anual (%)\"))\n",
    "\n",
    "    fig.add_trace(go.Heatmap(\n",
    "        z=month_pct.values,\n",
    "        x=month_pct.columns,\n",
    "        y=month_pct.index,\n",
    "        colorscale=\"Blues\",\n",
    "        colorbar=dict(title=\"%\"),\n",
    "        text=(month_pct.astype(str) + \"%\"),\n",
    "        hovertemplate=\"%{y}<br>%{x}: %{z}%<extra></extra>\"\n",
    "    ), row=1, col=1)\n",
    "\n",
    "    fig.add_trace(go.Bar(\n",
    "        x=pct_annual.values,\n",
    "        y=pct_annual.index,\n",
    "        orientation='h',\n",
    "        text=(pct_annual.astype(str) + \"%\"),\n",
    "        textposition='outside',\n",
    "        marker_color='darkblue',\n",
    "        showlegend=False\n",
    "    ), row=1, col=2)\n",
    "\n",
    "    fig.update_layout(height=800, width=1200, margin=dict(t=60))\n",
    "    fig.update_yaxes(autorange=\"reversed\", row=1, col=1)  # mantener orden visual\n",
    "    fig.update_yaxes(autorange=\"reversed\", row=1, col=2)\n",
    "    return fig\n",
    "\n",
    "plot_resumen_plotly().show()"
   ]
  },
  {
   "cell_type": "code",
   "execution_count": null,
   "id": "7cd10b24",
   "metadata": {},
   "outputs": [],
   "source": []
  },
  {
   "cell_type": "markdown",
   "id": "36ba3df5",
   "metadata": {},
   "source": [
    "### Materias Primas, Insumos y Servicios\n",
    "\n",
    "Insigths:\n",
    "- Heatmap qué productos consumen más cada tipo de insumo (Distribucion).\n",
    "- Treemap: qué materias primas pesan más dentro de cada prenda.\n",
    "- Bar chart: Insumos que concentran mayor peso en costos."
   ]
  },
  {
   "cell_type": "code",
   "execution_count": 35,
   "id": "0af880a9",
   "metadata": {},
   "outputs": [
    {
     "data": {
      "application/vnd.plotly.v1+json": {
       "config": {
        "plotlyServerURL": "https://plot.ly"
       },
       "data": [
        {
         "coloraxis": "coloraxis",
         "histfunc": "sum",
         "hovertemplate": "Categoría Proc=%{x}<br>categoria_insumo=%{y}<br>sum of Porcentaje=%{z}<extra></extra>",
         "name": "",
         "type": "histogram2d",
         "x": [
          "accesorios",
          "accesorios",
          "accesorios",
          "bata",
          "bata",
          "bata",
          "buzo",
          "buzo",
          "buzo",
          "camisa",
          "camisa",
          "camisa",
          "camiseta",
          "camiseta",
          "camiseta",
          "chaquetas",
          "chaquetas",
          "chaquetas",
          "delantal",
          "delantal",
          "delantal",
          "gorra",
          "gorra",
          "gorra",
          "overol",
          "overol",
          "overol",
          "pantalones",
          "pantalones",
          "pantalones",
          "sacos",
          "sacos",
          "servicios"
         ],
         "xaxis": "x",
         "xbingroup": "x",
         "y": [
          "insumo",
          "mat.prima",
          "proceso producción",
          "insumo",
          "mat.prima",
          "proceso producción",
          "insumo",
          "mat.prima",
          "proceso producción",
          "insumo",
          "mat.prima",
          "proceso producción",
          "insumo",
          "mat.prima",
          "proceso producción",
          "insumo",
          "mat.prima",
          "proceso producción",
          "insumo",
          "mat.prima",
          "proceso producción",
          "insumo",
          "mat.prima",
          "proceso producción",
          "insumo",
          "mat.prima",
          "proceso producción",
          "insumo",
          "mat.prima",
          "proceso producción",
          "mat.prima",
          "proceso producción",
          "proceso producción"
         ],
         "yaxis": "y",
         "ybingroup": "y",
         "z": {
          "bdata": "xeRmrVJ6JED8uN/m4nJAQNKNxm2IbkxAYsX6nJRcEkCKhMjPQ5BNQMkimJwpJEJALDlDHwIE/D8Ox4lhG41TQDaw5FdSCzRAy0e2q7c3MECUjQ+z9aNJQIZOFXcuQEBAP2Xym8sBIUCBcmpjdG8xQLgWp3Ppg1JAsLw/2zxeKkDIB9EOZEBIQAwJX7oMKENAIhFwmViH4z8mghoe4P1DQJW9f38CtE1AsXQMQGxxBkCFGl664AYvQAvZs4aYa1RAYiGJjTqlQUA3LercqINKQJ3FMlZyXCdAKCq9kURtMUAUyoyKcP1GQNeglCztS0JA5SdEXL18UUBtYO+OCg0+QAAAAAAAAFlA",
          "dtype": "f8"
         }
        }
       ],
       "layout": {
        "coloraxis": {
         "colorbar": {
          "title": {
           "text": "sum of Porcentaje"
          }
         },
         "colorscale": [
          [
           0,
           "#440154"
          ],
          [
           0.1111111111111111,
           "#482878"
          ],
          [
           0.2222222222222222,
           "#3e4989"
          ],
          [
           0.3333333333333333,
           "#31688e"
          ],
          [
           0.4444444444444444,
           "#26828e"
          ],
          [
           0.5555555555555556,
           "#1f9e89"
          ],
          [
           0.6666666666666666,
           "#35b779"
          ],
          [
           0.7777777777777778,
           "#6ece58"
          ],
          [
           0.8888888888888888,
           "#b5de2b"
          ],
          [
           1,
           "#fde725"
          ]
         ]
        },
        "legend": {
         "tracegroupgap": 0
        },
        "margin": {
         "b": 40,
         "l": 80,
         "r": 20,
         "t": 40
        },
        "template": {
         "data": {
          "bar": [
           {
            "error_x": {
             "color": "#2a3f5f"
            },
            "error_y": {
             "color": "#2a3f5f"
            },
            "marker": {
             "line": {
              "color": "#E5ECF6",
              "width": 0.5
             },
             "pattern": {
              "fillmode": "overlay",
              "size": 10,
              "solidity": 0.2
             }
            },
            "type": "bar"
           }
          ],
          "barpolar": [
           {
            "marker": {
             "line": {
              "color": "#E5ECF6",
              "width": 0.5
             },
             "pattern": {
              "fillmode": "overlay",
              "size": 10,
              "solidity": 0.2
             }
            },
            "type": "barpolar"
           }
          ],
          "carpet": [
           {
            "aaxis": {
             "endlinecolor": "#2a3f5f",
             "gridcolor": "white",
             "linecolor": "white",
             "minorgridcolor": "white",
             "startlinecolor": "#2a3f5f"
            },
            "baxis": {
             "endlinecolor": "#2a3f5f",
             "gridcolor": "white",
             "linecolor": "white",
             "minorgridcolor": "white",
             "startlinecolor": "#2a3f5f"
            },
            "type": "carpet"
           }
          ],
          "choropleth": [
           {
            "colorbar": {
             "outlinewidth": 0,
             "ticks": ""
            },
            "type": "choropleth"
           }
          ],
          "contour": [
           {
            "colorbar": {
             "outlinewidth": 0,
             "ticks": ""
            },
            "colorscale": [
             [
              0,
              "#0d0887"
             ],
             [
              0.1111111111111111,
              "#46039f"
             ],
             [
              0.2222222222222222,
              "#7201a8"
             ],
             [
              0.3333333333333333,
              "#9c179e"
             ],
             [
              0.4444444444444444,
              "#bd3786"
             ],
             [
              0.5555555555555556,
              "#d8576b"
             ],
             [
              0.6666666666666666,
              "#ed7953"
             ],
             [
              0.7777777777777778,
              "#fb9f3a"
             ],
             [
              0.8888888888888888,
              "#fdca26"
             ],
             [
              1,
              "#f0f921"
             ]
            ],
            "type": "contour"
           }
          ],
          "contourcarpet": [
           {
            "colorbar": {
             "outlinewidth": 0,
             "ticks": ""
            },
            "type": "contourcarpet"
           }
          ],
          "heatmap": [
           {
            "colorbar": {
             "outlinewidth": 0,
             "ticks": ""
            },
            "colorscale": [
             [
              0,
              "#0d0887"
             ],
             [
              0.1111111111111111,
              "#46039f"
             ],
             [
              0.2222222222222222,
              "#7201a8"
             ],
             [
              0.3333333333333333,
              "#9c179e"
             ],
             [
              0.4444444444444444,
              "#bd3786"
             ],
             [
              0.5555555555555556,
              "#d8576b"
             ],
             [
              0.6666666666666666,
              "#ed7953"
             ],
             [
              0.7777777777777778,
              "#fb9f3a"
             ],
             [
              0.8888888888888888,
              "#fdca26"
             ],
             [
              1,
              "#f0f921"
             ]
            ],
            "type": "heatmap"
           }
          ],
          "histogram": [
           {
            "marker": {
             "pattern": {
              "fillmode": "overlay",
              "size": 10,
              "solidity": 0.2
             }
            },
            "type": "histogram"
           }
          ],
          "histogram2d": [
           {
            "colorbar": {
             "outlinewidth": 0,
             "ticks": ""
            },
            "colorscale": [
             [
              0,
              "#0d0887"
             ],
             [
              0.1111111111111111,
              "#46039f"
             ],
             [
              0.2222222222222222,
              "#7201a8"
             ],
             [
              0.3333333333333333,
              "#9c179e"
             ],
             [
              0.4444444444444444,
              "#bd3786"
             ],
             [
              0.5555555555555556,
              "#d8576b"
             ],
             [
              0.6666666666666666,
              "#ed7953"
             ],
             [
              0.7777777777777778,
              "#fb9f3a"
             ],
             [
              0.8888888888888888,
              "#fdca26"
             ],
             [
              1,
              "#f0f921"
             ]
            ],
            "type": "histogram2d"
           }
          ],
          "histogram2dcontour": [
           {
            "colorbar": {
             "outlinewidth": 0,
             "ticks": ""
            },
            "colorscale": [
             [
              0,
              "#0d0887"
             ],
             [
              0.1111111111111111,
              "#46039f"
             ],
             [
              0.2222222222222222,
              "#7201a8"
             ],
             [
              0.3333333333333333,
              "#9c179e"
             ],
             [
              0.4444444444444444,
              "#bd3786"
             ],
             [
              0.5555555555555556,
              "#d8576b"
             ],
             [
              0.6666666666666666,
              "#ed7953"
             ],
             [
              0.7777777777777778,
              "#fb9f3a"
             ],
             [
              0.8888888888888888,
              "#fdca26"
             ],
             [
              1,
              "#f0f921"
             ]
            ],
            "type": "histogram2dcontour"
           }
          ],
          "mesh3d": [
           {
            "colorbar": {
             "outlinewidth": 0,
             "ticks": ""
            },
            "type": "mesh3d"
           }
          ],
          "parcoords": [
           {
            "line": {
             "colorbar": {
              "outlinewidth": 0,
              "ticks": ""
             }
            },
            "type": "parcoords"
           }
          ],
          "pie": [
           {
            "automargin": true,
            "type": "pie"
           }
          ],
          "scatter": [
           {
            "fillpattern": {
             "fillmode": "overlay",
             "size": 10,
             "solidity": 0.2
            },
            "type": "scatter"
           }
          ],
          "scatter3d": [
           {
            "line": {
             "colorbar": {
              "outlinewidth": 0,
              "ticks": ""
             }
            },
            "marker": {
             "colorbar": {
              "outlinewidth": 0,
              "ticks": ""
             }
            },
            "type": "scatter3d"
           }
          ],
          "scattercarpet": [
           {
            "marker": {
             "colorbar": {
              "outlinewidth": 0,
              "ticks": ""
             }
            },
            "type": "scattercarpet"
           }
          ],
          "scattergeo": [
           {
            "marker": {
             "colorbar": {
              "outlinewidth": 0,
              "ticks": ""
             }
            },
            "type": "scattergeo"
           }
          ],
          "scattergl": [
           {
            "marker": {
             "colorbar": {
              "outlinewidth": 0,
              "ticks": ""
             }
            },
            "type": "scattergl"
           }
          ],
          "scattermap": [
           {
            "marker": {
             "colorbar": {
              "outlinewidth": 0,
              "ticks": ""
             }
            },
            "type": "scattermap"
           }
          ],
          "scattermapbox": [
           {
            "marker": {
             "colorbar": {
              "outlinewidth": 0,
              "ticks": ""
             }
            },
            "type": "scattermapbox"
           }
          ],
          "scatterpolar": [
           {
            "marker": {
             "colorbar": {
              "outlinewidth": 0,
              "ticks": ""
             }
            },
            "type": "scatterpolar"
           }
          ],
          "scatterpolargl": [
           {
            "marker": {
             "colorbar": {
              "outlinewidth": 0,
              "ticks": ""
             }
            },
            "type": "scatterpolargl"
           }
          ],
          "scatterternary": [
           {
            "marker": {
             "colorbar": {
              "outlinewidth": 0,
              "ticks": ""
             }
            },
            "type": "scatterternary"
           }
          ],
          "surface": [
           {
            "colorbar": {
             "outlinewidth": 0,
             "ticks": ""
            },
            "colorscale": [
             [
              0,
              "#0d0887"
             ],
             [
              0.1111111111111111,
              "#46039f"
             ],
             [
              0.2222222222222222,
              "#7201a8"
             ],
             [
              0.3333333333333333,
              "#9c179e"
             ],
             [
              0.4444444444444444,
              "#bd3786"
             ],
             [
              0.5555555555555556,
              "#d8576b"
             ],
             [
              0.6666666666666666,
              "#ed7953"
             ],
             [
              0.7777777777777778,
              "#fb9f3a"
             ],
             [
              0.8888888888888888,
              "#fdca26"
             ],
             [
              1,
              "#f0f921"
             ]
            ],
            "type": "surface"
           }
          ],
          "table": [
           {
            "cells": {
             "fill": {
              "color": "#EBF0F8"
             },
             "line": {
              "color": "white"
             }
            },
            "header": {
             "fill": {
              "color": "#C8D4E3"
             },
             "line": {
              "color": "white"
             }
            },
            "type": "table"
           }
          ]
         },
         "layout": {
          "annotationdefaults": {
           "arrowcolor": "#2a3f5f",
           "arrowhead": 0,
           "arrowwidth": 1
          },
          "autotypenumbers": "strict",
          "coloraxis": {
           "colorbar": {
            "outlinewidth": 0,
            "ticks": ""
           }
          },
          "colorscale": {
           "diverging": [
            [
             0,
             "#8e0152"
            ],
            [
             0.1,
             "#c51b7d"
            ],
            [
             0.2,
             "#de77ae"
            ],
            [
             0.3,
             "#f1b6da"
            ],
            [
             0.4,
             "#fde0ef"
            ],
            [
             0.5,
             "#f7f7f7"
            ],
            [
             0.6,
             "#e6f5d0"
            ],
            [
             0.7,
             "#b8e186"
            ],
            [
             0.8,
             "#7fbc41"
            ],
            [
             0.9,
             "#4d9221"
            ],
            [
             1,
             "#276419"
            ]
           ],
           "sequential": [
            [
             0,
             "#0d0887"
            ],
            [
             0.1111111111111111,
             "#46039f"
            ],
            [
             0.2222222222222222,
             "#7201a8"
            ],
            [
             0.3333333333333333,
             "#9c179e"
            ],
            [
             0.4444444444444444,
             "#bd3786"
            ],
            [
             0.5555555555555556,
             "#d8576b"
            ],
            [
             0.6666666666666666,
             "#ed7953"
            ],
            [
             0.7777777777777778,
             "#fb9f3a"
            ],
            [
             0.8888888888888888,
             "#fdca26"
            ],
            [
             1,
             "#f0f921"
            ]
           ],
           "sequentialminus": [
            [
             0,
             "#0d0887"
            ],
            [
             0.1111111111111111,
             "#46039f"
            ],
            [
             0.2222222222222222,
             "#7201a8"
            ],
            [
             0.3333333333333333,
             "#9c179e"
            ],
            [
             0.4444444444444444,
             "#bd3786"
            ],
            [
             0.5555555555555556,
             "#d8576b"
            ],
            [
             0.6666666666666666,
             "#ed7953"
            ],
            [
             0.7777777777777778,
             "#fb9f3a"
            ],
            [
             0.8888888888888888,
             "#fdca26"
            ],
            [
             1,
             "#f0f921"
            ]
           ]
          },
          "colorway": [
           "#636efa",
           "#EF553B",
           "#00cc96",
           "#ab63fa",
           "#FFA15A",
           "#19d3f3",
           "#FF6692",
           "#B6E880",
           "#FF97FF",
           "#FECB52"
          ],
          "font": {
           "color": "#2a3f5f"
          },
          "geo": {
           "bgcolor": "white",
           "lakecolor": "white",
           "landcolor": "#E5ECF6",
           "showlakes": true,
           "showland": true,
           "subunitcolor": "white"
          },
          "hoverlabel": {
           "align": "left"
          },
          "hovermode": "closest",
          "mapbox": {
           "style": "light"
          },
          "paper_bgcolor": "white",
          "plot_bgcolor": "#E5ECF6",
          "polar": {
           "angularaxis": {
            "gridcolor": "white",
            "linecolor": "white",
            "ticks": ""
           },
           "bgcolor": "#E5ECF6",
           "radialaxis": {
            "gridcolor": "white",
            "linecolor": "white",
            "ticks": ""
           }
          },
          "scene": {
           "xaxis": {
            "backgroundcolor": "#E5ECF6",
            "gridcolor": "white",
            "gridwidth": 2,
            "linecolor": "white",
            "showbackground": true,
            "ticks": "",
            "zerolinecolor": "white"
           },
           "yaxis": {
            "backgroundcolor": "#E5ECF6",
            "gridcolor": "white",
            "gridwidth": 2,
            "linecolor": "white",
            "showbackground": true,
            "ticks": "",
            "zerolinecolor": "white"
           },
           "zaxis": {
            "backgroundcolor": "#E5ECF6",
            "gridcolor": "white",
            "gridwidth": 2,
            "linecolor": "white",
            "showbackground": true,
            "ticks": "",
            "zerolinecolor": "white"
           }
          },
          "shapedefaults": {
           "line": {
            "color": "#2a3f5f"
           }
          },
          "ternary": {
           "aaxis": {
            "gridcolor": "white",
            "linecolor": "white",
            "ticks": ""
           },
           "baxis": {
            "gridcolor": "white",
            "linecolor": "white",
            "ticks": ""
           },
           "bgcolor": "#E5ECF6",
           "caxis": {
            "gridcolor": "white",
            "linecolor": "white",
            "ticks": ""
           }
          },
          "title": {
           "x": 0.05
          },
          "xaxis": {
           "automargin": true,
           "gridcolor": "white",
           "linecolor": "white",
           "ticks": "",
           "title": {
            "standoff": 15
           },
           "zerolinecolor": "white",
           "zerolinewidth": 2
          },
          "yaxis": {
           "automargin": true,
           "gridcolor": "white",
           "linecolor": "white",
           "ticks": "",
           "title": {
            "standoff": 15
           },
           "zerolinecolor": "white",
           "zerolinewidth": 2
          }
         }
        },
        "title": {
         "text": "Porcentaje de participación de insumos por categoría de producto"
        },
        "xaxis": {
         "anchor": "y",
         "domain": [
          0,
          1
         ],
         "title": {
          "text": "Categoría de Producto"
         }
        },
        "yaxis": {
         "anchor": "x",
         "domain": [
          0,
          1
         ],
         "title": {
          "text": "Categoría de Insumo"
         }
        }
       }
      }
     },
     "metadata": {},
     "output_type": "display_data"
    },
    {
     "data": {
      "application/vnd.plotly.v1+json": {
       "config": {
        "plotlyServerURL": "https://plot.ly"
       },
       "data": [
        {
         "branchvalues": "total",
         "customdata": [
          [
           "(?)"
          ],
          [
           "(?)"
          ],
          [
           "(?)"
          ],
          [
           "(?)"
          ],
          [
           "(?)"
          ],
          [
           "(?)"
          ],
          [
           "(?)"
          ],
          [
           "(?)"
          ],
          [
           "(?)"
          ],
          [
           "(?)"
          ],
          [
           "(?)"
          ],
          [
           "insumo"
          ],
          [
           "insumo"
          ],
          [
           "insumo"
          ],
          [
           "insumo"
          ],
          [
           "insumo"
          ],
          [
           "insumo"
          ],
          [
           "insumo"
          ],
          [
           "insumo"
          ],
          [
           "insumo"
          ],
          [
           "insumo"
          ],
          [
           "insumo"
          ],
          [
           "insumo"
          ],
          [
           "insumo"
          ],
          [
           "insumo"
          ],
          [
           "insumo"
          ],
          [
           "insumo"
          ],
          [
           "insumo"
          ],
          [
           "insumo"
          ],
          [
           "insumo"
          ],
          [
           "insumo"
          ],
          [
           "insumo"
          ],
          [
           "insumo"
          ],
          [
           "insumo"
          ],
          [
           "insumo"
          ],
          [
           "insumo"
          ],
          [
           "insumo"
          ],
          [
           "insumo"
          ],
          [
           "insumo"
          ],
          [
           "insumo"
          ],
          [
           "insumo"
          ],
          [
           "insumo"
          ],
          [
           "insumo"
          ],
          [
           "insumo"
          ],
          [
           "insumo"
          ],
          [
           "insumo"
          ],
          [
           "insumo"
          ],
          [
           "insumo"
          ],
          [
           "insumo"
          ],
          [
           "insumo"
          ],
          [
           "insumo"
          ],
          [
           "insumo"
          ],
          [
           "insumo"
          ],
          [
           "insumo"
          ],
          [
           "insumo"
          ],
          [
           "insumo"
          ],
          [
           "insumo"
          ],
          [
           "insumo"
          ],
          [
           "insumo"
          ],
          [
           "insumo"
          ],
          [
           "insumo"
          ],
          [
           "insumo"
          ],
          [
           "insumo"
          ],
          [
           "insumo"
          ],
          [
           "insumo"
          ],
          [
           "insumo"
          ],
          [
           "insumo"
          ],
          [
           "insumo"
          ],
          [
           "insumo"
          ],
          [
           "insumo"
          ],
          [
           "insumo"
          ],
          [
           "insumo"
          ],
          [
           "insumo"
          ],
          [
           "insumo"
          ],
          [
           "insumo"
          ],
          [
           "insumo"
          ],
          [
           "insumo"
          ],
          [
           "insumo"
          ],
          [
           "insumo"
          ],
          [
           "insumo"
          ],
          [
           "insumo"
          ],
          [
           "insumo"
          ],
          [
           "insumo"
          ],
          [
           "insumo"
          ],
          [
           "insumo"
          ],
          [
           "insumo"
          ],
          [
           "insumo"
          ],
          [
           "insumo"
          ],
          [
           "insumo"
          ],
          [
           "insumo"
          ],
          [
           "insumo"
          ],
          [
           "insumo"
          ],
          [
           "insumo"
          ],
          [
           "insumo"
          ],
          [
           "insumo"
          ],
          [
           "insumo"
          ],
          [
           "insumo"
          ],
          [
           "insumo"
          ],
          [
           "insumo"
          ],
          [
           "insumo"
          ],
          [
           "insumo"
          ],
          [
           "insumo"
          ],
          [
           "insumo"
          ],
          [
           "insumo"
          ],
          [
           "insumo"
          ],
          [
           "mat.prima"
          ],
          [
           "mat.prima"
          ],
          [
           "mat.prima"
          ],
          [
           "mat.prima"
          ],
          [
           "mat.prima"
          ],
          [
           "mat.prima"
          ],
          [
           "mat.prima"
          ],
          [
           "mat.prima"
          ],
          [
           "mat.prima"
          ],
          [
           "mat.prima"
          ],
          [
           "mat.prima"
          ],
          [
           "mat.prima"
          ],
          [
           "mat.prima"
          ],
          [
           "mat.prima"
          ],
          [
           "mat.prima"
          ],
          [
           "mat.prima"
          ],
          [
           "mat.prima"
          ],
          [
           "mat.prima"
          ],
          [
           "mat.prima"
          ],
          [
           "mat.prima"
          ],
          [
           "mat.prima"
          ],
          [
           "mat.prima"
          ],
          [
           "mat.prima"
          ],
          [
           "mat.prima"
          ],
          [
           "mat.prima"
          ],
          [
           "mat.prima"
          ],
          [
           "mat.prima"
          ],
          [
           "mat.prima"
          ],
          [
           "mat.prima"
          ],
          [
           "mat.prima"
          ],
          [
           "mat.prima"
          ],
          [
           "mat.prima"
          ],
          [
           "mat.prima"
          ],
          [
           "mat.prima"
          ],
          [
           "mat.prima"
          ],
          [
           "mat.prima"
          ],
          [
           "mat.prima"
          ],
          [
           "mat.prima"
          ],
          [
           "mat.prima"
          ],
          [
           "mat.prima"
          ],
          [
           "mat.prima"
          ],
          [
           "mat.prima"
          ],
          [
           "mat.prima"
          ],
          [
           "mat.prima"
          ],
          [
           "mat.prima"
          ],
          [
           "mat.prima"
          ],
          [
           "mat.prima"
          ],
          [
           "mat.prima"
          ],
          [
           "mat.prima"
          ],
          [
           "mat.prima"
          ],
          [
           "mat.prima"
          ],
          [
           "mat.prima"
          ],
          [
           "mat.prima"
          ],
          [
           "mat.prima"
          ],
          [
           "mat.prima"
          ],
          [
           "mat.prima"
          ],
          [
           "mat.prima"
          ],
          [
           "mat.prima"
          ],
          [
           "mat.prima"
          ],
          [
           "mat.prima"
          ],
          [
           "mat.prima"
          ],
          [
           "mat.prima"
          ],
          [
           "mat.prima"
          ],
          [
           "mat.prima"
          ],
          [
           "mat.prima"
          ],
          [
           "mat.prima"
          ],
          [
           "mat.prima"
          ],
          [
           "mat.prima"
          ],
          [
           "mat.prima"
          ],
          [
           "mat.prima"
          ],
          [
           "mat.prima"
          ],
          [
           "mat.prima"
          ],
          [
           "mat.prima"
          ],
          [
           "mat.prima"
          ],
          [
           "mat.prima"
          ],
          [
           "proceso producción"
          ],
          [
           "proceso producción"
          ],
          [
           "proceso producción"
          ],
          [
           "proceso producción"
          ],
          [
           "proceso producción"
          ],
          [
           "proceso producción"
          ],
          [
           "proceso producción"
          ],
          [
           "proceso producción"
          ],
          [
           "proceso producción"
          ],
          [
           "proceso producción"
          ],
          [
           "proceso producción"
          ],
          [
           "proceso producción"
          ],
          [
           "proceso producción"
          ],
          [
           "proceso producción"
          ],
          [
           "proceso producción"
          ],
          [
           "proceso producción"
          ],
          [
           "proceso producción"
          ],
          [
           "proceso producción"
          ],
          [
           "proceso producción"
          ],
          [
           "proceso producción"
          ],
          [
           "proceso producción"
          ],
          [
           "proceso producción"
          ],
          [
           "proceso producción"
          ],
          [
           "proceso producción"
          ],
          [
           "proceso producción"
          ],
          [
           "proceso producción"
          ],
          [
           "proceso producción"
          ],
          [
           "proceso producción"
          ],
          [
           "proceso producción"
          ],
          [
           "proceso producción"
          ],
          [
           "proceso producción"
          ],
          [
           "proceso producción"
          ],
          [
           "proceso producción"
          ],
          [
           "proceso producción"
          ],
          [
           "proceso producción"
          ],
          [
           "proceso producción"
          ],
          [
           "proceso producción"
          ],
          [
           "proceso producción"
          ],
          [
           "proceso producción"
          ],
          [
           "proceso producción"
          ],
          [
           "proceso producción"
          ],
          [
           "proceso producción"
          ],
          [
           "proceso producción"
          ],
          [
           "proceso producción"
          ],
          [
           "proceso producción"
          ],
          [
           "proceso producción"
          ],
          [
           "proceso producción"
          ],
          [
           "proceso producción"
          ],
          [
           "proceso producción"
          ],
          [
           "proceso producción"
          ],
          [
           "proceso producción"
          ]
         ],
         "domain": {
          "x": [
           0,
           1
          ],
          "y": [
           0,
           1
          ]
         },
         "hovertemplate": "<b>%{label}</b><br>Costo: %{value:,.0f}<br>% del padre: %{percentParent:.2%}<br>% del total: %{percentRoot:.2%}<extra></extra>",
         "ids": [
          "buzo",
          "gorra",
          "camiseta",
          "accesorios",
          "chaquetas",
          "overol",
          "delantal",
          "pantalones",
          "bata",
          "sacos",
          "camisa",
          "gorra/insumo/boe0028 boton estandar",
          "camiseta/insumo/crn0005-cremallera nylon ykk 80cm",
          "camiseta/insumo/gua0026-guata acolchada 100",
          "camiseta/insumo/gup0041-guata prensada 100",
          "camiseta/insumo/crn0001-cremallera nylon yes 80cm",
          "camiseta/insumo/cir0023-cinta reflectiva 1 pulg",
          "camiseta/insumo/ves0022-velcro separable 2,5 cm",
          "camiseta/insumo/crn0002-cremallera nylon yes 20cm",
          "camiseta/insumo/cir0024-cinta reflectiva 2 pulg",
          "camisa/insumo/crn0003-cremallera nylon eka 80cm",
          "camisa/insumo/hic0021-hilo caucho grueso",
          "camisa/insumo/ojm0037-ojalete metalico",
          "chaquetas/insumo/mat0055 man0054",
          "camiseta/insumo/crn0003-cremallera nylon eka 80cm",
          "bata/insumo/ves0022-velcro separable 2,5 cm",
          "camisa/insumo/emc0033-embone color",
          "camiseta/insumo/brp0031 broche plastico",
          "camisa/insumo/man0054 marquilla nylon instrucciones de lavado",
          "chaquetas/insumo/fleece",
          "chaquetas/insumo/gup0042-guata prensada 200",
          "gorra/insumo/man0054 marquilla nylon instrucciones de lavado",
          "chaquetas/insumo/ojm0037-ojalete metalico",
          "accesorios/insumo/rep0050 reata poliester",
          "camisa/insumo/rec0017-resorte caucho 3 cm",
          "camiseta/insumo/rec0017-resorte caucho 3 cm",
          "camiseta/insumo/mat0055 man0054",
          "pantalones/insumo/cir0023-cinta reflectiva 1 pulg",
          "chaquetas/insumo/hic0021-hilo caucho grueso",
          "chaquetas/insumo/crn0003-cremallera nylon eka 80cm",
          "camiseta/insumo/cup0036-cuellos puños",
          "buzo/insumo/cot0040-cordon tejido circular",
          "buzo/insumo/mat0055 man0054",
          "buzo/insumo/man0054 marquilla nylon instrucciones de lavado",
          "pantalones/insumo/mat0055 man0054",
          "camiseta/insumo/polo manga corta",
          "accesorios/insumo/gua0026-guata acolchada 100",
          "accesorios/insumo/crn0005-cremallera nylon ykk 80cm",
          "accesorios/insumo/cir0024-cinta reflectiva 2 pulg",
          "chaquetas/insumo/ves0022-velcro separable 2,5 cm",
          "chaquetas/insumo/crn0001-cremallera nylon yes 80cm",
          "chaquetas/insumo/gup0041-guata prensada 100",
          "accesorios/insumo/brp0031 broche plastico",
          "pantalones/insumo/rec0017-resorte caucho 3 cm",
          "pantalones/insumo/brp0031 broche plastico",
          "pantalones/insumo/crn0005-cremallera nylon ykk 80cm",
          "pantalones/insumo/gua0026-guata acolchada 100",
          "accesorios/insumo/rec0017-resorte caucho 3 cm",
          "buzo/insumo/slc0016-slider cremallera",
          "pantalones/insumo/cir0024-cinta reflectiva 2 pulg",
          "chaquetas/insumo/boe0028 boton estandar",
          "chaquetas/insumo/emc0033-embone color",
          "pantalones/insumo/emc0033-embone color",
          "buzo/insumo/crm0015-cremallera metros",
          "gorra/insumo/emc0033-embone color",
          "accesorios/insumo/man0054 marquilla nylon instrucciones de lavado",
          "accesorios/insumo/hem0049 hebilla metalica",
          "buzo/insumo",
          "accesorios/insumo/boe0028 boton estandar",
          "accesorios/insumo/crn0002-cremallera nylon yes 20cm",
          "delantal/insumo",
          "chaquetas/insumo/gua0026-guata acolchada 100",
          "overol/insumo/man0054 marquilla nylon instrucciones de lavado",
          "gorra/insumo",
          "chaquetas/insumo/crn0005-cremallera nylon ykk 80cm",
          "overol/insumo/boe0028 boton estandar",
          "chaquetas/insumo/cir0024-cinta reflectiva 2 pulg",
          "overol/insumo/cir0024-cinta reflectiva 2 pulg",
          "overol/insumo/rec0017-resorte caucho 3 cm",
          "overol/insumo/slc0016-slider cremallera",
          "overol/insumo/crm0015-cremallera metros",
          "camisa/insumo",
          "chaquetas/insumo/brp0031 broche plastico",
          "chaquetas/insumo/rec0017-resorte caucho 3 cm",
          "chaquetas/insumo/man0054 marquilla nylon instrucciones de lavado",
          "accesorios/insumo/reata",
          "accesorios/insumo/cir0025-cinta reflectiva bicolor 2 pulg",
          "bata/insumo",
          "gorra/insumo/mat0055 man0054",
          "pantalones/insumo/man0054 marquilla nylon instrucciones de lavado",
          "delantal/insumo/man0054 marquilla nylon instrucciones de lavado",
          "pantalones/insumo/cir0025-cinta reflectiva bicolor 2 pulg",
          "overol/insumo",
          "camiseta/insumo",
          "camiseta/insumo/man0054 marquilla nylon instrucciones de lavado",
          "accesorios/insumo",
          "pantalones/insumo/crn0002-cremallera nylon yes 20cm",
          "camiseta/insumo/hia0052 - hiladillo algodon 1cm",
          "camiseta/insumo/emc0033-embone color",
          "camisa/insumo/boe0028 boton estandar",
          "camiseta/insumo/boe0028 boton estandar",
          "camisa/insumo/mat0055 man0054",
          "chaquetas/insumo",
          "pantalones/insumo/boe0028 boton estandar",
          "pantalones/insumo",
          "accesorios/mat.prima/tny0063 nylon",
          "sacos/mat.prima",
          "buzo/mat.prima",
          "accesorios/mat.prima/tbo0051 boston",
          "camiseta/mat.prima/tpi0164-pique licrado",
          "pantalones/mat.prima/tri0147-rib exito",
          "camiseta/mat.prima/tri0147-rib exito",
          "accesorios/mat.prima/tfl0087-fleece",
          "pantalones/mat.prima",
          "buzo/mat.prima/tmi0045-microtitan",
          "gorra/mat.prima",
          "camiseta/mat.prima/tpo0016-polux",
          "camiseta/mat.prima",
          "camisa/mat.prima/tdr0078-dril vulcano",
          "camisa/mat.prima/tar0081 aranza",
          "camiseta/mat.prima/tox0055-oxford monterrey",
          "chaquetas/mat.prima",
          "chaquetas/mat.prima/tox0055-oxford monterrey",
          "overol/mat.prima",
          "camisa/mat.prima/tap0034 tanca puntera",
          "camisa/mat.prima/tma0068-malla pull",
          "camisa/mat.prima/tor0033-orion clororesistent",
          "accesorios/mat.prima",
          "delantal/mat.prima",
          "camiseta/mat.prima/tvi0069-vioto",
          "camiseta/mat.prima/tle0185-lenovoflex  elit",
          "camiseta/mat.prima/tor0033-orion clororesistent",
          "camiseta/mat.prima/tdr0078-dril vulcano",
          "accesorios/mat.prima/tsh0245 shelsey plus sec",
          "bata/mat.prima",
          "camisa/mat.prima",
          "pantalones/mat.prima/tdr0078-dril vulcano",
          "camiseta/mat.prima/tdr0077 dril raza",
          "sacos/mat.prima/tse0072 sevilla",
          "bata/mat.prima/tlo0137-lona reebag",
          "bata/mat.prima/tda0065-dacron",
          "chaquetas/mat.prima/tny0063 nylon",
          "chaquetas/mat.prima/tor0033-orion clororesistent",
          "gorra/mat.prima/tox0055-oxford monterrey",
          "camisa/mat.prima/tdr0077 dril raza",
          "gorra/mat.prima/tar0081 aranza",
          "camisa/mat.prima/tox0055-oxford monterrey",
          "pantalones/mat.prima/tle0185-lenovoflex  elit",
          "sacos/mat.prima/tri0147-rib exito",
          "delantal/mat.prima/tdr0078-dril vulcano",
          "gorra/mat.prima/tdr0078-dril vulcano",
          "accesorios/mat.prima/tje0128-jersey boss oscuro",
          "accesorios/mat.prima/tte0048-tela bolsillo",
          "accesorios/mat.prima/tdr0078-dril vulcano",
          "overol/mat.prima/tdr0077 dril raza",
          "chaquetas/mat.prima/tma0075-malla forro",
          "chaquetas/mat.prima/tbo0051 boston",
          "camiseta/mat.prima/tar0081 aranza",
          "gorra/mat.prima/tdr0077 dril raza",
          "pantalones/mat.prima/tte0048-tela bolsillo",
          "accesorios/mat.prima/tlo0211 lona custodios",
          "sacos/mat.prima/tmo0079 monaco",
          "chaquetas/mat.prima/tvi0069-vioto",
          "buzo/mat.prima/tju0208 jupiter",
          "pantalones/mat.prima/tny0063 nylon",
          "pantalones/mat.prima/tar0081 aranza",
          "chaquetas/mat.prima/tfl0087-fleece",
          "pantalones/mat.prima/tin0138-indigo 12 onz",
          "chaquetas/mat.prima/tar0081 aranza",
          "camiseta/mat.prima/tfl0087-fleece",
          "camiseta/mat.prima/tin0138-indigo 12 onz",
          "pantalones/mat.prima/tje0128-jersey boss oscuro",
          "chaquetas/mat.prima/tma0068-malla pull",
          "pantalones/mat.prima/tbo0051 boston",
          "camiseta/mat.prima/tbo0051 boston",
          "camiseta/mat.prima/tje0128-jersey boss oscuro",
          "chaquetas/mat.prima/tap0034 tanca puntera",
          "camisa/mat.prima/tox0099-oxford tejeprocesos",
          "camisa/mat.prima/tan0140-antifluido textilia",
          "camiseta/mat.prima/tte0048-tela bolsillo",
          "bata/proceso producción",
          "chaquetas/proceso producción/bordado",
          "sacos/proceso producción/estampado",
          "camisa/proceso producción",
          "overol/proceso producción/bordado",
          "overol/proceso producción/estampado",
          "chaquetas/proceso producción/confección",
          "buzo/proceso producción/bordado",
          "buzo/proceso producción",
          "servicios/proceso producción",
          "buzo/proceso producción/confección",
          "overol/proceso producción/confección",
          "accesorios/proceso producción/confección",
          "accesorios/proceso producción/bordado",
          "accesorios/proceso producción/paquete completo sin marca",
          "camiseta/proceso producción/confección",
          "camiseta/proceso producción/bordado",
          "gorra/proceso producción/bordado",
          "gorra/proceso producción/confección",
          "gorra/proceso producción/estampado",
          "pantalones/proceso producción/confección",
          "sacos/proceso producción",
          "gorra/proceso producción/paquete completo sin marca",
          "camiseta/proceso producción/estampado",
          "servicios/proceso producción/bordado",
          "sacos/proceso producción/bordado",
          "sacos/proceso producción/confección",
          "camiseta/proceso producción/prelavado",
          "camiseta/proceso producción/corte y confeccion",
          "bata/proceso producción/confección",
          "chaquetas/proceso producción/corte y confeccion",
          "bata/proceso producción/bordado",
          "chaquetas/proceso producción/estampado",
          "pantalones/proceso producción/prelavado",
          "delantal/proceso producción/confección",
          "pantalones/proceso producción/estampado",
          "delantal/proceso producción",
          "camisa/proceso producción/confección",
          "servicios/proceso producción/estampado",
          "pantalones/proceso producción/bordado",
          "pantalones/proceso producción",
          "gorra/proceso producción",
          "delantal/proceso producción/estampado",
          "camiseta/proceso producción",
          "accesorios/proceso producción",
          "delantal/proceso producción/corte y confeccion",
          "servicios",
          "chaquetas/proceso producción",
          "overol/proceso producción",
          "camisa/proceso producción/bordado",
          "camisa/proceso producción/estampado"
         ],
         "labels": [
          "buzo",
          "gorra",
          "camiseta",
          "accesorios",
          "chaquetas",
          "overol",
          "delantal",
          "pantalones",
          "bata",
          "sacos",
          "camisa",
          "boe0028 boton estandar",
          "crn0005-cremallera nylon ykk 80cm",
          "gua0026-guata acolchada 100",
          "gup0041-guata prensada 100",
          "crn0001-cremallera nylon yes 80cm",
          "cir0023-cinta reflectiva 1 pulg",
          "ves0022-velcro separable 2,5 cm",
          "crn0002-cremallera nylon yes 20cm",
          "cir0024-cinta reflectiva 2 pulg",
          "crn0003-cremallera nylon eka 80cm",
          "hic0021-hilo caucho grueso",
          "ojm0037-ojalete metalico",
          "mat0055 man0054",
          "crn0003-cremallera nylon eka 80cm",
          "ves0022-velcro separable 2,5 cm",
          "emc0033-embone color",
          "brp0031 broche plastico",
          "man0054 marquilla nylon instrucciones de lavado",
          "fleece",
          "gup0042-guata prensada 200",
          "man0054 marquilla nylon instrucciones de lavado",
          "ojm0037-ojalete metalico",
          "rep0050 reata poliester",
          "rec0017-resorte caucho 3 cm",
          "rec0017-resorte caucho 3 cm",
          "mat0055 man0054",
          "cir0023-cinta reflectiva 1 pulg",
          "hic0021-hilo caucho grueso",
          "crn0003-cremallera nylon eka 80cm",
          "cup0036-cuellos puños",
          "cot0040-cordon tejido circular",
          "mat0055 man0054",
          "man0054 marquilla nylon instrucciones de lavado",
          "mat0055 man0054",
          "polo manga corta",
          "gua0026-guata acolchada 100",
          "crn0005-cremallera nylon ykk 80cm",
          "cir0024-cinta reflectiva 2 pulg",
          "ves0022-velcro separable 2,5 cm",
          "crn0001-cremallera nylon yes 80cm",
          "gup0041-guata prensada 100",
          "brp0031 broche plastico",
          "rec0017-resorte caucho 3 cm",
          "brp0031 broche plastico",
          "crn0005-cremallera nylon ykk 80cm",
          "gua0026-guata acolchada 100",
          "rec0017-resorte caucho 3 cm",
          "slc0016-slider cremallera",
          "cir0024-cinta reflectiva 2 pulg",
          "boe0028 boton estandar",
          "emc0033-embone color",
          "emc0033-embone color",
          "crm0015-cremallera metros",
          "emc0033-embone color",
          "man0054 marquilla nylon instrucciones de lavado",
          "hem0049 hebilla metalica",
          "insumo",
          "boe0028 boton estandar",
          "crn0002-cremallera nylon yes 20cm",
          "insumo",
          "gua0026-guata acolchada 100",
          "man0054 marquilla nylon instrucciones de lavado",
          "insumo",
          "crn0005-cremallera nylon ykk 80cm",
          "boe0028 boton estandar",
          "cir0024-cinta reflectiva 2 pulg",
          "cir0024-cinta reflectiva 2 pulg",
          "rec0017-resorte caucho 3 cm",
          "slc0016-slider cremallera",
          "crm0015-cremallera metros",
          "insumo",
          "brp0031 broche plastico",
          "rec0017-resorte caucho 3 cm",
          "man0054 marquilla nylon instrucciones de lavado",
          "reata",
          "cir0025-cinta reflectiva bicolor 2 pulg",
          "insumo",
          "mat0055 man0054",
          "man0054 marquilla nylon instrucciones de lavado",
          "man0054 marquilla nylon instrucciones de lavado",
          "cir0025-cinta reflectiva bicolor 2 pulg",
          "insumo",
          "insumo",
          "man0054 marquilla nylon instrucciones de lavado",
          "insumo",
          "crn0002-cremallera nylon yes 20cm",
          "hia0052 - hiladillo algodon 1cm",
          "emc0033-embone color",
          "boe0028 boton estandar",
          "boe0028 boton estandar",
          "mat0055 man0054",
          "insumo",
          "boe0028 boton estandar",
          "insumo",
          "tny0063 nylon",
          "mat.prima",
          "mat.prima",
          "tbo0051 boston",
          "tpi0164-pique licrado",
          "tri0147-rib exito",
          "tri0147-rib exito",
          "tfl0087-fleece",
          "mat.prima",
          "tmi0045-microtitan",
          "mat.prima",
          "tpo0016-polux",
          "mat.prima",
          "tdr0078-dril vulcano",
          "tar0081 aranza",
          "tox0055-oxford monterrey",
          "mat.prima",
          "tox0055-oxford monterrey",
          "mat.prima",
          "tap0034 tanca puntera",
          "tma0068-malla pull",
          "tor0033-orion clororesistent",
          "mat.prima",
          "mat.prima",
          "tvi0069-vioto",
          "tle0185-lenovoflex  elit",
          "tor0033-orion clororesistent",
          "tdr0078-dril vulcano",
          "tsh0245 shelsey plus sec",
          "mat.prima",
          "mat.prima",
          "tdr0078-dril vulcano",
          "tdr0077 dril raza",
          "tse0072 sevilla",
          "tlo0137-lona reebag",
          "tda0065-dacron",
          "tny0063 nylon",
          "tor0033-orion clororesistent",
          "tox0055-oxford monterrey",
          "tdr0077 dril raza",
          "tar0081 aranza",
          "tox0055-oxford monterrey",
          "tle0185-lenovoflex  elit",
          "tri0147-rib exito",
          "tdr0078-dril vulcano",
          "tdr0078-dril vulcano",
          "tje0128-jersey boss oscuro",
          "tte0048-tela bolsillo",
          "tdr0078-dril vulcano",
          "tdr0077 dril raza",
          "tma0075-malla forro",
          "tbo0051 boston",
          "tar0081 aranza",
          "tdr0077 dril raza",
          "tte0048-tela bolsillo",
          "tlo0211 lona custodios",
          "tmo0079 monaco",
          "tvi0069-vioto",
          "tju0208 jupiter",
          "tny0063 nylon",
          "tar0081 aranza",
          "tfl0087-fleece",
          "tin0138-indigo 12 onz",
          "tar0081 aranza",
          "tfl0087-fleece",
          "tin0138-indigo 12 onz",
          "tje0128-jersey boss oscuro",
          "tma0068-malla pull",
          "tbo0051 boston",
          "tbo0051 boston",
          "tje0128-jersey boss oscuro",
          "tap0034 tanca puntera",
          "tox0099-oxford tejeprocesos",
          "tan0140-antifluido textilia",
          "tte0048-tela bolsillo",
          "proceso producción",
          "bordado",
          "estampado",
          "proceso producción",
          "bordado",
          "estampado",
          "confección",
          "bordado",
          "proceso producción",
          "proceso producción",
          "confección",
          "confección",
          "confección",
          "bordado",
          "paquete completo sin marca",
          "confección",
          "bordado",
          "bordado",
          "confección",
          "estampado",
          "confección",
          "proceso producción",
          "paquete completo sin marca",
          "estampado",
          "bordado",
          "bordado",
          "confección",
          "prelavado",
          "corte y confeccion",
          "confección",
          "corte y confeccion",
          "bordado",
          "estampado",
          "prelavado",
          "confección",
          "estampado",
          "proceso producción",
          "confección",
          "estampado",
          "bordado",
          "proceso producción",
          "proceso producción",
          "estampado",
          "proceso producción",
          "proceso producción",
          "corte y confeccion",
          "servicios",
          "proceso producción",
          "proceso producción",
          "bordado",
          "estampado"
         ],
         "marker": {
          "colors": [
           "#636efa",
           "#636efa",
           "#636efa",
           "#636efa",
           "#636efa",
           "#636efa",
           "#636efa",
           "#636efa",
           "#636efa",
           "#636efa",
           "#636efa",
           "#EF553B",
           "#EF553B",
           "#EF553B",
           "#EF553B",
           "#EF553B",
           "#EF553B",
           "#EF553B",
           "#EF553B",
           "#EF553B",
           "#EF553B",
           "#EF553B",
           "#EF553B",
           "#EF553B",
           "#EF553B",
           "#EF553B",
           "#EF553B",
           "#EF553B",
           "#EF553B",
           "#EF553B",
           "#EF553B",
           "#EF553B",
           "#EF553B",
           "#EF553B",
           "#EF553B",
           "#EF553B",
           "#EF553B",
           "#EF553B",
           "#EF553B",
           "#EF553B",
           "#EF553B",
           "#EF553B",
           "#EF553B",
           "#EF553B",
           "#EF553B",
           "#EF553B",
           "#EF553B",
           "#EF553B",
           "#EF553B",
           "#EF553B",
           "#EF553B",
           "#EF553B",
           "#EF553B",
           "#EF553B",
           "#EF553B",
           "#EF553B",
           "#EF553B",
           "#EF553B",
           "#EF553B",
           "#EF553B",
           "#EF553B",
           "#EF553B",
           "#EF553B",
           "#EF553B",
           "#EF553B",
           "#EF553B",
           "#EF553B",
           "#EF553B",
           "#EF553B",
           "#EF553B",
           "#EF553B",
           "#EF553B",
           "#EF553B",
           "#EF553B",
           "#EF553B",
           "#EF553B",
           "#EF553B",
           "#EF553B",
           "#EF553B",
           "#EF553B",
           "#EF553B",
           "#EF553B",
           "#EF553B",
           "#EF553B",
           "#EF553B",
           "#EF553B",
           "#EF553B",
           "#EF553B",
           "#EF553B",
           "#EF553B",
           "#EF553B",
           "#EF553B",
           "#EF553B",
           "#EF553B",
           "#EF553B",
           "#EF553B",
           "#EF553B",
           "#EF553B",
           "#EF553B",
           "#EF553B",
           "#EF553B",
           "#EF553B",
           "#EF553B",
           "#EF553B",
           "#EF553B",
           "#00cc96",
           "#00cc96",
           "#00cc96",
           "#00cc96",
           "#00cc96",
           "#00cc96",
           "#00cc96",
           "#00cc96",
           "#00cc96",
           "#00cc96",
           "#00cc96",
           "#00cc96",
           "#00cc96",
           "#00cc96",
           "#00cc96",
           "#00cc96",
           "#00cc96",
           "#00cc96",
           "#00cc96",
           "#00cc96",
           "#00cc96",
           "#00cc96",
           "#00cc96",
           "#00cc96",
           "#00cc96",
           "#00cc96",
           "#00cc96",
           "#00cc96",
           "#00cc96",
           "#00cc96",
           "#00cc96",
           "#00cc96",
           "#00cc96",
           "#00cc96",
           "#00cc96",
           "#00cc96",
           "#00cc96",
           "#00cc96",
           "#00cc96",
           "#00cc96",
           "#00cc96",
           "#00cc96",
           "#00cc96",
           "#00cc96",
           "#00cc96",
           "#00cc96",
           "#00cc96",
           "#00cc96",
           "#00cc96",
           "#00cc96",
           "#00cc96",
           "#00cc96",
           "#00cc96",
           "#00cc96",
           "#00cc96",
           "#00cc96",
           "#00cc96",
           "#00cc96",
           "#00cc96",
           "#00cc96",
           "#00cc96",
           "#00cc96",
           "#00cc96",
           "#00cc96",
           "#00cc96",
           "#00cc96",
           "#00cc96",
           "#00cc96",
           "#00cc96",
           "#00cc96",
           "#00cc96",
           "#00cc96",
           "#00cc96",
           "#00cc96",
           "#00cc96",
           "#ab63fa",
           "#ab63fa",
           "#ab63fa",
           "#ab63fa",
           "#ab63fa",
           "#ab63fa",
           "#ab63fa",
           "#ab63fa",
           "#ab63fa",
           "#ab63fa",
           "#ab63fa",
           "#ab63fa",
           "#ab63fa",
           "#ab63fa",
           "#ab63fa",
           "#ab63fa",
           "#ab63fa",
           "#ab63fa",
           "#ab63fa",
           "#ab63fa",
           "#ab63fa",
           "#ab63fa",
           "#ab63fa",
           "#ab63fa",
           "#ab63fa",
           "#ab63fa",
           "#ab63fa",
           "#ab63fa",
           "#ab63fa",
           "#ab63fa",
           "#ab63fa",
           "#ab63fa",
           "#ab63fa",
           "#ab63fa",
           "#ab63fa",
           "#ab63fa",
           "#ab63fa",
           "#ab63fa",
           "#ab63fa",
           "#ab63fa",
           "#ab63fa",
           "#ab63fa",
           "#ab63fa",
           "#ab63fa",
           "#ab63fa",
           "#ab63fa",
           "#ab63fa",
           "#ab63fa",
           "#ab63fa",
           "#ab63fa",
           "#ab63fa"
          ]
         },
         "name": "",
         "parents": [
          "",
          "",
          "",
          "",
          "",
          "",
          "",
          "",
          "",
          "",
          "",
          "gorra/insumo",
          "camiseta/insumo",
          "camiseta/insumo",
          "camiseta/insumo",
          "camiseta/insumo",
          "camiseta/insumo",
          "camiseta/insumo",
          "camiseta/insumo",
          "camiseta/insumo",
          "camisa/insumo",
          "camisa/insumo",
          "camisa/insumo",
          "chaquetas/insumo",
          "camiseta/insumo",
          "bata/insumo",
          "camisa/insumo",
          "camiseta/insumo",
          "camisa/insumo",
          "chaquetas/insumo",
          "chaquetas/insumo",
          "gorra/insumo",
          "chaquetas/insumo",
          "accesorios/insumo",
          "camisa/insumo",
          "camiseta/insumo",
          "camiseta/insumo",
          "pantalones/insumo",
          "chaquetas/insumo",
          "chaquetas/insumo",
          "camiseta/insumo",
          "buzo/insumo",
          "buzo/insumo",
          "buzo/insumo",
          "pantalones/insumo",
          "camiseta/insumo",
          "accesorios/insumo",
          "accesorios/insumo",
          "accesorios/insumo",
          "chaquetas/insumo",
          "chaquetas/insumo",
          "chaquetas/insumo",
          "accesorios/insumo",
          "pantalones/insumo",
          "pantalones/insumo",
          "pantalones/insumo",
          "pantalones/insumo",
          "accesorios/insumo",
          "buzo/insumo",
          "pantalones/insumo",
          "chaquetas/insumo",
          "chaquetas/insumo",
          "pantalones/insumo",
          "buzo/insumo",
          "gorra/insumo",
          "accesorios/insumo",
          "accesorios/insumo",
          "buzo",
          "accesorios/insumo",
          "accesorios/insumo",
          "delantal",
          "chaquetas/insumo",
          "overol/insumo",
          "gorra",
          "chaquetas/insumo",
          "overol/insumo",
          "chaquetas/insumo",
          "overol/insumo",
          "overol/insumo",
          "overol/insumo",
          "overol/insumo",
          "camisa",
          "chaquetas/insumo",
          "chaquetas/insumo",
          "chaquetas/insumo",
          "accesorios/insumo",
          "accesorios/insumo",
          "bata",
          "gorra/insumo",
          "pantalones/insumo",
          "delantal/insumo",
          "pantalones/insumo",
          "overol",
          "camiseta",
          "camiseta/insumo",
          "accesorios",
          "pantalones/insumo",
          "camiseta/insumo",
          "camiseta/insumo",
          "camisa/insumo",
          "camiseta/insumo",
          "camisa/insumo",
          "chaquetas",
          "pantalones/insumo",
          "pantalones",
          "accesorios/mat.prima",
          "sacos",
          "buzo",
          "accesorios/mat.prima",
          "camiseta/mat.prima",
          "pantalones/mat.prima",
          "camiseta/mat.prima",
          "accesorios/mat.prima",
          "pantalones",
          "buzo/mat.prima",
          "gorra",
          "camiseta/mat.prima",
          "camiseta",
          "camisa/mat.prima",
          "camisa/mat.prima",
          "camiseta/mat.prima",
          "chaquetas",
          "chaquetas/mat.prima",
          "overol",
          "camisa/mat.prima",
          "camisa/mat.prima",
          "camisa/mat.prima",
          "accesorios",
          "delantal",
          "camiseta/mat.prima",
          "camiseta/mat.prima",
          "camiseta/mat.prima",
          "camiseta/mat.prima",
          "accesorios/mat.prima",
          "bata",
          "camisa",
          "pantalones/mat.prima",
          "camiseta/mat.prima",
          "sacos/mat.prima",
          "bata/mat.prima",
          "bata/mat.prima",
          "chaquetas/mat.prima",
          "chaquetas/mat.prima",
          "gorra/mat.prima",
          "camisa/mat.prima",
          "gorra/mat.prima",
          "camisa/mat.prima",
          "pantalones/mat.prima",
          "sacos/mat.prima",
          "delantal/mat.prima",
          "gorra/mat.prima",
          "accesorios/mat.prima",
          "accesorios/mat.prima",
          "accesorios/mat.prima",
          "overol/mat.prima",
          "chaquetas/mat.prima",
          "chaquetas/mat.prima",
          "camiseta/mat.prima",
          "gorra/mat.prima",
          "pantalones/mat.prima",
          "accesorios/mat.prima",
          "sacos/mat.prima",
          "chaquetas/mat.prima",
          "buzo/mat.prima",
          "pantalones/mat.prima",
          "pantalones/mat.prima",
          "chaquetas/mat.prima",
          "pantalones/mat.prima",
          "chaquetas/mat.prima",
          "camiseta/mat.prima",
          "camiseta/mat.prima",
          "pantalones/mat.prima",
          "chaquetas/mat.prima",
          "pantalones/mat.prima",
          "camiseta/mat.prima",
          "camiseta/mat.prima",
          "chaquetas/mat.prima",
          "camisa/mat.prima",
          "camisa/mat.prima",
          "camiseta/mat.prima",
          "bata",
          "chaquetas/proceso producción",
          "sacos/proceso producción",
          "camisa",
          "overol/proceso producción",
          "overol/proceso producción",
          "chaquetas/proceso producción",
          "buzo/proceso producción",
          "buzo",
          "servicios",
          "buzo/proceso producción",
          "overol/proceso producción",
          "accesorios/proceso producción",
          "accesorios/proceso producción",
          "accesorios/proceso producción",
          "camiseta/proceso producción",
          "camiseta/proceso producción",
          "gorra/proceso producción",
          "gorra/proceso producción",
          "gorra/proceso producción",
          "pantalones/proceso producción",
          "sacos",
          "gorra/proceso producción",
          "camiseta/proceso producción",
          "servicios/proceso producción",
          "sacos/proceso producción",
          "sacos/proceso producción",
          "camiseta/proceso producción",
          "camiseta/proceso producción",
          "bata/proceso producción",
          "chaquetas/proceso producción",
          "bata/proceso producción",
          "chaquetas/proceso producción",
          "pantalones/proceso producción",
          "delantal/proceso producción",
          "pantalones/proceso producción",
          "delantal",
          "camisa/proceso producción",
          "servicios/proceso producción",
          "pantalones/proceso producción",
          "pantalones",
          "gorra",
          "delantal/proceso producción",
          "camiseta",
          "accesorios",
          "delantal/proceso producción",
          "",
          "chaquetas",
          "overol",
          "camisa/proceso producción",
          "camisa/proceso producción"
         ],
         "root": {
          "color": "lightgrey"
         },
         "type": "treemap",
         "values": {
          "bdata": "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",
          "dtype": "f8"
         }
        }
       ],
       "layout": {
        "legend": {
         "tracegroupgap": 0
        },
        "margin": {
         "b": 0,
         "l": 0,
         "r": 0,
         "t": 40
        },
        "template": {
         "data": {
          "bar": [
           {
            "error_x": {
             "color": "#2a3f5f"
            },
            "error_y": {
             "color": "#2a3f5f"
            },
            "marker": {
             "line": {
              "color": "#E5ECF6",
              "width": 0.5
             },
             "pattern": {
              "fillmode": "overlay",
              "size": 10,
              "solidity": 0.2
             }
            },
            "type": "bar"
           }
          ],
          "barpolar": [
           {
            "marker": {
             "line": {
              "color": "#E5ECF6",
              "width": 0.5
             },
             "pattern": {
              "fillmode": "overlay",
              "size": 10,
              "solidity": 0.2
             }
            },
            "type": "barpolar"
           }
          ],
          "carpet": [
           {
            "aaxis": {
             "endlinecolor": "#2a3f5f",
             "gridcolor": "white",
             "linecolor": "white",
             "minorgridcolor": "white",
             "startlinecolor": "#2a3f5f"
            },
            "baxis": {
             "endlinecolor": "#2a3f5f",
             "gridcolor": "white",
             "linecolor": "white",
             "minorgridcolor": "white",
             "startlinecolor": "#2a3f5f"
            },
            "type": "carpet"
           }
          ],
          "choropleth": [
           {
            "colorbar": {
             "outlinewidth": 0,
             "ticks": ""
            },
            "type": "choropleth"
           }
          ],
          "contour": [
           {
            "colorbar": {
             "outlinewidth": 0,
             "ticks": ""
            },
            "colorscale": [
             [
              0,
              "#0d0887"
             ],
             [
              0.1111111111111111,
              "#46039f"
             ],
             [
              0.2222222222222222,
              "#7201a8"
             ],
             [
              0.3333333333333333,
              "#9c179e"
             ],
             [
              0.4444444444444444,
              "#bd3786"
             ],
             [
              0.5555555555555556,
              "#d8576b"
             ],
             [
              0.6666666666666666,
              "#ed7953"
             ],
             [
              0.7777777777777778,
              "#fb9f3a"
             ],
             [
              0.8888888888888888,
              "#fdca26"
             ],
             [
              1,
              "#f0f921"
             ]
            ],
            "type": "contour"
           }
          ],
          "contourcarpet": [
           {
            "colorbar": {
             "outlinewidth": 0,
             "ticks": ""
            },
            "type": "contourcarpet"
           }
          ],
          "heatmap": [
           {
            "colorbar": {
             "outlinewidth": 0,
             "ticks": ""
            },
            "colorscale": [
             [
              0,
              "#0d0887"
             ],
             [
              0.1111111111111111,
              "#46039f"
             ],
             [
              0.2222222222222222,
              "#7201a8"
             ],
             [
              0.3333333333333333,
              "#9c179e"
             ],
             [
              0.4444444444444444,
              "#bd3786"
             ],
             [
              0.5555555555555556,
              "#d8576b"
             ],
             [
              0.6666666666666666,
              "#ed7953"
             ],
             [
              0.7777777777777778,
              "#fb9f3a"
             ],
             [
              0.8888888888888888,
              "#fdca26"
             ],
             [
              1,
              "#f0f921"
             ]
            ],
            "type": "heatmap"
           }
          ],
          "histogram": [
           {
            "marker": {
             "pattern": {
              "fillmode": "overlay",
              "size": 10,
              "solidity": 0.2
             }
            },
            "type": "histogram"
           }
          ],
          "histogram2d": [
           {
            "colorbar": {
             "outlinewidth": 0,
             "ticks": ""
            },
            "colorscale": [
             [
              0,
              "#0d0887"
             ],
             [
              0.1111111111111111,
              "#46039f"
             ],
             [
              0.2222222222222222,
              "#7201a8"
             ],
             [
              0.3333333333333333,
              "#9c179e"
             ],
             [
              0.4444444444444444,
              "#bd3786"
             ],
             [
              0.5555555555555556,
              "#d8576b"
             ],
             [
              0.6666666666666666,
              "#ed7953"
             ],
             [
              0.7777777777777778,
              "#fb9f3a"
             ],
             [
              0.8888888888888888,
              "#fdca26"
             ],
             [
              1,
              "#f0f921"
             ]
            ],
            "type": "histogram2d"
           }
          ],
          "histogram2dcontour": [
           {
            "colorbar": {
             "outlinewidth": 0,
             "ticks": ""
            },
            "colorscale": [
             [
              0,
              "#0d0887"
             ],
             [
              0.1111111111111111,
              "#46039f"
             ],
             [
              0.2222222222222222,
              "#7201a8"
             ],
             [
              0.3333333333333333,
              "#9c179e"
             ],
             [
              0.4444444444444444,
              "#bd3786"
             ],
             [
              0.5555555555555556,
              "#d8576b"
             ],
             [
              0.6666666666666666,
              "#ed7953"
             ],
             [
              0.7777777777777778,
              "#fb9f3a"
             ],
             [
              0.8888888888888888,
              "#fdca26"
             ],
             [
              1,
              "#f0f921"
             ]
            ],
            "type": "histogram2dcontour"
           }
          ],
          "mesh3d": [
           {
            "colorbar": {
             "outlinewidth": 0,
             "ticks": ""
            },
            "type": "mesh3d"
           }
          ],
          "parcoords": [
           {
            "line": {
             "colorbar": {
              "outlinewidth": 0,
              "ticks": ""
             }
            },
            "type": "parcoords"
           }
          ],
          "pie": [
           {
            "automargin": true,
            "type": "pie"
           }
          ],
          "scatter": [
           {
            "fillpattern": {
             "fillmode": "overlay",
             "size": 10,
             "solidity": 0.2
            },
            "type": "scatter"
           }
          ],
          "scatter3d": [
           {
            "line": {
             "colorbar": {
              "outlinewidth": 0,
              "ticks": ""
             }
            },
            "marker": {
             "colorbar": {
              "outlinewidth": 0,
              "ticks": ""
             }
            },
            "type": "scatter3d"
           }
          ],
          "scattercarpet": [
           {
            "marker": {
             "colorbar": {
              "outlinewidth": 0,
              "ticks": ""
             }
            },
            "type": "scattercarpet"
           }
          ],
          "scattergeo": [
           {
            "marker": {
             "colorbar": {
              "outlinewidth": 0,
              "ticks": ""
             }
            },
            "type": "scattergeo"
           }
          ],
          "scattergl": [
           {
            "marker": {
             "colorbar": {
              "outlinewidth": 0,
              "ticks": ""
             }
            },
            "type": "scattergl"
           }
          ],
          "scattermap": [
           {
            "marker": {
             "colorbar": {
              "outlinewidth": 0,
              "ticks": ""
             }
            },
            "type": "scattermap"
           }
          ],
          "scattermapbox": [
           {
            "marker": {
             "colorbar": {
              "outlinewidth": 0,
              "ticks": ""
             }
            },
            "type": "scattermapbox"
           }
          ],
          "scatterpolar": [
           {
            "marker": {
             "colorbar": {
              "outlinewidth": 0,
              "ticks": ""
             }
            },
            "type": "scatterpolar"
           }
          ],
          "scatterpolargl": [
           {
            "marker": {
             "colorbar": {
              "outlinewidth": 0,
              "ticks": ""
             }
            },
            "type": "scatterpolargl"
           }
          ],
          "scatterternary": [
           {
            "marker": {
             "colorbar": {
              "outlinewidth": 0,
              "ticks": ""
             }
            },
            "type": "scatterternary"
           }
          ],
          "surface": [
           {
            "colorbar": {
             "outlinewidth": 0,
             "ticks": ""
            },
            "colorscale": [
             [
              0,
              "#0d0887"
             ],
             [
              0.1111111111111111,
              "#46039f"
             ],
             [
              0.2222222222222222,
              "#7201a8"
             ],
             [
              0.3333333333333333,
              "#9c179e"
             ],
             [
              0.4444444444444444,
              "#bd3786"
             ],
             [
              0.5555555555555556,
              "#d8576b"
             ],
             [
              0.6666666666666666,
              "#ed7953"
             ],
             [
              0.7777777777777778,
              "#fb9f3a"
             ],
             [
              0.8888888888888888,
              "#fdca26"
             ],
             [
              1,
              "#f0f921"
             ]
            ],
            "type": "surface"
           }
          ],
          "table": [
           {
            "cells": {
             "fill": {
              "color": "#EBF0F8"
             },
             "line": {
              "color": "white"
             }
            },
            "header": {
             "fill": {
              "color": "#C8D4E3"
             },
             "line": {
              "color": "white"
             }
            },
            "type": "table"
           }
          ]
         },
         "layout": {
          "annotationdefaults": {
           "arrowcolor": "#2a3f5f",
           "arrowhead": 0,
           "arrowwidth": 1
          },
          "autotypenumbers": "strict",
          "coloraxis": {
           "colorbar": {
            "outlinewidth": 0,
            "ticks": ""
           }
          },
          "colorscale": {
           "diverging": [
            [
             0,
             "#8e0152"
            ],
            [
             0.1,
             "#c51b7d"
            ],
            [
             0.2,
             "#de77ae"
            ],
            [
             0.3,
             "#f1b6da"
            ],
            [
             0.4,
             "#fde0ef"
            ],
            [
             0.5,
             "#f7f7f7"
            ],
            [
             0.6,
             "#e6f5d0"
            ],
            [
             0.7,
             "#b8e186"
            ],
            [
             0.8,
             "#7fbc41"
            ],
            [
             0.9,
             "#4d9221"
            ],
            [
             1,
             "#276419"
            ]
           ],
           "sequential": [
            [
             0,
             "#0d0887"
            ],
            [
             0.1111111111111111,
             "#46039f"
            ],
            [
             0.2222222222222222,
             "#7201a8"
            ],
            [
             0.3333333333333333,
             "#9c179e"
            ],
            [
             0.4444444444444444,
             "#bd3786"
            ],
            [
             0.5555555555555556,
             "#d8576b"
            ],
            [
             0.6666666666666666,
             "#ed7953"
            ],
            [
             0.7777777777777778,
             "#fb9f3a"
            ],
            [
             0.8888888888888888,
             "#fdca26"
            ],
            [
             1,
             "#f0f921"
            ]
           ],
           "sequentialminus": [
            [
             0,
             "#0d0887"
            ],
            [
             0.1111111111111111,
             "#46039f"
            ],
            [
             0.2222222222222222,
             "#7201a8"
            ],
            [
             0.3333333333333333,
             "#9c179e"
            ],
            [
             0.4444444444444444,
             "#bd3786"
            ],
            [
             0.5555555555555556,
             "#d8576b"
            ],
            [
             0.6666666666666666,
             "#ed7953"
            ],
            [
             0.7777777777777778,
             "#fb9f3a"
            ],
            [
             0.8888888888888888,
             "#fdca26"
            ],
            [
             1,
             "#f0f921"
            ]
           ]
          },
          "colorway": [
           "#636efa",
           "#EF553B",
           "#00cc96",
           "#ab63fa",
           "#FFA15A",
           "#19d3f3",
           "#FF6692",
           "#B6E880",
           "#FF97FF",
           "#FECB52"
          ],
          "font": {
           "color": "#2a3f5f"
          },
          "geo": {
           "bgcolor": "white",
           "lakecolor": "white",
           "landcolor": "#E5ECF6",
           "showlakes": true,
           "showland": true,
           "subunitcolor": "white"
          },
          "hoverlabel": {
           "align": "left"
          },
          "hovermode": "closest",
          "mapbox": {
           "style": "light"
          },
          "paper_bgcolor": "white",
          "plot_bgcolor": "#E5ECF6",
          "polar": {
           "angularaxis": {
            "gridcolor": "white",
            "linecolor": "white",
            "ticks": ""
           },
           "bgcolor": "#E5ECF6",
           "radialaxis": {
            "gridcolor": "white",
            "linecolor": "white",
            "ticks": ""
           }
          },
          "scene": {
           "xaxis": {
            "backgroundcolor": "#E5ECF6",
            "gridcolor": "white",
            "gridwidth": 2,
            "linecolor": "white",
            "showbackground": true,
            "ticks": "",
            "zerolinecolor": "white"
           },
           "yaxis": {
            "backgroundcolor": "#E5ECF6",
            "gridcolor": "white",
            "gridwidth": 2,
            "linecolor": "white",
            "showbackground": true,
            "ticks": "",
            "zerolinecolor": "white"
           },
           "zaxis": {
            "backgroundcolor": "#E5ECF6",
            "gridcolor": "white",
            "gridwidth": 2,
            "linecolor": "white",
            "showbackground": true,
            "ticks": "",
            "zerolinecolor": "white"
           }
          },
          "shapedefaults": {
           "line": {
            "color": "#2a3f5f"
           }
          },
          "ternary": {
           "aaxis": {
            "gridcolor": "white",
            "linecolor": "white",
            "ticks": ""
           },
           "baxis": {
            "gridcolor": "white",
            "linecolor": "white",
            "ticks": ""
           },
           "bgcolor": "#E5ECF6",
           "caxis": {
            "gridcolor": "white",
            "linecolor": "white",
            "ticks": ""
           }
          },
          "title": {
           "x": 0.05
          },
          "xaxis": {
           "automargin": true,
           "gridcolor": "white",
           "linecolor": "white",
           "ticks": "",
           "title": {
            "standoff": 15
           },
           "zerolinecolor": "white",
           "zerolinewidth": 2
          },
          "yaxis": {
           "automargin": true,
           "gridcolor": "white",
           "linecolor": "white",
           "ticks": "",
           "title": {
            "standoff": 15
           },
           "zerolinecolor": "white",
           "zerolinewidth": 2
          }
         }
        },
        "title": {
         "text": "Distribución de costos por producto → categoría de insumo → insumo"
        }
       }
      }
     },
     "metadata": {},
     "output_type": "display_data"
    },
    {
     "data": {
      "application/vnd.plotly.v1+json": {
       "config": {
        "plotlyServerURL": "https://plot.ly"
       },
       "data": [
        {
         "hovertemplate": "%{y}<br>Costo: %{text}<br>%{x:.2f} mil millones<extra></extra>",
         "legendgroup": "",
         "marker": {
          "color": "#636efa",
          "pattern": {
           "shape": ""
          }
         },
         "name": "",
         "orientation": "h",
         "showlegend": false,
         "text": [
          "$1,545,596,876",
          "$1,116,840,371",
          "$546,754,400",
          "$418,657,486",
          "$335,685,540",
          "$329,178,080",
          "$182,138,297",
          "$147,810,665",
          "$124,429,140",
          "$95,777,742",
          "$69,286,206",
          "$45,757,500",
          "$31,252,978",
          "$29,868,500",
          "$29,414,700",
          "$27,940,012",
          "$27,172,000",
          "$22,009,926",
          "$16,973,650",
          "$16,546,260",
          "$13,317,404",
          "$12,193,170"
         ],
         "textposition": "outside",
         "type": "bar",
         "x": {
          "bdata": "K4QzysO6+D9zMz0ClN7xPxY2XhUDf+E/E5y2xEjL2j8gFOcz33vVPxwyePBAEdU/Bm9Exk5Qxz9ISwi7devCP/Qq+I6W2r8/NwOb3uOEuD81Vh+mvbyxP6/rF+yGbac/TGlz62MAoD/q6Lga2ZWeP7srFhrjHp4/wNO/f06cnD/It3cN+tKbPwz1bSHFiZY/TjOTXophkT/W0Ui2gPGQPy1TLrUnRos/jpgTk7v4iD8=",
          "dtype": "f8"
         },
         "xaxis": "x",
         "y": [
          "bordado",
          "CAT: mat.prima",
          "confección",
          "CAT: insumo",
          "tin0138-indigo 12 onz",
          "tar0081 aranza",
          "cir0024-cinta reflectiva 2 pulg",
          "cir0023-cinta reflectiva 1 pulg",
          "tle0185-lenovoflex  elit",
          "tbo0051 boston",
          "tor0033-orion clororesistent",
          "paquete completo sin marca",
          "tdr0078-dril vulcano",
          "estampado",
          "tox0055-oxford monterrey",
          "tfl0087-fleece",
          "prelavado",
          "tny0063 nylon",
          "crn0002-cremallera nylon yes 20cm",
          "boe0028 boton estandar",
          "corte y confeccion",
          "tvi0069-vioto"
         ],
         "yaxis": "y"
        }
       ],
       "layout": {
        "barmode": "relative",
        "legend": {
         "tracegroupgap": 0
        },
        "margin": {
         "b": 40,
         "l": 120,
         "r": 20,
         "t": 40
        },
        "template": {
         "data": {
          "bar": [
           {
            "error_x": {
             "color": "#2a3f5f"
            },
            "error_y": {
             "color": "#2a3f5f"
            },
            "marker": {
             "line": {
              "color": "#E5ECF6",
              "width": 0.5
             },
             "pattern": {
              "fillmode": "overlay",
              "size": 10,
              "solidity": 0.2
             }
            },
            "type": "bar"
           }
          ],
          "barpolar": [
           {
            "marker": {
             "line": {
              "color": "#E5ECF6",
              "width": 0.5
             },
             "pattern": {
              "fillmode": "overlay",
              "size": 10,
              "solidity": 0.2
             }
            },
            "type": "barpolar"
           }
          ],
          "carpet": [
           {
            "aaxis": {
             "endlinecolor": "#2a3f5f",
             "gridcolor": "white",
             "linecolor": "white",
             "minorgridcolor": "white",
             "startlinecolor": "#2a3f5f"
            },
            "baxis": {
             "endlinecolor": "#2a3f5f",
             "gridcolor": "white",
             "linecolor": "white",
             "minorgridcolor": "white",
             "startlinecolor": "#2a3f5f"
            },
            "type": "carpet"
           }
          ],
          "choropleth": [
           {
            "colorbar": {
             "outlinewidth": 0,
             "ticks": ""
            },
            "type": "choropleth"
           }
          ],
          "contour": [
           {
            "colorbar": {
             "outlinewidth": 0,
             "ticks": ""
            },
            "colorscale": [
             [
              0,
              "#0d0887"
             ],
             [
              0.1111111111111111,
              "#46039f"
             ],
             [
              0.2222222222222222,
              "#7201a8"
             ],
             [
              0.3333333333333333,
              "#9c179e"
             ],
             [
              0.4444444444444444,
              "#bd3786"
             ],
             [
              0.5555555555555556,
              "#d8576b"
             ],
             [
              0.6666666666666666,
              "#ed7953"
             ],
             [
              0.7777777777777778,
              "#fb9f3a"
             ],
             [
              0.8888888888888888,
              "#fdca26"
             ],
             [
              1,
              "#f0f921"
             ]
            ],
            "type": "contour"
           }
          ],
          "contourcarpet": [
           {
            "colorbar": {
             "outlinewidth": 0,
             "ticks": ""
            },
            "type": "contourcarpet"
           }
          ],
          "heatmap": [
           {
            "colorbar": {
             "outlinewidth": 0,
             "ticks": ""
            },
            "colorscale": [
             [
              0,
              "#0d0887"
             ],
             [
              0.1111111111111111,
              "#46039f"
             ],
             [
              0.2222222222222222,
              "#7201a8"
             ],
             [
              0.3333333333333333,
              "#9c179e"
             ],
             [
              0.4444444444444444,
              "#bd3786"
             ],
             [
              0.5555555555555556,
              "#d8576b"
             ],
             [
              0.6666666666666666,
              "#ed7953"
             ],
             [
              0.7777777777777778,
              "#fb9f3a"
             ],
             [
              0.8888888888888888,
              "#fdca26"
             ],
             [
              1,
              "#f0f921"
             ]
            ],
            "type": "heatmap"
           }
          ],
          "histogram": [
           {
            "marker": {
             "pattern": {
              "fillmode": "overlay",
              "size": 10,
              "solidity": 0.2
             }
            },
            "type": "histogram"
           }
          ],
          "histogram2d": [
           {
            "colorbar": {
             "outlinewidth": 0,
             "ticks": ""
            },
            "colorscale": [
             [
              0,
              "#0d0887"
             ],
             [
              0.1111111111111111,
              "#46039f"
             ],
             [
              0.2222222222222222,
              "#7201a8"
             ],
             [
              0.3333333333333333,
              "#9c179e"
             ],
             [
              0.4444444444444444,
              "#bd3786"
             ],
             [
              0.5555555555555556,
              "#d8576b"
             ],
             [
              0.6666666666666666,
              "#ed7953"
             ],
             [
              0.7777777777777778,
              "#fb9f3a"
             ],
             [
              0.8888888888888888,
              "#fdca26"
             ],
             [
              1,
              "#f0f921"
             ]
            ],
            "type": "histogram2d"
           }
          ],
          "histogram2dcontour": [
           {
            "colorbar": {
             "outlinewidth": 0,
             "ticks": ""
            },
            "colorscale": [
             [
              0,
              "#0d0887"
             ],
             [
              0.1111111111111111,
              "#46039f"
             ],
             [
              0.2222222222222222,
              "#7201a8"
             ],
             [
              0.3333333333333333,
              "#9c179e"
             ],
             [
              0.4444444444444444,
              "#bd3786"
             ],
             [
              0.5555555555555556,
              "#d8576b"
             ],
             [
              0.6666666666666666,
              "#ed7953"
             ],
             [
              0.7777777777777778,
              "#fb9f3a"
             ],
             [
              0.8888888888888888,
              "#fdca26"
             ],
             [
              1,
              "#f0f921"
             ]
            ],
            "type": "histogram2dcontour"
           }
          ],
          "mesh3d": [
           {
            "colorbar": {
             "outlinewidth": 0,
             "ticks": ""
            },
            "type": "mesh3d"
           }
          ],
          "parcoords": [
           {
            "line": {
             "colorbar": {
              "outlinewidth": 0,
              "ticks": ""
             }
            },
            "type": "parcoords"
           }
          ],
          "pie": [
           {
            "automargin": true,
            "type": "pie"
           }
          ],
          "scatter": [
           {
            "fillpattern": {
             "fillmode": "overlay",
             "size": 10,
             "solidity": 0.2
            },
            "type": "scatter"
           }
          ],
          "scatter3d": [
           {
            "line": {
             "colorbar": {
              "outlinewidth": 0,
              "ticks": ""
             }
            },
            "marker": {
             "colorbar": {
              "outlinewidth": 0,
              "ticks": ""
             }
            },
            "type": "scatter3d"
           }
          ],
          "scattercarpet": [
           {
            "marker": {
             "colorbar": {
              "outlinewidth": 0,
              "ticks": ""
             }
            },
            "type": "scattercarpet"
           }
          ],
          "scattergeo": [
           {
            "marker": {
             "colorbar": {
              "outlinewidth": 0,
              "ticks": ""
             }
            },
            "type": "scattergeo"
           }
          ],
          "scattergl": [
           {
            "marker": {
             "colorbar": {
              "outlinewidth": 0,
              "ticks": ""
             }
            },
            "type": "scattergl"
           }
          ],
          "scattermap": [
           {
            "marker": {
             "colorbar": {
              "outlinewidth": 0,
              "ticks": ""
             }
            },
            "type": "scattermap"
           }
          ],
          "scattermapbox": [
           {
            "marker": {
             "colorbar": {
              "outlinewidth": 0,
              "ticks": ""
             }
            },
            "type": "scattermapbox"
           }
          ],
          "scatterpolar": [
           {
            "marker": {
             "colorbar": {
              "outlinewidth": 0,
              "ticks": ""
             }
            },
            "type": "scatterpolar"
           }
          ],
          "scatterpolargl": [
           {
            "marker": {
             "colorbar": {
              "outlinewidth": 0,
              "ticks": ""
             }
            },
            "type": "scatterpolargl"
           }
          ],
          "scatterternary": [
           {
            "marker": {
             "colorbar": {
              "outlinewidth": 0,
              "ticks": ""
             }
            },
            "type": "scatterternary"
           }
          ],
          "surface": [
           {
            "colorbar": {
             "outlinewidth": 0,
             "ticks": ""
            },
            "colorscale": [
             [
              0,
              "#0d0887"
             ],
             [
              0.1111111111111111,
              "#46039f"
             ],
             [
              0.2222222222222222,
              "#7201a8"
             ],
             [
              0.3333333333333333,
              "#9c179e"
             ],
             [
              0.4444444444444444,
              "#bd3786"
             ],
             [
              0.5555555555555556,
              "#d8576b"
             ],
             [
              0.6666666666666666,
              "#ed7953"
             ],
             [
              0.7777777777777778,
              "#fb9f3a"
             ],
             [
              0.8888888888888888,
              "#fdca26"
             ],
             [
              1,
              "#f0f921"
             ]
            ],
            "type": "surface"
           }
          ],
          "table": [
           {
            "cells": {
             "fill": {
              "color": "#EBF0F8"
             },
             "line": {
              "color": "white"
             }
            },
            "header": {
             "fill": {
              "color": "#C8D4E3"
             },
             "line": {
              "color": "white"
             }
            },
            "type": "table"
           }
          ]
         },
         "layout": {
          "annotationdefaults": {
           "arrowcolor": "#2a3f5f",
           "arrowhead": 0,
           "arrowwidth": 1
          },
          "autotypenumbers": "strict",
          "coloraxis": {
           "colorbar": {
            "outlinewidth": 0,
            "ticks": ""
           }
          },
          "colorscale": {
           "diverging": [
            [
             0,
             "#8e0152"
            ],
            [
             0.1,
             "#c51b7d"
            ],
            [
             0.2,
             "#de77ae"
            ],
            [
             0.3,
             "#f1b6da"
            ],
            [
             0.4,
             "#fde0ef"
            ],
            [
             0.5,
             "#f7f7f7"
            ],
            [
             0.6,
             "#e6f5d0"
            ],
            [
             0.7,
             "#b8e186"
            ],
            [
             0.8,
             "#7fbc41"
            ],
            [
             0.9,
             "#4d9221"
            ],
            [
             1,
             "#276419"
            ]
           ],
           "sequential": [
            [
             0,
             "#0d0887"
            ],
            [
             0.1111111111111111,
             "#46039f"
            ],
            [
             0.2222222222222222,
             "#7201a8"
            ],
            [
             0.3333333333333333,
             "#9c179e"
            ],
            [
             0.4444444444444444,
             "#bd3786"
            ],
            [
             0.5555555555555556,
             "#d8576b"
            ],
            [
             0.6666666666666666,
             "#ed7953"
            ],
            [
             0.7777777777777778,
             "#fb9f3a"
            ],
            [
             0.8888888888888888,
             "#fdca26"
            ],
            [
             1,
             "#f0f921"
            ]
           ],
           "sequentialminus": [
            [
             0,
             "#0d0887"
            ],
            [
             0.1111111111111111,
             "#46039f"
            ],
            [
             0.2222222222222222,
             "#7201a8"
            ],
            [
             0.3333333333333333,
             "#9c179e"
            ],
            [
             0.4444444444444444,
             "#bd3786"
            ],
            [
             0.5555555555555556,
             "#d8576b"
            ],
            [
             0.6666666666666666,
             "#ed7953"
            ],
            [
             0.7777777777777778,
             "#fb9f3a"
            ],
            [
             0.8888888888888888,
             "#fdca26"
            ],
            [
             1,
             "#f0f921"
            ]
           ]
          },
          "colorway": [
           "#636efa",
           "#EF553B",
           "#00cc96",
           "#ab63fa",
           "#FFA15A",
           "#19d3f3",
           "#FF6692",
           "#B6E880",
           "#FF97FF",
           "#FECB52"
          ],
          "font": {
           "color": "#2a3f5f"
          },
          "geo": {
           "bgcolor": "white",
           "lakecolor": "white",
           "landcolor": "#E5ECF6",
           "showlakes": true,
           "showland": true,
           "subunitcolor": "white"
          },
          "hoverlabel": {
           "align": "left"
          },
          "hovermode": "closest",
          "mapbox": {
           "style": "light"
          },
          "paper_bgcolor": "white",
          "plot_bgcolor": "#E5ECF6",
          "polar": {
           "angularaxis": {
            "gridcolor": "white",
            "linecolor": "white",
            "ticks": ""
           },
           "bgcolor": "#E5ECF6",
           "radialaxis": {
            "gridcolor": "white",
            "linecolor": "white",
            "ticks": ""
           }
          },
          "scene": {
           "xaxis": {
            "backgroundcolor": "#E5ECF6",
            "gridcolor": "white",
            "gridwidth": 2,
            "linecolor": "white",
            "showbackground": true,
            "ticks": "",
            "zerolinecolor": "white"
           },
           "yaxis": {
            "backgroundcolor": "#E5ECF6",
            "gridcolor": "white",
            "gridwidth": 2,
            "linecolor": "white",
            "showbackground": true,
            "ticks": "",
            "zerolinecolor": "white"
           },
           "zaxis": {
            "backgroundcolor": "#E5ECF6",
            "gridcolor": "white",
            "gridwidth": 2,
            "linecolor": "white",
            "showbackground": true,
            "ticks": "",
            "zerolinecolor": "white"
           }
          },
          "shapedefaults": {
           "line": {
            "color": "#2a3f5f"
           }
          },
          "ternary": {
           "aaxis": {
            "gridcolor": "white",
            "linecolor": "white",
            "ticks": ""
           },
           "baxis": {
            "gridcolor": "white",
            "linecolor": "white",
            "ticks": ""
           },
           "bgcolor": "#E5ECF6",
           "caxis": {
            "gridcolor": "white",
            "linecolor": "white",
            "ticks": ""
           }
          },
          "title": {
           "x": 0.05
          },
          "xaxis": {
           "automargin": true,
           "gridcolor": "white",
           "linecolor": "white",
           "ticks": "",
           "title": {
            "standoff": 15
           },
           "zerolinecolor": "white",
           "zerolinewidth": 2
          },
          "yaxis": {
           "automargin": true,
           "gridcolor": "white",
           "linecolor": "white",
           "ticks": "",
           "title": {
            "standoff": 15
           },
           "zerolinecolor": "white",
           "zerolinewidth": 2
          }
         }
        },
        "title": {
         "text": "Top 20 insumos por costo total + totales agregados (categorías)"
        },
        "xaxis": {
         "anchor": "y",
         "domain": [
          0,
          1
         ],
         "range": [
          0,
          1.7774364074
         ],
         "title": {
          "text": "Costo Total (Miles de millones COP)"
         }
        },
        "yaxis": {
         "anchor": "x",
         "autorange": "reversed",
         "domain": [
          0,
          1
         ],
         "title": {
          "text": "Insumo"
         }
        }
       }
      }
     },
     "metadata": {},
     "output_type": "display_data"
    }
   ],
   "source": [
    "# === 1. Treemap / Sunburst ===\n",
    "def grafica_treemap_insumos():\n",
    "    fig = px.treemap(\n",
    "        df_maestro_2024,\n",
    "        path=[\"Categoría Proc\", \"categoria_insumo\", \"Insumo\"],\n",
    "        values=\"CostoTotalInsumo\",\n",
    "        color=\"categoria_insumo\",\n",
    "        title=\"Distribución de costos por producto → categoría de insumo → insumo\"\n",
    "    )\n",
    "\n",
    "    # Mostrar porcentaje respecto al padre y respecto al total en el hover\n",
    "    fig.update_traces(\n",
    "        root_color=\"lightgrey\",\n",
    "        hovertemplate=(\n",
    "            \"<b>%{label}</b><br>\"\n",
    "            \"Costo: %{value:,.0f}<br>\"\n",
    "            \"% del padre: %{percentParent:.2%}<br>\"\n",
    "            \"% del total: %{percentRoot:.2%}<extra></extra>\"\n",
    "        )\n",
    "    )\n",
    "\n",
    "    fig.update_layout(margin=dict(t=40, l=0, r=0, b=0))\n",
    "    return fig\n",
    "\n",
    "\n",
    "# === 2. Bar Chart (Top 10 Insumos más costosos) ===\n",
    "def grafica_top_insumos():\n",
    "    # Top 10 insumos por costo\n",
    "    df_top_ins = (\n",
    "        df_maestro_2024.groupby(\"Insumo\", as_index=False)[\"CostoTotalInsumo\"]\n",
    "        .sum()\n",
    "        .sort_values(\"CostoTotalInsumo\", ascending=False)\n",
    "        .head(20)\n",
    "    )\n",
    "\n",
    "    # Totales agregados por categoría (mat.prima e insumo)\n",
    "    df_cat = (\n",
    "        df_maestro_2024.groupby(\"categoria_insumo\", as_index=False)[\"CostoTotalInsumo\"]\n",
    "        .sum()\n",
    "    )\n",
    "    df_cat = df_cat[df_cat[\"categoria_insumo\"].isin([\"mat.prima\", \"insumo\"])].copy()\n",
    "    # Renombrar para concatenar y marcar que son agregados de categoría\n",
    "    df_cat = df_cat.rename(columns={\"categoria_insumo\": \"Insumo\"})\n",
    "    df_cat[\"Insumo\"] = df_cat[\"Insumo\"].apply(lambda x: f\"CAT: {x}\")\n",
    "\n",
    "    # Concatenar top insumos + categorías y ordenar\n",
    "    df_plot = pd.concat([df_top_ins, df_cat], ignore_index=True)\n",
    "    df_plot = df_plot.sort_values(\"CostoTotalInsumo\", ascending=False).reset_index(drop=True)\n",
    "\n",
    "    # Columna en miles de millones para el eje x y texto formateado\n",
    "    df_plot[\"Costo_mil_millones\"] = df_plot[\"CostoTotalInsumo\"] / 1e9\n",
    "    df_plot[\"texto\"] = df_plot[\"CostoTotalInsumo\"].apply(lambda x: f\"${x:,.0f}\")\n",
    "\n",
    "    fig = px.bar(\n",
    "        df_plot,\n",
    "        x=\"Costo_mil_millones\",\n",
    "        y=\"Insumo\",\n",
    "        orientation=\"h\",\n",
    "        text=\"texto\",\n",
    "        title=\"Top 20 insumos por costo total + totales agregados (categorías)\"\n",
    "    )\n",
    "\n",
    "    fig.update_traces(textposition=\"outside\", hovertemplate=\"%{y}<br>Costo: %{text}<br>%{x:.2f} mil millones<extra></extra>\")\n",
    "\n",
    "    fig.update_layout(\n",
    "        xaxis=dict(\n",
    "            title=\"Costo Total (Miles de millones COP)\",\n",
    "            range=[0, df_plot[\"Costo_mil_millones\"].max() * 1.15]\n",
    "        ),\n",
    "        yaxis=dict(autorange=\"reversed\"),\n",
    "        margin=dict(t=40, l=120, r=20, b=40)\n",
    "    )\n",
    "\n",
    "    return fig\n",
    "\n",
    "\n",
    "# === 3. Heatmap (categoría de producto vs categoría de insumo) ===\n",
    "def grafica_heatmap_insumos():\n",
    "    df_heat = (\n",
    "        df_maestro_2024.groupby([\"Categoría Proc\", \"categoria_insumo\"], as_index=False)[\"CostoTotalInsumo\"]\n",
    "        .sum()\n",
    "    )\n",
    "\n",
    "    # Calcular el total por categoría de producto\n",
    "    total_por_categoria = df_heat.groupby(\"Categoría Proc\")[\"CostoTotalInsumo\"].transform(\"sum\")\n",
    "\n",
    "    # Calcular el porcentaje de participación\n",
    "    df_heat[\"Porcentaje\"] = (df_heat[\"CostoTotalInsumo\"] / total_por_categoria) * 100\n",
    "\n",
    "    # Crear el heatmap con el porcentaje\n",
    "    fig = px.density_heatmap(\n",
    "        df_heat,\n",
    "        x=\"Categoría Proc\",\n",
    "        y=\"categoria_insumo\",\n",
    "        z=\"Porcentaje\",\n",
    "        color_continuous_scale=\"Viridis\",\n",
    "        title=\"Porcentaje de participación de insumos por categoría de producto\"\n",
    "    )\n",
    "\n",
    "    fig.update_layout(\n",
    "        xaxis_title=\"Categoría de Producto\",\n",
    "        yaxis_title=\"Categoría de Insumo\",\n",
    "        margin=dict(t=40, l=80, r=20, b=40)\n",
    "    )\n",
    "\n",
    "    return fig\n",
    "\n",
    "grafica_heatmap_insumos().show()\n",
    "grafica_treemap_insumos().show()\n",
    "grafica_top_insumos().show()"
   ]
  },
  {
   "cell_type": "markdown",
   "id": "e406cf6f",
   "metadata": {},
   "source": [
    "### Rentabilidad"
   ]
  },
  {
   "cell_type": "code",
   "execution_count": 28,
   "id": "5b40130e",
   "metadata": {},
   "outputs": [],
   "source": [
    "# 1️⃣ Boxplot / Violin plot por categoría de producto\n",
    "def grafica_rentabilidad_boxplot():\n",
    "    fig = px.box(\n",
    "        df_maestro_2024,\n",
    "        x=\"Categoría Proc\",\n",
    "        y=\"Margen Ganancia Real\",\n",
    "        color=\"Categoría Proc\",\n",
    "        # points=\"all\",  # muestra también puntos individuales\n",
    "        title=\"Distribución de la Rentabilidad por Categoría de Producto\"\n",
    "    )\n",
    "    fig.update_layout(\n",
    "        xaxis_title=\"Categoría de Producto\",\n",
    "        yaxis_title=\"Margen de Ganancia Real (%)\",\n",
    "        legend_title=\"Categoría\"\n",
    "    )\n",
    "    return fig\n",
    "\n",
    "\n",
    "# 2️⃣ Scatter Plot Costo vs Precio Unitario\n",
    "def grafica_costo_vs_precio():\n",
    "    fig = px.scatter(\n",
    "        df_maestro_2024,\n",
    "        x=\"Costo Total Unitario\",\n",
    "        y=\"Precio Unitario Sin IVA\",\n",
    "        color=\"Categoría Proc\",\n",
    "        hover_data=[\"ClienteNombre\", \"Producto\", \"Ganancia\", \"Margen Ganancia Real\"],\n",
    "        title=\"Relación entre Costo Unitario y Precio de Venta\"\n",
    "    )\n",
    "    fig.update_layout(\n",
    "        xaxis_title=\"Costo Total Unitario\",\n",
    "        yaxis_title=\"Precio Unitario Sin IVA\",\n",
    "        legend_title=\"Categoría\"\n",
    "    )\n",
    "    return fig\n",
    "\n",
    "\n",
    "# 3️⃣ Evolución mensual de rentabilidad promedio\n",
    "def grafica_rentabilidad_mensual():\n",
    "    df_mensual = (\n",
    "        df_maestro_2024\n",
    "        .groupby(df_maestro_2024[\"Creado El\"].dt.to_period(\"M\"))\n",
    "        [\"Margen Ganancia Real\"].mean()\n",
    "        .reset_index()\n",
    "    )\n",
    "    df_mensual[\"Creado El\"] = df_mensual[\"Creado El\"].dt.to_timestamp()\n",
    "\n",
    "    fig = px.line(\n",
    "        df_mensual,\n",
    "        x=\"Creado El\",\n",
    "        y=\"Margen Ganancia Real\",\n",
    "        markers=True,\n",
    "        title=\"Evolución Mensual del Margen de Ganancia Promedio\"\n",
    "    )\n",
    "    \n",
    "    # Asegurar etiquetas por mes en el eje X\n",
    "    fig.update_layout(\n",
    "        xaxis=dict(\n",
    "            title=\"Mes\",\n",
    "            dtick=\"M1\",  # Intervalo de 1 mes\n",
    "            tickformat=\"%b %Y\",  # Formato: abreviatura del mes y año\n",
    "        ),\n",
    "        yaxis_title=\"Margen de Ganancia Promedio (%)\"\n",
    "    )\n",
    "    \n",
    "    return fig"
   ]
  },
  {
   "cell_type": "code",
   "execution_count": 29,
   "id": "90d1d3ff",
   "metadata": {},
   "outputs": [
    {
     "data": {
      "application/vnd.plotly.v1+json": {
       "config": {
        "plotlyServerURL": "https://plot.ly"
       },
       "data": [
        {
         "alignmentgroup": "True",
         "hovertemplate": "Categoría Proc=%{x}<br>Margen Ganancia Real=%{y}<extra></extra>",
         "legendgroup": "pantalones",
         "marker": {
          "color": "#636efa"
         },
         "name": "pantalones",
         "notched": false,
         "offsetgroup": "pantalones",
         "orientation": "v",
         "showlegend": true,
         "type": "box",
         "x": [
          "pantalones",
          "pantalones",
          "pantalones",
          "pantalones",
          "pantalones",
          "pantalones",
          "pantalones",
          "pantalones",
          "pantalones",
          "pantalones",
          "pantalones",
          "pantalones",
          "pantalones",
          "pantalones",
          "pantalones",
          "pantalones",
          "pantalones",
          "pantalones",
          "pantalones",
          "pantalones",
          "pantalones",
          "pantalones",
          "pantalones",
          "pantalones",
          "pantalones",
          "pantalones",
          "pantalones",
          "pantalones",
          "pantalones",
          "pantalones",
          "pantalones",
          "pantalones",
          "pantalones",
          "pantalones",
          "pantalones",
          "pantalones",
          "pantalones",
          "pantalones",
          "pantalones",
          "pantalones",
          "pantalones",
          "pantalones",
          "pantalones",
          "pantalones",
          "pantalones",
          "pantalones",
          "pantalones",
          "pantalones",
          "pantalones",
          "pantalones",
          "pantalones",
          "pantalones",
          "pantalones",
          "pantalones",
          "pantalones",
          "pantalones",
          "pantalones",
          "pantalones",
          "pantalones",
          "pantalones",
          "pantalones",
          "pantalones",
          "pantalones",
          "pantalones",
          "pantalones",
          "pantalones",
          "pantalones",
          "pantalones",
          "pantalones",
          "pantalones",
          "pantalones",
          "pantalones",
          "pantalones",
          "pantalones",
          "pantalones",
          "pantalones",
          "pantalones",
          "pantalones",
          "pantalones",
          "pantalones",
          "pantalones",
          "pantalones",
          "pantalones",
          "pantalones",
          "pantalones",
          "pantalones",
          "pantalones",
          "pantalones",
          "pantalones",
          "pantalones",
          "pantalones",
          "pantalones",
          "pantalones",
          "pantalones",
          "pantalones",
          "pantalones",
          "pantalones",
          "pantalones",
          "pantalones",
          "pantalones",
          "pantalones",
          "pantalones",
          "pantalones",
          "pantalones",
          "pantalones",
          "pantalones",
          "pantalones",
          "pantalones",
          "pantalones",
          "pantalones",
          "pantalones",
          "pantalones",
          "pantalones",
          "pantalones",
          "pantalones",
          "pantalones",
          "pantalones",
          "pantalones",
          "pantalones",
          "pantalones",
          "pantalones",
          "pantalones",
          "pantalones",
          "pantalones",
          "pantalones",
          "pantalones",
          "pantalones",
          "pantalones",
          "pantalones",
          "pantalones",
          "pantalones",
          "pantalones",
          "pantalones",
          "pantalones",
          "pantalones",
          "pantalones",
          "pantalones",
          "pantalones",
          "pantalones",
          "pantalones",
          "pantalones",
          "pantalones",
          "pantalones",
          "pantalones",
          "pantalones",
          "pantalones",
          "pantalones",
          "pantalones",
          "pantalones",
          "pantalones",
          "pantalones",
          "pantalones",
          "pantalones",
          "pantalones",
          "pantalones",
          "pantalones",
          "pantalones",
          "pantalones",
          "pantalones",
          "pantalones",
          "pantalones",
          "pantalones",
          "pantalones",
          "pantalones",
          "pantalones",
          "pantalones",
          "pantalones",
          "pantalones",
          "pantalones",
          "pantalones",
          "pantalones",
          "pantalones",
          "pantalones",
          "pantalones",
          "pantalones",
          "pantalones",
          "pantalones",
          "pantalones",
          "pantalones",
          "pantalones",
          "pantalones",
          "pantalones",
          "pantalones",
          "pantalones",
          "pantalones",
          "pantalones",
          "pantalones",
          "pantalones",
          "pantalones",
          "pantalones",
          "pantalones",
          "pantalones",
          "pantalones",
          "pantalones",
          "pantalones",
          "pantalones",
          "pantalones",
          "pantalones",
          "pantalones",
          "pantalones",
          "pantalones",
          "pantalones",
          "pantalones",
          "pantalones",
          "pantalones",
          "pantalones",
          "pantalones",
          "pantalones",
          "pantalones",
          "pantalones",
          "pantalones",
          "pantalones",
          "pantalones",
          "pantalones",
          "pantalones",
          "pantalones",
          "pantalones",
          "pantalones",
          "pantalones",
          "pantalones",
          "pantalones",
          "pantalones",
          "pantalones",
          "pantalones",
          "pantalones",
          "pantalones",
          "pantalones",
          "pantalones",
          "pantalones",
          "pantalones",
          "pantalones",
          "pantalones",
          "pantalones",
          "pantalones",
          "pantalones",
          "pantalones",
          "pantalones",
          "pantalones",
          "pantalones",
          "pantalones",
          "pantalones",
          "pantalones",
          "pantalones",
          "pantalones",
          "pantalones",
          "pantalones",
          "pantalones",
          "pantalones",
          "pantalones",
          "pantalones",
          "pantalones",
          "pantalones",
          "pantalones",
          "pantalones",
          "pantalones",
          "pantalones",
          "pantalones",
          "pantalones",
          "pantalones",
          "pantalones",
          "pantalones",
          "pantalones",
          "pantalones",
          "pantalones",
          "pantalones",
          "pantalones",
          "pantalones",
          "pantalones",
          "pantalones",
          "pantalones",
          "pantalones",
          "pantalones",
          "pantalones",
          "pantalones",
          "pantalones",
          "pantalones",
          "pantalones",
          "pantalones",
          "pantalones",
          "pantalones",
          "pantalones",
          "pantalones",
          "pantalones",
          "pantalones",
          "pantalones",
          "pantalones",
          "pantalones",
          "pantalones",
          "pantalones",
          "pantalones",
          "pantalones",
          "pantalones",
          "pantalones",
          "pantalones",
          "pantalones",
          "pantalones",
          "pantalones",
          "pantalones",
          "pantalones",
          "pantalones",
          "pantalones",
          "pantalones",
          "pantalones",
          "pantalones",
          "pantalones",
          "pantalones",
          "pantalones",
          "pantalones",
          "pantalones",
          "pantalones",
          "pantalones",
          "pantalones",
          "pantalones",
          "pantalones",
          "pantalones",
          "pantalones",
          "pantalones",
          "pantalones",
          "pantalones",
          "pantalones",
          "pantalones",
          "pantalones",
          "pantalones",
          "pantalones",
          "pantalones",
          "pantalones",
          "pantalones",
          "pantalones",
          "pantalones",
          "pantalones",
          "pantalones",
          "pantalones",
          "pantalones",
          "pantalones",
          "pantalones",
          "pantalones",
          "pantalones",
          "pantalones",
          "pantalones",
          "pantalones",
          "pantalones",
          "pantalones",
          "pantalones",
          "pantalones",
          "pantalones",
          "pantalones",
          "pantalones",
          "pantalones",
          "pantalones",
          "pantalones",
          "pantalones",
          "pantalones",
          "pantalones",
          "pantalones",
          "pantalones",
          "pantalones",
          "pantalones",
          "pantalones",
          "pantalones",
          "pantalones",
          "pantalones",
          "pantalones",
          "pantalones",
          "pantalones",
          "pantalones",
          "pantalones",
          "pantalones",
          "pantalones",
          "pantalones",
          "pantalones",
          "pantalones",
          "pantalones",
          "pantalones",
          "pantalones",
          "pantalones",
          "pantalones",
          "pantalones",
          "pantalones",
          "pantalones",
          "pantalones",
          "pantalones",
          "pantalones",
          "pantalones",
          "pantalones",
          "pantalones",
          "pantalones",
          "pantalones",
          "pantalones",
          "pantalones",
          "pantalones",
          "pantalones",
          "pantalones",
          "pantalones",
          "pantalones",
          "pantalones",
          "pantalones",
          "pantalones",
          "pantalones",
          "pantalones",
          "pantalones",
          "pantalones",
          "pantalones",
          "pantalones"
         ],
         "x0": " ",
         "xaxis": "x",
         "y": {
          "bdata": "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",
          "dtype": "f8"
         },
         "y0": " ",
         "yaxis": "y"
        },
        {
         "alignmentgroup": "True",
         "hovertemplate": "Categoría Proc=%{x}<br>Margen Ganancia Real=%{y}<extra></extra>",
         "legendgroup": "gorra",
         "marker": {
          "color": "#EF553B"
         },
         "name": "gorra",
         "notched": false,
         "offsetgroup": "gorra",
         "orientation": "v",
         "showlegend": true,
         "type": "box",
         "x": [
          "gorra",
          "gorra",
          "gorra",
          "gorra",
          "gorra",
          "gorra",
          "gorra",
          "gorra",
          "gorra",
          "gorra",
          "gorra",
          "gorra",
          "gorra",
          "gorra",
          "gorra",
          "gorra",
          "gorra",
          "gorra",
          "gorra",
          "gorra",
          "gorra",
          "gorra",
          "gorra",
          "gorra",
          "gorra",
          "gorra",
          "gorra",
          "gorra",
          "gorra",
          "gorra",
          "gorra",
          "gorra",
          "gorra",
          "gorra",
          "gorra",
          "gorra",
          "gorra",
          "gorra",
          "gorra",
          "gorra",
          "gorra",
          "gorra",
          "gorra",
          "gorra",
          "gorra",
          "gorra",
          "gorra",
          "gorra",
          "gorra",
          "gorra",
          "gorra",
          "gorra",
          "gorra",
          "gorra",
          "gorra",
          "gorra",
          "gorra",
          "gorra",
          "gorra",
          "gorra",
          "gorra",
          "gorra",
          "gorra",
          "gorra",
          "gorra",
          "gorra",
          "gorra",
          "gorra",
          "gorra",
          "gorra",
          "gorra",
          "gorra",
          "gorra",
          "gorra",
          "gorra",
          "gorra",
          "gorra",
          "gorra",
          "gorra",
          "gorra",
          "gorra",
          "gorra",
          "gorra",
          "gorra",
          "gorra",
          "gorra",
          "gorra",
          "gorra",
          "gorra",
          "gorra",
          "gorra",
          "gorra",
          "gorra",
          "gorra",
          "gorra",
          "gorra",
          "gorra",
          "gorra",
          "gorra",
          "gorra",
          "gorra",
          "gorra",
          "gorra",
          "gorra",
          "gorra",
          "gorra",
          "gorra",
          "gorra",
          "gorra",
          "gorra",
          "gorra",
          "gorra",
          "gorra",
          "gorra",
          "gorra",
          "gorra",
          "gorra",
          "gorra",
          "gorra",
          "gorra",
          "gorra",
          "gorra",
          "gorra",
          "gorra",
          "gorra",
          "gorra",
          "gorra",
          "gorra",
          "gorra",
          "gorra",
          "gorra",
          "gorra",
          "gorra",
          "gorra",
          "gorra",
          "gorra",
          "gorra",
          "gorra",
          "gorra",
          "gorra",
          "gorra",
          "gorra",
          "gorra",
          "gorra",
          "gorra",
          "gorra",
          "gorra",
          "gorra",
          "gorra",
          "gorra",
          "gorra",
          "gorra",
          "gorra",
          "gorra",
          "gorra",
          "gorra",
          "gorra",
          "gorra",
          "gorra",
          "gorra",
          "gorra",
          "gorra",
          "gorra",
          "gorra",
          "gorra",
          "gorra",
          "gorra",
          "gorra",
          "gorra",
          "gorra",
          "gorra",
          "gorra",
          "gorra",
          "gorra",
          "gorra",
          "gorra",
          "gorra",
          "gorra",
          "gorra",
          "gorra",
          "gorra",
          "gorra",
          "gorra",
          "gorra",
          "gorra",
          "gorra",
          "gorra",
          "gorra",
          "gorra",
          "gorra",
          "gorra",
          "gorra",
          "gorra",
          "gorra",
          "gorra",
          "gorra",
          "gorra",
          "gorra",
          "gorra",
          "gorra",
          "gorra",
          "gorra",
          "gorra",
          "gorra",
          "gorra",
          "gorra",
          "gorra",
          "gorra",
          "gorra",
          "gorra",
          "gorra",
          "gorra",
          "gorra",
          "gorra",
          "gorra",
          "gorra",
          "gorra",
          "gorra",
          "gorra",
          "gorra",
          "gorra",
          "gorra",
          "gorra",
          "gorra",
          "gorra",
          "gorra",
          "gorra",
          "gorra",
          "gorra",
          "gorra",
          "gorra",
          "gorra",
          "gorra",
          "gorra",
          "gorra"
         ],
         "x0": " ",
         "xaxis": "x",
         "y": {
          "bdata": "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",
          "dtype": "f8"
         },
         "y0": " ",
         "yaxis": "y"
        },
        {
         "alignmentgroup": "True",
         "hovertemplate": "Categoría Proc=%{x}<br>Margen Ganancia Real=%{y}<extra></extra>",
         "legendgroup": "camiseta",
         "marker": {
          "color": "#00cc96"
         },
         "name": "camiseta",
         "notched": false,
         "offsetgroup": "camiseta",
         "orientation": "v",
         "showlegend": true,
         "type": "box",
         "x": [
          "camiseta",
          "camiseta",
          "camiseta",
          "camiseta",
          "camiseta",
          "camiseta",
          "camiseta",
          "camiseta",
          "camiseta",
          "camiseta",
          "camiseta",
          "camiseta",
          "camiseta",
          "camiseta",
          "camiseta",
          "camiseta",
          "camiseta",
          "camiseta",
          "camiseta",
          "camiseta",
          "camiseta",
          "camiseta",
          "camiseta",
          "camiseta",
          "camiseta",
          "camiseta",
          "camiseta",
          "camiseta",
          "camiseta",
          "camiseta",
          "camiseta",
          "camiseta",
          "camiseta",
          "camiseta",
          "camiseta",
          "camiseta",
          "camiseta",
          "camiseta",
          "camiseta",
          "camiseta",
          "camiseta",
          "camiseta",
          "camiseta",
          "camiseta",
          "camiseta",
          "camiseta",
          "camiseta",
          "camiseta",
          "camiseta",
          "camiseta",
          "camiseta",
          "camiseta",
          "camiseta",
          "camiseta",
          "camiseta",
          "camiseta",
          "camiseta",
          "camiseta",
          "camiseta",
          "camiseta",
          "camiseta",
          "camiseta",
          "camiseta",
          "camiseta",
          "camiseta",
          "camiseta",
          "camiseta",
          "camiseta",
          "camiseta",
          "camiseta",
          "camiseta",
          "camiseta",
          "camiseta",
          "camiseta",
          "camiseta",
          "camiseta",
          "camiseta",
          "camiseta",
          "camiseta",
          "camiseta",
          "camiseta",
          "camiseta",
          "camiseta",
          "camiseta",
          "camiseta",
          "camiseta",
          "camiseta",
          "camiseta",
          "camiseta",
          "camiseta",
          "camiseta",
          "camiseta",
          "camiseta",
          "camiseta",
          "camiseta",
          "camiseta",
          "camiseta",
          "camiseta",
          "camiseta",
          "camiseta",
          "camiseta",
          "camiseta",
          "camiseta",
          "camiseta",
          "camiseta",
          "camiseta",
          "camiseta",
          "camiseta",
          "camiseta",
          "camiseta",
          "camiseta",
          "camiseta",
          "camiseta",
          "camiseta",
          "camiseta",
          "camiseta",
          "camiseta",
          "camiseta",
          "camiseta",
          "camiseta",
          "camiseta",
          "camiseta",
          "camiseta",
          "camiseta",
          "camiseta",
          "camiseta",
          "camiseta",
          "camiseta",
          "camiseta",
          "camiseta",
          "camiseta",
          "camiseta",
          "camiseta",
          "camiseta",
          "camiseta",
          "camiseta",
          "camiseta",
          "camiseta",
          "camiseta",
          "camiseta",
          "camiseta",
          "camiseta",
          "camiseta",
          "camiseta",
          "camiseta",
          "camiseta",
          "camiseta",
          "camiseta",
          "camiseta",
          "camiseta",
          "camiseta",
          "camiseta",
          "camiseta",
          "camiseta",
          "camiseta",
          "camiseta",
          "camiseta",
          "camiseta",
          "camiseta",
          "camiseta",
          "camiseta",
          "camiseta",
          "camiseta",
          "camiseta",
          "camiseta",
          "camiseta",
          "camiseta",
          "camiseta",
          "camiseta",
          "camiseta",
          "camiseta",
          "camiseta",
          "camiseta",
          "camiseta",
          "camiseta",
          "camiseta",
          "camiseta",
          "camiseta",
          "camiseta",
          "camiseta",
          "camiseta",
          "camiseta",
          "camiseta",
          "camiseta",
          "camiseta",
          "camiseta",
          "camiseta",
          "camiseta",
          "camiseta",
          "camiseta",
          "camiseta",
          "camiseta",
          "camiseta",
          "camiseta",
          "camiseta",
          "camiseta",
          "camiseta",
          "camiseta",
          "camiseta",
          "camiseta",
          "camiseta",
          "camiseta",
          "camiseta",
          "camiseta",
          "camiseta",
          "camiseta",
          "camiseta",
          "camiseta",
          "camiseta",
          "camiseta",
          "camiseta",
          "camiseta",
          "camiseta",
          "camiseta",
          "camiseta",
          "camiseta",
          "camiseta",
          "camiseta",
          "camiseta",
          "camiseta",
          "camiseta",
          "camiseta",
          "camiseta",
          "camiseta",
          "camiseta",
          "camiseta",
          "camiseta",
          "camiseta",
          "camiseta",
          "camiseta",
          "camiseta",
          "camiseta",
          "camiseta",
          "camiseta",
          "camiseta",
          "camiseta",
          "camiseta",
          "camiseta",
          "camiseta",
          "camiseta",
          "camiseta",
          "camiseta",
          "camiseta",
          "camiseta",
          "camiseta",
          "camiseta",
          "camiseta",
          "camiseta",
          "camiseta",
          "camiseta",
          "camiseta",
          "camiseta",
          "camiseta",
          "camiseta",
          "camiseta",
          "camiseta",
          "camiseta",
          "camiseta",
          "camiseta",
          "camiseta",
          "camiseta",
          "camiseta",
          "camiseta",
          "camiseta",
          "camiseta",
          "camiseta",
          "camiseta",
          "camiseta",
          "camiseta",
          "camiseta",
          "camiseta",
          "camiseta",
          "camiseta",
          "camiseta",
          "camiseta",
          "camiseta",
          "camiseta",
          "camiseta",
          "camiseta",
          "camiseta",
          "camiseta",
          "camiseta",
          "camiseta",
          "camiseta",
          "camiseta",
          "camiseta",
          "camiseta",
          "camiseta",
          "camiseta",
          "camiseta",
          "camiseta",
          "camiseta",
          "camiseta",
          "camiseta",
          "camiseta",
          "camiseta",
          "camiseta",
          "camiseta",
          "camiseta",
          "camiseta",
          "camiseta",
          "camiseta",
          "camiseta",
          "camiseta",
          "camiseta",
          "camiseta",
          "camiseta",
          "camiseta",
          "camiseta",
          "camiseta",
          "camiseta",
          "camiseta",
          "camiseta",
          "camiseta",
          "camiseta",
          "camiseta",
          "camiseta",
          "camiseta",
          "camiseta",
          "camiseta",
          "camiseta",
          "camiseta",
          "camiseta",
          "camiseta",
          "camiseta",
          "camiseta",
          "camiseta",
          "camiseta",
          "camiseta",
          "camiseta",
          "camiseta",
          "camiseta",
          "camiseta",
          "camiseta",
          "camiseta",
          "camiseta",
          "camiseta",
          "camiseta",
          "camiseta",
          "camiseta",
          "camiseta",
          "camiseta",
          "camiseta",
          "camiseta",
          "camiseta",
          "camiseta",
          "camiseta",
          "camiseta",
          "camiseta",
          "camiseta",
          "camiseta",
          "camiseta",
          "camiseta",
          "camiseta",
          "camiseta",
          "camiseta",
          "camiseta",
          "camiseta",
          "camiseta",
          "camiseta",
          "camiseta",
          "camiseta",
          "camiseta",
          "camiseta",
          "camiseta",
          "camiseta",
          "camiseta",
          "camiseta",
          "camiseta",
          "camiseta",
          "camiseta",
          "camiseta",
          "camiseta",
          "camiseta",
          "camiseta",
          "camiseta",
          "camiseta",
          "camiseta",
          "camiseta",
          "camiseta",
          "camiseta",
          "camiseta",
          "camiseta",
          "camiseta",
          "camiseta",
          "camiseta",
          "camiseta",
          "camiseta",
          "camiseta",
          "camiseta",
          "camiseta",
          "camiseta",
          "camiseta",
          "camiseta",
          "camiseta",
          "camiseta",
          "camiseta",
          "camiseta",
          "camiseta",
          "camiseta",
          "camiseta",
          "camiseta",
          "camiseta",
          "camiseta",
          "camiseta",
          "camiseta",
          "camiseta",
          "camiseta",
          "camiseta",
          "camiseta",
          "camiseta",
          "camiseta",
          "camiseta",
          "camiseta",
          "camiseta",
          "camiseta",
          "camiseta",
          "camiseta",
          "camiseta",
          "camiseta",
          "camiseta",
          "camiseta",
          "camiseta",
          "camiseta",
          "camiseta",
          "camiseta",
          "camiseta",
          "camiseta",
          "camiseta",
          "camiseta",
          "camiseta",
          "camiseta",
          "camiseta",
          "camiseta",
          "camiseta",
          "camiseta",
          "camiseta",
          "camiseta",
          "camiseta",
          "camiseta",
          "camiseta",
          "camiseta",
          "camiseta",
          "camiseta",
          "camiseta",
          "camiseta",
          "camiseta",
          "camiseta",
          "camiseta",
          "camiseta",
          "camiseta",
          "camiseta",
          "camiseta",
          "camiseta",
          "camiseta",
          "camiseta",
          "camiseta",
          "camiseta",
          "camiseta",
          "camiseta",
          "camiseta",
          "camiseta",
          "camiseta",
          "camiseta",
          "camiseta",
          "camiseta",
          "camiseta",
          "camiseta",
          "camiseta",
          "camiseta",
          "camiseta",
          "camiseta",
          "camiseta",
          "camiseta",
          "camiseta",
          "camiseta",
          "camiseta",
          "camiseta",
          "camiseta",
          "camiseta",
          "camiseta",
          "camiseta",
          "camiseta",
          "camiseta",
          "camiseta",
          "camiseta",
          "camiseta",
          "camiseta",
          "camiseta",
          "camiseta",
          "camiseta",
          "camiseta",
          "camiseta",
          "camiseta",
          "camiseta",
          "camiseta",
          "camiseta",
          "camiseta",
          "camiseta",
          "camiseta",
          "camiseta",
          "camiseta",
          "camiseta",
          "camiseta",
          "camiseta",
          "camiseta",
          "camiseta",
          "camiseta",
          "camiseta",
          "camiseta",
          "camiseta",
          "camiseta",
          "camiseta",
          "camiseta",
          "camiseta",
          "camiseta",
          "camiseta",
          "camiseta",
          "camiseta",
          "camiseta",
          "camiseta",
          "camiseta",
          "camiseta",
          "camiseta",
          "camiseta",
          "camiseta",
          "camiseta",
          "camiseta",
          "camiseta",
          "camiseta",
          "camiseta",
          "camiseta",
          "camiseta",
          "camiseta",
          "camiseta",
          "camiseta",
          "camiseta",
          "camiseta",
          "camiseta",
          "camiseta",
          "camiseta",
          "camiseta",
          "camiseta",
          "camiseta",
          "camiseta",
          "camiseta",
          "camiseta",
          "camiseta",
          "camiseta",
          "camiseta",
          "camiseta",
          "camiseta",
          "camiseta",
          "camiseta",
          "camiseta",
          "camiseta",
          "camiseta",
          "camiseta",
          "camiseta",
          "camiseta",
          "camiseta",
          "camiseta",
          "camiseta",
          "camiseta",
          "camiseta",
          "camiseta",
          "camiseta",
          "camiseta",
          "camiseta",
          "camiseta",
          "camiseta",
          "camiseta",
          "camiseta",
          "camiseta",
          "camiseta",
          "camiseta",
          "camiseta",
          "camiseta",
          "camiseta",
          "camiseta",
          "camiseta",
          "camiseta",
          "camiseta",
          "camiseta",
          "camiseta",
          "camiseta",
          "camiseta",
          "camiseta",
          "camiseta",
          "camiseta",
          "camiseta",
          "camiseta",
          "camiseta",
          "camiseta",
          "camiseta",
          "camiseta",
          "camiseta",
          "camiseta",
          "camiseta",
          "camiseta",
          "camiseta",
          "camiseta",
          "camiseta",
          "camiseta",
          "camiseta",
          "camiseta",
          "camiseta",
          "camiseta",
          "camiseta",
          "camiseta",
          "camiseta",
          "camiseta",
          "camiseta",
          "camiseta",
          "camiseta",
          "camiseta",
          "camiseta",
          "camiseta",
          "camiseta",
          "camiseta",
          "camiseta",
          "camiseta",
          "camiseta",
          "camiseta",
          "camiseta",
          "camiseta",
          "camiseta",
          "camiseta",
          "camiseta",
          "camiseta",
          "camiseta",
          "camiseta",
          "camiseta",
          "camiseta",
          "camiseta",
          "camiseta",
          "camiseta",
          "camiseta",
          "camiseta",
          "camiseta",
          "camiseta",
          "camiseta",
          "camiseta",
          "camiseta",
          "camiseta",
          "camiseta",
          "camiseta",
          "camiseta",
          "camiseta",
          "camiseta",
          "camiseta",
          "camiseta",
          "camiseta",
          "camiseta",
          "camiseta",
          "camiseta",
          "camiseta",
          "camiseta",
          "camiseta",
          "camiseta",
          "camiseta",
          "camiseta",
          "camiseta",
          "camiseta",
          "camiseta",
          "camiseta",
          "camiseta"
         ],
         "x0": " ",
         "xaxis": "x",
         "y": {
          "bdata": "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",
          "dtype": "f8"
         },
         "y0": " ",
         "yaxis": "y"
        },
        {
         "alignmentgroup": "True",
         "hovertemplate": "Categoría Proc=%{x}<br>Margen Ganancia Real=%{y}<extra></extra>",
         "legendgroup": "accesorios",
         "marker": {
          "color": "#ab63fa"
         },
         "name": "accesorios",
         "notched": false,
         "offsetgroup": "accesorios",
         "orientation": "v",
         "showlegend": true,
         "type": "box",
         "x": [
          "accesorios",
          "accesorios",
          "accesorios",
          "accesorios",
          "accesorios",
          "accesorios",
          "accesorios",
          "accesorios",
          "accesorios",
          "accesorios",
          "accesorios",
          "accesorios",
          "accesorios",
          "accesorios",
          "accesorios",
          "accesorios",
          "accesorios",
          "accesorios",
          "accesorios",
          "accesorios",
          "accesorios",
          "accesorios",
          "accesorios",
          "accesorios",
          "accesorios",
          "accesorios",
          "accesorios",
          "accesorios",
          "accesorios",
          "accesorios",
          "accesorios",
          "accesorios",
          "accesorios",
          "accesorios",
          "accesorios",
          "accesorios",
          "accesorios",
          "accesorios",
          "accesorios",
          "accesorios",
          "accesorios",
          "accesorios",
          "accesorios",
          "accesorios",
          "accesorios",
          "accesorios",
          "accesorios",
          "accesorios",
          "accesorios",
          "accesorios",
          "accesorios",
          "accesorios",
          "accesorios",
          "accesorios",
          "accesorios",
          "accesorios",
          "accesorios",
          "accesorios",
          "accesorios",
          "accesorios",
          "accesorios",
          "accesorios",
          "accesorios",
          "accesorios",
          "accesorios",
          "accesorios",
          "accesorios",
          "accesorios",
          "accesorios",
          "accesorios",
          "accesorios",
          "accesorios",
          "accesorios",
          "accesorios",
          "accesorios",
          "accesorios",
          "accesorios",
          "accesorios",
          "accesorios",
          "accesorios",
          "accesorios",
          "accesorios",
          "accesorios",
          "accesorios",
          "accesorios"
         ],
         "x0": " ",
         "xaxis": "x",
         "y": {
          "bdata": "FK5H4XoUKkAUrkfhehQqQNejcD0Kl0RA16NwPQqXREDXo3A9CpdEQBSuR+F6FCpAFK5H4XoUKkAUrkfhehQqQBSuR+F6FCpA4XoUrkfhNUDhehSuR+E1QOF6FK5H4TVA4XoUrkfhNUDhehSuR+E1QOF6FK5H4TVA4XoUrkfhNUAUrkfhehQqQBSuR+F6FCpA16NwPQqXREDXo3A9CpdEQNejcD0Kl0RA16NwPQqXREDXo3A9CpdEQNejcD0Kl0RAAAAAAAAAAAAAAAAAAAAAAAAAAAAAAAAArkfhehQuIkCuR+F6FC4iQK5H4XoULiJA7FG4HoWrMEDsUbgehaswQOxRuB6FqzBA7FG4HoWrMECPwvUoXI8+QI/C9Shcjz5Aj8L1KFyPPkDsUbgehaswQOxRuB6FqzBA7FG4HoWrMEDsUbgehaswQI/C9Shcjz5Aj8L1KFyPPkCPwvUoXI8+QOF6FK5H4TVA4XoUrkfhNUDhehSuR+E1QOF6FK5H4TVA4XoUrkfhNUDhehSuR+E1QOF6FK5H4TVA4XoUrkfhNUDhehSuR+E1QOF6FK5H4TVA4XoUrkfhNUDhehSuR+E1QBSuR+F6FDdAFK5H4XoUN0AUrkfhehQ3QBSuR+F6FDdAMzMzMzOzMkAzMzMzM7MyQDMzMzMzszJAMzMzMzOzMkCPwvUoXI8+QI/C9Shcjz5Aj8L1KFyPPkCPwvUoXI8+QI/C9Shcjz5Aj8L1KFyPPkCPwvUoXI8+QI/C9Shcjz5Aj8L1KFyPPkCPwvUoXI8+QI/C9Shcjz5Aj8L1KFyPPkCPwvUoXI8+QI/C9Shcjz5Aj8L1KFyPPkCPwvUoXI8+QI/C9Shcjz5Aj8L1KFyPPkCPwvUoXI8+QI/C9Shcjz5Aj8L1KFyPPkA=",
          "dtype": "f8"
         },
         "y0": " ",
         "yaxis": "y"
        },
        {
         "alignmentgroup": "True",
         "hovertemplate": "Categoría Proc=%{x}<br>Margen Ganancia Real=%{y}<extra></extra>",
         "legendgroup": "chaquetas",
         "marker": {
          "color": "#FFA15A"
         },
         "name": "chaquetas",
         "notched": false,
         "offsetgroup": "chaquetas",
         "orientation": "v",
         "showlegend": true,
         "type": "box",
         "x": [
          "chaquetas",
          "chaquetas",
          "chaquetas",
          "chaquetas",
          "chaquetas",
          "chaquetas",
          "chaquetas",
          "chaquetas",
          "chaquetas",
          "chaquetas",
          "chaquetas",
          "chaquetas",
          "chaquetas",
          "chaquetas",
          "chaquetas",
          "chaquetas",
          "chaquetas",
          "chaquetas",
          "chaquetas",
          "chaquetas",
          "chaquetas",
          "chaquetas",
          "chaquetas",
          "chaquetas",
          "chaquetas",
          "chaquetas",
          "chaquetas",
          "chaquetas",
          "chaquetas",
          "chaquetas",
          "chaquetas",
          "chaquetas",
          "chaquetas",
          "chaquetas",
          "chaquetas",
          "chaquetas",
          "chaquetas",
          "chaquetas",
          "chaquetas",
          "chaquetas",
          "chaquetas",
          "chaquetas",
          "chaquetas",
          "chaquetas",
          "chaquetas",
          "chaquetas",
          "chaquetas",
          "chaquetas",
          "chaquetas",
          "chaquetas",
          "chaquetas",
          "chaquetas",
          "chaquetas",
          "chaquetas",
          "chaquetas",
          "chaquetas",
          "chaquetas",
          "chaquetas",
          "chaquetas",
          "chaquetas",
          "chaquetas",
          "chaquetas",
          "chaquetas",
          "chaquetas",
          "chaquetas",
          "chaquetas",
          "chaquetas",
          "chaquetas",
          "chaquetas",
          "chaquetas",
          "chaquetas",
          "chaquetas",
          "chaquetas",
          "chaquetas",
          "chaquetas",
          "chaquetas",
          "chaquetas",
          "chaquetas",
          "chaquetas",
          "chaquetas",
          "chaquetas",
          "chaquetas",
          "chaquetas",
          "chaquetas",
          "chaquetas",
          "chaquetas",
          "chaquetas",
          "chaquetas",
          "chaquetas",
          "chaquetas",
          "chaquetas",
          "chaquetas",
          "chaquetas",
          "chaquetas",
          "chaquetas",
          "chaquetas",
          "chaquetas",
          "chaquetas",
          "chaquetas",
          "chaquetas",
          "chaquetas",
          "chaquetas",
          "chaquetas",
          "chaquetas",
          "chaquetas",
          "chaquetas",
          "chaquetas",
          "chaquetas",
          "chaquetas",
          "chaquetas",
          "chaquetas",
          "chaquetas",
          "chaquetas",
          "chaquetas",
          "chaquetas",
          "chaquetas",
          "chaquetas",
          "chaquetas",
          "chaquetas",
          "chaquetas",
          "chaquetas",
          "chaquetas",
          "chaquetas",
          "chaquetas",
          "chaquetas",
          "chaquetas",
          "chaquetas",
          "chaquetas",
          "chaquetas",
          "chaquetas",
          "chaquetas",
          "chaquetas",
          "chaquetas",
          "chaquetas",
          "chaquetas",
          "chaquetas",
          "chaquetas",
          "chaquetas",
          "chaquetas",
          "chaquetas",
          "chaquetas",
          "chaquetas",
          "chaquetas",
          "chaquetas",
          "chaquetas",
          "chaquetas",
          "chaquetas",
          "chaquetas",
          "chaquetas",
          "chaquetas",
          "chaquetas",
          "chaquetas",
          "chaquetas",
          "chaquetas",
          "chaquetas",
          "chaquetas",
          "chaquetas",
          "chaquetas",
          "chaquetas",
          "chaquetas",
          "chaquetas",
          "chaquetas",
          "chaquetas",
          "chaquetas",
          "chaquetas",
          "chaquetas",
          "chaquetas",
          "chaquetas",
          "chaquetas",
          "chaquetas",
          "chaquetas",
          "chaquetas",
          "chaquetas",
          "chaquetas",
          "chaquetas",
          "chaquetas",
          "chaquetas",
          "chaquetas",
          "chaquetas",
          "chaquetas",
          "chaquetas",
          "chaquetas",
          "chaquetas",
          "chaquetas",
          "chaquetas",
          "chaquetas",
          "chaquetas",
          "chaquetas",
          "chaquetas",
          "chaquetas",
          "chaquetas",
          "chaquetas",
          "chaquetas",
          "chaquetas",
          "chaquetas",
          "chaquetas",
          "chaquetas",
          "chaquetas",
          "chaquetas",
          "chaquetas",
          "chaquetas",
          "chaquetas",
          "chaquetas",
          "chaquetas",
          "chaquetas",
          "chaquetas",
          "chaquetas",
          "chaquetas",
          "chaquetas",
          "chaquetas",
          "chaquetas",
          "chaquetas",
          "chaquetas",
          "chaquetas",
          "chaquetas",
          "chaquetas",
          "chaquetas",
          "chaquetas",
          "chaquetas",
          "chaquetas",
          "chaquetas",
          "chaquetas",
          "chaquetas",
          "chaquetas",
          "chaquetas",
          "chaquetas",
          "chaquetas",
          "chaquetas",
          "chaquetas",
          "chaquetas",
          "chaquetas",
          "chaquetas",
          "chaquetas",
          "chaquetas",
          "chaquetas",
          "chaquetas",
          "chaquetas",
          "chaquetas",
          "chaquetas",
          "chaquetas",
          "chaquetas",
          "chaquetas",
          "chaquetas",
          "chaquetas",
          "chaquetas",
          "chaquetas",
          "chaquetas",
          "chaquetas",
          "chaquetas",
          "chaquetas",
          "chaquetas",
          "chaquetas",
          "chaquetas",
          "chaquetas",
          "chaquetas",
          "chaquetas",
          "chaquetas",
          "chaquetas",
          "chaquetas",
          "chaquetas",
          "chaquetas",
          "chaquetas",
          "chaquetas",
          "chaquetas",
          "chaquetas",
          "chaquetas",
          "chaquetas",
          "chaquetas",
          "chaquetas",
          "chaquetas",
          "chaquetas",
          "chaquetas",
          "chaquetas",
          "chaquetas",
          "chaquetas",
          "chaquetas",
          "chaquetas",
          "chaquetas",
          "chaquetas",
          "chaquetas",
          "chaquetas"
         ],
         "x0": " ",
         "xaxis": "x",
         "y": {
          "bdata": "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",
          "dtype": "f8"
         },
         "y0": " ",
         "yaxis": "y"
        },
        {
         "alignmentgroup": "True",
         "hovertemplate": "Categoría Proc=%{x}<br>Margen Ganancia Real=%{y}<extra></extra>",
         "legendgroup": "overol",
         "marker": {
          "color": "#19d3f3"
         },
         "name": "overol",
         "notched": false,
         "offsetgroup": "overol",
         "orientation": "v",
         "showlegend": true,
         "type": "box",
         "x": [
          "overol",
          "overol",
          "overol",
          "overol",
          "overol",
          "overol",
          "overol",
          "overol",
          "overol",
          "overol"
         ],
         "x0": " ",
         "xaxis": "x",
         "y": {
          "bdata": "AAAAAAAANEAAAAAAAAA0QAAAAAAAADRAAAAAAAAANEAAAAAAAAA0QAAAAAAAADRAAAAAAAAANEAAAAAAAAA0QAAAAAAAADRAAAAAAAAANEA=",
          "dtype": "f8"
         },
         "y0": " ",
         "yaxis": "y"
        },
        {
         "alignmentgroup": "True",
         "hovertemplate": "Categoría Proc=%{x}<br>Margen Ganancia Real=%{y}<extra></extra>",
         "legendgroup": "delantal",
         "marker": {
          "color": "#FF6692"
         },
         "name": "delantal",
         "notched": false,
         "offsetgroup": "delantal",
         "orientation": "v",
         "showlegend": true,
         "type": "box",
         "x": [
          "delantal",
          "delantal",
          "delantal",
          "delantal",
          "delantal",
          "delantal",
          "delantal",
          "delantal",
          "delantal",
          "delantal",
          "delantal",
          "delantal",
          "delantal",
          "delantal",
          "delantal",
          "delantal",
          "delantal",
          "delantal",
          "delantal",
          "delantal",
          "delantal",
          "delantal",
          "delantal",
          "delantal",
          "delantal",
          "delantal",
          "delantal",
          "delantal",
          "delantal",
          "delantal",
          "delantal",
          "delantal",
          "delantal",
          "delantal",
          "delantal",
          "delantal",
          "delantal",
          "delantal",
          "delantal",
          "delantal",
          "delantal",
          "delantal",
          "delantal",
          "delantal",
          "delantal",
          "delantal",
          "delantal",
          "delantal",
          "delantal",
          "delantal",
          "delantal",
          "delantal",
          "delantal",
          "delantal",
          "delantal",
          "delantal",
          "delantal",
          "delantal",
          "delantal",
          "delantal",
          "delantal",
          "delantal",
          "delantal",
          "delantal",
          "delantal",
          "delantal",
          "delantal",
          "delantal",
          "delantal",
          "delantal",
          "delantal",
          "delantal",
          "delantal",
          "delantal",
          "delantal",
          "delantal",
          "delantal",
          "delantal",
          "delantal",
          "delantal",
          "delantal",
          "delantal",
          "delantal",
          "delantal",
          "delantal",
          "delantal",
          "delantal",
          "delantal",
          "delantal",
          "delantal",
          "delantal",
          "delantal",
          "delantal",
          "delantal",
          "delantal",
          "delantal",
          "delantal",
          "delantal",
          "delantal",
          "delantal",
          "delantal",
          "delantal",
          "delantal",
          "delantal",
          "delantal",
          "delantal",
          "delantal",
          "delantal",
          "delantal",
          "delantal",
          "delantal",
          "delantal",
          "delantal",
          "delantal",
          "delantal",
          "delantal",
          "delantal",
          "delantal",
          "delantal",
          "delantal",
          "delantal",
          "delantal",
          "delantal",
          "delantal",
          "delantal",
          "delantal",
          "delantal",
          "delantal",
          "delantal",
          "delantal",
          "delantal",
          "delantal",
          "delantal",
          "delantal",
          "delantal",
          "delantal",
          "delantal",
          "delantal",
          "delantal",
          "delantal",
          "delantal",
          "delantal",
          "delantal",
          "delantal",
          "delantal",
          "delantal",
          "delantal",
          "delantal",
          "delantal",
          "delantal",
          "delantal",
          "delantal",
          "delantal",
          "delantal",
          "delantal",
          "delantal",
          "delantal",
          "delantal",
          "delantal",
          "delantal",
          "delantal",
          "delantal",
          "delantal",
          "delantal",
          "delantal",
          "delantal",
          "delantal",
          "delantal",
          "delantal",
          "delantal",
          "delantal",
          "delantal",
          "delantal",
          "delantal",
          "delantal",
          "delantal",
          "delantal",
          "delantal",
          "delantal",
          "delantal",
          "delantal",
          "delantal",
          "delantal",
          "delantal",
          "delantal",
          "delantal",
          "delantal",
          "delantal",
          "delantal",
          "delantal",
          "delantal",
          "delantal",
          "delantal",
          "delantal",
          "delantal",
          "delantal",
          "delantal",
          "delantal",
          "delantal",
          "delantal",
          "delantal",
          "delantal",
          "delantal",
          "delantal",
          "delantal",
          "delantal",
          "delantal",
          "delantal",
          "delantal",
          "delantal",
          "delantal",
          "delantal",
          "delantal",
          "delantal",
          "delantal",
          "delantal",
          "delantal",
          "delantal",
          "delantal",
          "delantal",
          "delantal",
          "delantal",
          "delantal",
          "delantal",
          "delantal",
          "delantal",
          "delantal",
          "delantal",
          "delantal",
          "delantal",
          "delantal",
          "delantal",
          "delantal",
          "delantal",
          "delantal",
          "delantal",
          "delantal",
          "delantal",
          "delantal",
          "delantal",
          "delantal",
          "delantal",
          "delantal",
          "delantal",
          "delantal",
          "delantal",
          "delantal",
          "delantal",
          "delantal",
          "delantal",
          "delantal",
          "delantal",
          "delantal",
          "delantal",
          "delantal",
          "delantal",
          "delantal",
          "delantal",
          "delantal",
          "delantal",
          "delantal",
          "delantal",
          "delantal",
          "delantal",
          "delantal",
          "delantal",
          "delantal",
          "delantal",
          "delantal",
          "delantal",
          "delantal",
          "delantal",
          "delantal",
          "delantal",
          "delantal",
          "delantal",
          "delantal",
          "delantal",
          "delantal",
          "delantal",
          "delantal",
          "delantal",
          "delantal",
          "delantal",
          "delantal",
          "delantal",
          "delantal",
          "delantal",
          "delantal",
          "delantal",
          "delantal",
          "delantal",
          "delantal",
          "delantal",
          "delantal",
          "delantal",
          "delantal",
          "delantal",
          "delantal",
          "delantal",
          "delantal",
          "delantal",
          "delantal",
          "delantal",
          "delantal",
          "delantal",
          "delantal",
          "delantal",
          "delantal",
          "delantal",
          "delantal",
          "delantal",
          "delantal",
          "delantal",
          "delantal",
          "delantal",
          "delantal",
          "delantal",
          "delantal",
          "delantal",
          "delantal",
          "delantal",
          "delantal",
          "delantal",
          "delantal",
          "delantal",
          "delantal",
          "delantal",
          "delantal",
          "delantal",
          "delantal",
          "delantal",
          "delantal",
          "delantal",
          "delantal",
          "delantal",
          "delantal",
          "delantal",
          "delantal",
          "delantal",
          "delantal",
          "delantal",
          "delantal",
          "delantal",
          "delantal",
          "delantal",
          "delantal"
         ],
         "x0": " ",
         "xaxis": "x",
         "y": {
          "bdata": "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",
          "dtype": "f8"
         },
         "y0": " ",
         "yaxis": "y"
        },
        {
         "alignmentgroup": "True",
         "hovertemplate": "Categoría Proc=%{x}<br>Margen Ganancia Real=%{y}<extra></extra>",
         "legendgroup": "camisa",
         "marker": {
          "color": "#B6E880"
         },
         "name": "camisa",
         "notched": false,
         "offsetgroup": "camisa",
         "orientation": "v",
         "showlegend": true,
         "type": "box",
         "x": [
          "camisa",
          "camisa",
          "camisa",
          "camisa",
          "camisa",
          "camisa",
          "camisa",
          "camisa",
          "camisa",
          "camisa",
          "camisa",
          "camisa",
          "camisa",
          "camisa",
          "camisa",
          "camisa",
          "camisa",
          "camisa",
          "camisa",
          "camisa",
          "camisa",
          "camisa",
          "camisa",
          "camisa",
          "camisa",
          "camisa",
          "camisa",
          "camisa",
          "camisa",
          "camisa",
          "camisa",
          "camisa",
          "camisa",
          "camisa",
          "camisa",
          "camisa",
          "camisa",
          "camisa",
          "camisa",
          "camisa",
          "camisa",
          "camisa",
          "camisa",
          "camisa",
          "camisa",
          "camisa",
          "camisa",
          "camisa",
          "camisa",
          "camisa",
          "camisa",
          "camisa",
          "camisa",
          "camisa",
          "camisa",
          "camisa",
          "camisa",
          "camisa",
          "camisa",
          "camisa",
          "camisa",
          "camisa",
          "camisa",
          "camisa",
          "camisa",
          "camisa",
          "camisa",
          "camisa",
          "camisa",
          "camisa",
          "camisa",
          "camisa",
          "camisa",
          "camisa",
          "camisa",
          "camisa",
          "camisa",
          "camisa",
          "camisa",
          "camisa",
          "camisa",
          "camisa",
          "camisa",
          "camisa",
          "camisa",
          "camisa",
          "camisa",
          "camisa",
          "camisa",
          "camisa",
          "camisa",
          "camisa",
          "camisa",
          "camisa",
          "camisa",
          "camisa",
          "camisa",
          "camisa",
          "camisa",
          "camisa",
          "camisa",
          "camisa",
          "camisa",
          "camisa",
          "camisa",
          "camisa",
          "camisa",
          "camisa",
          "camisa",
          "camisa",
          "camisa",
          "camisa",
          "camisa",
          "camisa",
          "camisa",
          "camisa",
          "camisa",
          "camisa",
          "camisa",
          "camisa",
          "camisa",
          "camisa",
          "camisa",
          "camisa",
          "camisa",
          "camisa",
          "camisa",
          "camisa",
          "camisa",
          "camisa",
          "camisa",
          "camisa",
          "camisa",
          "camisa",
          "camisa",
          "camisa",
          "camisa",
          "camisa",
          "camisa",
          "camisa",
          "camisa",
          "camisa",
          "camisa",
          "camisa",
          "camisa",
          "camisa",
          "camisa",
          "camisa",
          "camisa",
          "camisa",
          "camisa",
          "camisa",
          "camisa",
          "camisa",
          "camisa",
          "camisa",
          "camisa",
          "camisa",
          "camisa",
          "camisa",
          "camisa",
          "camisa",
          "camisa",
          "camisa",
          "camisa",
          "camisa",
          "camisa",
          "camisa",
          "camisa",
          "camisa",
          "camisa",
          "camisa",
          "camisa",
          "camisa",
          "camisa",
          "camisa",
          "camisa",
          "camisa",
          "camisa",
          "camisa"
         ],
         "x0": " ",
         "xaxis": "x",
         "y": {
          "bdata": "UrgeheuRPEBSuB6F65E8QFK4HoXrkTxAUrgeheuRPEBSuB6F65E8QFK4HoXrkTxAUrgeheuRPEBSuB6F65E8QFK4HoXrkTxAUrgeheuRPEBSuB6F65E8QFK4HoXrkTxAUrgehetxQEBSuB6F63FAQFK4HoXrcUBAUrgehetxQEBSuB6F63FAQHsUrkfhejZAexSuR+F6NkB7FK5H4Xo2QHsUrkfhejZAexSuR+F6NkBSuB6F63FAQFK4HoXrcUBAUrgehetxQEBSuB6F63FAQFK4HoXrcUBAUrgehetxQEBSuB6F63FAQFK4HoXrcUBAUrgehetxQEBSuB6F63FAQJqZmZmZWTNAmpmZmZlZM0CamZmZmVkzQJqZmZmZWTNAmpmZmZlZM0CamZmZmVkzQJqZmZmZWTNAmpmZmZlZM0CamZmZmVkzQJqZmZmZWTNAmpmZmZlZM0CamZmZmVkzQFK4HoXrkTxAUrgeheuRPEBSuB6F65E8QFK4HoXrkTxAUrgeheuRPEBSuB6F65E8QFK4HoXrkTxAUrgeheuRPEBSuB6F65E8QFK4HoXrkTxAUrgeheuRPEBSuB6F65E8QFK4HoXrkTxAUrgeheuRPEBSuB6F65E8QFK4HoXrkTxAUrgeheuRPEBSuB6F65E8QFK4HoXrkTxAUrgeheuRPEBSuB6F65E8QFK4HoXrkTxAUrgeheuRPEBSuB6F65E8QFK4HoXrcUBAUrgehetxQEBSuB6F63FAQFK4HoXrcUBAUrgehetxQEBI4XoUrgcyQEjhehSuBzJASOF6FK4HMkBI4XoUrgcyQEjhehSuBzJASOF6FK4HMkBI4XoUrgcyQEjhehSuBzJASOF6FK4HMkBI4XoUrgcyQFK4HoXrkTxAUrgeheuRPEBSuB6F65E8QFK4HoXrkTxAUrgeheuRPEBSuB6F65E8QFK4HoXrkTxAUrgeheuRPEBSuB6F65E8QFK4HoXrkTxAUrgeheuRPEBSuB6F65E8QFK4HoXrkTxAUrgeheuRPEBSuB6F65E8QFK4HoXrkTxAUrgeheuRPEBSuB6F65E8QFK4HoXrkTxAUrgeheuRPEBSuB6F65E8QFK4HoXrkTxAUrgeheuRPEBSuB6F65E8QFK4HoXrkTxAUrgeheuRPEBSuB6F65E8QFK4HoXrkTxAUrgeheuRPEBSuB6F65E8QFK4HoXrkTxAUrgeheuRPEBSuB6F65E8QFK4HoXrkTxAUrgeheuRPEBSuB6F65E8QI/C9Shcjz5Aj8L1KFyPPkCPwvUoXI8+QI/C9Shcjz5Aj8L1KFyPPkCPwvUoXI8+QI/C9Shcjz5Aj8L1KFyPPkCPwvUoXI8+QOxRuB6FqzBA7FG4HoWrMEDsUbgehaswQOxRuB6FqzBAuB6F61E4RkC4HoXrUThGQLgehetROEZAuB6F61E4RkC4HoXrUThGQLgehetROEZAuB6F61F4OkC4HoXrUXg6QLgehetReDpAuB6F61F4OkC4HoXrUXg6QLgehetReDpAuB6F61F4OkC4HoXrUXg6QLgehetReDpAuB6F61F4OkC4HoXrUXg6QLgehetReDpAUrgeheuRPEBSuB6F65E8QFK4HoXrkTxAUrgeheuRPEBSuB6F65E8QFK4HoXrkTxAuB6F61F4OkC4HoXrUXg6QLgehetReDpAuB6F61F4OkC4HoXrUXg6QLgehetReDpAuB6F61F4OkC4HoXrUXg6QLgehetReDpAuB6F61F4OkC4HoXrUXg6QLgehetReDpAuB6F61F4OkC4HoXrUXg6QLgehetReDpAuB6F61F4OkC4HoXrUXg6QLgehetReDpAuB6F61F4OkC4HoXrUXg6QLgehetReDpAuB6F61F4OkC4HoXrUXg6QLgehetReDpA",
          "dtype": "f8"
         },
         "y0": " ",
         "yaxis": "y"
        },
        {
         "alignmentgroup": "True",
         "hovertemplate": "Categoría Proc=%{x}<br>Margen Ganancia Real=%{y}<extra></extra>",
         "legendgroup": "bata",
         "marker": {
          "color": "#FF97FF"
         },
         "name": "bata",
         "notched": false,
         "offsetgroup": "bata",
         "orientation": "v",
         "showlegend": true,
         "type": "box",
         "x": [
          "bata",
          "bata",
          "bata",
          "bata",
          "bata",
          "bata",
          "bata"
         ],
         "x0": " ",
         "xaxis": "x",
         "y": {
          "bdata": "FK5H4XoUN0AUrkfhehQ3QBSuR+F6FDdAFK5H4XoUN0AUrkfhehQ3QBSuR+F6FDdAFK5H4XoUN0A=",
          "dtype": "f8"
         },
         "y0": " ",
         "yaxis": "y"
        },
        {
         "alignmentgroup": "True",
         "hovertemplate": "Categoría Proc=%{x}<br>Margen Ganancia Real=%{y}<extra></extra>",
         "legendgroup": "sacos",
         "marker": {
          "color": "#FECB52"
         },
         "name": "sacos",
         "notched": false,
         "offsetgroup": "sacos",
         "orientation": "v",
         "showlegend": true,
         "type": "box",
         "x": [
          "sacos",
          "sacos",
          "sacos",
          "sacos",
          "sacos",
          "sacos",
          "sacos",
          "sacos",
          "sacos",
          "sacos",
          "sacos",
          "sacos",
          "sacos",
          "sacos",
          "sacos",
          "sacos",
          "sacos",
          "sacos",
          "sacos",
          "sacos",
          "sacos",
          "sacos",
          "sacos",
          "sacos",
          "sacos",
          "sacos",
          "sacos",
          "sacos",
          "sacos",
          "sacos",
          "sacos",
          "sacos",
          "sacos",
          "sacos",
          "sacos",
          "sacos",
          "sacos",
          "sacos",
          "sacos",
          "sacos"
         ],
         "x0": " ",
         "xaxis": "x",
         "y": {
          "bdata": "AAAAAADAQkAAAAAAAMBCQAAAAAAAwEJAAAAAAADAQkAAAAAAAMBCQAAAAAAAwEJAAAAAAADAQkAAAAAAAMBCQAAAAAAAwEJAAAAAAADAQkAAAAAAAMBCQAAAAAAAwEJAAAAAAADAQkAAAAAAAMBCQAAAAAAAwEJAAAAAAADAQkBSuB6F65E8QFK4HoXrkTxAUrgeheuRPEBSuB6F65E8QFK4HoXrkTxAUrgeheuRPEBSuB6F65E8QFK4HoXrkTxAUrgeheuRPEBSuB6F65E8QFK4HoXrkTxAUrgeheuRPEBSuB6F65E8QFK4HoXrkTxAUrgeheuRPEBSuB6F65E8QFK4HoXrkTxAUrgeheuRPEBSuB6F65E8QFK4HoXrkTxAUrgeheuRPEBSuB6F65E8QFK4HoXrkTxAUrgeheuRPEA=",
          "dtype": "f8"
         },
         "y0": " ",
         "yaxis": "y"
        },
        {
         "alignmentgroup": "True",
         "hovertemplate": "Categoría Proc=%{x}<br>Margen Ganancia Real=%{y}<extra></extra>",
         "legendgroup": "servicios",
         "marker": {
          "color": "#636efa"
         },
         "name": "servicios",
         "notched": false,
         "offsetgroup": "servicios",
         "orientation": "v",
         "showlegend": true,
         "type": "box",
         "x": [
          "servicios",
          "servicios"
         ],
         "x0": " ",
         "xaxis": "x",
         "y": {
          "bdata": "uB6F61E4RkAAAAAAAABOQA==",
          "dtype": "f8"
         },
         "y0": " ",
         "yaxis": "y"
        },
        {
         "alignmentgroup": "True",
         "hovertemplate": "Categoría Proc=%{x}<br>Margen Ganancia Real=%{y}<extra></extra>",
         "legendgroup": "buzo",
         "marker": {
          "color": "#EF553B"
         },
         "name": "buzo",
         "notched": false,
         "offsetgroup": "buzo",
         "orientation": "v",
         "showlegend": true,
         "type": "box",
         "x": [
          "buzo",
          "buzo",
          "buzo",
          "buzo",
          "buzo",
          "buzo",
          "buzo",
          "buzo",
          "buzo",
          "buzo",
          "buzo",
          "buzo",
          "buzo"
         ],
         "x0": " ",
         "xaxis": "x",
         "y": {
          "bdata": "UrgeheuxQ0BSuB6F67FDQFK4HoXrsUNAUrgeheuxQ0BSuB6F67FDQFK4HoXrsUNAUrgeheuxQ0CPwvUoXM84QI/C9ShczzhAj8L1KFzPOECPwvUoXM84QI/C9ShczzhAj8L1KFzPOEA=",
          "dtype": "f8"
         },
         "y0": " ",
         "yaxis": "y"
        }
       ],
       "layout": {
        "boxmode": "overlay",
        "legend": {
         "title": {
          "text": "Categoría"
         },
         "tracegroupgap": 0
        },
        "template": {
         "data": {
          "bar": [
           {
            "error_x": {
             "color": "#2a3f5f"
            },
            "error_y": {
             "color": "#2a3f5f"
            },
            "marker": {
             "line": {
              "color": "#E5ECF6",
              "width": 0.5
             },
             "pattern": {
              "fillmode": "overlay",
              "size": 10,
              "solidity": 0.2
             }
            },
            "type": "bar"
           }
          ],
          "barpolar": [
           {
            "marker": {
             "line": {
              "color": "#E5ECF6",
              "width": 0.5
             },
             "pattern": {
              "fillmode": "overlay",
              "size": 10,
              "solidity": 0.2
             }
            },
            "type": "barpolar"
           }
          ],
          "carpet": [
           {
            "aaxis": {
             "endlinecolor": "#2a3f5f",
             "gridcolor": "white",
             "linecolor": "white",
             "minorgridcolor": "white",
             "startlinecolor": "#2a3f5f"
            },
            "baxis": {
             "endlinecolor": "#2a3f5f",
             "gridcolor": "white",
             "linecolor": "white",
             "minorgridcolor": "white",
             "startlinecolor": "#2a3f5f"
            },
            "type": "carpet"
           }
          ],
          "choropleth": [
           {
            "colorbar": {
             "outlinewidth": 0,
             "ticks": ""
            },
            "type": "choropleth"
           }
          ],
          "contour": [
           {
            "colorbar": {
             "outlinewidth": 0,
             "ticks": ""
            },
            "colorscale": [
             [
              0,
              "#0d0887"
             ],
             [
              0.1111111111111111,
              "#46039f"
             ],
             [
              0.2222222222222222,
              "#7201a8"
             ],
             [
              0.3333333333333333,
              "#9c179e"
             ],
             [
              0.4444444444444444,
              "#bd3786"
             ],
             [
              0.5555555555555556,
              "#d8576b"
             ],
             [
              0.6666666666666666,
              "#ed7953"
             ],
             [
              0.7777777777777778,
              "#fb9f3a"
             ],
             [
              0.8888888888888888,
              "#fdca26"
             ],
             [
              1,
              "#f0f921"
             ]
            ],
            "type": "contour"
           }
          ],
          "contourcarpet": [
           {
            "colorbar": {
             "outlinewidth": 0,
             "ticks": ""
            },
            "type": "contourcarpet"
           }
          ],
          "heatmap": [
           {
            "colorbar": {
             "outlinewidth": 0,
             "ticks": ""
            },
            "colorscale": [
             [
              0,
              "#0d0887"
             ],
             [
              0.1111111111111111,
              "#46039f"
             ],
             [
              0.2222222222222222,
              "#7201a8"
             ],
             [
              0.3333333333333333,
              "#9c179e"
             ],
             [
              0.4444444444444444,
              "#bd3786"
             ],
             [
              0.5555555555555556,
              "#d8576b"
             ],
             [
              0.6666666666666666,
              "#ed7953"
             ],
             [
              0.7777777777777778,
              "#fb9f3a"
             ],
             [
              0.8888888888888888,
              "#fdca26"
             ],
             [
              1,
              "#f0f921"
             ]
            ],
            "type": "heatmap"
           }
          ],
          "histogram": [
           {
            "marker": {
             "pattern": {
              "fillmode": "overlay",
              "size": 10,
              "solidity": 0.2
             }
            },
            "type": "histogram"
           }
          ],
          "histogram2d": [
           {
            "colorbar": {
             "outlinewidth": 0,
             "ticks": ""
            },
            "colorscale": [
             [
              0,
              "#0d0887"
             ],
             [
              0.1111111111111111,
              "#46039f"
             ],
             [
              0.2222222222222222,
              "#7201a8"
             ],
             [
              0.3333333333333333,
              "#9c179e"
             ],
             [
              0.4444444444444444,
              "#bd3786"
             ],
             [
              0.5555555555555556,
              "#d8576b"
             ],
             [
              0.6666666666666666,
              "#ed7953"
             ],
             [
              0.7777777777777778,
              "#fb9f3a"
             ],
             [
              0.8888888888888888,
              "#fdca26"
             ],
             [
              1,
              "#f0f921"
             ]
            ],
            "type": "histogram2d"
           }
          ],
          "histogram2dcontour": [
           {
            "colorbar": {
             "outlinewidth": 0,
             "ticks": ""
            },
            "colorscale": [
             [
              0,
              "#0d0887"
             ],
             [
              0.1111111111111111,
              "#46039f"
             ],
             [
              0.2222222222222222,
              "#7201a8"
             ],
             [
              0.3333333333333333,
              "#9c179e"
             ],
             [
              0.4444444444444444,
              "#bd3786"
             ],
             [
              0.5555555555555556,
              "#d8576b"
             ],
             [
              0.6666666666666666,
              "#ed7953"
             ],
             [
              0.7777777777777778,
              "#fb9f3a"
             ],
             [
              0.8888888888888888,
              "#fdca26"
             ],
             [
              1,
              "#f0f921"
             ]
            ],
            "type": "histogram2dcontour"
           }
          ],
          "mesh3d": [
           {
            "colorbar": {
             "outlinewidth": 0,
             "ticks": ""
            },
            "type": "mesh3d"
           }
          ],
          "parcoords": [
           {
            "line": {
             "colorbar": {
              "outlinewidth": 0,
              "ticks": ""
             }
            },
            "type": "parcoords"
           }
          ],
          "pie": [
           {
            "automargin": true,
            "type": "pie"
           }
          ],
          "scatter": [
           {
            "fillpattern": {
             "fillmode": "overlay",
             "size": 10,
             "solidity": 0.2
            },
            "type": "scatter"
           }
          ],
          "scatter3d": [
           {
            "line": {
             "colorbar": {
              "outlinewidth": 0,
              "ticks": ""
             }
            },
            "marker": {
             "colorbar": {
              "outlinewidth": 0,
              "ticks": ""
             }
            },
            "type": "scatter3d"
           }
          ],
          "scattercarpet": [
           {
            "marker": {
             "colorbar": {
              "outlinewidth": 0,
              "ticks": ""
             }
            },
            "type": "scattercarpet"
           }
          ],
          "scattergeo": [
           {
            "marker": {
             "colorbar": {
              "outlinewidth": 0,
              "ticks": ""
             }
            },
            "type": "scattergeo"
           }
          ],
          "scattergl": [
           {
            "marker": {
             "colorbar": {
              "outlinewidth": 0,
              "ticks": ""
             }
            },
            "type": "scattergl"
           }
          ],
          "scattermap": [
           {
            "marker": {
             "colorbar": {
              "outlinewidth": 0,
              "ticks": ""
             }
            },
            "type": "scattermap"
           }
          ],
          "scattermapbox": [
           {
            "marker": {
             "colorbar": {
              "outlinewidth": 0,
              "ticks": ""
             }
            },
            "type": "scattermapbox"
           }
          ],
          "scatterpolar": [
           {
            "marker": {
             "colorbar": {
              "outlinewidth": 0,
              "ticks": ""
             }
            },
            "type": "scatterpolar"
           }
          ],
          "scatterpolargl": [
           {
            "marker": {
             "colorbar": {
              "outlinewidth": 0,
              "ticks": ""
             }
            },
            "type": "scatterpolargl"
           }
          ],
          "scatterternary": [
           {
            "marker": {
             "colorbar": {
              "outlinewidth": 0,
              "ticks": ""
             }
            },
            "type": "scatterternary"
           }
          ],
          "surface": [
           {
            "colorbar": {
             "outlinewidth": 0,
             "ticks": ""
            },
            "colorscale": [
             [
              0,
              "#0d0887"
             ],
             [
              0.1111111111111111,
              "#46039f"
             ],
             [
              0.2222222222222222,
              "#7201a8"
             ],
             [
              0.3333333333333333,
              "#9c179e"
             ],
             [
              0.4444444444444444,
              "#bd3786"
             ],
             [
              0.5555555555555556,
              "#d8576b"
             ],
             [
              0.6666666666666666,
              "#ed7953"
             ],
             [
              0.7777777777777778,
              "#fb9f3a"
             ],
             [
              0.8888888888888888,
              "#fdca26"
             ],
             [
              1,
              "#f0f921"
             ]
            ],
            "type": "surface"
           }
          ],
          "table": [
           {
            "cells": {
             "fill": {
              "color": "#EBF0F8"
             },
             "line": {
              "color": "white"
             }
            },
            "header": {
             "fill": {
              "color": "#C8D4E3"
             },
             "line": {
              "color": "white"
             }
            },
            "type": "table"
           }
          ]
         },
         "layout": {
          "annotationdefaults": {
           "arrowcolor": "#2a3f5f",
           "arrowhead": 0,
           "arrowwidth": 1
          },
          "autotypenumbers": "strict",
          "coloraxis": {
           "colorbar": {
            "outlinewidth": 0,
            "ticks": ""
           }
          },
          "colorscale": {
           "diverging": [
            [
             0,
             "#8e0152"
            ],
            [
             0.1,
             "#c51b7d"
            ],
            [
             0.2,
             "#de77ae"
            ],
            [
             0.3,
             "#f1b6da"
            ],
            [
             0.4,
             "#fde0ef"
            ],
            [
             0.5,
             "#f7f7f7"
            ],
            [
             0.6,
             "#e6f5d0"
            ],
            [
             0.7,
             "#b8e186"
            ],
            [
             0.8,
             "#7fbc41"
            ],
            [
             0.9,
             "#4d9221"
            ],
            [
             1,
             "#276419"
            ]
           ],
           "sequential": [
            [
             0,
             "#0d0887"
            ],
            [
             0.1111111111111111,
             "#46039f"
            ],
            [
             0.2222222222222222,
             "#7201a8"
            ],
            [
             0.3333333333333333,
             "#9c179e"
            ],
            [
             0.4444444444444444,
             "#bd3786"
            ],
            [
             0.5555555555555556,
             "#d8576b"
            ],
            [
             0.6666666666666666,
             "#ed7953"
            ],
            [
             0.7777777777777778,
             "#fb9f3a"
            ],
            [
             0.8888888888888888,
             "#fdca26"
            ],
            [
             1,
             "#f0f921"
            ]
           ],
           "sequentialminus": [
            [
             0,
             "#0d0887"
            ],
            [
             0.1111111111111111,
             "#46039f"
            ],
            [
             0.2222222222222222,
             "#7201a8"
            ],
            [
             0.3333333333333333,
             "#9c179e"
            ],
            [
             0.4444444444444444,
             "#bd3786"
            ],
            [
             0.5555555555555556,
             "#d8576b"
            ],
            [
             0.6666666666666666,
             "#ed7953"
            ],
            [
             0.7777777777777778,
             "#fb9f3a"
            ],
            [
             0.8888888888888888,
             "#fdca26"
            ],
            [
             1,
             "#f0f921"
            ]
           ]
          },
          "colorway": [
           "#636efa",
           "#EF553B",
           "#00cc96",
           "#ab63fa",
           "#FFA15A",
           "#19d3f3",
           "#FF6692",
           "#B6E880",
           "#FF97FF",
           "#FECB52"
          ],
          "font": {
           "color": "#2a3f5f"
          },
          "geo": {
           "bgcolor": "white",
           "lakecolor": "white",
           "landcolor": "#E5ECF6",
           "showlakes": true,
           "showland": true,
           "subunitcolor": "white"
          },
          "hoverlabel": {
           "align": "left"
          },
          "hovermode": "closest",
          "mapbox": {
           "style": "light"
          },
          "paper_bgcolor": "white",
          "plot_bgcolor": "#E5ECF6",
          "polar": {
           "angularaxis": {
            "gridcolor": "white",
            "linecolor": "white",
            "ticks": ""
           },
           "bgcolor": "#E5ECF6",
           "radialaxis": {
            "gridcolor": "white",
            "linecolor": "white",
            "ticks": ""
           }
          },
          "scene": {
           "xaxis": {
            "backgroundcolor": "#E5ECF6",
            "gridcolor": "white",
            "gridwidth": 2,
            "linecolor": "white",
            "showbackground": true,
            "ticks": "",
            "zerolinecolor": "white"
           },
           "yaxis": {
            "backgroundcolor": "#E5ECF6",
            "gridcolor": "white",
            "gridwidth": 2,
            "linecolor": "white",
            "showbackground": true,
            "ticks": "",
            "zerolinecolor": "white"
           },
           "zaxis": {
            "backgroundcolor": "#E5ECF6",
            "gridcolor": "white",
            "gridwidth": 2,
            "linecolor": "white",
            "showbackground": true,
            "ticks": "",
            "zerolinecolor": "white"
           }
          },
          "shapedefaults": {
           "line": {
            "color": "#2a3f5f"
           }
          },
          "ternary": {
           "aaxis": {
            "gridcolor": "white",
            "linecolor": "white",
            "ticks": ""
           },
           "baxis": {
            "gridcolor": "white",
            "linecolor": "white",
            "ticks": ""
           },
           "bgcolor": "#E5ECF6",
           "caxis": {
            "gridcolor": "white",
            "linecolor": "white",
            "ticks": ""
           }
          },
          "title": {
           "x": 0.05
          },
          "xaxis": {
           "automargin": true,
           "gridcolor": "white",
           "linecolor": "white",
           "ticks": "",
           "title": {
            "standoff": 15
           },
           "zerolinecolor": "white",
           "zerolinewidth": 2
          },
          "yaxis": {
           "automargin": true,
           "gridcolor": "white",
           "linecolor": "white",
           "ticks": "",
           "title": {
            "standoff": 15
           },
           "zerolinecolor": "white",
           "zerolinewidth": 2
          }
         }
        },
        "title": {
         "text": "Distribución de la Rentabilidad por Categoría de Producto"
        },
        "xaxis": {
         "anchor": "y",
         "categoryarray": [
          "pantalones",
          "gorra",
          "camiseta",
          "accesorios",
          "chaquetas",
          "overol",
          "delantal",
          "camisa",
          "bata",
          "sacos",
          "servicios",
          "buzo"
         ],
         "categoryorder": "array",
         "domain": [
          0,
          1
         ],
         "title": {
          "text": "Categoría de Producto"
         }
        },
        "yaxis": {
         "anchor": "x",
         "domain": [
          0,
          1
         ],
         "title": {
          "text": "Margen de Ganancia Real (%)"
         }
        }
       }
      }
     },
     "metadata": {},
     "output_type": "display_data"
    },
    {
     "data": {
      "application/vnd.plotly.v1+json": {
       "config": {
        "plotlyServerURL": "https://plot.ly"
       },
       "data": [
        {
         "customdata": [
          [
           "masser sas - terpel",
           "pantalón dotación",
           1.28,
           21.88
          ],
          [
           "masser sas - terpel",
           "pantalón dotación",
           1.28,
           21.88
          ],
          [
           "masser sas - terpel",
           "pantalón dotación",
           1.28,
           21.88
          ],
          [
           "masser sas - terpel",
           "pantalón dotación",
           1.28,
           21.88
          ],
          [
           "masser sas - terpel",
           "pantalón dotación",
           1.28,
           21.88
          ],
          [
           "masser sas - terpel",
           "pantalón dotación",
           1.28,
           21.88
          ],
          [
           "masser sas - terpel",
           "pantalón dotación",
           1.28,
           21.88
          ],
          [
           "masser sas - terpel",
           "pantalón dotación",
           1.28,
           21.88
          ],
          [
           "masser sas - terpel",
           "pantalón dotación",
           1.28,
           21.88
          ],
          [
           "masser sas - terpel",
           "pantalón dotación",
           1.28,
           21.88
          ],
          [
           "masser sas - terpel",
           "pantalón dotación",
           1.28,
           21.88
          ],
          [
           "masser sas - terpel",
           "pantalón dotación",
           1.28,
           21.88
          ],
          [
           "masser sas - terpel",
           "pantalón dotación",
           1.28,
           21.88
          ],
          [
           "masser sas - terpel",
           "pantalón dotación",
           1.28,
           21.88
          ],
          [
           "masser sas - terpel",
           "pantalón dotación",
           1.35,
           25.93
          ],
          [
           "masser sas - terpel",
           "pantalón dotación",
           1.35,
           25.93
          ],
          [
           "masser sas - terpel",
           "pantalón dotación",
           1.35,
           25.93
          ],
          [
           "masser sas - terpel",
           "pantalón dotación",
           1.35,
           25.93
          ],
          [
           "masser sas - terpel",
           "pantalón dotación",
           1.35,
           25.93
          ],
          [
           "masser sas - terpel",
           "pantalón dotación",
           1.35,
           25.93
          ],
          [
           "masser sas - terpel",
           "pantalón dotación",
           1.35,
           25.93
          ],
          [
           "masser sas - terpel",
           "pantalón dotación",
           1.35,
           25.93
          ],
          [
           "masser sas - terpel",
           "pantalón dotación",
           1.35,
           25.93
          ],
          [
           "masser sas - terpel",
           "pantalón dotación",
           1.35,
           25.93
          ],
          [
           "masser sas - terpel",
           "pantalón dotación",
           1.35,
           25.93
          ],
          [
           "masser sas - terpel",
           "pantalón dotación",
           1.35,
           25.93
          ],
          [
           "masser sas - terpel",
           "pantalón dotación",
           1.35,
           25.93
          ],
          [
           "masser sas - terpel",
           "pantalón dotación",
           1.35,
           25.93
          ],
          [
           "masser sas - terpel",
           "pantalón dotación",
           1.35,
           25.93
          ],
          [
           "masser sas - terpel",
           "pantalón dotación",
           1.35,
           25.93
          ],
          [
           "masser sas - terpel",
           "pantalón dotación",
           1.35,
           25.93
          ],
          [
           "masser sas - terpel",
           "pantalón dotación",
           1.35,
           25.93
          ],
          [
           "masser sas - terpel",
           "pantalón dotación",
           1.35,
           25.93
          ],
          [
           "masser sas - terpel",
           "pantalón dotación",
           1.35,
           25.93
          ],
          [
           "masser sas - terpel",
           "pantalón dotación",
           1.35,
           25.93
          ],
          [
           "masser sas - terpel",
           "pantalón dotación",
           1.35,
           25.93
          ],
          [
           "masser sas - terpel",
           "pantalón dotación",
           1.35,
           25.93
          ],
          [
           "masser sas - terpel",
           "pantalón dotación",
           1.35,
           25.93
          ],
          [
           "masser sas - terpel",
           "pantalón dotación",
           1.35,
           25.93
          ],
          [
           "masser sas - terpel",
           "pantalón dotación",
           1.35,
           25.93
          ],
          [
           "masser sas - terpel",
           "pantalón dotación",
           1.35,
           25.93
          ],
          [
           "masser sas - terpel",
           "pantalón dotación",
           1.35,
           25.93
          ],
          [
           "organización terpel sa (terpel)",
           "pantalón jean",
           1.23,
           18.7
          ],
          [
           "organización terpel sa (terpel)",
           "pantalón jean",
           1.23,
           18.7
          ],
          [
           "organización terpel sa (terpel)",
           "pantalón jean",
           1.23,
           18.7
          ],
          [
           "organización terpel sa (terpel)",
           "pantalón jean",
           1.23,
           18.7
          ],
          [
           "organización terpel sa (terpel)",
           "pantalón jean",
           1.23,
           18.7
          ],
          [
           "organización terpel sa (terpel)",
           "pantalón jean",
           1.23,
           18.7
          ],
          [
           "organización terpel sa (terpel)",
           "pantalón jean",
           1.23,
           18.7
          ],
          [
           "organización terpel sa (terpel)",
           "pantalón jean",
           1.23,
           18.7
          ],
          [
           "organización terpel sa (terpel)",
           "polo manga larga",
           1.31,
           23.66
          ],
          [
           "organización terpel sa (terpel)",
           "polo manga larga",
           1.31,
           23.66
          ],
          [
           "organización terpel sa (terpel)",
           "polo manga larga",
           1.31,
           23.66
          ],
          [
           "organización terpel sa (terpel)",
           "polo manga larga",
           1.31,
           23.66
          ],
          [
           "organización terpel sa (terpel)",
           "polo manga larga",
           1.31,
           23.66
          ],
          [
           "organización terpel sa (terpel)",
           "polo manga larga",
           1.31,
           23.66
          ],
          [
           "organización terpel sa (terpel)",
           "pantalón jean",
           1.23,
           18.7
          ],
          [
           "organización terpel sa (terpel)",
           "pantalón jean",
           1.23,
           18.7
          ],
          [
           "organización terpel sa (terpel)",
           "pantalón jean",
           1.23,
           18.7
          ],
          [
           "organización terpel sa (terpel)",
           "pantalón jean",
           1.23,
           18.7
          ],
          [
           "organización terpel sa (terpel)",
           "pantalón jean",
           1.23,
           18.7
          ],
          [
           "organización terpel sa (terpel)",
           "pantalón jean",
           1.23,
           18.7
          ],
          [
           "organización terpel sa (terpel)",
           "pantalón jean",
           1.23,
           18.7
          ],
          [
           "organización terpel sa (terpel)",
           "pantalón jean",
           1.23,
           18.7
          ],
          [
           "organización terpel sa (terpel)",
           "cuello motero/ciclista",
           1.1,
           9.09
          ],
          [
           "organización terpel sa (terpel)",
           "cuello motero/ciclista",
           1.1,
           9.09
          ],
          [
           "organización terpel sa (terpel)",
           "cuello motero/ciclista",
           1.1,
           9.09
          ],
          [
           "masser sas - terpel",
           "pantalón jean",
           1.23,
           18.7
          ],
          [
           "masser sas - terpel",
           "pantalón jean",
           1.23,
           18.7
          ],
          [
           "masser sas - terpel",
           "pantalón jean",
           1.23,
           18.7
          ],
          [
           "masser sas - terpel",
           "pantalón jean",
           1.23,
           18.7
          ],
          [
           "masser sas - terpel",
           "pantalón jean",
           1.23,
           18.7
          ],
          [
           "masser sas - terpel",
           "pantalón jean",
           1.23,
           18.7
          ],
          [
           "masser sas - terpel",
           "pantalón jean",
           1.23,
           18.7
          ],
          [
           "masser sas - terpel",
           "pantalón jean",
           1.23,
           18.7
          ],
          [
           "masser sas - terpel",
           "chaqueta sport",
           1.22,
           18.03
          ],
          [
           "masser sas - terpel",
           "chaqueta sport",
           1.22,
           18.03
          ],
          [
           "masser sas - terpel",
           "chaqueta sport",
           1.22,
           18.03
          ],
          [
           "masser sas - terpel",
           "chaqueta sport",
           1.22,
           18.03
          ],
          [
           "masser sas - terpel",
           "chaqueta sport",
           1.22,
           18.03
          ],
          [
           "masser sas - terpel",
           "chaqueta sport",
           1.22,
           18.03
          ],
          [
           "masser sas - terpel",
           "chaqueta sport",
           1.22,
           18.03
          ],
          [
           "masser sas - terpel",
           "chaqueta sport",
           1.22,
           18.03
          ],
          [
           "masser sas - terpel",
           "chaqueta sport",
           1.22,
           18.03
          ],
          [
           "masser sas - terpel",
           "chaqueta sport",
           1.22,
           18.03
          ],
          [
           "masser sas - terpel",
           "chaqueta sport",
           1.22,
           18.03
          ],
          [
           "masser sas - terpel",
           "chaqueta sport",
           1.22,
           18.03
          ],
          [
           "masser sas - terpel",
           "pantalón jean",
           1.23,
           18.7
          ],
          [
           "masser sas - terpel",
           "pantalón jean",
           1.23,
           18.7
          ],
          [
           "masser sas - terpel",
           "pantalón jean",
           1.23,
           18.7
          ],
          [
           "masser sas - terpel",
           "pantalón jean",
           1.23,
           18.7
          ],
          [
           "masser sas - terpel",
           "pantalón jean",
           1.23,
           18.7
          ],
          [
           "masser sas - terpel",
           "pantalón jean",
           1.23,
           18.7
          ],
          [
           "masser sas - terpel",
           "pantalón jean",
           1.23,
           18.7
          ],
          [
           "masser sas - terpel",
           "pantalón jean",
           1.23,
           18.7
          ],
          [
           "masser sas - terpel",
           "pantalón dotación",
           1.35,
           25.93
          ],
          [
           "masser sas - terpel",
           "pantalón dotación",
           1.35,
           25.93
          ],
          [
           "masser sas - terpel",
           "pantalón dotación",
           1.35,
           25.93
          ],
          [
           "masser sas - terpel",
           "pantalón dotación",
           1.35,
           25.93
          ],
          [
           "masser sas - terpel",
           "pantalón dotación",
           1.35,
           25.93
          ],
          [
           "masser sas - terpel",
           "pantalón dotación",
           1.35,
           25.93
          ],
          [
           "masser sas - terpel",
           "pantalón dotación",
           1.35,
           25.93
          ],
          [
           "masser sas - terpel",
           "pantalón dotación",
           1.35,
           25.93
          ],
          [
           "masser sas - terpel",
           "pantalón dotación",
           1.35,
           25.93
          ],
          [
           "masser sas - terpel",
           "pantalón dotación",
           1.35,
           25.93
          ],
          [
           "masser sas - terpel",
           "pantalón dotación",
           1.35,
           25.93
          ],
          [
           "masser sas - terpel",
           "pantalón dotación",
           1.35,
           25.93
          ],
          [
           "masser sas - terpel",
           "pantalón dotación",
           1.35,
           25.93
          ],
          [
           "masser sas - terpel",
           "pantalón dotación",
           1.35,
           25.93
          ],
          [
           "masser sas - terpel",
           "pantalón dotación",
           1.35,
           25.93
          ],
          [
           "masser sas - terpel",
           "pantalón dotación",
           1.35,
           25.93
          ],
          [
           "masser sas - terpel",
           "pantalón dotación",
           1.35,
           25.93
          ],
          [
           "masser sas - terpel",
           "pantalón dotación",
           1.35,
           25.93
          ],
          [
           "masser sas - terpel",
           "pantalón dotación",
           1.35,
           25.93
          ],
          [
           "masser sas - terpel",
           "pantalón dotación",
           1.35,
           25.93
          ],
          [
           "masser sas - terpel",
           "pantalón dotación",
           1.35,
           25.93
          ],
          [
           "masser sas - terpel",
           "pantalón dotación",
           1.35,
           25.93
          ],
          [
           "masser sas - terpel",
           "pantalón dotación",
           1.35,
           25.93
          ],
          [
           "masser sas - terpel",
           "pantalón dotación",
           1.35,
           25.93
          ],
          [
           "masser sas - terpel",
           "pantalón dotación",
           1.35,
           25.93
          ],
          [
           "masser sas - terpel",
           "pantalón dotación",
           1.35,
           25.93
          ],
          [
           "masser sas - terpel",
           "pantalón dotación",
           1.35,
           25.93
          ],
          [
           "masser sas - terpel",
           "pantalón dotación",
           1.35,
           25.93
          ],
          [
           "masser sas - terpel",
           "pantalón dotación",
           1.35,
           25.93
          ],
          [
           "masser sas - terpel",
           "pantalón dotación",
           1.35,
           25.93
          ],
          [
           "masser sas - terpel",
           "pantalón dotación",
           1.35,
           25.93
          ],
          [
           "masser sas - terpel",
           "pantalón dotación",
           1.35,
           25.93
          ],
          [
           "masser sas - terpel",
           "pantalón dotación",
           1.35,
           25.93
          ],
          [
           "masser sas - terpel",
           "pantalón dotación",
           1.35,
           25.93
          ],
          [
           "masser sas - terpel",
           "pantalón dotación",
           1.35,
           25.93
          ],
          [
           "organización terpel sa (terpel)",
           "pantalón jean",
           1.3,
           23.08
          ],
          [
           "organización terpel sa (terpel)",
           "pantalón jean",
           1.3,
           23.08
          ],
          [
           "organización terpel sa (terpel)",
           "pantalón jean",
           1.3,
           23.08
          ],
          [
           "organización terpel sa (terpel)",
           "pantalón jean",
           1.3,
           23.08
          ],
          [
           "organización terpel sa (terpel)",
           "pantalón jean",
           1.3,
           23.08
          ],
          [
           "organización terpel sa (terpel)",
           "pantalón jean",
           1.3,
           23.08
          ],
          [
           "organización terpel sa (terpel)",
           "pantalón jean",
           1.3,
           23.08
          ],
          [
           "masser sas - terpel",
           "pantalón dotación",
           1.35,
           25.93
          ],
          [
           "masser sas - terpel",
           "pantalón dotación",
           1.35,
           25.93
          ],
          [
           "masser sas - terpel",
           "pantalón dotación",
           1.35,
           25.93
          ],
          [
           "masser sas - terpel",
           "pantalón dotación",
           1.35,
           25.93
          ],
          [
           "masser sas - terpel",
           "pantalón dotación",
           1.35,
           25.93
          ],
          [
           "masser sas - terpel",
           "pantalón dotación",
           1.35,
           25.93
          ],
          [
           "masser sas - terpel",
           "pantalón dotación",
           1.35,
           25.93
          ],
          [
           "masser sas - terpel",
           "pantalón dotación",
           1.35,
           25.93
          ],
          [
           "masser sas - terpel",
           "pantalón dotación",
           1.35,
           25.93
          ],
          [
           "masser sas - terpel",
           "pantalón dotación",
           1.35,
           25.93
          ],
          [
           "masser sas - terpel",
           "pantalón dotación",
           1.35,
           25.93
          ],
          [
           "masser sas - terpel",
           "pantalón dotación",
           1.35,
           25.93
          ],
          [
           "masser sas - terpel",
           "pantalón dotación",
           1.35,
           25.93
          ],
          [
           "masser sas - terpel",
           "pantalón dotación",
           1.35,
           25.93
          ],
          [
           "masser sas - terpel",
           "pantalón dotación",
           1.35,
           25.93
          ],
          [
           "masser sas - terpel",
           "pantalón dotación",
           1.35,
           25.93
          ],
          [
           "masser sas - terpel",
           "pantalón dotación",
           1.35,
           25.93
          ],
          [
           "masser sas - terpel",
           "pantalón dotación",
           1.35,
           25.93
          ],
          [
           "masser sas - terpel",
           "pantalón dotación",
           1.35,
           25.93
          ],
          [
           "masser sas - terpel",
           "pantalón dotación",
           1.35,
           25.93
          ],
          [
           "masser sas - terpel",
           "pantalón dotación",
           1.35,
           25.93
          ],
          [
           "masser sas - terpel",
           "pantalón dotación",
           1.35,
           25.93
          ],
          [
           "masser sas - terpel",
           "pantalón dotación",
           1.35,
           25.93
          ],
          [
           "masser sas - terpel",
           "pantalón dotación",
           1.35,
           25.93
          ],
          [
           "masser sas - terpel",
           "pantalón dotación",
           1.35,
           25.93
          ],
          [
           "masser sas - terpel",
           "pantalón dotación",
           1.35,
           25.93
          ],
          [
           "masser sas - terpel",
           "pantalón dotación",
           1.35,
           25.93
          ],
          [
           "masser sas - terpel",
           "pantalón dotación",
           1.35,
           25.93
          ],
          [
           "masser sas - terpel",
           "pantalón dotación",
           1.35,
           25.93
          ],
          [
           "masser sas - terpel",
           "pantalón dotación",
           1.35,
           25.93
          ],
          [
           "masser sas - terpel",
           "pantalón dotación",
           1.35,
           25.93
          ],
          [
           "masser sas - terpel",
           "pantalón dotación",
           1.35,
           25.93
          ],
          [
           "masser sas - terpel",
           "pantalón dotación",
           1.35,
           25.93
          ],
          [
           "masser sas - terpel",
           "pantalón dotación",
           1.35,
           25.93
          ],
          [
           "masser sas - terpel",
           "pantalón dotación",
           1.35,
           25.93
          ],
          [
           "masser sas - terpel",
           "pantalón dotación",
           1.35,
           25.93
          ],
          [
           "masser sas - terpel",
           "pantalón dotación",
           1.35,
           25.93
          ],
          [
           "masser sas - terpel",
           "pantalón dotación",
           1.35,
           25.93
          ],
          [
           "masser sas - terpel",
           "pantalón dotación",
           1.35,
           25.93
          ],
          [
           "masser sas - terpel",
           "pantalón dotación",
           1.35,
           25.93
          ],
          [
           "masser sas - terpel",
           "pantalón dotación",
           1.35,
           25.93
          ],
          [
           "masser sas - terpel",
           "pantalón dotación",
           1.35,
           25.93
          ],
          [
           "masser sas - terpel",
           "pantalón dotación",
           1.35,
           25.93
          ],
          [
           "masser sas - terpel",
           "pantalón dotación",
           1.35,
           25.93
          ],
          [
           "masser sas - terpel",
           "pantalón dotación",
           1.35,
           25.93
          ],
          [
           "masser sas - terpel",
           "pantalón dotación",
           1.35,
           25.93
          ],
          [
           "masser sas - terpel",
           "pantalón dotación",
           1.35,
           25.93
          ],
          [
           "masser sas - terpel",
           "pantalón dotación",
           1.35,
           25.93
          ],
          [
           "masser sas - terpel",
           "pantalón dotación",
           1.35,
           25.93
          ],
          [
           "masser sas - terpel",
           "pantalón dotación",
           1.35,
           25.93
          ],
          [
           "masser sas - terpel",
           "pantalón dotación",
           1.35,
           25.93
          ],
          [
           "masser sas - terpel",
           "pantalón dotación",
           1.35,
           25.93
          ],
          [
           "masser sas - terpel",
           "pantalón dotación",
           1.35,
           25.93
          ],
          [
           "masser sas - terpel",
           "pantalón dotación",
           1.35,
           25.93
          ],
          [
           "masser sas - terpel",
           "pantalón dotación",
           1.35,
           25.93
          ],
          [
           "masser sas - terpel",
           "pantalón dotación",
           1.35,
           25.93
          ],
          [
           "masser sas - terpel",
           "pantalón dotación",
           1.35,
           25.93
          ],
          [
           "masser sas - terpel",
           "pantalón dotación",
           1.35,
           25.93
          ],
          [
           "masser sas - terpel",
           "pantalón dotación",
           1.35,
           25.93
          ],
          [
           "masser sas - terpel",
           "pantalón dotación",
           1.35,
           25.93
          ],
          [
           "masser sas - terpel",
           "pantalón dotación",
           1.35,
           25.93
          ],
          [
           "masser sas - terpel",
           "pantalón dotación",
           1.35,
           25.93
          ],
          [
           "masser sas - terpel",
           "pantalón dotación",
           1.35,
           25.93
          ],
          [
           "organización terpel sa (terpel)",
           "pantalón jean",
           1.23,
           18.7
          ],
          [
           "organización terpel sa (terpel)",
           "pantalón jean",
           1.23,
           18.7
          ],
          [
           "organización terpel sa (terpel)",
           "pantalón jean",
           1.23,
           18.7
          ],
          [
           "organización terpel sa (terpel)",
           "pantalón jean",
           1.23,
           18.7
          ],
          [
           "organización terpel sa (terpel)",
           "pantalón jean",
           1.23,
           18.7
          ],
          [
           "organización terpel sa (terpel)",
           "pantalón jean",
           1.23,
           18.7
          ],
          [
           "organización terpel sa (terpel)",
           "pantalón jean",
           1.23,
           18.7
          ],
          [
           "organización terpel sa (terpel)",
           "pantalón jean",
           1.23,
           18.7
          ],
          [
           "masser sas - terpel",
           "pantalón dotación",
           1.35,
           25.93
          ],
          [
           "masser sas - terpel",
           "pantalón dotación",
           1.35,
           25.93
          ],
          [
           "masser sas - terpel",
           "pantalón dotación",
           1.35,
           25.93
          ],
          [
           "masser sas - terpel",
           "pantalón dotación",
           1.35,
           25.93
          ],
          [
           "masser sas - terpel",
           "pantalón dotación",
           1.35,
           25.93
          ],
          [
           "masser sas - terpel",
           "pantalón dotación",
           1.35,
           25.93
          ],
          [
           "masser sas - terpel",
           "pantalón dotación",
           1.35,
           25.93
          ],
          [
           "masser sas - terpel",
           "pantalón dotación",
           1.35,
           25.93
          ],
          [
           "masser sas - terpel",
           "pantalón dotación",
           1.35,
           25.93
          ],
          [
           "masser sas - terpel",
           "pantalón dotación",
           1.35,
           25.93
          ],
          [
           "masser sas - terpel",
           "pantalón dotación",
           1.35,
           25.93
          ],
          [
           "masser sas - terpel",
           "pantalón dotación",
           1.35,
           25.93
          ],
          [
           "masser sas - terpel",
           "pantalón dotación",
           1.35,
           25.93
          ],
          [
           "masser sas - terpel",
           "pantalón dotación",
           1.35,
           25.93
          ],
          [
           "masser sas - terpel",
           "pantalón dotación",
           1.35,
           25.93
          ],
          [
           "masser sas - terpel",
           "pantalón dotación",
           1.35,
           25.93
          ],
          [
           "masser sas - terpel",
           "pantalón dotación",
           1.35,
           25.93
          ],
          [
           "masser sas - terpel",
           "pantalón dotación",
           1.35,
           25.93
          ],
          [
           "masser sas - terpel",
           "pantalón dotación",
           1.35,
           25.93
          ],
          [
           "masser sas - terpel",
           "pantalón dotación",
           1.35,
           25.93
          ],
          [
           "masser sas - terpel",
           "pantalón dotación",
           1.35,
           25.93
          ],
          [
           "masser sas - terpel",
           "pantalón dotación",
           1.35,
           25.93
          ],
          [
           "masser sas - terpel",
           "pantalón dotación",
           1.35,
           25.93
          ],
          [
           "masser sas - terpel",
           "pantalón dotación",
           1.35,
           25.93
          ],
          [
           "masser sas - terpel",
           "pantalón dotación",
           1.35,
           25.93
          ],
          [
           "masser sas - terpel",
           "pantalón dotación",
           1.35,
           25.93
          ],
          [
           "masser sas - terpel",
           "pantalón dotación",
           1.35,
           25.93
          ],
          [
           "masser sas - terpel",
           "pantalón dotación",
           1.35,
           25.93
          ],
          [
           "masser sas - terpel",
           "pantalón dotación",
           1.35,
           25.93
          ],
          [
           "masser sas - terpel",
           "pantalón dotación",
           1.35,
           25.93
          ],
          [
           "masser sas - terpel",
           "pantalón dotación",
           1.35,
           25.93
          ],
          [
           "masser sas - terpel",
           "pantalón dotación",
           1.35,
           25.93
          ],
          [
           "masser sas - terpel",
           "pantalón dotación",
           1.35,
           25.93
          ],
          [
           "masser sas - terpel",
           "pantalón dotación",
           1.35,
           25.93
          ],
          [
           "masser sas - terpel",
           "pantalón dotación",
           1.35,
           25.93
          ],
          [
           "masser sas - terpel",
           "pantalón dotación",
           1.35,
           25.93
          ],
          [
           "masser sas - terpel",
           "pantalón dotación",
           1.35,
           25.93
          ],
          [
           "masser sas - terpel",
           "pantalón dotación",
           1.35,
           25.93
          ],
          [
           "masser sas - terpel",
           "pantalón dotación",
           1.35,
           25.93
          ],
          [
           "masser sas - terpel",
           "pantalón dotación",
           1.35,
           25.93
          ],
          [
           "masser sas - terpel",
           "pantalón dotación",
           1.35,
           25.93
          ],
          [
           "masser sas - terpel",
           "pantalón dotación",
           1.35,
           25.93
          ],
          [
           "masser sas - terpel",
           "pantalón dotación",
           1.35,
           25.93
          ],
          [
           "masser sas - terpel",
           "pantalón dotación",
           1.35,
           25.93
          ],
          [
           "masser sas - terpel",
           "pantalón dotación",
           1.35,
           25.93
          ],
          [
           "masser sas - terpel",
           "pantalón dotación",
           1.35,
           25.93
          ],
          [
           "masser sas - terpel",
           "pantalón dotación",
           1.35,
           25.93
          ],
          [
           "masser sas - terpel",
           "pantalón dotación",
           1.35,
           25.93
          ],
          [
           "masser sas - terpel",
           "pantalón dotación",
           1.35,
           25.93
          ],
          [
           "masser sas - terpel",
           "pantalón dotación",
           1.35,
           25.93
          ],
          [
           "masser sas - terpel",
           "pantalón dotación",
           1.35,
           25.93
          ],
          [
           "masser sas - terpel",
           "pantalón dotación",
           1.35,
           25.93
          ],
          [
           "masser sas - terpel",
           "pantalón dotación",
           1.35,
           25.93
          ],
          [
           "masser sas - terpel",
           "pantalón dotación",
           1.35,
           25.93
          ],
          [
           "masser sas - terpel",
           "pantalón dotación",
           1.35,
           25.93
          ],
          [
           "masser sas - terpel",
           "pantalón dotación",
           1.35,
           25.93
          ],
          [
           "masser sas - terpel",
           "pantalón dotación",
           1.35,
           25.93
          ],
          [
           "masser sas - terpel",
           "pantalón dotación",
           1.35,
           25.93
          ],
          [
           "masser sas - terpel",
           "pantalón dotación",
           1.35,
           25.93
          ],
          [
           "masser sas - terpel",
           "pantalón dotación",
           1.35,
           25.93
          ],
          [
           "masser sas - terpel",
           "pantalón dotación",
           1.35,
           25.93
          ],
          [
           "masser sas - terpel",
           "pantalón dotación",
           1.35,
           25.93
          ],
          [
           "masser sas - terpel",
           "pantalón dotación",
           1.35,
           25.93
          ],
          [
           "masser sas - terpel",
           "pantalón dotación",
           1.35,
           25.93
          ],
          [
           "masser sas - terpel",
           "pantalón dotación",
           1.35,
           25.93
          ],
          [
           "masser sas - terpel",
           "pantalón dotación",
           1.35,
           25.93
          ],
          [
           "masser sas - terpel",
           "pantalón dotación",
           1.35,
           25.93
          ],
          [
           "masser sas - terpel",
           "pantalón dotación",
           1.35,
           25.93
          ],
          [
           "masser sas - terpel",
           "pantalón dotación",
           1.35,
           25.93
          ],
          [
           "masser sas - terpel",
           "pantalón dotación",
           1.35,
           25.93
          ],
          [
           "masser sas - terpel",
           "pantalón dotación",
           1.23,
           18.7
          ],
          [
           "masser sas - terpel",
           "pantalón dotación",
           1.23,
           18.7
          ],
          [
           "masser sas - terpel",
           "pantalón dotación",
           1.23,
           18.7
          ],
          [
           "masser sas - terpel",
           "pantalón dotación",
           1.23,
           18.7
          ],
          [
           "masser sas - terpel",
           "pantalón dotación",
           1.23,
           18.7
          ],
          [
           "masser sas - terpel",
           "pantalón dotación",
           1.23,
           18.7
          ],
          [
           "masser sas - terpel",
           "pantalón dotación",
           1.23,
           18.7
          ],
          [
           "masser sas - terpel",
           "pantalón dotación",
           1.23,
           18.7
          ],
          [
           "organización terpel sa (terpel)",
           "pantalón jean",
           1.31,
           23.66
          ],
          [
           "organización terpel sa (terpel)",
           "pantalón jean",
           1.31,
           23.66
          ],
          [
           "organización terpel sa (terpel)",
           "pantalón jean",
           1.31,
           23.66
          ],
          [
           "organización terpel sa (terpel)",
           "pantalón jean",
           1.31,
           23.66
          ],
          [
           "organización terpel sa (terpel)",
           "pantalón jean",
           1.31,
           23.66
          ],
          [
           "organización terpel sa (terpel)",
           "pantalón jean",
           1.31,
           23.66
          ],
          [
           "organización terpel sa (terpel)",
           "pantalón jean",
           1.31,
           23.66
          ],
          [
           "organización terpel sa (terpel)",
           "pantalón jean",
           1.31,
           23.66
          ],
          [
           "organización terpel sa (terpel)",
           "pantalón jean",
           1.29,
           22.48
          ],
          [
           "organización terpel sa (terpel)",
           "pantalón jean",
           1.29,
           22.48
          ],
          [
           "organización terpel sa (terpel)",
           "pantalón jean",
           1.29,
           22.48
          ],
          [
           "organización terpel sa (terpel)",
           "pantalón jean",
           1.29,
           22.48
          ],
          [
           "organización terpel sa (terpel)",
           "pantalón jean",
           1.29,
           22.48
          ],
          [
           "organización terpel sa (terpel)",
           "pantalón jean",
           1.29,
           22.48
          ],
          [
           "organización terpel sa (terpel)",
           "pantalón jean",
           1.29,
           22.48
          ],
          [
           "organización terpel sa (terpel)",
           "pantalón jean",
           1.29,
           22.48
          ],
          [
           "masser sas - terpel",
           "pantalón dotación",
           1.35,
           25.93
          ],
          [
           "masser sas - terpel",
           "pantalón dotación",
           1.35,
           25.93
          ],
          [
           "masser sas - terpel",
           "pantalón dotación",
           1.35,
           25.93
          ],
          [
           "masser sas - terpel",
           "pantalón dotación",
           1.35,
           25.93
          ],
          [
           "masser sas - terpel",
           "pantalón dotación",
           1.35,
           25.93
          ],
          [
           "masser sas - terpel",
           "pantalón dotación",
           1.35,
           25.93
          ],
          [
           "masser sas - terpel",
           "pantalón dotación",
           1.35,
           25.93
          ],
          [
           "masser sas - terpel",
           "pantalón dotación",
           1.35,
           25.93
          ],
          [
           "masser sas - terpel",
           "pantalón dotación",
           1.35,
           25.93
          ],
          [
           "masser sas - terpel",
           "pantalón dotación",
           1.35,
           25.93
          ],
          [
           "masser sas - terpel",
           "pantalón dotación",
           1.35,
           25.93
          ],
          [
           "masser sas - terpel",
           "pantalón dotación",
           1.35,
           25.93
          ],
          [
           "masser sas - terpel",
           "pantalón dotación",
           1.35,
           25.93
          ],
          [
           "masser sas - terpel",
           "pantalón dotación",
           1.35,
           25.93
          ],
          [
           "masser sas - terpel",
           "pantalón dotación",
           1.35,
           25.93
          ],
          [
           "masser sas - terpel",
           "pantalón dotación",
           1.35,
           25.93
          ],
          [
           "masser sas - terpel",
           "pantalón dotación",
           1.35,
           25.93
          ],
          [
           "masser sas - terpel",
           "pantalón dotación",
           1.35,
           25.93
          ],
          [
           "masser sas - terpel",
           "pantalón dotación",
           1.35,
           25.93
          ],
          [
           "masser sas - terpel",
           "pantalón dotación",
           1.35,
           25.93
          ],
          [
           "masser sas - terpel",
           "pantalón dotación",
           1.35,
           25.93
          ],
          [
           "masser sas - terpel",
           "pantalón dotación",
           1.35,
           25.93
          ],
          [
           "masser sas - terpel",
           "pantalón dotación",
           1.35,
           25.93
          ],
          [
           "masser sas - terpel",
           "pantalón dotación",
           1.35,
           25.93
          ],
          [
           "masser sas - terpel",
           "pantalón dotación",
           1.35,
           25.93
          ],
          [
           "masser sas - terpel",
           "pantalón dotación",
           1.35,
           25.93
          ],
          [
           "masser sas - terpel",
           "pantalón dotación",
           1.35,
           25.93
          ],
          [
           "masser sas - terpel",
           "pantalón dotación",
           1.35,
           25.93
          ],
          [
           "masser sas - terpel",
           "pantalón dotación",
           1.35,
           25.93
          ],
          [
           "masser sas - terpel",
           "pantalón dotación",
           1.35,
           25.93
          ],
          [
           "masser sas - terpel",
           "pantalón dotación",
           1.35,
           25.93
          ],
          [
           "masser sas - terpel",
           "pantalón dotación",
           1.35,
           25.93
          ],
          [
           "masser sas - terpel",
           "pantalón dotación",
           1.35,
           25.93
          ],
          [
           "masser sas - terpel",
           "pantalón dotación",
           1.35,
           25.93
          ],
          [
           "masser sas - terpel",
           "pantalón dotación",
           1.35,
           25.93
          ],
          [
           "masser sas - terpel",
           "pantalón dotación",
           1.35,
           25.93
          ],
          [
           "masser sas - terpel",
           "pantalón dotación",
           1.35,
           25.93
          ],
          [
           "masser sas - terpel",
           "pantalón dotación",
           1.35,
           25.93
          ],
          [
           "masser sas - terpel",
           "pantalón dotación",
           1.35,
           25.93
          ],
          [
           "masser sas - terpel",
           "pantalón dotación",
           1.35,
           25.93
          ],
          [
           "masser sas - terpel",
           "pantalón dotación",
           1.35,
           25.93
          ],
          [
           "masser sas - terpel",
           "pantalón dotación",
           1.35,
           25.93
          ],
          [
           "masser sas - terpel",
           "pantalón dotación",
           1.35,
           25.93
          ],
          [
           "masser sas - terpel",
           "pantalón dotación",
           1.35,
           25.93
          ],
          [
           "masser sas - terpel",
           "camiseta polo",
           1.44,
           30.56
          ],
          [
           "masser sas - terpel",
           "camiseta polo",
           1.44,
           30.56
          ],
          [
           "masser sas - terpel",
           "camiseta polo",
           1.44,
           30.56
          ],
          [
           "masser sas - terpel",
           "camiseta polo",
           1.44,
           30.56
          ],
          [
           "masser sas - terpel",
           "camiseta polo",
           1.44,
           30.56
          ],
          [
           "masser sas - terpel",
           "camiseta polo",
           1.44,
           30.56
          ],
          [
           "masser sas - terpel",
           "camiseta polo",
           1.44,
           30.56
          ],
          [
           "masser sas - terpel",
           "camiseta polo",
           1.44,
           30.56
          ],
          [
           "masser sas - terpel",
           "pantalón dotación",
           1.35,
           25.93
          ],
          [
           "masser sas - terpel",
           "pantalón dotación",
           1.35,
           25.93
          ],
          [
           "masser sas - terpel",
           "pantalón dotación",
           1.35,
           25.93
          ],
          [
           "masser sas - terpel",
           "pantalón dotación",
           1.35,
           25.93
          ],
          [
           "masser sas - terpel",
           "pantalón dotación",
           1.35,
           25.93
          ],
          [
           "masser sas - terpel",
           "pantalón dotación",
           1.35,
           25.93
          ],
          [
           "masser sas - terpel",
           "pantalón dotación",
           1.35,
           25.93
          ],
          [
           "organización terpel sa (terpel)",
           "pantalón jean",
           1.26,
           20.63
          ],
          [
           "organización terpel sa (terpel)",
           "pantalón jean",
           1.26,
           20.63
          ],
          [
           "organización terpel sa (terpel)",
           "pantalón jean",
           1.26,
           20.63
          ],
          [
           "organización terpel sa (terpel)",
           "pantalón jean",
           1.26,
           20.63
          ],
          [
           "organización terpel sa (terpel)",
           "pantalón jean",
           1.26,
           20.63
          ],
          [
           "organización terpel sa (terpel)",
           "pantalón jean",
           1.26,
           20.63
          ],
          [
           "organización terpel sa (terpel)",
           "pantalón jean",
           1.26,
           20.63
          ],
          [
           "organización terpel sa (terpel)",
           "pantalón jean",
           1.26,
           20.63
          ],
          [
           "organización terpel sa (terpel)",
           "pantalón jean",
           1.26,
           20.63
          ],
          [
           "organización terpel sa (terpel)",
           "pantalón jean",
           1.26,
           20.63
          ],
          [
           "organización terpel sa (terpel)",
           "pantalón jean",
           1.26,
           20.63
          ],
          [
           "organización terpel sa (terpel)",
           "pantalón jean",
           1.26,
           20.63
          ],
          [
           "organización terpel sa (terpel)",
           "pantalón jean",
           1.26,
           20.63
          ],
          [
           "organización terpel sa (terpel)",
           "pantalón jean",
           1.26,
           20.63
          ],
          [
           "organización terpel sa (terpel)",
           "pantalón jean",
           1.23,
           18.7
          ],
          [
           "organización terpel sa (terpel)",
           "pantalón jean",
           1.23,
           18.7
          ],
          [
           "organización terpel sa (terpel)",
           "pantalón jean",
           1.23,
           18.7
          ],
          [
           "organización terpel sa (terpel)",
           "pantalón jean",
           1.23,
           18.7
          ],
          [
           "organización terpel sa (terpel)",
           "pantalón jean",
           1.23,
           18.7
          ],
          [
           "organización terpel sa (terpel)",
           "pantalón jean",
           1.23,
           18.7
          ],
          [
           "organización terpel sa (terpel)",
           "pantalón jean",
           1.23,
           18.7
          ],
          [
           "organización terpel sa (terpel)",
           "pantalón jean",
           1.23,
           18.7
          ],
          [
           "organización terpel sa (terpel)",
           "pantalón jean",
           1.23,
           18.7
          ],
          [
           "organización terpel sa (terpel)",
           "pantalón jean",
           1.23,
           18.7
          ],
          [
           "organización terpel sa (terpel)",
           "pantalón jean",
           1.23,
           18.7
          ],
          [
           "organización terpel sa (terpel)",
           "pantalón jean",
           1.23,
           18.7
          ],
          [
           "organización terpel sa (terpel)",
           "pantalón jean",
           1.23,
           18.7
          ],
          [
           "organización terpel sa (terpel)",
           "pantalón jean",
           1.23,
           18.7
          ],
          [
           "organización terpel sa (terpel)",
           "pantalón jean",
           1.26,
           20.63
          ],
          [
           "organización terpel sa (terpel)",
           "pantalón jean",
           1.26,
           20.63
          ],
          [
           "organización terpel sa (terpel)",
           "pantalón jean",
           1.26,
           20.63
          ],
          [
           "organización terpel sa (terpel)",
           "pantalón jean",
           1.26,
           20.63
          ],
          [
           "organización terpel sa (terpel)",
           "pantalón jean",
           1.26,
           20.63
          ],
          [
           "organización terpel sa (terpel)",
           "pantalón jean",
           1.26,
           20.63
          ],
          [
           "organización terpel sa (terpel)",
           "pantalón jean",
           1.26,
           20.63
          ],
          [
           "organización terpel sa (terpel)",
           "pantalón jean",
           1.23,
           18.7
          ],
          [
           "organización terpel sa (terpel)",
           "pantalón jean",
           1.23,
           18.7
          ],
          [
           "organización terpel sa (terpel)",
           "pantalón jean",
           1.23,
           18.7
          ],
          [
           "organización terpel sa (terpel)",
           "pantalón jean",
           1.23,
           18.7
          ],
          [
           "organización terpel sa (terpel)",
           "pantalón jean",
           1.23,
           18.7
          ],
          [
           "organización terpel sa (terpel)",
           "pantalón jean",
           1.23,
           18.7
          ],
          [
           "organización terpel sa (terpel)",
           "pantalón jean",
           1.23,
           18.7
          ]
         ],
         "hovertemplate": "Categoría Proc=pantalones<br>Costo Total Unitario=%{x}<br>Precio Unitario Sin IVA=%{y}<br>ClienteNombre=%{customdata[0]}<br>Producto=%{customdata[1]}<br>Ganancia=%{customdata[2]}<br>Margen Ganancia Real=%{customdata[3]}<extra></extra>",
         "legendgroup": "pantalones",
         "marker": {
          "color": "#636efa",
          "symbol": "circle"
         },
         "mode": "markers",
         "name": "pantalones",
         "showlegend": true,
         "type": "scattergl",
         "x": {
          "bdata": "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",
          "dtype": "f8"
         },
         "xaxis": "x",
         "y": {
          "bdata": "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",
          "dtype": "i4"
         },
         "yaxis": "y"
        },
        {
         "customdata": [
          [
           "masser sas - terpel",
           "gorra curva",
           1.25,
           20
          ],
          [
           "masser sas - terpel",
           "gorra curva",
           1.25,
           20
          ],
          [
           "masser sas - terpel",
           "gorra curva",
           1.25,
           20
          ],
          [
           "masser sas - terpel",
           "gorra curva",
           1.25,
           20
          ],
          [
           "masser sas - terpel",
           "gorra curva",
           1.25,
           20
          ],
          [
           "masser sas - terpel",
           "gorra curva",
           1.25,
           20
          ],
          [
           "masser sas - terpel",
           "gorra curva",
           1.25,
           20
          ],
          [
           "masser sas - terpel",
           "gorra curva",
           1.25,
           20
          ],
          [
           "masser sas - terpel",
           "gorra curva",
           1.25,
           20
          ],
          [
           "masser sas - terpel",
           "gorra curva",
           1.25,
           20
          ],
          [
           "masser sas - terpel",
           "gorra curva",
           1.25,
           20
          ],
          [
           "masser sas - terpel",
           "gorra curva",
           1.25,
           20
          ],
          [
           "organización terpel sa (terpel)",
           "gorra curva",
           1.16,
           13.79
          ],
          [
           "organización terpel sa (terpel)",
           "gorra curva",
           1.16,
           13.79
          ],
          [
           "organización terpel sa (terpel)",
           "gorra curva",
           1.16,
           13.79
          ],
          [
           "organización terpel sa (terpel)",
           "gorra curva",
           1.16,
           13.79
          ],
          [
           "organización terpel sa (terpel)",
           "gorra curva",
           1.16,
           13.79
          ],
          [
           "masser sas - terpel",
           "gorra curva",
           1.23,
           18.7
          ],
          [
           "masser sas - terpel",
           "gorra curva",
           1.23,
           18.7
          ],
          [
           "masser sas - terpel",
           "gorra curva",
           1.23,
           18.7
          ],
          [
           "masser sas - terpel",
           "gorra curva",
           1.23,
           18.7
          ],
          [
           "masser sas - terpel",
           "gorra curva",
           1.23,
           18.7
          ],
          [
           "masser sas - terpel",
           "gorra curva",
           1.23,
           18.7
          ],
          [
           "masser sas - terpel",
           "gorra curva",
           1.23,
           18.7
          ],
          [
           "masser sas - terpel",
           "gorra curva",
           1.23,
           18.7
          ],
          [
           "masser sas - terpel",
           "gorra curva",
           1.23,
           18.7
          ],
          [
           "masser sas - terpel",
           "gorra curva",
           1.23,
           18.7
          ],
          [
           "masser sas - terpel",
           "gorra seis cascos",
           1.19,
           15.97
          ],
          [
           "masser sas - terpel",
           "gorra seis cascos",
           1.19,
           15.97
          ],
          [
           "masser sas - terpel",
           "gorra seis cascos",
           1.19,
           15.97
          ],
          [
           "masser sas - terpel",
           "gorra seis cascos",
           1.19,
           15.97
          ],
          [
           "masser sas - terpel",
           "gorra seis cascos",
           1.19,
           15.97
          ],
          [
           "masser sas - terpel",
           "gorra curva",
           1.48,
           32.43
          ],
          [
           "masser sas - terpel",
           "gorra curva",
           1.48,
           32.43
          ],
          [
           "masser sas - terpel",
           "gorra curva",
           1.48,
           32.43
          ],
          [
           "masser sas - terpel",
           "gorra curva",
           1.48,
           32.43
          ],
          [
           "masser sas - terpel",
           "camisa manga larga",
           1.49,
           32.89
          ],
          [
           "masser sas - terpel",
           "camisa manga larga",
           1.49,
           32.89
          ],
          [
           "masser sas - terpel",
           "camisa manga larga",
           1.49,
           32.89
          ],
          [
           "masser sas - terpel",
           "camisa manga larga",
           1.49,
           32.89
          ],
          [
           "masser sas - terpel",
           "camisa manga larga",
           1.49,
           32.89
          ],
          [
           "masser sas - terpel",
           "gorra curva",
           1.29,
           22.48
          ],
          [
           "masser sas - terpel",
           "gorra curva",
           1.29,
           22.48
          ],
          [
           "masser sas - terpel",
           "gorra curva",
           1.29,
           22.48
          ],
          [
           "masser sas - terpel",
           "gorra curva",
           1.29,
           22.48
          ],
          [
           "masser sas - terpel",
           "gorra curva",
           1.29,
           22.48
          ],
          [
           "organización terpel sa (terpel)",
           "gorra curva",
           1.16,
           13.79
          ],
          [
           "organización terpel sa (terpel)",
           "gorra curva",
           1.16,
           13.79
          ],
          [
           "organización terpel sa (terpel)",
           "gorra curva",
           1.16,
           13.79
          ],
          [
           "organización terpel sa (terpel)",
           "gorra curva",
           1.16,
           13.79
          ],
          [
           "organización terpel sa (terpel)",
           "gorra curva",
           1.16,
           13.79
          ],
          [
           "masser sas - terpel",
           "gorra curva",
           1.16,
           13.79
          ],
          [
           "masser sas - terpel",
           "gorra curva",
           1.16,
           13.79
          ],
          [
           "masser sas - terpel",
           "gorra curva",
           1.16,
           13.79
          ],
          [
           "masser sas - terpel",
           "gorra curva",
           1.16,
           13.79
          ],
          [
           "masser sas - terpel",
           "gorra curva",
           1.16,
           13.79
          ],
          [
           "masser sas - terpel",
           "gorra curva",
           1.48,
           32.43
          ],
          [
           "masser sas - terpel",
           "gorra curva",
           1.48,
           32.43
          ],
          [
           "masser sas - terpel",
           "gorra curva",
           1.48,
           32.43
          ],
          [
           "masser sas - terpel",
           "gorra curva",
           1.48,
           32.43
          ],
          [
           "masser sas - terpel",
           "gorra curva",
           1.23,
           18.7
          ],
          [
           "masser sas - terpel",
           "gorra curva",
           1.23,
           18.7
          ],
          [
           "masser sas - terpel",
           "gorra curva",
           1.23,
           18.7
          ],
          [
           "masser sas - terpel",
           "gorra curva",
           1.23,
           18.7
          ],
          [
           "masser sas - terpel",
           "gorra curva",
           1.23,
           18.7
          ],
          [
           "organización terpel sa (terpel)",
           "gorra seis cascos",
           1.3,
           23.08
          ],
          [
           "organización terpel sa (terpel)",
           "gorra seis cascos",
           1.3,
           23.08
          ],
          [
           "organización terpel sa (terpel)",
           "gorra seis cascos",
           1.3,
           23.08
          ],
          [
           "masser sas - terpel",
           "gorra curva",
           1.48,
           32.43
          ],
          [
           "masser sas - terpel",
           "gorra curva",
           1.48,
           32.43
          ],
          [
           "masser sas - terpel",
           "gorra curva",
           1.48,
           32.43
          ],
          [
           "masser sas - terpel",
           "gorra curva",
           1.48,
           32.43
          ],
          [
           "masser sas - terpel",
           "gorra curva",
           1.23,
           18.7
          ],
          [
           "masser sas - terpel",
           "gorra curva",
           1.23,
           18.7
          ],
          [
           "masser sas - terpel",
           "gorra curva",
           1.23,
           18.7
          ],
          [
           "masser sas - terpel",
           "gorra curva",
           1.23,
           18.7
          ],
          [
           "masser sas - terpel",
           "gorra curva",
           1.23,
           18.7
          ],
          [
           "masser sas - terpel",
           "gorra curva",
           1.23,
           18.7
          ],
          [
           "masser sas - terpel",
           "gorra curva",
           1.23,
           18.7
          ],
          [
           "masser sas - terpel",
           "gorra curva",
           1.23,
           18.7
          ],
          [
           "masser sas - terpel",
           "gorra curva",
           1.23,
           18.7
          ],
          [
           "masser sas - terpel",
           "gorra curva",
           1.23,
           18.7
          ],
          [
           "masser sas - terpel",
           "camiseta polo",
           1.44,
           30.56
          ],
          [
           "masser sas - terpel",
           "camiseta polo",
           1.44,
           30.56
          ],
          [
           "masser sas - terpel",
           "camiseta polo",
           1.44,
           30.56
          ],
          [
           "masser sas - terpel",
           "camiseta polo",
           1.44,
           30.56
          ],
          [
           "masser sas - terpel",
           "camiseta polo",
           1.44,
           30.56
          ],
          [
           "masser sas - terpel",
           "camiseta polo",
           1.44,
           30.56
          ],
          [
           "masser sas - terpel",
           "camiseta polo",
           1.44,
           30.56
          ],
          [
           "masser sas - terpel",
           "gorra curva",
           1.29,
           22.48
          ],
          [
           "masser sas - terpel",
           "gorra curva",
           1.29,
           22.48
          ],
          [
           "masser sas - terpel",
           "gorra curva",
           1.29,
           22.48
          ],
          [
           "masser sas - terpel",
           "gorra curva",
           1.29,
           22.48
          ],
          [
           "masser sas - terpel",
           "gorra curva",
           1.29,
           22.48
          ],
          [
           "masser sas - terpel",
           "gorra seis cascos",
           1.19,
           15.97
          ],
          [
           "masser sas - terpel",
           "gorra seis cascos",
           1.19,
           15.97
          ],
          [
           "masser sas - terpel",
           "gorra seis cascos",
           1.19,
           15.97
          ],
          [
           "masser sas - terpel",
           "gorra seis cascos",
           1.19,
           15.97
          ],
          [
           "masser sas - terpel",
           "gorra seis cascos",
           1.19,
           15.97
          ],
          [
           "masser sas - terpel",
           "gorra curva",
           1.35,
           25.93
          ],
          [
           "masser sas - terpel",
           "gorra curva",
           1.35,
           25.93
          ],
          [
           "masser sas - terpel",
           "gorra curva",
           1.35,
           25.93
          ],
          [
           "masser sas - terpel",
           "gorra curva",
           1.35,
           25.93
          ],
          [
           "masser sas - terpel",
           "gorra curva",
           1.32,
           24.24
          ],
          [
           "masser sas - terpel",
           "gorra curva",
           1.32,
           24.24
          ],
          [
           "masser sas - terpel",
           "gorra curva",
           1.32,
           24.24
          ],
          [
           "masser sas - terpel",
           "gorra curva",
           1.32,
           24.24
          ],
          [
           "masser sas - terpel",
           "gorra seis cascos",
           1.19,
           15.97
          ],
          [
           "masser sas - terpel",
           "gorra seis cascos",
           1.19,
           15.97
          ],
          [
           "masser sas - terpel",
           "gorra seis cascos",
           1.19,
           15.97
          ],
          [
           "masser sas - terpel",
           "gorra seis cascos",
           1.19,
           15.97
          ],
          [
           "masser sas - terpel",
           "gorra seis cascos",
           1.19,
           15.97
          ],
          [
           "masser sas - terpel",
           "gorra curva",
           1.23,
           18.7
          ],
          [
           "masser sas - terpel",
           "gorra curva",
           1.23,
           18.7
          ],
          [
           "masser sas - terpel",
           "gorra curva",
           1.23,
           18.7
          ],
          [
           "masser sas - terpel",
           "gorra curva",
           1.23,
           18.7
          ],
          [
           "masser sas - terpel",
           "gorra curva",
           1.23,
           18.7
          ],
          [
           "masser sas - terpel",
           "gorra curva",
           1.23,
           18.7
          ],
          [
           "masser sas - terpel",
           "gorra curva",
           1.23,
           18.7
          ],
          [
           "masser sas - terpel",
           "gorra curva",
           1.23,
           18.7
          ],
          [
           "masser sas - terpel",
           "gorra curva",
           1.23,
           18.7
          ],
          [
           "masser sas - terpel",
           "gorra curva",
           1.23,
           18.7
          ],
          [
           "masser sas - terpel",
           "gorra curva",
           1.23,
           18.7
          ],
          [
           "masser sas - terpel",
           "gorra curva",
           1.23,
           18.7
          ],
          [
           "masser sas - terpel",
           "gorra curva",
           1.23,
           18.7
          ],
          [
           "masser sas - terpel",
           "gorra curva",
           1.23,
           18.7
          ],
          [
           "masser sas - terpel",
           "gorra curva",
           1.23,
           18.7
          ],
          [
           "masser sas - terpel",
           "camiseta polo",
           1.44,
           30.56
          ],
          [
           "masser sas - terpel",
           "camiseta polo",
           1.44,
           30.56
          ],
          [
           "masser sas - terpel",
           "camiseta polo",
           1.44,
           30.56
          ],
          [
           "masser sas - terpel",
           "camiseta polo",
           1.44,
           30.56
          ],
          [
           "masser sas - terpel",
           "camiseta polo",
           1.44,
           30.56
          ],
          [
           "masser sas - terpel",
           "camiseta polo",
           1.44,
           30.56
          ],
          [
           "masser sas - terpel",
           "camiseta polo",
           1.44,
           30.56
          ],
          [
           "masser sas - terpel",
           "camiseta polo",
           1.44,
           30.56
          ],
          [
           "masser sas - terpel",
           "gorra seis cascos",
           1.19,
           15.97
          ],
          [
           "masser sas - terpel",
           "gorra seis cascos",
           1.19,
           15.97
          ],
          [
           "masser sas - terpel",
           "gorra seis cascos",
           1.19,
           15.97
          ],
          [
           "masser sas - terpel",
           "gorra seis cascos",
           1.19,
           15.97
          ],
          [
           "masser sas - terpel",
           "gorra seis cascos",
           1.19,
           15.97
          ],
          [
           "masser sas - terpel",
           "gorra curva",
           1.29,
           22.48
          ],
          [
           "masser sas - terpel",
           "gorra curva",
           1.29,
           22.48
          ],
          [
           "masser sas - terpel",
           "gorra curva",
           1.29,
           22.48
          ],
          [
           "masser sas - terpel",
           "gorra curva",
           1.29,
           22.48
          ],
          [
           "masser sas - terpel",
           "gorra curva",
           1.29,
           22.48
          ],
          [
           "masser sas - terpel",
           "gorra curva",
           1.48,
           32.43
          ],
          [
           "masser sas - terpel",
           "gorra curva",
           1.48,
           32.43
          ],
          [
           "masser sas - terpel",
           "gorra curva",
           1.48,
           32.43
          ],
          [
           "masser sas - terpel",
           "gorra curva",
           1.48,
           32.43
          ],
          [
           "masser sas - terpel",
           "gorra curva",
           1.25,
           20
          ],
          [
           "masser sas - terpel",
           "gorra curva",
           1.25,
           20
          ],
          [
           "masser sas - terpel",
           "gorra curva",
           1.25,
           20
          ],
          [
           "masser sas - terpel",
           "gorra curva",
           1.25,
           20
          ],
          [
           "organización terpel sa (terpel)",
           "gorra seis cascos",
           1.3,
           23.08
          ],
          [
           "organización terpel sa (terpel)",
           "gorra seis cascos",
           1.3,
           23.08
          ],
          [
           "organización terpel sa (terpel)",
           "gorra seis cascos",
           1.3,
           23.08
          ],
          [
           "masser sas - terpel",
           "gorra curva",
           1.48,
           32.43
          ],
          [
           "masser sas - terpel",
           "gorra curva",
           1.48,
           32.43
          ],
          [
           "masser sas - terpel",
           "gorra curva",
           1.48,
           32.43
          ],
          [
           "masser sas - terpel",
           "gorra curva",
           1.48,
           32.43
          ],
          [
           "masser sas - terpel",
           "camiseta polo",
           1.44,
           30.56
          ],
          [
           "masser sas - terpel",
           "camiseta polo",
           1.44,
           30.56
          ],
          [
           "masser sas - terpel",
           "camiseta polo",
           1.44,
           30.56
          ],
          [
           "masser sas - terpel",
           "camiseta polo",
           1.44,
           30.56
          ],
          [
           "masser sas - terpel",
           "camiseta polo",
           1.44,
           30.56
          ],
          [
           "masser sas - terpel",
           "camiseta polo",
           1.44,
           30.56
          ],
          [
           "masser sas - terpel",
           "camiseta polo",
           1.44,
           30.56
          ],
          [
           "masser sas - terpel",
           "camiseta polo",
           1.44,
           30.56
          ],
          [
           "masser sas - terpel",
           "gorra seis cascos",
           1.34,
           25.37
          ],
          [
           "masser sas - terpel",
           "gorra seis cascos",
           1.34,
           25.37
          ],
          [
           "masser sas - terpel",
           "gorra seis cascos",
           1.34,
           25.37
          ],
          [
           "masser sas - terpel",
           "gorra seis cascos",
           1.34,
           25.37
          ],
          [
           "masser sas - terpel",
           "gorra seis cascos",
           1.34,
           25.37
          ],
          [
           "masser sas - terpel",
           "gorra curva",
           1.48,
           32.43
          ],
          [
           "masser sas - terpel",
           "gorra curva",
           1.48,
           32.43
          ],
          [
           "masser sas - terpel",
           "gorra curva",
           1.48,
           32.43
          ],
          [
           "masser sas - terpel",
           "gorra curva",
           1.48,
           32.43
          ],
          [
           "masser sas - terpel",
           "camiseta polo",
           1.44,
           30.56
          ],
          [
           "masser sas - terpel",
           "camiseta polo",
           1.44,
           30.56
          ],
          [
           "masser sas - terpel",
           "camiseta polo",
           1.44,
           30.56
          ],
          [
           "masser sas - terpel",
           "camiseta polo",
           1.44,
           30.56
          ],
          [
           "masser sas - terpel",
           "camiseta polo",
           1.44,
           30.56
          ],
          [
           "masser sas - terpel",
           "camiseta polo",
           1.44,
           30.56
          ],
          [
           "masser sas - terpel",
           "camiseta polo",
           1.44,
           30.56
          ],
          [
           "masser sas - terpel",
           "gorra curva",
           1.29,
           22.48
          ],
          [
           "masser sas - terpel",
           "gorra curva",
           1.29,
           22.48
          ],
          [
           "masser sas - terpel",
           "gorra curva",
           1.29,
           22.48
          ],
          [
           "masser sas - terpel",
           "gorra curva",
           1.29,
           22.48
          ],
          [
           "masser sas - terpel",
           "gorra curva",
           1.29,
           22.48
          ],
          [
           "masser sas - terpel",
           "camiseta polo",
           1.44,
           30.56
          ],
          [
           "masser sas - terpel",
           "camiseta polo",
           1.44,
           30.56
          ],
          [
           "masser sas - terpel",
           "camiseta polo",
           1.44,
           30.56
          ],
          [
           "masser sas - terpel",
           "camiseta polo",
           1.44,
           30.56
          ],
          [
           "masser sas - terpel",
           "camiseta polo",
           1.44,
           30.56
          ],
          [
           "masser sas - terpel",
           "camiseta polo",
           1.44,
           30.56
          ],
          [
           "masser sas - terpel",
           "camiseta polo",
           1.44,
           30.56
          ],
          [
           "masser sas - terpel",
           "camiseta polo",
           1.44,
           30.56
          ],
          [
           "masser sas - terpel",
           "camiseta polo",
           1.44,
           30.56
          ],
          [
           "masser sas - terpel",
           "gorra curva",
           1.2,
           16.67
          ],
          [
           "masser sas - terpel",
           "gorra curva",
           1.2,
           16.67
          ],
          [
           "masser sas - terpel",
           "gorra curva",
           1.2,
           16.67
          ],
          [
           "masser sas - terpel",
           "gorra curva",
           1.2,
           16.67
          ],
          [
           "masser sas - terpel",
           "camisa manga larga",
           1.8,
           44.44
          ],
          [
           "masser sas - terpel",
           "camisa manga larga",
           1.8,
           44.44
          ],
          [
           "masser sas - terpel",
           "camisa manga larga",
           1.8,
           44.44
          ],
          [
           "masser sas - terpel",
           "camisa manga larga",
           1.8,
           44.44
          ],
          [
           "masser sas - terpel",
           "camisa manga larga",
           1.8,
           44.44
          ],
          [
           "masser sas - terpel",
           "camisa manga larga",
           1.8,
           44.44
          ],
          [
           "masser sas - terpel",
           "gorra seis cascos",
           1.18,
           15.25
          ],
          [
           "masser sas - terpel",
           "gorra seis cascos",
           1.18,
           15.25
          ],
          [
           "masser sas - terpel",
           "gorra seis cascos",
           1.18,
           15.25
          ],
          [
           "masser sas - terpel",
           "gorra seis cascos",
           1.18,
           15.25
          ],
          [
           "masser sas - terpel",
           "gorra seis cascos",
           1.18,
           15.25
          ],
          [
           "masser sas - terpel",
           "gorra curva",
           1.16,
           13.79
          ],
          [
           "masser sas - terpel",
           "gorra curva",
           1.16,
           13.79
          ],
          [
           "masser sas - terpel",
           "gorra curva",
           1.16,
           13.79
          ],
          [
           "masser sas - terpel",
           "gorra curva",
           1.16,
           13.79
          ],
          [
           "masser sas - terpel",
           "gorra seis cascos",
           1.18,
           15.25
          ],
          [
           "masser sas - terpel",
           "gorra seis cascos",
           1.18,
           15.25
          ],
          [
           "masser sas - terpel",
           "gorra seis cascos",
           1.18,
           15.25
          ],
          [
           "masser sas - terpel",
           "gorra seis cascos",
           1.18,
           15.25
          ],
          [
           "masser sas - terpel",
           "gorra seis cascos",
           1.18,
           15.25
          ],
          [
           "masser sas - terpel",
           "gorra curva",
           1.16,
           13.79
          ],
          [
           "masser sas - terpel",
           "gorra curva",
           1.16,
           13.79
          ],
          [
           "masser sas - terpel",
           "gorra curva",
           1.16,
           13.79
          ],
          [
           "masser sas - terpel",
           "gorra curva",
           1.16,
           13.79
          ],
          [
           "masser sas - terpel",
           "gorra seis cascos",
           1.18,
           15.25
          ],
          [
           "masser sas - terpel",
           "gorra seis cascos",
           1.18,
           15.25
          ],
          [
           "masser sas - terpel",
           "gorra seis cascos",
           1.18,
           15.25
          ],
          [
           "masser sas - terpel",
           "gorra seis cascos",
           1.18,
           15.25
          ],
          [
           "masser sas - terpel",
           "gorra seis cascos",
           1.18,
           15.25
          ],
          [
           "masser sas - terpel",
           "gorra curva",
           1.16,
           13.79
          ],
          [
           "masser sas - terpel",
           "gorra curva",
           1.16,
           13.79
          ],
          [
           "masser sas - terpel",
           "gorra curva",
           1.16,
           13.79
          ],
          [
           "masser sas - terpel",
           "gorra curva",
           1.16,
           13.79
          ]
         ],
         "hovertemplate": "Categoría Proc=gorra<br>Costo Total Unitario=%{x}<br>Precio Unitario Sin IVA=%{y}<br>ClienteNombre=%{customdata[0]}<br>Producto=%{customdata[1]}<br>Ganancia=%{customdata[2]}<br>Margen Ganancia Real=%{customdata[3]}<extra></extra>",
         "legendgroup": "gorra",
         "marker": {
          "color": "#EF553B",
          "symbol": "circle"
         },
         "mode": "markers",
         "name": "gorra",
         "showlegend": true,
         "type": "scattergl",
         "x": {
          "bdata": "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",
          "dtype": "f8"
         },
         "xaxis": "x",
         "y": {
          "bdata": "ATIBMgEyATIBMgEyATIBMgEyATIBMgEypjSmNKY0pjSmNJU6lTqVOpU6lTqVOpU6lTqVOpU6kjqSOpI6kjqSOkhCSEJIQkhCRzVHNUc1RzVHNUc1RzVHNUc1RzWmNKY0pjSmNKY0pjSmNKY0pjSmNEhCSEJIQkhClTqVOpU6lTqVOtou2i7aLkhCSEJIQkhClTqVOpU6lTqVOpU6lTqVOpU6lTpHNUc1RzVHNUc1RzVHNUc1RzVHNUc1RzWSOpI6kjqSOpI6/0j/SP9I/0j/SP9I/0j/SJY6ljqWOpY6ljqVOpU6lTqVOpU6lTqVOpU6lTqVOpU6lTqVOpU6lTqSOpI6kjqSOpI6kjqSOpI6kjqSOpI6kjqSOkc1RzVHNUc1RzVIQkhCSEJIQjo9Oj06PTo92i7aLtouSEJIQkhCSEJIQkhCSEJIQkhCSEJIQkhCSEJIQkhCSEJIQkhCSEJIQkhCdTR1NHU0dTR1NHU0dTR1NHU0dTR1NHU0szWzNbM1szWzNbM1szWzNbM1szWzNbM1szWzNbM1szWzNbM1szWVOpU6lTqVOpU6pjSmNKY0pjSVOpU6lTqVOpU6pjSmNKY0pjSVOpU6lTqVOpU6pjSmNKY0pjQ=",
          "dtype": "i2"
         },
         "yaxis": "y"
        },
        {
         "customdata": [
          [
           "masser sas - terpel",
           "camiseta polo",
           1.22,
           18.03
          ],
          [
           "masser sas - terpel",
           "camiseta polo",
           1.22,
           18.03
          ],
          [
           "masser sas - terpel",
           "camiseta polo",
           1.22,
           18.03
          ],
          [
           "masser sas - terpel",
           "camiseta polo",
           1.22,
           18.03
          ],
          [
           "masser sas - terpel",
           "camiseta polo",
           1.22,
           18.03
          ],
          [
           "masser sas - terpel",
           "camiseta polo",
           1.22,
           18.03
          ],
          [
           "masser sas - terpel",
           "camiseta polo",
           1.22,
           18.03
          ],
          [
           "masser sas - terpel",
           "camiseta polo",
           1.22,
           18.03
          ],
          [
           "masser sas - terpel",
           "camiseta polo",
           1.22,
           18.03
          ],
          [
           "masser sas - terpel",
           "camiseta polo",
           1.22,
           18.03
          ],
          [
           "masser sas - terpel",
           "camiseta polo",
           1.22,
           18.03
          ],
          [
           "masser sas - terpel",
           "camiseta polo",
           1.22,
           18.03
          ],
          [
           "masser sas - terpel",
           "camiseta polo",
           1.22,
           18.03
          ],
          [
           "masser sas - terpel",
           "camiseta polo",
           1.22,
           18.03
          ],
          [
           "masser sas - terpel",
           "camiseta polo",
           1.22,
           18.03
          ],
          [
           "masser sas - terpel",
           "camiseta polo",
           1.22,
           18.03
          ],
          [
           "masser sas - terpel",
           "camiseta polo",
           1.22,
           18.03
          ],
          [
           "masser sas - terpel",
           "camiseta polo",
           1.22,
           18.03
          ],
          [
           "masser sas - terpel",
           "camiseta polo",
           1.22,
           18.03
          ],
          [
           "masser sas - terpel",
           "camiseta polo",
           1.22,
           18.03
          ],
          [
           "masser sas - terpel",
           "camiseta polo",
           1.22,
           18.03
          ],
          [
           "masser sas - terpel",
           "camiseta polo",
           1.22,
           18.03
          ],
          [
           "masser sas - terpel",
           "camiseta polo",
           1.22,
           18.03
          ],
          [
           "masser sas - terpel",
           "camiseta polo",
           1.22,
           18.03
          ],
          [
           "masser sas - terpel",
           "camiseta polo",
           1.22,
           18.03
          ],
          [
           "masser sas - terpel",
           "camiseta polo",
           1.22,
           18.03
          ],
          [
           "masser sas - terpel",
           "camiseta polo",
           1.22,
           18.03
          ],
          [
           "masser sas - terpel",
           "camiseta polo",
           1.44,
           30.56
          ],
          [
           "masser sas - terpel",
           "camiseta polo",
           1.44,
           30.56
          ],
          [
           "masser sas - terpel",
           "camiseta polo",
           1.44,
           30.56
          ],
          [
           "masser sas - terpel",
           "camiseta polo",
           1.44,
           30.56
          ],
          [
           "masser sas - terpel",
           "camiseta polo",
           1.44,
           30.56
          ],
          [
           "masser sas - terpel",
           "camiseta polo",
           1.44,
           30.56
          ],
          [
           "masser sas - terpel",
           "camiseta polo",
           1.44,
           30.56
          ],
          [
           "masser sas - terpel",
           "camiseta polo",
           1.44,
           30.56
          ],
          [
           "masser sas - terpel",
           "camiseta polo",
           1.44,
           30.56
          ],
          [
           "masser sas - terpel",
           "camiseta polo",
           1.44,
           30.56
          ],
          [
           "masser sas - terpel",
           "camiseta polo",
           1.44,
           30.56
          ],
          [
           "masser sas - terpel",
           "camiseta polo",
           1.44,
           30.56
          ],
          [
           "masser sas - terpel",
           "camiseta polo",
           1.44,
           30.56
          ],
          [
           "masser sas - terpel",
           "camiseta polo",
           1.44,
           30.56
          ],
          [
           "masser sas - terpel",
           "camiseta polo",
           1.44,
           30.56
          ],
          [
           "masser sas - terpel",
           "camiseta polo",
           1.44,
           30.56
          ],
          [
           "masser sas - terpel",
           "camiseta polo",
           1.44,
           30.56
          ],
          [
           "masser sas - terpel",
           "camiseta polo",
           1.44,
           30.56
          ],
          [
           "masser sas - terpel",
           "camiseta polo",
           1.44,
           30.56
          ],
          [
           "masser sas - terpel",
           "camiseta polo",
           1.44,
           30.56
          ],
          [
           "masser sas - terpel",
           "camiseta polo",
           1.44,
           30.56
          ],
          [
           "masser sas - terpel",
           "camiseta polo",
           1.44,
           30.56
          ],
          [
           "masser sas - terpel",
           "camiseta polo",
           1.44,
           30.56
          ],
          [
           "masser sas - terpel",
           "camiseta polo",
           1.44,
           30.56
          ],
          [
           "masser sas - terpel",
           "camiseta polo",
           1.44,
           30.56
          ],
          [
           "masser sas - terpel",
           "camiseta polo",
           1.44,
           30.56
          ],
          [
           "masser sas - terpel",
           "camiseta polo",
           1.44,
           30.56
          ],
          [
           "masser sas - terpel",
           "camiseta polo",
           1.44,
           30.56
          ],
          [
           "masser sas - terpel",
           "camiseta polo",
           1.44,
           30.56
          ],
          [
           "masser sas - terpel",
           "camiseta polo",
           1.44,
           30.56
          ],
          [
           "masser sas - terpel",
           "camiseta polo",
           1.44,
           30.56
          ],
          [
           "masser sas - terpel",
           "camiseta polo",
           1.44,
           30.56
          ],
          [
           "masser sas - terpel",
           "camiseta polo",
           1.44,
           30.56
          ],
          [
           "masser sas - terpel",
           "camiseta polo",
           1.44,
           30.56
          ],
          [
           "masser sas - terpel",
           "camiseta polo",
           1.44,
           30.56
          ],
          [
           "masser sas - terpel",
           "camiseta polo",
           1.44,
           30.56
          ],
          [
           "masser sas - terpel",
           "camiseta polo",
           1.44,
           30.56
          ],
          [
           "masser sas - terpel",
           "camiseta polo",
           1.44,
           30.56
          ],
          [
           "masser sas - terpel",
           "camiseta polo",
           1.44,
           30.56
          ],
          [
           "masser sas - terpel",
           "camiseta polo",
           1.44,
           30.56
          ],
          [
           "masser sas - terpel",
           "camiseta polo",
           1.44,
           30.56
          ],
          [
           "masser sas - terpel",
           "camiseta polo",
           1.44,
           30.56
          ],
          [
           "masser sas - terpel",
           "camiseta polo",
           1.44,
           30.56
          ],
          [
           "masser sas - terpel",
           "camiseta polo",
           1.44,
           30.56
          ],
          [
           "masser sas - terpel",
           "camiseta polo",
           1.44,
           30.56
          ],
          [
           "masser sas - terpel",
           "camiseta polo",
           1.44,
           30.56
          ],
          [
           "masser sas - terpel",
           "camiseta polo",
           1.44,
           30.56
          ],
          [
           "masser sas - terpel",
           "camiseta polo",
           1.44,
           30.56
          ],
          [
           "masser sas - terpel",
           "camiseta polo",
           1.44,
           30.56
          ],
          [
           "masser sas - terpel",
           "camiseta polo",
           1.44,
           30.56
          ],
          [
           "masser sas - terpel",
           "camiseta polo",
           1.44,
           30.56
          ],
          [
           "masser sas - terpel",
           "camiseta polo",
           1.44,
           30.56
          ],
          [
           "masser sas - terpel",
           "camiseta polo",
           1.44,
           30.56
          ],
          [
           "masser sas - terpel",
           "camiseta polo",
           1.44,
           30.56
          ],
          [
           "masser sas - terpel",
           "camiseta polo",
           1.44,
           30.56
          ],
          [
           "masser sas - terpel",
           "camiseta polo",
           1.44,
           30.56
          ],
          [
           "masser sas - terpel",
           "camiseta polo",
           1.44,
           30.56
          ],
          [
           "masser sas - terpel",
           "camiseta polo",
           1.44,
           30.56
          ],
          [
           "masser sas - terpel",
           "camiseta polo",
           1.44,
           30.56
          ],
          [
           "masser sas - terpel",
           "camiseta polo",
           1.44,
           30.56
          ],
          [
           "masser sas - terpel",
           "camiseta polo",
           1.44,
           30.56
          ],
          [
           "masser sas - terpel",
           "camiseta polo",
           1.44,
           30.56
          ],
          [
           "masser sas - terpel",
           "camiseta polo",
           1.44,
           30.56
          ],
          [
           "masser sas - terpel",
           "camiseta polo",
           1.44,
           30.56
          ],
          [
           "masser sas - terpel",
           "camiseta polo",
           1.44,
           30.56
          ],
          [
           "masser sas - terpel",
           "camiseta polo",
           1.44,
           30.56
          ],
          [
           "masser sas - terpel",
           "camiseta polo",
           1.44,
           30.56
          ],
          [
           "masser sas - terpel",
           "camiseta polo",
           1.44,
           30.56
          ],
          [
           "masser sas - terpel",
           "camiseta polo",
           1.44,
           30.56
          ],
          [
           "masser sas - terpel",
           "camiseta polo",
           1.44,
           30.56
          ],
          [
           "masser sas - terpel",
           "camiseta polo",
           1.44,
           30.56
          ],
          [
           "masser sas - terpel",
           "camiseta polo",
           1.44,
           30.56
          ],
          [
           "masser sas - terpel",
           "camiseta polo",
           1.44,
           30.56
          ],
          [
           "masser sas - terpel",
           "camiseta polo",
           1.44,
           30.56
          ],
          [
           "masser sas - terpel",
           "camiseta polo",
           1.44,
           30.56
          ],
          [
           "masser sas - terpel",
           "camiseta polo",
           1.44,
           30.56
          ],
          [
           "masser sas - terpel",
           "camiseta polo",
           1.44,
           30.56
          ],
          [
           "masser sas - terpel",
           "camiseta polo",
           1.44,
           30.56
          ],
          [
           "masser sas - terpel",
           "camiseta polo",
           1.44,
           30.56
          ],
          [
           "masser sas - terpel",
           "camiseta polo",
           1.44,
           30.56
          ],
          [
           "organización terpel sa (terpel)",
           "polo manga larga",
           1.31,
           23.66
          ],
          [
           "organización terpel sa (terpel)",
           "polo manga larga",
           1.31,
           23.66
          ],
          [
           "organización terpel sa (terpel)",
           "polo manga larga",
           1.31,
           23.66
          ],
          [
           "organización terpel sa (terpel)",
           "polo manga larga",
           1.31,
           23.66
          ],
          [
           "organización terpel sa (terpel)",
           "polo manga larga",
           1.31,
           23.66
          ],
          [
           "organización terpel sa (terpel)",
           "polo manga larga",
           1.31,
           23.66
          ],
          [
           "organización terpel sa (terpel)",
           "polo manga larga",
           1.31,
           23.66
          ],
          [
           "organización terpel sa (terpel)",
           "polo manga larga",
           1.31,
           23.66
          ],
          [
           "organización terpel sa (terpel)",
           "polo manga larga",
           1.31,
           23.66
          ],
          [
           "organización terpel sa (terpel)",
           "polo manga larga",
           1.31,
           23.66
          ],
          [
           "organización terpel sa (terpel)",
           "polo manga larga",
           1.31,
           23.66
          ],
          [
           "organización terpel sa (terpel)",
           "polo manga larga",
           1.31,
           23.66
          ],
          [
           "organización terpel sa (terpel)",
           "pantalón jean",
           1.23,
           18.7
          ],
          [
           "organización terpel sa (terpel)",
           "pantalón jean",
           1.23,
           18.7
          ],
          [
           "organización terpel sa (terpel)",
           "pantalón jean",
           1.23,
           18.7
          ],
          [
           "organización terpel sa (terpel)",
           "pantalón jean",
           1.23,
           18.7
          ],
          [
           "organización terpel sa (terpel)",
           "pantalón jean",
           1.23,
           18.7
          ],
          [
           "organización terpel sa (terpel)",
           "pantalón jean",
           1.23,
           18.7
          ],
          [
           "organización terpel sa (terpel)",
           "pantalón jean",
           1.23,
           18.7
          ],
          [
           "organización terpel sa (terpel)",
           "pantalón jean",
           1.23,
           18.7
          ],
          [
           "organización terpel sa (terpel)",
           "cuello motero/ciclista",
           1.1,
           9.09
          ],
          [
           "organización terpel sa (terpel)",
           "cuello motero/ciclista",
           1.1,
           9.09
          ],
          [
           "organización terpel sa (terpel)",
           "cuello motero/ciclista",
           1.1,
           9.09
          ],
          [
           "organización terpel sa (terpel)",
           "polo manga larga",
           1.31,
           23.66
          ],
          [
           "organización terpel sa (terpel)",
           "polo manga larga",
           1.31,
           23.66
          ],
          [
           "organización terpel sa (terpel)",
           "polo manga larga",
           1.31,
           23.66
          ],
          [
           "organización terpel sa (terpel)",
           "polo manga larga",
           1.31,
           23.66
          ],
          [
           "organización terpel sa (terpel)",
           "polo manga larga",
           1.31,
           23.66
          ],
          [
           "organización terpel sa (terpel)",
           "polo manga larga",
           1.31,
           23.66
          ],
          [
           "organización terpel sa (terpel)",
           "chaqueta sport",
           1.25,
           20
          ],
          [
           "organización terpel sa (terpel)",
           "chaqueta sport",
           1.25,
           20
          ],
          [
           "organización terpel sa (terpel)",
           "chaqueta sport",
           1.25,
           20
          ],
          [
           "organización terpel sa (terpel)",
           "chaqueta sport",
           1.25,
           20
          ],
          [
           "organización terpel sa (terpel)",
           "chaqueta sport",
           1.25,
           20
          ],
          [
           "organización terpel sa (terpel)",
           "chaqueta sport",
           1.25,
           20
          ],
          [
           "organización terpel sa (terpel)",
           "chaqueta sport",
           1.25,
           20
          ],
          [
           "organización terpel sa (terpel)",
           "chaqueta sport",
           1.25,
           20
          ],
          [
           "organización terpel sa (terpel)",
           "chaqueta sport",
           1.25,
           20
          ],
          [
           "organización terpel sa (terpel)",
           "chaqueta sport",
           1.25,
           20
          ],
          [
           "organización terpel sa (terpel)",
           "chaqueta sport",
           1.25,
           20
          ],
          [
           "organización terpel sa (terpel)",
           "chaqueta sport",
           1.25,
           20
          ],
          [
           "organización terpel sa (terpel)",
           "polo manga larga",
           1.31,
           23.66
          ],
          [
           "organización terpel sa (terpel)",
           "polo manga larga",
           1.31,
           23.66
          ],
          [
           "organización terpel sa (terpel)",
           "polo manga larga",
           1.31,
           23.66
          ],
          [
           "organización terpel sa (terpel)",
           "polo manga larga",
           1.31,
           23.66
          ],
          [
           "organización terpel sa (terpel)",
           "polo manga larga",
           1.31,
           23.66
          ],
          [
           "organización terpel sa (terpel)",
           "polo manga larga",
           1.31,
           23.66
          ],
          [
           "masser sas - terpel",
           "polo manga larga",
           1.31,
           23.66
          ],
          [
           "masser sas - terpel",
           "polo manga larga",
           1.31,
           23.66
          ],
          [
           "masser sas - terpel",
           "polo manga larga",
           1.31,
           23.66
          ],
          [
           "masser sas - terpel",
           "polo manga larga",
           1.31,
           23.66
          ],
          [
           "masser sas - terpel",
           "polo manga larga",
           1.31,
           23.66
          ],
          [
           "masser sas - terpel",
           "polo manga larga",
           1.31,
           23.66
          ],
          [
           "masser sas - terpel",
           "camiseta polo",
           1.22,
           18.03
          ],
          [
           "masser sas - terpel",
           "camiseta polo",
           1.22,
           18.03
          ],
          [
           "masser sas - terpel",
           "camiseta polo",
           1.22,
           18.03
          ],
          [
           "masser sas - terpel",
           "camiseta polo",
           1.22,
           18.03
          ],
          [
           "masser sas - terpel",
           "camiseta polo",
           1.22,
           18.03
          ],
          [
           "masser sas - terpel",
           "camiseta polo",
           1.22,
           18.03
          ],
          [
           "organización terpel sa (terpel)",
           "polo manga corta",
           1.25,
           20
          ],
          [
           "organización terpel sa (terpel)",
           "polo manga corta",
           1.25,
           20
          ],
          [
           "masser sas - terpel",
           "camiseta polo",
           1.44,
           30.56
          ],
          [
           "masser sas - terpel",
           "camiseta polo",
           1.44,
           30.56
          ],
          [
           "masser sas - terpel",
           "camiseta polo",
           1.44,
           30.56
          ],
          [
           "masser sas - terpel",
           "camiseta polo",
           1.44,
           30.56
          ],
          [
           "masser sas - terpel",
           "camiseta polo",
           1.44,
           30.56
          ],
          [
           "masser sas - terpel",
           "camiseta polo",
           1.44,
           30.56
          ],
          [
           "masser sas - terpel",
           "camiseta polo",
           1.44,
           30.56
          ],
          [
           "masser sas - terpel",
           "camiseta polo",
           1.44,
           30.56
          ],
          [
           "masser sas - terpel",
           "camiseta polo",
           1.44,
           30.56
          ],
          [
           "masser sas - terpel",
           "camiseta polo",
           1.44,
           30.56
          ],
          [
           "masser sas - terpel",
           "camiseta polo",
           1.44,
           30.56
          ],
          [
           "masser sas - terpel",
           "camiseta polo",
           1.44,
           30.56
          ],
          [
           "masser sas - terpel",
           "camiseta polo",
           1.44,
           30.56
          ],
          [
           "masser sas - terpel",
           "camiseta polo",
           1.44,
           30.56
          ],
          [
           "masser sas - terpel",
           "camiseta polo",
           1.44,
           30.56
          ],
          [
           "masser sas - terpel",
           "camiseta polo",
           1.44,
           30.56
          ],
          [
           "masser sas - terpel",
           "camiseta polo",
           1.44,
           30.56
          ],
          [
           "masser sas - terpel",
           "camiseta polo",
           1.44,
           30.56
          ],
          [
           "masser sas - terpel",
           "camiseta polo",
           1.44,
           30.56
          ],
          [
           "masser sas - terpel",
           "camiseta polo",
           1.44,
           30.56
          ],
          [
           "masser sas - terpel",
           "camiseta polo",
           1.44,
           30.56
          ],
          [
           "masser sas - terpel",
           "camiseta polo",
           1.44,
           30.56
          ],
          [
           "masser sas - terpel",
           "camiseta polo",
           1.44,
           30.56
          ],
          [
           "masser sas - terpel",
           "camiseta polo",
           1.44,
           30.56
          ],
          [
           "masser sas - terpel",
           "camiseta polo",
           1.44,
           30.56
          ],
          [
           "masser sas - terpel",
           "camiseta polo",
           1.44,
           30.56
          ],
          [
           "masser sas - terpel",
           "camiseta polo",
           1.44,
           30.56
          ],
          [
           "masser sas - terpel",
           "camiseta polo",
           1.44,
           30.56
          ],
          [
           "masser sas - terpel",
           "camiseta polo",
           1.44,
           30.56
          ],
          [
           "masser sas - terpel",
           "camiseta polo",
           1.44,
           30.56
          ],
          [
           "masser sas - terpel",
           "camiseta polo",
           1.44,
           30.56
          ],
          [
           "masser sas - terpel",
           "camiseta polo",
           1.44,
           30.56
          ],
          [
           "masser sas - terpel",
           "gorra curva",
           1.29,
           22.48
          ],
          [
           "masser sas - terpel",
           "gorra curva",
           1.29,
           22.48
          ],
          [
           "masser sas - terpel",
           "gorra curva",
           1.29,
           22.48
          ],
          [
           "masser sas - terpel",
           "gorra curva",
           1.29,
           22.48
          ],
          [
           "masser sas - terpel",
           "gorra curva",
           1.29,
           22.48
          ],
          [
           "masser sas - terpel",
           "camiseta polo",
           1.44,
           30.56
          ],
          [
           "masser sas - terpel",
           "camiseta polo",
           1.44,
           30.56
          ],
          [
           "masser sas - terpel",
           "camiseta polo",
           1.44,
           30.56
          ],
          [
           "masser sas - terpel",
           "camiseta polo",
           1.44,
           30.56
          ],
          [
           "masser sas - terpel",
           "camiseta polo",
           1.44,
           30.56
          ],
          [
           "masser sas - terpel",
           "camiseta polo",
           1.44,
           30.56
          ],
          [
           "masser sas - terpel",
           "camiseta polo",
           1.44,
           30.56
          ],
          [
           "masser sas - terpel",
           "camiseta polo",
           1.44,
           30.56
          ],
          [
           "masser sas - terpel",
           "camiseta polo",
           1.44,
           30.56
          ],
          [
           "masser sas - terpel",
           "camiseta polo",
           1.44,
           30.56
          ],
          [
           "masser sas - terpel",
           "camiseta polo",
           1.44,
           30.56
          ],
          [
           "masser sas - terpel",
           "camiseta polo",
           1.44,
           30.56
          ],
          [
           "masser sas - terpel",
           "camiseta polo",
           1.44,
           30.56
          ],
          [
           "masser sas - terpel",
           "camiseta polo",
           1.44,
           30.56
          ],
          [
           "masser sas - terpel",
           "camiseta polo",
           1.44,
           30.56
          ],
          [
           "masser sas - terpel",
           "camiseta polo",
           1.44,
           30.56
          ],
          [
           "masser sas - terpel",
           "camiseta polo",
           1.44,
           30.56
          ],
          [
           "masser sas - terpel",
           "camiseta polo",
           1.44,
           30.56
          ],
          [
           "masser sas - terpel",
           "camiseta polo",
           1.44,
           30.56
          ],
          [
           "masser sas - terpel",
           "camiseta polo",
           1.44,
           30.56
          ],
          [
           "masser sas - terpel",
           "camiseta polo",
           1.44,
           30.56
          ],
          [
           "masser sas - terpel",
           "camiseta polo",
           1.44,
           30.56
          ],
          [
           "organización terpel sa (terpel)",
           "polo manga corta",
           1.4,
           28.57
          ],
          [
           "organización terpel sa (terpel)",
           "polo manga corta",
           1.4,
           28.57
          ],
          [
           "organización terpel sa (terpel)",
           "polo manga corta",
           1.4,
           28.57
          ],
          [
           "organización terpel sa (terpel)",
           "polo manga corta",
           1.4,
           28.57
          ],
          [
           "organización terpel sa (terpel)",
           "polo manga corta",
           1.4,
           28.57
          ],
          [
           "organización terpel sa (terpel)",
           "polo manga corta",
           1.4,
           28.57
          ],
          [
           "organización terpel sa (terpel)",
           "polo manga larga",
           1.25,
           20
          ],
          [
           "organización terpel sa (terpel)",
           "polo manga larga",
           1.25,
           20
          ],
          [
           "organización terpel sa (terpel)",
           "polo manga larga",
           1.25,
           20
          ],
          [
           "organización terpel sa (terpel)",
           "polo manga larga",
           1.25,
           20
          ],
          [
           "organización terpel sa (terpel)",
           "polo manga larga",
           1.25,
           20
          ],
          [
           "organización terpel sa (terpel)",
           "polo manga larga",
           1.25,
           20
          ],
          [
           "masser sas - terpel",
           "camiseta polo",
           1.44,
           30.56
          ],
          [
           "masser sas - terpel",
           "camiseta polo",
           1.44,
           30.56
          ],
          [
           "masser sas - terpel",
           "camiseta polo",
           1.44,
           30.56
          ],
          [
           "masser sas - terpel",
           "camiseta polo",
           1.44,
           30.56
          ],
          [
           "masser sas - terpel",
           "camiseta polo",
           1.44,
           30.56
          ],
          [
           "masser sas - terpel",
           "camiseta polo",
           1.44,
           30.56
          ],
          [
           "masser sas - terpel",
           "camiseta polo",
           1.44,
           30.56
          ],
          [
           "masser sas - terpel",
           "camiseta polo",
           1.44,
           30.56
          ],
          [
           "masser sas - terpel",
           "camiseta polo",
           1.44,
           30.56
          ],
          [
           "masser sas - terpel",
           "camiseta polo",
           1.44,
           30.56
          ],
          [
           "masser sas - terpel",
           "camiseta polo",
           1.44,
           30.56
          ],
          [
           "masser sas - terpel",
           "camiseta polo",
           1.44,
           30.56
          ],
          [
           "masser sas - terpel",
           "camiseta polo",
           1.44,
           30.56
          ],
          [
           "masser sas - terpel",
           "camiseta polo",
           1.44,
           30.56
          ],
          [
           "masser sas - terpel",
           "camiseta polo",
           1.44,
           30.56
          ],
          [
           "masser sas - terpel",
           "camiseta polo",
           1.44,
           30.56
          ],
          [
           "masser sas - terpel",
           "camiseta polo",
           1.44,
           30.56
          ],
          [
           "masser sas - terpel",
           "camiseta polo",
           1.44,
           30.56
          ],
          [
           "masser sas - terpel",
           "camiseta polo",
           1.44,
           30.56
          ],
          [
           "masser sas - terpel",
           "camiseta polo",
           1.44,
           30.56
          ],
          [
           "masser sas - terpel",
           "camiseta polo",
           1.44,
           30.56
          ],
          [
           "masser sas - terpel",
           "camiseta polo",
           1.44,
           30.56
          ],
          [
           "masser sas - terpel",
           "camiseta polo",
           1.44,
           30.56
          ],
          [
           "masser sas - terpel",
           "camiseta polo",
           1.44,
           30.56
          ],
          [
           "masser sas - terpel",
           "camiseta polo",
           1.44,
           30.56
          ],
          [
           "masser sas - terpel",
           "camiseta polo",
           1.44,
           30.56
          ],
          [
           "masser sas - terpel",
           "camiseta polo",
           1.44,
           30.56
          ],
          [
           "masser sas - terpel",
           "camiseta polo",
           1.44,
           30.56
          ],
          [
           "masser sas - terpel",
           "camiseta polo",
           1.44,
           30.56
          ],
          [
           "masser sas - terpel",
           "gorra seis cascos",
           1.19,
           15.97
          ],
          [
           "masser sas - terpel",
           "gorra seis cascos",
           1.19,
           15.97
          ],
          [
           "masser sas - terpel",
           "gorra seis cascos",
           1.19,
           15.97
          ],
          [
           "masser sas - terpel",
           "gorra seis cascos",
           1.19,
           15.97
          ],
          [
           "masser sas - terpel",
           "gorra seis cascos",
           1.19,
           15.97
          ],
          [
           "masser sas - terpel",
           "chaqueta michelin",
           1.22,
           18.03
          ],
          [
           "masser sas - terpel",
           "chaqueta michelin",
           1.22,
           18.03
          ],
          [
           "masser sas - terpel",
           "chaqueta michelin",
           1.22,
           18.03
          ],
          [
           "masser sas - terpel",
           "chaqueta michelin",
           1.22,
           18.03
          ],
          [
           "masser sas - terpel",
           "chaqueta michelin",
           1.22,
           18.03
          ],
          [
           "masser sas - terpel",
           "chaqueta michelin",
           1.22,
           18.03
          ],
          [
           "masser sas - terpel",
           "chaqueta michelin",
           1.22,
           18.03
          ],
          [
           "masser sas - terpel",
           "chaqueta michelin",
           1.22,
           18.03
          ],
          [
           "masser sas - terpel",
           "chaqueta michelin",
           1.22,
           18.03
          ],
          [
           "masser sas - terpel",
           "camiseta polo",
           1.44,
           30.56
          ],
          [
           "masser sas - terpel",
           "camiseta polo",
           1.44,
           30.56
          ],
          [
           "masser sas - terpel",
           "camiseta polo",
           1.44,
           30.56
          ],
          [
           "masser sas - terpel",
           "camiseta polo",
           1.44,
           30.56
          ],
          [
           "masser sas - terpel",
           "camiseta polo",
           1.44,
           30.56
          ],
          [
           "masser sas - terpel",
           "camiseta polo",
           1.44,
           30.56
          ],
          [
           "masser sas - terpel",
           "camiseta polo",
           1.44,
           30.56
          ],
          [
           "masser sas - terpel",
           "camiseta polo",
           1.44,
           30.56
          ],
          [
           "masser sas - terpel",
           "camiseta polo",
           1.44,
           30.56
          ],
          [
           "masser sas - terpel",
           "camiseta polo",
           1.44,
           30.56
          ],
          [
           "masser sas - terpel",
           "camiseta polo",
           1.44,
           30.56
          ],
          [
           "masser sas - terpel",
           "camiseta polo",
           1.44,
           30.56
          ],
          [
           "masser sas - terpel",
           "camiseta polo",
           1.44,
           30.56
          ],
          [
           "masser sas - terpel",
           "camiseta polo",
           1.44,
           30.56
          ],
          [
           "masser sas - terpel",
           "camiseta polo",
           1.44,
           30.56
          ],
          [
           "masser sas - terpel",
           "camiseta polo",
           1.44,
           30.56
          ],
          [
           "masser sas - terpel",
           "camiseta polo",
           1.44,
           30.56
          ],
          [
           "masser sas - terpel",
           "camiseta polo",
           1.44,
           30.56
          ],
          [
           "masser sas - terpel",
           "camiseta polo",
           1.44,
           30.56
          ],
          [
           "masser sas - terpel",
           "camiseta polo",
           1.44,
           30.56
          ],
          [
           "masser sas - terpel",
           "camiseta polo",
           1.44,
           30.56
          ],
          [
           "masser sas - terpel",
           "camiseta polo",
           1.44,
           30.56
          ],
          [
           "masser sas - terpel",
           "camiseta polo",
           1.44,
           30.56
          ],
          [
           "masser sas - terpel",
           "camiseta polo",
           1.44,
           30.56
          ],
          [
           "masser sas - terpel",
           "camiseta polo",
           1.44,
           30.56
          ],
          [
           "masser sas - terpel",
           "camiseta polo",
           1.44,
           30.56
          ],
          [
           "masser sas - terpel",
           "camiseta polo",
           1.44,
           30.56
          ],
          [
           "masser sas - terpel",
           "camiseta polo",
           1.44,
           30.56
          ],
          [
           "masser sas - terpel",
           "camiseta polo",
           1.44,
           30.56
          ],
          [
           "masser sas - terpel",
           "camiseta polo",
           1.44,
           30.56
          ],
          [
           "masser sas - terpel",
           "camiseta polo",
           1.44,
           30.56
          ],
          [
           "masser sas - terpel",
           "camiseta polo",
           1.35,
           25.93
          ],
          [
           "masser sas - terpel",
           "camiseta polo",
           1.35,
           25.93
          ],
          [
           "masser sas - terpel",
           "camiseta polo",
           1.35,
           25.93
          ],
          [
           "masser sas - terpel",
           "camiseta polo",
           1.35,
           25.93
          ],
          [
           "masser sas - terpel",
           "camiseta polo",
           1.35,
           25.93
          ],
          [
           "masser sas - terpel",
           "camiseta polo",
           1.35,
           25.93
          ],
          [
           "masser sas - terpel",
           "camiseta polo",
           1.35,
           25.93
          ],
          [
           "masser sas - terpel",
           "camiseta polo",
           1.35,
           25.93
          ],
          [
           "masser sas - terpel",
           "camiseta polo",
           1.44,
           30.56
          ],
          [
           "masser sas - terpel",
           "camiseta polo",
           1.44,
           30.56
          ],
          [
           "masser sas - terpel",
           "camiseta polo",
           1.44,
           30.56
          ],
          [
           "masser sas - terpel",
           "camiseta polo",
           1.44,
           30.56
          ],
          [
           "masser sas - terpel",
           "camiseta polo",
           1.44,
           30.56
          ],
          [
           "masser sas - terpel",
           "camiseta polo",
           1.44,
           30.56
          ],
          [
           "masser sas - terpel",
           "camiseta polo",
           1.44,
           30.56
          ],
          [
           "masser sas - terpel",
           "camiseta polo",
           1.44,
           30.56
          ],
          [
           "masser sas - terpel",
           "gorra seis cascos",
           1.34,
           25.37
          ],
          [
           "masser sas - terpel",
           "gorra seis cascos",
           1.34,
           25.37
          ],
          [
           "masser sas - terpel",
           "gorra seis cascos",
           1.34,
           25.37
          ],
          [
           "masser sas - terpel",
           "gorra seis cascos",
           1.34,
           25.37
          ],
          [
           "masser sas - terpel",
           "gorra seis cascos",
           1.34,
           25.37
          ],
          [
           "masser sas - terpel",
           "camiseta polo",
           1.44,
           30.56
          ],
          [
           "masser sas - terpel",
           "camiseta polo",
           1.44,
           30.56
          ],
          [
           "masser sas - terpel",
           "camiseta polo",
           1.44,
           30.56
          ],
          [
           "masser sas - terpel",
           "camiseta polo",
           1.44,
           30.56
          ],
          [
           "masser sas - terpel",
           "camiseta polo",
           1.44,
           30.56
          ],
          [
           "masser sas - terpel",
           "camiseta polo",
           1.44,
           30.56
          ],
          [
           "masser sas - terpel",
           "camiseta polo",
           1.44,
           30.56
          ],
          [
           "masser sas - terpel",
           "camiseta polo",
           1.44,
           30.56
          ],
          [
           "masser sas - terpel",
           "camiseta polo",
           1.44,
           30.56
          ],
          [
           "masser sas - terpel",
           "camiseta polo",
           1.44,
           30.56
          ],
          [
           "masser sas - terpel",
           "camiseta polo",
           1.44,
           30.56
          ],
          [
           "masser sas - terpel",
           "camiseta polo",
           1.44,
           30.56
          ],
          [
           "masser sas - terpel",
           "camiseta polo",
           1.44,
           30.56
          ],
          [
           "masser sas - terpel",
           "camiseta polo",
           1.44,
           30.56
          ],
          [
           "masser sas - terpel",
           "camiseta polo",
           1.44,
           30.56
          ],
          [
           "masser sas - terpel",
           "camiseta polo",
           1.44,
           30.56
          ],
          [
           "masser sas - terpel",
           "camiseta polo",
           1.44,
           30.56
          ],
          [
           "masser sas - terpel",
           "camiseta polo",
           1.44,
           30.56
          ],
          [
           "masser sas - terpel",
           "camiseta polo",
           1.44,
           30.56
          ],
          [
           "masser sas - terpel",
           "camiseta polo",
           1.44,
           30.56
          ],
          [
           "masser sas - terpel",
           "camiseta polo",
           1.44,
           30.56
          ],
          [
           "masser sas - terpel",
           "camiseta polo",
           1.44,
           30.56
          ],
          [
           "masser sas - terpel",
           "camiseta polo",
           1.44,
           30.56
          ],
          [
           "masser sas - terpel",
           "camiseta polo",
           1.44,
           30.56
          ],
          [
           "masser sas - terpel",
           "camiseta polo",
           1.44,
           30.56
          ],
          [
           "masser sas - terpel",
           "camiseta polo",
           1.44,
           30.56
          ],
          [
           "masser sas - terpel",
           "camiseta polo",
           1.44,
           30.56
          ],
          [
           "masser sas - terpel",
           "camiseta polo",
           1.44,
           30.56
          ],
          [
           "masser sas - terpel",
           "camiseta polo",
           1.44,
           30.56
          ],
          [
           "masser sas - terpel",
           "camiseta polo",
           1.44,
           30.56
          ],
          [
           "masser sas - terpel",
           "camiseta polo",
           1.44,
           30.56
          ],
          [
           "masser sas - terpel",
           "camiseta polo",
           1.44,
           30.56
          ],
          [
           "masser sas - terpel",
           "camiseta polo",
           1.44,
           30.56
          ],
          [
           "masser sas - terpel",
           "camiseta polo",
           1.44,
           30.56
          ],
          [
           "masser sas - terpel",
           "camiseta polo",
           1.44,
           30.56
          ],
          [
           "masser sas - terpel",
           "camiseta polo",
           1.44,
           30.56
          ],
          [
           "masser sas - terpel",
           "camiseta polo",
           1.44,
           30.56
          ],
          [
           "masser sas - terpel",
           "camiseta polo",
           1.44,
           30.56
          ],
          [
           "masser sas - terpel",
           "camiseta polo",
           1.44,
           30.56
          ],
          [
           "masser sas - terpel",
           "camiseta polo",
           1.44,
           30.56
          ],
          [
           "masser sas - terpel",
           "camiseta polo",
           1.44,
           30.56
          ],
          [
           "masser sas - terpel",
           "camiseta polo",
           1.44,
           30.56
          ],
          [
           "masser sas - terpel",
           "camiseta polo",
           1.44,
           30.56
          ],
          [
           "masser sas - terpel",
           "camiseta polo",
           1.44,
           30.56
          ],
          [
           "masser sas - terpel",
           "camiseta polo",
           1.44,
           30.56
          ],
          [
           "masser sas - terpel",
           "camiseta polo",
           1.44,
           30.56
          ],
          [
           "masser sas - terpel",
           "chaqueta michelin",
           1.22,
           18.03
          ],
          [
           "masser sas - terpel",
           "chaqueta michelin",
           1.22,
           18.03
          ],
          [
           "masser sas - terpel",
           "chaqueta michelin",
           1.22,
           18.03
          ],
          [
           "masser sas - terpel",
           "chaqueta michelin",
           1.22,
           18.03
          ],
          [
           "masser sas - terpel",
           "chaqueta michelin",
           1.22,
           18.03
          ],
          [
           "masser sas - terpel",
           "chaqueta michelin",
           1.22,
           18.03
          ],
          [
           "masser sas - terpel",
           "chaqueta michelin",
           1.22,
           18.03
          ],
          [
           "masser sas - terpel",
           "chaqueta michelin",
           1.22,
           18.03
          ],
          [
           "masser sas - terpel",
           "chaqueta michelin",
           1.22,
           18.03
          ],
          [
           "masser sas - terpel",
           "camiseta polo",
           1.44,
           30.56
          ],
          [
           "masser sas - terpel",
           "camiseta polo",
           1.44,
           30.56
          ],
          [
           "masser sas - terpel",
           "camiseta polo",
           1.44,
           30.56
          ],
          [
           "masser sas - terpel",
           "camiseta polo",
           1.44,
           30.56
          ],
          [
           "masser sas - terpel",
           "camiseta polo",
           1.44,
           30.56
          ],
          [
           "masser sas - terpel",
           "camiseta polo",
           1.44,
           30.56
          ],
          [
           "masser sas - terpel",
           "camiseta polo",
           1.44,
           30.56
          ],
          [
           "masser sas - terpel",
           "gorra curva",
           1.29,
           22.48
          ],
          [
           "masser sas - terpel",
           "gorra curva",
           1.29,
           22.48
          ],
          [
           "masser sas - terpel",
           "gorra curva",
           1.29,
           22.48
          ],
          [
           "masser sas - terpel",
           "gorra curva",
           1.29,
           22.48
          ],
          [
           "masser sas - terpel",
           "gorra curva",
           1.29,
           22.48
          ],
          [
           "masser sas - terpel",
           "camiseta polo",
           1.44,
           30.56
          ],
          [
           "masser sas - terpel",
           "camiseta polo",
           1.44,
           30.56
          ],
          [
           "masser sas - terpel",
           "camiseta polo",
           1.44,
           30.56
          ],
          [
           "masser sas - terpel",
           "camiseta polo",
           1.44,
           30.56
          ],
          [
           "masser sas - terpel",
           "camiseta polo",
           1.44,
           30.56
          ],
          [
           "masser sas - terpel",
           "camiseta polo",
           1.44,
           30.56
          ],
          [
           "masser sas - terpel",
           "camiseta polo",
           1.44,
           30.56
          ],
          [
           "masser sas - terpel",
           "chaqueta michelin",
           1.22,
           18.03
          ],
          [
           "masser sas - terpel",
           "chaqueta michelin",
           1.22,
           18.03
          ],
          [
           "masser sas - terpel",
           "chaqueta michelin",
           1.22,
           18.03
          ],
          [
           "masser sas - terpel",
           "chaqueta michelin",
           1.22,
           18.03
          ],
          [
           "masser sas - terpel",
           "chaqueta michelin",
           1.22,
           18.03
          ],
          [
           "masser sas - terpel",
           "chaqueta michelin",
           1.22,
           18.03
          ],
          [
           "masser sas - terpel",
           "chaqueta michelin",
           1.22,
           18.03
          ],
          [
           "masser sas - terpel",
           "chaqueta michelin",
           1.22,
           18.03
          ],
          [
           "masser sas - terpel",
           "chaqueta michelin",
           1.22,
           18.03
          ],
          [
           "masser sas - terpel",
           "camiseta polo",
           1.44,
           30.56
          ],
          [
           "masser sas - terpel",
           "camiseta polo",
           1.44,
           30.56
          ],
          [
           "masser sas - terpel",
           "camiseta polo",
           1.44,
           30.56
          ],
          [
           "masser sas - terpel",
           "camiseta polo",
           1.44,
           30.56
          ],
          [
           "masser sas - terpel",
           "camiseta polo",
           1.44,
           30.56
          ],
          [
           "masser sas - terpel",
           "camiseta polo",
           1.44,
           30.56
          ],
          [
           "masser sas - terpel",
           "camiseta polo",
           1.44,
           30.56
          ],
          [
           "masser sas - terpel",
           "camiseta polo",
           1.44,
           30.56
          ],
          [
           "masser sas - terpel",
           "camiseta polo",
           1.44,
           30.56
          ],
          [
           "masser sas - terpel",
           "camiseta polo",
           1.44,
           30.56
          ],
          [
           "masser sas - terpel",
           "camiseta polo",
           1.44,
           30.56
          ],
          [
           "masser sas - terpel",
           "camiseta polo",
           1.44,
           30.56
          ],
          [
           "masser sas - terpel",
           "camiseta polo",
           1.44,
           30.56
          ],
          [
           "masser sas - terpel",
           "camiseta polo",
           1.44,
           30.56
          ],
          [
           "masser sas - terpel",
           "camiseta polo",
           1.44,
           30.56
          ],
          [
           "masser sas - terpel",
           "camiseta polo",
           1.44,
           30.56
          ],
          [
           "masser sas - terpel",
           "gorra curva",
           1.2,
           16.67
          ],
          [
           "masser sas - terpel",
           "gorra curva",
           1.2,
           16.67
          ],
          [
           "masser sas - terpel",
           "gorra curva",
           1.2,
           16.67
          ],
          [
           "masser sas - terpel",
           "gorra curva",
           1.2,
           16.67
          ],
          [
           "masser sas - terpel",
           "camisa manga larga",
           1.8,
           44.44
          ],
          [
           "masser sas - terpel",
           "camisa manga larga",
           1.8,
           44.44
          ],
          [
           "masser sas - terpel",
           "camisa manga larga",
           1.8,
           44.44
          ],
          [
           "masser sas - terpel",
           "camisa manga larga",
           1.8,
           44.44
          ],
          [
           "masser sas - terpel",
           "camisa manga larga",
           1.8,
           44.44
          ],
          [
           "masser sas - terpel",
           "camisa manga larga",
           1.8,
           44.44
          ],
          [
           "masser sas - terpel",
           "camiseta polo",
           1.44,
           30.56
          ],
          [
           "masser sas - terpel",
           "camiseta polo",
           1.44,
           30.56
          ],
          [
           "masser sas - terpel",
           "camiseta polo",
           1.44,
           30.56
          ],
          [
           "masser sas - terpel",
           "camiseta polo",
           1.44,
           30.56
          ],
          [
           "masser sas - terpel",
           "camiseta polo",
           1.44,
           30.56
          ],
          [
           "masser sas - terpel",
           "camiseta polo",
           1.44,
           30.56
          ],
          [
           "masser sas - terpel",
           "camiseta polo",
           1.44,
           30.56
          ],
          [
           "masser sas - terpel",
           "camiseta polo",
           1.44,
           30.56
          ],
          [
           "masser sas - terpel",
           "camiseta polo",
           1.44,
           30.56
          ],
          [
           "masser sas - terpel",
           "camiseta polo",
           1.44,
           30.56
          ],
          [
           "masser sas - terpel",
           "camiseta polo",
           1.44,
           30.56
          ],
          [
           "masser sas - terpel",
           "camiseta polo",
           1.44,
           30.56
          ],
          [
           "masser sas - terpel",
           "camiseta polo",
           1.44,
           30.56
          ],
          [
           "masser sas - terpel",
           "camiseta polo",
           1.44,
           30.56
          ],
          [
           "masser sas - terpel",
           "camiseta polo",
           1.44,
           30.56
          ],
          [
           "masser sas - terpel",
           "camiseta polo",
           1.44,
           30.56
          ],
          [
           "masser sas - terpel",
           "camiseta polo",
           1.44,
           30.56
          ],
          [
           "masser sas - terpel",
           "camiseta polo",
           1.44,
           30.56
          ],
          [
           "masser sas - terpel",
           "camiseta polo",
           1.44,
           30.56
          ],
          [
           "masser sas - terpel",
           "camiseta polo",
           1.44,
           30.56
          ],
          [
           "masser sas - terpel",
           "camiseta polo",
           1.44,
           30.56
          ],
          [
           "masser sas - terpel",
           "camiseta polo",
           1.44,
           30.56
          ],
          [
           "masser sas - terpel",
           "camiseta polo",
           1.44,
           30.56
          ],
          [
           "masser sas - terpel",
           "camiseta polo",
           1.44,
           30.56
          ],
          [
           "masser sas - terpel",
           "camiseta polo",
           1.44,
           30.56
          ],
          [
           "masser sas - terpel",
           "camiseta polo",
           1.44,
           30.56
          ],
          [
           "masser sas - terpel",
           "camiseta polo",
           1.44,
           30.56
          ],
          [
           "masser sas - terpel",
           "camiseta polo",
           1.44,
           30.56
          ],
          [
           "masser sas - terpel",
           "camiseta polo",
           1.44,
           30.56
          ],
          [
           "masser sas - terpel",
           "camiseta polo",
           1.44,
           30.56
          ],
          [
           "masser sas - terpel",
           "camiseta polo",
           1.44,
           30.56
          ],
          [
           "masser sas - terpel",
           "camiseta polo",
           1.44,
           30.56
          ],
          [
           "masser sas - terpel",
           "camiseta polo",
           1.2,
           16.67
          ],
          [
           "masser sas - terpel",
           "camiseta polo",
           1.2,
           16.67
          ],
          [
           "masser sas - terpel",
           "camiseta polo",
           1.2,
           16.67
          ],
          [
           "masser sas - terpel",
           "camiseta polo",
           1.2,
           16.67
          ],
          [
           "masser sas - terpel",
           "camiseta polo",
           1.2,
           16.67
          ],
          [
           "masser sas - terpel",
           "camiseta polo",
           1.2,
           16.67
          ],
          [
           "organización terpel sa (terpel)",
           "polo manga larga",
           1.31,
           23.66
          ],
          [
           "organización terpel sa (terpel)",
           "polo manga larga",
           1.31,
           23.66
          ],
          [
           "organización terpel sa (terpel)",
           "polo manga larga",
           1.31,
           23.66
          ],
          [
           "organización terpel sa (terpel)",
           "polo manga larga",
           1.31,
           23.66
          ],
          [
           "organización terpel sa (terpel)",
           "polo manga larga",
           1.31,
           23.66
          ],
          [
           "organización terpel sa (terpel)",
           "polo manga larga",
           1.31,
           23.66
          ],
          [
           "organización terpel sa (terpel)",
           "polo manga corta",
           1.3,
           23.08
          ],
          [
           "organización terpel sa (terpel)",
           "polo manga corta",
           1.3,
           23.08
          ],
          [
           "organización terpel sa (terpel)",
           "polo manga corta",
           1.3,
           23.08
          ],
          [
           "organización terpel sa (terpel)",
           "polo manga corta",
           1.3,
           23.08
          ],
          [
           "organización terpel sa (terpel)",
           "polo manga corta",
           1.3,
           23.08
          ],
          [
           "organización terpel sa (terpel)",
           "polo manga corta",
           1.3,
           23.08
          ],
          [
           "organización terpel sa (terpel)",
           "polo manga corta",
           1.3,
           23.08
          ],
          [
           "organización terpel sa (terpel)",
           "polo manga corta",
           1.3,
           23.08
          ],
          [
           "organización terpel sa (terpel)",
           "polo manga larga",
           1.32,
           24.24
          ],
          [
           "organización terpel sa (terpel)",
           "polo manga larga",
           1.32,
           24.24
          ],
          [
           "organización terpel sa (terpel)",
           "polo manga larga",
           1.32,
           24.24
          ],
          [
           "organización terpel sa (terpel)",
           "polo manga larga",
           1.32,
           24.24
          ],
          [
           "organización terpel sa (terpel)",
           "polo manga larga",
           1.32,
           24.24
          ],
          [
           "organización terpel sa (terpel)",
           "polo manga larga",
           1.32,
           24.24
          ],
          [
           "organización terpel sa (terpel)",
           "polo manga larga",
           1.25,
           20
          ],
          [
           "organización terpel sa (terpel)",
           "polo manga larga",
           1.25,
           20
          ],
          [
           "organización terpel sa (terpel)",
           "polo manga larga",
           1.25,
           20
          ],
          [
           "organización terpel sa (terpel)",
           "polo manga larga",
           1.25,
           20
          ],
          [
           "organización terpel sa (terpel)",
           "polo manga larga",
           1.25,
           20
          ],
          [
           "organización terpel sa (terpel)",
           "polo manga larga",
           1.25,
           20
          ],
          [
           "masser sas - terpel",
           "camiseta polo",
           1.44,
           30.56
          ],
          [
           "masser sas - terpel",
           "camiseta polo",
           1.44,
           30.56
          ],
          [
           "masser sas - terpel",
           "camiseta polo",
           1.44,
           30.56
          ],
          [
           "masser sas - terpel",
           "camiseta polo",
           1.44,
           30.56
          ],
          [
           "masser sas - terpel",
           "camiseta polo",
           1.44,
           30.56
          ],
          [
           "masser sas - terpel",
           "camiseta polo",
           1.44,
           30.56
          ],
          [
           "masser sas - terpel",
           "camiseta polo",
           1.44,
           30.56
          ],
          [
           "masser sas - terpel",
           "camiseta polo",
           1.44,
           30.56
          ],
          [
           "masser sas - terpel",
           "camiseta polo",
           1.44,
           30.56
          ],
          [
           "masser sas - terpel",
           "camiseta polo",
           1.44,
           30.56
          ],
          [
           "masser sas - terpel",
           "camiseta polo",
           1.44,
           30.56
          ],
          [
           "masser sas - terpel",
           "camiseta polo",
           1.44,
           30.56
          ],
          [
           "masser sas - terpel",
           "camiseta polo",
           1.44,
           30.56
          ],
          [
           "masser sas - terpel",
           "camiseta polo",
           1.44,
           30.56
          ],
          [
           "masser sas - terpel",
           "camiseta polo",
           1.44,
           30.56
          ],
          [
           "masser sas - terpel",
           "camiseta polo",
           1.44,
           30.56
          ],
          [
           "masser sas - terpel",
           "camiseta polo",
           1.44,
           30.56
          ],
          [
           "masser sas - terpel",
           "camiseta polo",
           1.44,
           30.56
          ],
          [
           "masser sas - terpel",
           "camiseta polo",
           1.44,
           30.56
          ],
          [
           "masser sas - terpel",
           "camiseta polo",
           1.44,
           30.56
          ],
          [
           "masser sas - terpel",
           "camiseta polo",
           1.44,
           30.56
          ],
          [
           "masser sas - terpel",
           "camiseta polo",
           1.44,
           30.56
          ],
          [
           "masser sas - terpel",
           "camiseta polo",
           1.44,
           30.56
          ],
          [
           "masser sas - terpel",
           "camiseta polo",
           1.44,
           30.56
          ],
          [
           "masser sas - terpel",
           "camiseta polo",
           1.44,
           30.56
          ],
          [
           "masser sas - terpel",
           "camiseta polo",
           1.44,
           30.56
          ],
          [
           "masser sas - terpel",
           "camiseta polo",
           1.44,
           30.56
          ],
          [
           "masser sas - terpel",
           "camiseta polo",
           1.44,
           30.56
          ],
          [
           "masser sas - terpel",
           "camiseta polo",
           1.44,
           30.56
          ],
          [
           "masser sas - terpel",
           "camiseta polo",
           1.44,
           30.56
          ],
          [
           "masser sas - terpel",
           "camiseta polo",
           1.44,
           30.56
          ],
          [
           "masser sas - terpel",
           "camiseta polo",
           1.44,
           30.56
          ],
          [
           "masser sas - terpel",
           "camiseta polo",
           1.44,
           30.56
          ],
          [
           "masser sas - terpel",
           "camiseta polo",
           1.44,
           30.56
          ],
          [
           "masser sas - terpel",
           "camiseta polo",
           1.44,
           30.56
          ],
          [
           "masser sas - terpel",
           "camiseta polo",
           1.44,
           30.56
          ],
          [
           "masser sas - terpel",
           "camiseta polo",
           1.44,
           30.56
          ],
          [
           "masser sas - terpel",
           "camiseta polo",
           1.44,
           30.56
          ],
          [
           "masser sas - terpel",
           "camiseta polo",
           1.44,
           30.56
          ],
          [
           "masser sas - terpel",
           "camiseta polo",
           1.44,
           30.56
          ],
          [
           "masser sas - terpel",
           "camiseta polo",
           1.44,
           30.56
          ],
          [
           "masser sas - terpel",
           "camiseta polo",
           1.44,
           30.56
          ],
          [
           "masser sas - terpel",
           "camiseta polo",
           1.44,
           30.56
          ],
          [
           "masser sas - terpel",
           "camiseta polo",
           1.44,
           30.56
          ],
          [
           "masser sas - terpel",
           "camiseta polo",
           1.44,
           30.56
          ],
          [
           "masser sas - terpel",
           "camiseta polo",
           1.44,
           30.56
          ],
          [
           "masser sas - terpel",
           "camiseta polo",
           1.44,
           30.56
          ],
          [
           "masser sas - terpel",
           "camiseta polo",
           1.44,
           30.56
          ],
          [
           "masser sas - terpel",
           "camiseta polo",
           1.44,
           30.56
          ],
          [
           "masser sas - terpel",
           "camiseta polo",
           1.44,
           30.56
          ],
          [
           "masser sas - terpel",
           "camiseta polo",
           1.44,
           30.56
          ],
          [
           "masser sas - terpel",
           "camiseta polo",
           1.44,
           30.56
          ],
          [
           "masser sas - terpel",
           "camiseta polo",
           1.44,
           30.56
          ],
          [
           "masser sas - terpel",
           "camiseta polo",
           1.44,
           30.56
          ],
          [
           "masser sas - terpel",
           "camiseta polo",
           1.44,
           30.56
          ],
          [
           "masser sas - terpel",
           "camiseta polo",
           1.44,
           30.56
          ],
          [
           "masser sas - terpel",
           "camiseta polo",
           1.44,
           30.56
          ],
          [
           "masser sas - terpel",
           "camiseta polo",
           1.44,
           30.56
          ],
          [
           "masser sas - terpel",
           "camiseta polo",
           1.44,
           30.56
          ],
          [
           "masser sas - terpel",
           "camiseta polo",
           1.44,
           30.56
          ],
          [
           "masser sas - terpel",
           "camiseta polo",
           1.44,
           30.56
          ],
          [
           "masser sas - terpel",
           "camiseta polo",
           1.44,
           30.56
          ],
          [
           "masser sas - terpel",
           "camiseta polo",
           1.44,
           30.56
          ],
          [
           "masser sas - terpel",
           "camiseta polo",
           1.44,
           30.56
          ],
          [
           "masser sas - terpel",
           "camiseta polo",
           1.44,
           30.56
          ],
          [
           "masser sas - terpel",
           "camiseta polo",
           1.44,
           30.56
          ],
          [
           "masser sas - terpel",
           "camiseta polo",
           1.44,
           30.56
          ],
          [
           "masser sas - terpel",
           "camiseta polo",
           1.44,
           30.56
          ],
          [
           "masser sas - terpel",
           "camiseta polo",
           1.44,
           30.56
          ],
          [
           "masser sas - terpel",
           "camiseta polo",
           1.44,
           30.56
          ],
          [
           "masser sas - terpel",
           "camiseta polo",
           1.44,
           30.56
          ],
          [
           "masser sas - terpel",
           "camiseta polo",
           1.44,
           30.56
          ],
          [
           "masser sas - terpel",
           "camiseta polo",
           1.44,
           30.56
          ],
          [
           "masser sas - terpel",
           "camiseta polo",
           1.44,
           30.56
          ],
          [
           "masser sas - terpel",
           "camiseta polo",
           1.44,
           30.56
          ],
          [
           "masser sas - terpel",
           "camiseta polo",
           1.44,
           30.56
          ],
          [
           "masser sas - terpel",
           "camiseta polo",
           1.44,
           30.56
          ],
          [
           "masser sas - terpel",
           "camiseta polo",
           1.44,
           30.56
          ],
          [
           "masser sas - terpel",
           "camiseta polo",
           1.44,
           30.56
          ],
          [
           "masser sas - terpel",
           "camiseta polo",
           1.44,
           30.56
          ],
          [
           "masser sas - terpel",
           "pantalón dotación",
           1.35,
           25.93
          ],
          [
           "masser sas - terpel",
           "pantalón dotación",
           1.35,
           25.93
          ],
          [
           "masser sas - terpel",
           "pantalón dotación",
           1.35,
           25.93
          ],
          [
           "masser sas - terpel",
           "pantalón dotación",
           1.35,
           25.93
          ],
          [
           "masser sas - terpel",
           "pantalón dotación",
           1.35,
           25.93
          ],
          [
           "masser sas - terpel",
           "pantalón dotación",
           1.35,
           25.93
          ],
          [
           "masser sas - terpel",
           "pantalón dotación",
           1.35,
           25.93
          ],
          [
           "masser sas - terpel",
           "pantalón dotación",
           1.35,
           25.93
          ],
          [
           "masser sas - terpel",
           "camiseta polo",
           1.44,
           30.56
          ],
          [
           "masser sas - terpel",
           "camiseta polo",
           1.44,
           30.56
          ],
          [
           "masser sas - terpel",
           "camiseta polo",
           1.44,
           30.56
          ],
          [
           "masser sas - terpel",
           "camiseta polo",
           1.44,
           30.56
          ],
          [
           "masser sas - terpel",
           "camiseta polo",
           1.44,
           30.56
          ],
          [
           "masser sas - terpel",
           "camiseta polo",
           1.44,
           30.56
          ],
          [
           "masser sas - terpel",
           "camiseta polo",
           1.44,
           30.56
          ],
          [
           "masser sas - terpel",
           "camiseta polo",
           1.44,
           30.56
          ],
          [
           "masser sas - terpel",
           "camiseta polo",
           1.44,
           30.56
          ],
          [
           "masser sas - terpel",
           "camiseta polo",
           1.44,
           30.56
          ],
          [
           "masser sas - terpel",
           "camiseta polo",
           1.44,
           30.56
          ],
          [
           "masser sas - terpel",
           "camiseta polo",
           1.44,
           30.56
          ],
          [
           "masser sas - terpel",
           "camiseta polo",
           1.44,
           30.56
          ],
          [
           "masser sas - terpel",
           "camiseta polo",
           1.44,
           30.56
          ],
          [
           "masser sas - terpel",
           "camiseta polo",
           1.44,
           30.56
          ],
          [
           "masser sas - terpel",
           "camiseta polo",
           1.44,
           30.56
          ],
          [
           "masser sas - terpel",
           "camiseta polo",
           1.44,
           30.56
          ],
          [
           "masser sas - terpel",
           "camiseta polo",
           1.44,
           30.56
          ],
          [
           "masser sas - terpel",
           "camiseta polo",
           1.44,
           30.56
          ],
          [
           "masser sas - terpel",
           "camiseta polo",
           1.44,
           30.56
          ],
          [
           "masser sas - terpel",
           "camiseta polo",
           1.44,
           30.56
          ],
          [
           "masser sas - terpel",
           "camiseta polo",
           1.44,
           30.56
          ],
          [
           "masser sas - terpel",
           "camiseta polo",
           1.44,
           30.56
          ],
          [
           "masser sas - terpel",
           "camiseta polo",
           1.44,
           30.56
          ],
          [
           "masser sas - terpel",
           "camiseta polo",
           1.44,
           30.56
          ],
          [
           "masser sas - terpel",
           "camiseta polo",
           1.44,
           30.56
          ],
          [
           "masser sas - terpel",
           "camiseta polo",
           1.44,
           30.56
          ],
          [
           "masser sas - terpel",
           "camiseta polo",
           1.44,
           30.56
          ],
          [
           "masser sas - terpel",
           "camiseta polo",
           1.44,
           30.56
          ],
          [
           "masser sas - terpel",
           "camiseta polo",
           1.44,
           30.56
          ],
          [
           "masser sas - terpel",
           "camiseta polo",
           1.44,
           30.56
          ],
          [
           "masser sas - terpel",
           "camiseta polo",
           1.44,
           30.56
          ],
          [
           "masser sas - terpel",
           "camiseta polo",
           1.44,
           30.56
          ],
          [
           "masser sas - terpel",
           "camiseta polo",
           1.44,
           30.56
          ],
          [
           "masser sas - terpel",
           "camiseta polo",
           1.44,
           30.56
          ],
          [
           "masser sas - terpel",
           "camiseta polo",
           1.44,
           30.56
          ],
          [
           "organización terpel sa (terpel)",
           "polo manga larga",
           1.35,
           25.93
          ],
          [
           "organización terpel sa (terpel)",
           "polo manga larga",
           1.35,
           25.93
          ],
          [
           "organización terpel sa (terpel)",
           "polo manga larga",
           1.35,
           25.93
          ],
          [
           "organización terpel sa (terpel)",
           "polo manga larga",
           1.35,
           25.93
          ],
          [
           "organización terpel sa (terpel)",
           "polo manga larga",
           1.35,
           25.93
          ],
          [
           "organización terpel sa (terpel)",
           "polo manga larga",
           1.35,
           25.93
          ],
          [
           "organización terpel sa (terpel)",
           "polo manga larga",
           1.35,
           25.93
          ],
          [
           "organización terpel sa (terpel)",
           "polo manga larga",
           1.35,
           25.93
          ],
          [
           "organización terpel sa (terpel)",
           "polo manga larga",
           1.35,
           25.93
          ],
          [
           "organización terpel sa (terpel)",
           "polo manga larga",
           1.35,
           25.93
          ],
          [
           "organización terpel sa (terpel)",
           "polo manga larga",
           1.35,
           25.93
          ],
          [
           "organización terpel sa (terpel)",
           "polo manga larga",
           1.35,
           25.93
          ],
          [
           "organización terpel sa (terpel)",
           "polo manga larga",
           1.31,
           23.66
          ],
          [
           "organización terpel sa (terpel)",
           "polo manga larga",
           1.31,
           23.66
          ],
          [
           "organización terpel sa (terpel)",
           "polo manga larga",
           1.31,
           23.66
          ],
          [
           "organización terpel sa (terpel)",
           "polo manga larga",
           1.31,
           23.66
          ],
          [
           "organización terpel sa (terpel)",
           "polo manga larga",
           1.31,
           23.66
          ],
          [
           "organización terpel sa (terpel)",
           "polo manga larga",
           1.31,
           23.66
          ],
          [
           "organización terpel sa (terpel)",
           "polo manga larga",
           1.31,
           23.66
          ],
          [
           "organización terpel sa (terpel)",
           "polo manga larga",
           1.31,
           23.66
          ],
          [
           "organización terpel sa (terpel)",
           "polo manga larga",
           1.31,
           23.66
          ],
          [
           "organización terpel sa (terpel)",
           "polo manga larga",
           1.31,
           23.66
          ],
          [
           "organización terpel sa (terpel)",
           "polo manga larga",
           1.31,
           23.66
          ],
          [
           "organización terpel sa (terpel)",
           "polo manga larga",
           1.31,
           23.66
          ],
          [
           "organización terpel sa (terpel)",
           "polo manga larga",
           1.35,
           25.93
          ],
          [
           "organización terpel sa (terpel)",
           "polo manga larga",
           1.35,
           25.93
          ],
          [
           "organización terpel sa (terpel)",
           "polo manga larga",
           1.35,
           25.93
          ],
          [
           "organización terpel sa (terpel)",
           "polo manga larga",
           1.35,
           25.93
          ],
          [
           "organización terpel sa (terpel)",
           "polo manga larga",
           1.35,
           25.93
          ],
          [
           "organización terpel sa (terpel)",
           "polo manga larga",
           1.35,
           25.93
          ],
          [
           "organización terpel sa (terpel)",
           "polo manga larga",
           1.31,
           23.66
          ],
          [
           "organización terpel sa (terpel)",
           "polo manga larga",
           1.31,
           23.66
          ],
          [
           "organización terpel sa (terpel)",
           "polo manga larga",
           1.31,
           23.66
          ],
          [
           "organización terpel sa (terpel)",
           "polo manga larga",
           1.31,
           23.66
          ],
          [
           "organización terpel sa (terpel)",
           "polo manga larga",
           1.31,
           23.66
          ],
          [
           "organización terpel sa (terpel)",
           "polo manga larga",
           1.31,
           23.66
          ]
         ],
         "hovertemplate": "Categoría Proc=camiseta<br>Costo Total Unitario=%{x}<br>Precio Unitario Sin IVA=%{y}<br>ClienteNombre=%{customdata[0]}<br>Producto=%{customdata[1]}<br>Ganancia=%{customdata[2]}<br>Margen Ganancia Real=%{customdata[3]}<extra></extra>",
         "legendgroup": "camiseta",
         "marker": {
          "color": "#00cc96",
          "symbol": "circle"
         },
         "mode": "markers",
         "name": "camiseta",
         "showlegend": true,
         "type": "scattergl",
         "x": {
          "bdata": "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",
          "dtype": "f8"
         },
         "xaxis": "x",
         "y": {
          "bdata": "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",
          "dtype": "i4"
         },
         "yaxis": "y"
        },
        {
         "customdata": [
          [
           "masser sas - terpel",
           "canguro",
           1.15,
           13.04
          ],
          [
           "masser sas - terpel",
           "canguro",
           1.15,
           13.04
          ],
          [
           "masser sas - terpel",
           "reata",
           1.7,
           41.18
          ],
          [
           "masser sas - terpel",
           "reata",
           1.7,
           41.18
          ],
          [
           "masser sas - terpel",
           "reata",
           1.7,
           41.18
          ],
          [
           "masser sas - terpel",
           "canguro",
           1.15,
           13.04
          ],
          [
           "masser sas - terpel",
           "canguro",
           1.15,
           13.04
          ],
          [
           "masser sas - terpel",
           "canguro",
           1.15,
           13.04
          ],
          [
           "masser sas - terpel",
           "canguro",
           1.15,
           13.04
          ],
          [
           "masser sas - terpel",
           "pantalón dotación",
           1.28,
           21.88
          ],
          [
           "masser sas - terpel",
           "pantalón dotación",
           1.28,
           21.88
          ],
          [
           "masser sas - terpel",
           "pantalón dotación",
           1.28,
           21.88
          ],
          [
           "masser sas - terpel",
           "pantalón dotación",
           1.28,
           21.88
          ],
          [
           "masser sas - terpel",
           "pantalón dotación",
           1.28,
           21.88
          ],
          [
           "masser sas - terpel",
           "pantalón dotación",
           1.28,
           21.88
          ],
          [
           "masser sas - terpel",
           "pantalón dotación",
           1.28,
           21.88
          ],
          [
           "masser sas - terpel",
           "canguro",
           1.15,
           13.04
          ],
          [
           "masser sas - terpel",
           "canguro",
           1.15,
           13.04
          ],
          [
           "masser sas - terpel",
           "reata",
           1.7,
           41.18
          ],
          [
           "masser sas - terpel",
           "reata",
           1.7,
           41.18
          ],
          [
           "masser sas - terpel",
           "reata",
           1.7,
           41.18
          ],
          [
           "masser sas - terpel",
           "reata",
           1.7,
           41.18
          ],
          [
           "masser sas - terpel",
           "reata",
           1.7,
           41.18
          ],
          [
           "masser sas - terpel",
           "reata",
           1.7,
           41.18
          ],
          [
           "organización terpel sa (terpel)",
           "cuello motero/ciclista",
           1,
           0
          ],
          [
           "organización terpel sa (terpel)",
           "cuello motero/ciclista",
           1,
           0
          ],
          [
           "organización terpel sa (terpel)",
           "cuello motero/ciclista",
           1,
           0
          ],
          [
           "organización terpel sa (terpel)",
           "cuello motero/ciclista",
           1.1,
           9.09
          ],
          [
           "organización terpel sa (terpel)",
           "cuello motero/ciclista",
           1.1,
           9.09
          ],
          [
           "organización terpel sa (terpel)",
           "cuello motero/ciclista",
           1.1,
           9.09
          ],
          [
           "organización terpel sa (terpel)",
           "canguro",
           1.2,
           16.67
          ],
          [
           "organización terpel sa (terpel)",
           "canguro",
           1.2,
           16.67
          ],
          [
           "organización terpel sa (terpel)",
           "reata",
           1.2,
           16.67
          ],
          [
           "organización terpel sa (terpel)",
           "reata",
           1.2,
           16.67
          ],
          [
           "masser sas - terpel",
           "reata",
           1.44,
           30.56
          ],
          [
           "masser sas - terpel",
           "reata",
           1.44,
           30.56
          ],
          [
           "masser sas - terpel",
           "reata",
           1.44,
           30.56
          ],
          [
           "organización terpel sa (terpel)",
           "canguro",
           1.2,
           16.67
          ],
          [
           "organización terpel sa (terpel)",
           "canguro",
           1.2,
           16.67
          ],
          [
           "organización terpel sa (terpel)",
           "reata",
           1.2,
           16.67
          ],
          [
           "organización terpel sa (terpel)",
           "reata",
           1.2,
           16.67
          ],
          [
           "masser sas - terpel",
           "reata",
           1.44,
           30.56
          ],
          [
           "masser sas - terpel",
           "reata",
           1.44,
           30.56
          ],
          [
           "masser sas - terpel",
           "reata",
           1.44,
           30.56
          ],
          [
           "organización terpel sa (terpel)",
           "chaqueta sport",
           1.28,
           21.88
          ],
          [
           "organización terpel sa (terpel)",
           "chaqueta sport",
           1.28,
           21.88
          ],
          [
           "organización terpel sa (terpel)",
           "chaqueta sport",
           1.28,
           21.88
          ],
          [
           "organización terpel sa (terpel)",
           "chaqueta sport",
           1.28,
           21.88
          ],
          [
           "organización terpel sa (terpel)",
           "chaqueta sport",
           1.28,
           21.88
          ],
          [
           "organización terpel sa (terpel)",
           "chaqueta sport",
           1.28,
           21.88
          ],
          [
           "organización terpel sa (terpel)",
           "chaqueta sport",
           1.28,
           21.88
          ],
          [
           "organización terpel sa (terpel)",
           "chaqueta sport",
           1.28,
           21.88
          ],
          [
           "organización terpel sa (terpel)",
           "chaqueta sport",
           1.28,
           21.88
          ],
          [
           "organización terpel sa (terpel)",
           "chaqueta sport",
           1.28,
           21.88
          ],
          [
           "organización terpel sa (terpel)",
           "chaqueta sport",
           1.28,
           21.88
          ],
          [
           "organización terpel sa (terpel)",
           "chaqueta sport",
           1.28,
           21.88
          ],
          [
           "organización terpel sa (terpel)",
           "cuello motero/ciclista",
           1.3,
           23.08
          ],
          [
           "organización terpel sa (terpel)",
           "cuello motero/ciclista",
           1.3,
           23.08
          ],
          [
           "organización terpel sa (terpel)",
           "cuello motero/ciclista",
           1.3,
           23.08
          ],
          [
           "organización terpel sa (terpel)",
           "cuello motero/ciclista",
           1.3,
           23.08
          ],
          [
           "organización terpel sa (terpel)",
           "cuello motero/ciclista",
           1.23,
           18.7
          ],
          [
           "organización terpel sa (terpel)",
           "cuello motero/ciclista",
           1.23,
           18.7
          ],
          [
           "organización terpel sa (terpel)",
           "cuello motero/ciclista",
           1.23,
           18.7
          ],
          [
           "organización terpel sa (terpel)",
           "cuello motero/ciclista",
           1.23,
           18.7
          ],
          [
           "masser sas - terpel",
           "reata",
           1.44,
           30.56
          ],
          [
           "masser sas - terpel",
           "reata",
           1.44,
           30.56
          ],
          [
           "masser sas - terpel",
           "reata",
           1.44,
           30.56
          ],
          [
           "masser sas - terpel",
           "reata",
           1.44,
           30.56
          ],
          [
           "masser sas - terpel",
           "reata",
           1.44,
           30.56
          ],
          [
           "masser sas - terpel",
           "reata",
           1.44,
           30.56
          ],
          [
           "masser sas - terpel",
           "reata",
           1.44,
           30.56
          ],
          [
           "masser sas - terpel",
           "reata",
           1.44,
           30.56
          ],
          [
           "masser sas - terpel",
           "reata",
           1.44,
           30.56
          ],
          [
           "masser sas - terpel",
           "reata",
           1.44,
           30.56
          ],
          [
           "masser sas - terpel",
           "reata",
           1.44,
           30.56
          ],
          [
           "masser sas - terpel",
           "reata",
           1.44,
           30.56
          ],
          [
           "masser sas - terpel",
           "reata",
           1.44,
           30.56
          ],
          [
           "masser sas - terpel",
           "reata",
           1.44,
           30.56
          ],
          [
           "masser sas - terpel",
           "reata",
           1.44,
           30.56
          ],
          [
           "masser sas - terpel",
           "reata",
           1.44,
           30.56
          ],
          [
           "masser sas - terpel",
           "reata",
           1.44,
           30.56
          ],
          [
           "masser sas - terpel",
           "reata",
           1.44,
           30.56
          ],
          [
           "masser sas - terpel",
           "reata",
           1.44,
           30.56
          ],
          [
           "masser sas - terpel",
           "reata",
           1.44,
           30.56
          ],
          [
           "masser sas - terpel",
           "reata",
           1.44,
           30.56
          ]
         ],
         "hovertemplate": "Categoría Proc=accesorios<br>Costo Total Unitario=%{x}<br>Precio Unitario Sin IVA=%{y}<br>ClienteNombre=%{customdata[0]}<br>Producto=%{customdata[1]}<br>Ganancia=%{customdata[2]}<br>Margen Ganancia Real=%{customdata[3]}<extra></extra>",
         "legendgroup": "accesorios",
         "marker": {
          "color": "#ab63fa",
          "symbol": "circle"
         },
         "mode": "markers",
         "name": "accesorios",
         "showlegend": true,
         "type": "scattergl",
         "x": {
          "bdata": "AAAAAAB8xUAAAAAAAHzFQAAAAAAAsKJAAAAAAACwokAAAAAAALCiQAAAAAAAfMVAAAAAAAB8xUAAAAAAAHzFQAAAAAAAfMVAAAAAAICD4EAAAAAAgIPgQAAAAACAg+BAAAAAAICD4EAAAAAAgIPgQAAAAACAg+BAAAAAAICD4EAAAAAAAHzFQAAAAAAAfMVAAAAAAACwokAAAAAAALCiQAAAAAAAsKJAAAAAAACwokAAAAAAALCiQAAAAAAAsKJAAAAAAADaq0AAAAAAANqrQAAAAAAA2qtAAAAAAAAMp0AAAAAAAAynQAAAAAAADKdAAAAAAAB8xUAAAAAAAHzFQAAAAAAAjqVAAAAAAACOpUAAAAAAAEynQAAAAAAATKdAAAAAAABMp0AAAAAAAHzFQAAAAAAAfMVAAAAAAACOpUAAAAAAAI6lQAAAAAAATKdAAAAAAABMp0AAAAAAAEynQAAAAAAgMOtAAAAAACAw60AAAAAAIDDrQAAAAAAgMOtAAAAAACAw60AAAAAAIDDrQAAAAAAgMOtAAAAAACAw60AAAAAAIDDrQAAAAAAgMOtAAAAAACAw60AAAAAAIDDrQAAAAAAASqVAAAAAAABKpUAAAAAAAEqlQAAAAAAASqVAAAAAAACUpkAAAAAAAJSmQAAAAAAAlKZAAAAAAACUpkAAAAAAAEynQAAAAAAATKdAAAAAAABMp0AAAAAAAEynQAAAAAAATKdAAAAAAABMp0AAAAAAAEynQAAAAAAATKdAAAAAAABMp0AAAAAAAEynQAAAAAAATKdAAAAAAABMp0AAAAAAAEynQAAAAAAATKdAAAAAAABMp0AAAAAAAEynQAAAAAAATKdAAAAAAABMp0AAAAAAAEynQAAAAAAATKdAAAAAAABMp0A=",
          "dtype": "f8"
         },
         "xaxis": "x",
         "y": {
          "bdata": "3DXcNVARUBFQEdw13DXcNdw13DXcNdw13DXcNdw13DXcNdw1UBFQEVARUBFQEVARLg8uDy4P0g3SDdINNDg0OBgOGA5IEkgSSBI0ODQ4GA4YDkgSSBJIEhUPFQ8VDxUPFQ8VDxUPFQ8VDxUPFQ8VDxUPFQ8VDxUPIw8jDyMPIw9IEkgSSBJIEkgSSBJIEkgSSBJIEkgSSBJIEkgSSBJIEkgSSBJIEkgSSBI=",
          "dtype": "i2"
         },
         "yaxis": "y"
        },
        {
         "customdata": [
          [
           "organización terpel sa (terpel)",
           "chaqueta sport",
           1.2,
           16.67
          ],
          [
           "organización terpel sa (terpel)",
           "chaqueta sport",
           1.2,
           16.67
          ],
          [
           "organización terpel sa (terpel)",
           "chaqueta sport",
           1.2,
           16.67
          ],
          [
           "organización terpel sa (terpel)",
           "chaqueta sport",
           1.2,
           16.67
          ],
          [
           "organización terpel sa (terpel)",
           "chaqueta sport",
           1.2,
           16.67
          ],
          [
           "organización terpel sa (terpel)",
           "chaqueta sport",
           1.2,
           16.67
          ],
          [
           "organización terpel sa (terpel)",
           "chaqueta sport",
           1.2,
           16.67
          ],
          [
           "organización terpel sa (terpel)",
           "chaqueta sport",
           1.2,
           16.67
          ],
          [
           "organización terpel sa (terpel)",
           "chaqueta sport",
           1.2,
           16.67
          ],
          [
           "organización terpel sa (terpel)",
           "chaqueta sport",
           1.2,
           16.67
          ],
          [
           "organización terpel sa (terpel)",
           "chaqueta sport",
           1.2,
           16.67
          ],
          [
           "organización terpel sa (terpel)",
           "chaqueta sport",
           1.2,
           16.67
          ],
          [
           "organización terpel sa (terpel)",
           "chaqueta michelin",
           1.4,
           28.57
          ],
          [
           "organización terpel sa (terpel)",
           "chaqueta michelin",
           1.4,
           28.57
          ],
          [
           "organización terpel sa (terpel)",
           "chaqueta michelin",
           1.4,
           28.57
          ],
          [
           "organización terpel sa (terpel)",
           "chaqueta michelin",
           1.4,
           28.57
          ],
          [
           "organización terpel sa (terpel)",
           "chaqueta michelin",
           1.4,
           28.57
          ],
          [
           "organización terpel sa (terpel)",
           "chaqueta antifluido",
           1.8,
           44.44
          ],
          [
           "organización terpel sa (terpel)",
           "chaqueta antifluido",
           1.8,
           44.44
          ],
          [
           "organización terpel sa (terpel)",
           "chaqueta antifluido",
           1.8,
           44.44
          ],
          [
           "organización terpel sa (terpel)",
           "chaqueta michelin",
           1.4,
           28.57
          ],
          [
           "organización terpel sa (terpel)",
           "chaqueta michelin",
           1.4,
           28.57
          ],
          [
           "organización terpel sa (terpel)",
           "chaqueta michelin",
           1.4,
           28.57
          ],
          [
           "organización terpel sa (terpel)",
           "chaqueta michelin",
           1.4,
           28.57
          ],
          [
           "organización terpel sa (terpel)",
           "chaqueta michelin",
           1.4,
           28.57
          ],
          [
           "organización terpel sa (terpel)",
           "chaqueta michelin",
           1.4,
           28.57
          ],
          [
           "organización terpel sa (terpel)",
           "chaqueta sport",
           1.25,
           20
          ],
          [
           "organización terpel sa (terpel)",
           "chaqueta sport",
           1.25,
           20
          ],
          [
           "organización terpel sa (terpel)",
           "chaqueta sport",
           1.25,
           20
          ],
          [
           "organización terpel sa (terpel)",
           "chaqueta sport",
           1.25,
           20
          ],
          [
           "organización terpel sa (terpel)",
           "chaqueta sport",
           1.25,
           20
          ],
          [
           "organización terpel sa (terpel)",
           "chaqueta sport",
           1.25,
           20
          ],
          [
           "organización terpel sa (terpel)",
           "chaqueta sport",
           1.25,
           20
          ],
          [
           "organización terpel sa (terpel)",
           "chaqueta sport",
           1.25,
           20
          ],
          [
           "organización terpel sa (terpel)",
           "chaqueta sport",
           1.25,
           20
          ],
          [
           "organización terpel sa (terpel)",
           "chaqueta sport",
           1.25,
           20
          ],
          [
           "organización terpel sa (terpel)",
           "chaqueta sport",
           1.25,
           20
          ],
          [
           "organización terpel sa (terpel)",
           "chaqueta sport",
           1.25,
           20
          ],
          [
           "organización terpel sa (terpel)",
           "polo manga larga",
           1.31,
           23.66
          ],
          [
           "organización terpel sa (terpel)",
           "polo manga larga",
           1.31,
           23.66
          ],
          [
           "organización terpel sa (terpel)",
           "polo manga larga",
           1.31,
           23.66
          ],
          [
           "organización terpel sa (terpel)",
           "polo manga larga",
           1.31,
           23.66
          ],
          [
           "organización terpel sa (terpel)",
           "polo manga larga",
           1.31,
           23.66
          ],
          [
           "organización terpel sa (terpel)",
           "polo manga larga",
           1.31,
           23.66
          ],
          [
           "organización terpel sa (terpel)",
           "chaqueta sport",
           1.25,
           20
          ],
          [
           "organización terpel sa (terpel)",
           "chaqueta sport",
           1.25,
           20
          ],
          [
           "organización terpel sa (terpel)",
           "chaqueta sport",
           1.25,
           20
          ],
          [
           "organización terpel sa (terpel)",
           "chaqueta sport",
           1.25,
           20
          ],
          [
           "organización terpel sa (terpel)",
           "chaqueta sport",
           1.25,
           20
          ],
          [
           "organización terpel sa (terpel)",
           "chaqueta sport",
           1.25,
           20
          ],
          [
           "organización terpel sa (terpel)",
           "chaqueta sport",
           1.25,
           20
          ],
          [
           "organización terpel sa (terpel)",
           "chaqueta sport",
           1.25,
           20
          ],
          [
           "organización terpel sa (terpel)",
           "chaqueta sport",
           1.25,
           20
          ],
          [
           "organización terpel sa (terpel)",
           "chaqueta sport",
           1.25,
           20
          ],
          [
           "organización terpel sa (terpel)",
           "chaqueta sport",
           1.25,
           20
          ],
          [
           "organización terpel sa (terpel)",
           "chaqueta sport",
           1.25,
           20
          ],
          [
           "masser sas - terpel",
           "chaqueta sport",
           1.25,
           20
          ],
          [
           "masser sas - terpel",
           "chaqueta sport",
           1.25,
           20
          ],
          [
           "masser sas - terpel",
           "chaqueta sport",
           1.25,
           20
          ],
          [
           "masser sas - terpel",
           "chaqueta sport",
           1.25,
           20
          ],
          [
           "masser sas - terpel",
           "chaqueta sport",
           1.25,
           20
          ],
          [
           "masser sas - terpel",
           "chaqueta sport",
           1.25,
           20
          ],
          [
           "masser sas - terpel",
           "chaqueta sport",
           1.25,
           20
          ],
          [
           "masser sas - terpel",
           "chaqueta sport",
           1.25,
           20
          ],
          [
           "masser sas - terpel",
           "chaqueta sport",
           1.25,
           20
          ],
          [
           "masser sas - terpel",
           "chaqueta sport",
           1.25,
           20
          ],
          [
           "masser sas - terpel",
           "chaqueta sport",
           1.25,
           20
          ],
          [
           "masser sas - terpel",
           "chaqueta sport",
           1.25,
           20
          ],
          [
           "masser sas - terpel",
           "chaqueta michelin",
           1.22,
           18.03
          ],
          [
           "masser sas - terpel",
           "chaqueta michelin",
           1.22,
           18.03
          ],
          [
           "masser sas - terpel",
           "chaqueta michelin",
           1.22,
           18.03
          ],
          [
           "masser sas - terpel",
           "chaqueta michelin",
           1.22,
           18.03
          ],
          [
           "masser sas - terpel",
           "chaqueta michelin",
           1.22,
           18.03
          ],
          [
           "masser sas - terpel",
           "chaqueta michelin",
           1.22,
           18.03
          ],
          [
           "masser sas - terpel",
           "chaqueta michelin",
           1.22,
           18.03
          ],
          [
           "masser sas - terpel",
           "chaqueta michelin",
           1.22,
           18.03
          ],
          [
           "masser sas - terpel",
           "chaqueta michelin",
           1.22,
           18.03
          ],
          [
           "masser sas - terpel",
           "chaqueta michelin",
           1.29,
           22.48
          ],
          [
           "masser sas - terpel",
           "chaqueta michelin",
           1.29,
           22.48
          ],
          [
           "masser sas - terpel",
           "chaqueta michelin",
           1.29,
           22.48
          ],
          [
           "masser sas - terpel",
           "chaqueta michelin",
           1.29,
           22.48
          ],
          [
           "masser sas - terpel",
           "chaqueta michelin",
           1.29,
           22.48
          ],
          [
           "masser sas - terpel",
           "chaqueta michelin",
           1.29,
           22.48
          ],
          [
           "masser sas - terpel",
           "chaqueta michelin",
           1.29,
           22.48
          ],
          [
           "masser sas - terpel",
           "chaqueta michelin",
           1.29,
           22.48
          ],
          [
           "masser sas - terpel",
           "chaqueta michelin",
           1.29,
           22.48
          ],
          [
           "masser sas - terpel",
           "chaqueta michelin",
           1.29,
           22.48
          ],
          [
           "masser sas - terpel",
           "chaqueta michelin",
           1.22,
           18.03
          ],
          [
           "masser sas - terpel",
           "chaqueta michelin",
           1.22,
           18.03
          ],
          [
           "masser sas - terpel",
           "chaqueta michelin",
           1.22,
           18.03
          ],
          [
           "masser sas - terpel",
           "chaqueta michelin",
           1.22,
           18.03
          ],
          [
           "masser sas - terpel",
           "chaqueta michelin",
           1.22,
           18.03
          ],
          [
           "masser sas - terpel",
           "chaqueta michelin",
           1.22,
           18.03
          ],
          [
           "masser sas - terpel",
           "chaqueta michelin",
           1.22,
           18.03
          ],
          [
           "masser sas - terpel",
           "chaqueta michelin",
           1.22,
           18.03
          ],
          [
           "masser sas - terpel",
           "chaqueta michelin",
           1.22,
           18.03
          ],
          [
           "masser sas - terpel",
           "chaqueta michelin",
           1.22,
           18.03
          ],
          [
           "masser sas - terpel",
           "chaqueta michelin",
           1.22,
           18.03
          ],
          [
           "masser sas - terpel",
           "chaqueta michelin",
           1.22,
           18.03
          ],
          [
           "masser sas - terpel",
           "chaqueta michelin",
           1.22,
           18.03
          ],
          [
           "masser sas - terpel",
           "chaqueta michelin",
           1.22,
           18.03
          ],
          [
           "masser sas - terpel",
           "chaqueta michelin",
           1.22,
           18.03
          ],
          [
           "masser sas - terpel",
           "chaqueta michelin",
           1.22,
           18.03
          ],
          [
           "masser sas - terpel",
           "chaqueta michelin",
           1.22,
           18.03
          ],
          [
           "masser sas - terpel",
           "chaqueta michelin",
           1.22,
           18.03
          ],
          [
           "organización terpel sa (terpel)",
           "chaqueta sport",
           1.25,
           20
          ],
          [
           "organización terpel sa (terpel)",
           "chaqueta sport",
           1.25,
           20
          ],
          [
           "organización terpel sa (terpel)",
           "chaqueta sport",
           1.25,
           20
          ],
          [
           "organización terpel sa (terpel)",
           "chaqueta sport",
           1.25,
           20
          ],
          [
           "organización terpel sa (terpel)",
           "chaqueta sport",
           1.25,
           20
          ],
          [
           "organización terpel sa (terpel)",
           "chaqueta sport",
           1.25,
           20
          ],
          [
           "organización terpel sa (terpel)",
           "chaqueta sport",
           1.25,
           20
          ],
          [
           "organización terpel sa (terpel)",
           "chaqueta sport",
           1.25,
           20
          ],
          [
           "organización terpel sa (terpel)",
           "chaqueta sport",
           1.25,
           20
          ],
          [
           "organización terpel sa (terpel)",
           "chaqueta sport",
           1.25,
           20
          ],
          [
           "organización terpel sa (terpel)",
           "chaqueta sport",
           1.28,
           21.88
          ],
          [
           "organización terpel sa (terpel)",
           "chaqueta sport",
           1.28,
           21.88
          ],
          [
           "organización terpel sa (terpel)",
           "chaqueta sport",
           1.28,
           21.88
          ],
          [
           "organización terpel sa (terpel)",
           "chaqueta sport",
           1.28,
           21.88
          ],
          [
           "organización terpel sa (terpel)",
           "chaqueta sport",
           1.28,
           21.88
          ],
          [
           "organización terpel sa (terpel)",
           "chaqueta sport",
           1.28,
           21.88
          ],
          [
           "organización terpel sa (terpel)",
           "chaqueta sport",
           1.28,
           21.88
          ],
          [
           "organización terpel sa (terpel)",
           "chaqueta sport",
           1.28,
           21.88
          ],
          [
           "organización terpel sa (terpel)",
           "chaqueta sport",
           1.28,
           21.88
          ],
          [
           "organización terpel sa (terpel)",
           "chaqueta sport",
           1.28,
           21.88
          ],
          [
           "organización terpel sa (terpel)",
           "chaqueta sport",
           1.28,
           21.88
          ],
          [
           "organización terpel sa (terpel)",
           "chaqueta sport",
           1.28,
           21.88
          ],
          [
           "organización terpel sa (terpel)",
           "cuello motero/ciclista",
           1.3,
           23.08
          ],
          [
           "organización terpel sa (terpel)",
           "cuello motero/ciclista",
           1.3,
           23.08
          ],
          [
           "organización terpel sa (terpel)",
           "cuello motero/ciclista",
           1.3,
           23.08
          ],
          [
           "organización terpel sa (terpel)",
           "cuello motero/ciclista",
           1.3,
           23.08
          ],
          [
           "masser sas - terpel",
           "chaqueta michelin",
           1.22,
           18.03
          ],
          [
           "masser sas - terpel",
           "chaqueta michelin",
           1.22,
           18.03
          ],
          [
           "masser sas - terpel",
           "chaqueta michelin",
           1.22,
           18.03
          ],
          [
           "masser sas - terpel",
           "chaqueta michelin",
           1.22,
           18.03
          ],
          [
           "masser sas - terpel",
           "chaqueta michelin",
           1.22,
           18.03
          ],
          [
           "masser sas - terpel",
           "chaqueta michelin",
           1.22,
           18.03
          ],
          [
           "masser sas - terpel",
           "chaqueta michelin",
           1.22,
           18.03
          ],
          [
           "masser sas - terpel",
           "chaqueta michelin",
           1.22,
           18.03
          ],
          [
           "masser sas - terpel",
           "chaqueta michelin",
           1.22,
           18.03
          ],
          [
           "masser sas - terpel",
           "chaqueta michelin",
           1.22,
           18.03
          ],
          [
           "masser sas - terpel",
           "chaqueta michelin",
           1.22,
           18.03
          ],
          [
           "masser sas - terpel",
           "chaqueta michelin",
           1.22,
           18.03
          ],
          [
           "masser sas - terpel",
           "chaqueta michelin",
           1.22,
           18.03
          ],
          [
           "masser sas - terpel",
           "chaqueta michelin",
           1.22,
           18.03
          ],
          [
           "masser sas - terpel",
           "chaqueta michelin",
           1.22,
           18.03
          ],
          [
           "masser sas - terpel",
           "chaqueta michelin",
           1.22,
           18.03
          ],
          [
           "masser sas - terpel",
           "chaqueta michelin",
           1.22,
           18.03
          ],
          [
           "masser sas - terpel",
           "chaqueta michelin",
           1.22,
           18.03
          ],
          [
           "masser sas - terpel",
           "camiseta polo",
           1.44,
           30.56
          ],
          [
           "masser sas - terpel",
           "camiseta polo",
           1.44,
           30.56
          ],
          [
           "masser sas - terpel",
           "camiseta polo",
           1.44,
           30.56
          ],
          [
           "masser sas - terpel",
           "camiseta polo",
           1.44,
           30.56
          ],
          [
           "masser sas - terpel",
           "camiseta polo",
           1.44,
           30.56
          ],
          [
           "masser sas - terpel",
           "camiseta polo",
           1.44,
           30.56
          ],
          [
           "masser sas - terpel",
           "camiseta polo",
           1.44,
           30.56
          ],
          [
           "masser sas - terpel",
           "chaqueta michelin",
           1.22,
           18.03
          ],
          [
           "masser sas - terpel",
           "chaqueta michelin",
           1.22,
           18.03
          ],
          [
           "masser sas - terpel",
           "chaqueta michelin",
           1.22,
           18.03
          ],
          [
           "masser sas - terpel",
           "chaqueta michelin",
           1.22,
           18.03
          ],
          [
           "masser sas - terpel",
           "chaqueta michelin",
           1.22,
           18.03
          ],
          [
           "masser sas - terpel",
           "chaqueta michelin",
           1.22,
           18.03
          ],
          [
           "masser sas - terpel",
           "chaqueta michelin",
           1.22,
           18.03
          ],
          [
           "masser sas - terpel",
           "chaqueta michelin",
           1.22,
           18.03
          ],
          [
           "masser sas - terpel",
           "chaqueta michelin",
           1.22,
           18.03
          ],
          [
           "masser sas - terpel",
           "chaqueta michelin",
           1.22,
           18.03
          ],
          [
           "masser sas - terpel",
           "camisa manga larga",
           1.49,
           32.89
          ],
          [
           "masser sas - terpel",
           "camisa manga larga",
           1.49,
           32.89
          ],
          [
           "masser sas - terpel",
           "camisa manga larga",
           1.49,
           32.89
          ],
          [
           "masser sas - terpel",
           "camisa manga larga",
           1.49,
           32.89
          ],
          [
           "masser sas - terpel",
           "camisa manga larga",
           1.49,
           32.89
          ],
          [
           "masser sas - terpel",
           "chaqueta sport",
           1.22,
           18.03
          ],
          [
           "masser sas - terpel",
           "chaqueta sport",
           1.22,
           18.03
          ],
          [
           "masser sas - terpel",
           "chaqueta sport",
           1.22,
           18.03
          ],
          [
           "masser sas - terpel",
           "chaqueta sport",
           1.22,
           18.03
          ],
          [
           "masser sas - terpel",
           "chaqueta sport",
           1.22,
           18.03
          ],
          [
           "masser sas - terpel",
           "chaqueta sport",
           1.22,
           18.03
          ],
          [
           "masser sas - terpel",
           "chaqueta sport",
           1.22,
           18.03
          ],
          [
           "masser sas - terpel",
           "chaqueta sport",
           1.22,
           18.03
          ],
          [
           "masser sas - terpel",
           "chaqueta sport",
           1.22,
           18.03
          ],
          [
           "masser sas - terpel",
           "chaqueta sport",
           1.22,
           18.03
          ],
          [
           "masser sas - terpel",
           "chaqueta michelin",
           1.22,
           18.03
          ],
          [
           "masser sas - terpel",
           "chaqueta michelin",
           1.22,
           18.03
          ],
          [
           "masser sas - terpel",
           "chaqueta michelin",
           1.22,
           18.03
          ],
          [
           "masser sas - terpel",
           "chaqueta michelin",
           1.22,
           18.03
          ],
          [
           "masser sas - terpel",
           "chaqueta michelin",
           1.22,
           18.03
          ],
          [
           "masser sas - terpel",
           "chaqueta michelin",
           1.22,
           18.03
          ],
          [
           "masser sas - terpel",
           "chaqueta michelin",
           1.22,
           18.03
          ],
          [
           "masser sas - terpel",
           "chaqueta michelin",
           1.22,
           18.03
          ],
          [
           "masser sas - terpel",
           "chaqueta michelin",
           1.22,
           18.03
          ],
          [
           "masser sas - terpel",
           "chaqueta michelin",
           1.22,
           18.03
          ],
          [
           "masser sas - terpel",
           "chaqueta michelin",
           1.22,
           18.03
          ],
          [
           "masser sas - terpel",
           "chaqueta michelin",
           1.22,
           18.03
          ],
          [
           "masser sas - terpel",
           "chaqueta michelin",
           1.22,
           18.03
          ],
          [
           "masser sas - terpel",
           "chaqueta michelin",
           1.22,
           18.03
          ],
          [
           "masser sas - terpel",
           "chaqueta michelin",
           1.22,
           18.03
          ],
          [
           "masser sas - terpel",
           "chaqueta michelin",
           1.22,
           18.03
          ],
          [
           "masser sas - terpel",
           "chaqueta michelin",
           1.22,
           18.03
          ],
          [
           "masser sas - terpel",
           "chaqueta michelin",
           1.22,
           18.03
          ],
          [
           "masser sas - terpel",
           "camiseta polo",
           1.44,
           30.56
          ],
          [
           "masser sas - terpel",
           "camiseta polo",
           1.44,
           30.56
          ],
          [
           "masser sas - terpel",
           "camiseta polo",
           1.44,
           30.56
          ],
          [
           "masser sas - terpel",
           "camiseta polo",
           1.44,
           30.56
          ],
          [
           "masser sas - terpel",
           "camiseta polo",
           1.44,
           30.56
          ],
          [
           "masser sas - terpel",
           "camiseta polo",
           1.44,
           30.56
          ],
          [
           "masser sas - terpel",
           "camiseta polo",
           1.44,
           30.56
          ],
          [
           "masser sas - terpel",
           "chaqueta michelin",
           1.22,
           18.03
          ],
          [
           "masser sas - terpel",
           "chaqueta michelin",
           1.22,
           18.03
          ],
          [
           "masser sas - terpel",
           "chaqueta michelin",
           1.22,
           18.03
          ],
          [
           "masser sas - terpel",
           "chaqueta michelin",
           1.22,
           18.03
          ],
          [
           "masser sas - terpel",
           "chaqueta michelin",
           1.22,
           18.03
          ],
          [
           "masser sas - terpel",
           "chaqueta michelin",
           1.22,
           18.03
          ],
          [
           "masser sas - terpel",
           "chaqueta michelin",
           1.22,
           18.03
          ],
          [
           "masser sas - terpel",
           "chaqueta michelin",
           1.22,
           18.03
          ],
          [
           "masser sas - terpel",
           "chaqueta michelin",
           1.22,
           18.03
          ],
          [
           "masser sas - terpel",
           "camiseta polo",
           1.44,
           30.56
          ],
          [
           "masser sas - terpel",
           "camiseta polo",
           1.44,
           30.56
          ],
          [
           "masser sas - terpel",
           "camiseta polo",
           1.44,
           30.56
          ],
          [
           "masser sas - terpel",
           "camiseta polo",
           1.44,
           30.56
          ],
          [
           "masser sas - terpel",
           "camiseta polo",
           1.44,
           30.56
          ],
          [
           "masser sas - terpel",
           "camiseta polo",
           1.44,
           30.56
          ],
          [
           "masser sas - terpel",
           "camiseta polo",
           1.44,
           30.56
          ],
          [
           "masser sas - terpel",
           "chaqueta michelin",
           1.22,
           18.03
          ],
          [
           "masser sas - terpel",
           "chaqueta michelin",
           1.22,
           18.03
          ],
          [
           "masser sas - terpel",
           "chaqueta michelin",
           1.22,
           18.03
          ],
          [
           "masser sas - terpel",
           "chaqueta michelin",
           1.22,
           18.03
          ],
          [
           "masser sas - terpel",
           "chaqueta michelin",
           1.22,
           18.03
          ],
          [
           "masser sas - terpel",
           "chaqueta michelin",
           1.22,
           18.03
          ],
          [
           "masser sas - terpel",
           "chaqueta michelin",
           1.22,
           18.03
          ],
          [
           "masser sas - terpel",
           "chaqueta michelin",
           1.22,
           18.03
          ],
          [
           "masser sas - terpel",
           "chaqueta michelin",
           1.22,
           18.03
          ],
          [
           "masser sas - terpel",
           "chaqueta michelin",
           1.22,
           18.03
          ],
          [
           "masser sas - terpel",
           "chaqueta michelin",
           1.22,
           18.03
          ],
          [
           "masser sas - terpel",
           "chaqueta michelin",
           1.22,
           18.03
          ],
          [
           "masser sas - terpel",
           "chaqueta michelin",
           1.22,
           18.03
          ],
          [
           "masser sas - terpel",
           "chaqueta michelin",
           1.22,
           18.03
          ],
          [
           "masser sas - terpel",
           "chaqueta michelin",
           1.22,
           18.03
          ],
          [
           "masser sas - terpel",
           "chaqueta michelin",
           1.22,
           18.03
          ],
          [
           "masser sas - terpel",
           "chaqueta michelin",
           1.22,
           18.03
          ],
          [
           "masser sas - terpel",
           "chaqueta michelin",
           1.22,
           18.03
          ],
          [
           "masser sas - terpel",
           "chaqueta michelin",
           1.22,
           18.03
          ],
          [
           "masser sas - terpel",
           "chaqueta michelin",
           1.22,
           18.03
          ],
          [
           "masser sas - terpel",
           "chaqueta michelin",
           1.22,
           18.03
          ],
          [
           "masser sas - terpel",
           "chaqueta michelin",
           1.22,
           18.03
          ],
          [
           "masser sas - terpel",
           "chaqueta michelin",
           1.22,
           18.03
          ],
          [
           "masser sas - terpel",
           "chaqueta michelin",
           1.22,
           18.03
          ],
          [
           "masser sas - terpel",
           "chaqueta michelin",
           1.22,
           18.03
          ],
          [
           "masser sas - terpel",
           "chaqueta michelin",
           1.22,
           18.03
          ],
          [
           "masser sas - terpel",
           "chaqueta michelin",
           1.22,
           18.03
          ],
          [
           "masser sas - terpel",
           "chaqueta michelin",
           1.22,
           18.03
          ],
          [
           "masser sas - terpel",
           "chaqueta michelin",
           1.22,
           18.03
          ],
          [
           "masser sas - terpel",
           "chaqueta michelin",
           1.22,
           18.03
          ],
          [
           "masser sas - terpel",
           "chaqueta michelin",
           1.22,
           18.03
          ],
          [
           "masser sas - terpel",
           "chaqueta michelin",
           1.22,
           18.03
          ],
          [
           "masser sas - terpel",
           "chaqueta michelin",
           1.22,
           18.03
          ],
          [
           "masser sas - terpel",
           "chaqueta michelin",
           1.22,
           18.03
          ],
          [
           "masser sas - terpel",
           "chaqueta michelin",
           1.22,
           18.03
          ],
          [
           "masser sas - terpel",
           "chaqueta michelin",
           1.22,
           18.03
          ],
          [
           "masser sas - terpel",
           "chaqueta michelin",
           1.22,
           18.03
          ],
          [
           "masser sas - terpel",
           "chaqueta michelin",
           1.22,
           18.03
          ],
          [
           "masser sas - terpel",
           "chaqueta michelin",
           1.22,
           18.03
          ],
          [
           "masser sas - terpel",
           "chaqueta michelin",
           1.22,
           18.03
          ],
          [
           "masser sas - terpel",
           "chaqueta michelin",
           1.22,
           18.03
          ],
          [
           "masser sas - terpel",
           "chaqueta michelin",
           1.22,
           18.03
          ],
          [
           "masser sas - terpel",
           "chaqueta michelin",
           1.22,
           18.03
          ],
          [
           "masser sas - terpel",
           "chaqueta michelin",
           1.22,
           18.03
          ],
          [
           "masser sas - terpel",
           "chaqueta michelin",
           1.22,
           18.03
          ],
          [
           "masser sas - terpel",
           "chaqueta michelin",
           1.4,
           28.57
          ],
          [
           "masser sas - terpel",
           "chaqueta michelin",
           1.4,
           28.57
          ],
          [
           "masser sas - terpel",
           "chaqueta michelin",
           1.4,
           28.57
          ],
          [
           "masser sas - terpel",
           "chaqueta michelin",
           1.4,
           28.57
          ],
          [
           "masser sas - terpel",
           "chaqueta michelin",
           1.4,
           28.57
          ],
          [
           "masser sas - terpel",
           "chaqueta michelin",
           1.4,
           28.57
          ],
          [
           "masser sas - terpel",
           "chaqueta michelin",
           1.4,
           28.57
          ],
          [
           "masser sas - terpel",
           "chaqueta michelin",
           1.4,
           28.57
          ],
          [
           "masser sas - terpel",
           "chaqueta michelin",
           1.4,
           28.57
          ],
          [
           "masser sas - terpel",
           "chaqueta michelin",
           1.4,
           28.57
          ],
          [
           "masser sas - terpel",
           "chaqueta michelin",
           1.4,
           28.57
          ],
          [
           "masser sas - terpel",
           "chaqueta michelin",
           1.4,
           28.57
          ],
          [
           "masser sas - terpel",
           "chaqueta michelin",
           1.4,
           28.57
          ],
          [
           "masser sas - terpel",
           "chaqueta michelin",
           1.4,
           28.57
          ]
         ],
         "hovertemplate": "Categoría Proc=chaquetas<br>Costo Total Unitario=%{x}<br>Precio Unitario Sin IVA=%{y}<br>ClienteNombre=%{customdata[0]}<br>Producto=%{customdata[1]}<br>Ganancia=%{customdata[2]}<br>Margen Ganancia Real=%{customdata[3]}<extra></extra>",
         "legendgroup": "chaquetas",
         "marker": {
          "color": "#FFA15A",
          "symbol": "circle"
         },
         "mode": "markers",
         "name": "chaquetas",
         "showlegend": true,
         "type": "scattergl",
         "x": {
          "bdata": "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",
          "dtype": "f8"
         },
         "xaxis": "x",
         "y": {
          "bdata": "VxUBAFcVAQBXFQEAVxUBAFcVAQBXFQEAVxUBAFcVAQBXFQEAVxUBAFcVAQBXFQEA3F4BANxeAQDcXgEA3F4BANxeAQBImQAASJkAAEiZAACMjgEAjI4BAIyOAQCMjgEAjI4BAIyOAQDzMQEA8zEBAPMxAQDzMQEA8zEBAPMxAQDzMQEA8zEBAPMxAQDzMQEA8zEBAPMxAQBDRAEAQ0QBAENEAQBDRAEAQ0QBAENEAQBDRAEAQ0QBAENEAQBDRAEAQ0QBAENEAQBDRAEAQ0QBAENEAQBDRAEAQ0QBAENEAQDlMQEA5TEBAOUxAQDlMQEA5TEBAOUxAQDlMQEA5TEBAOUxAQDlMQEA5TEBAOUxAQBYPgEAWD4BAFg+AQBYPgEAWD4BAFg+AQBYPgEAWD4BAFg+AQCrPQEAqz0BAKs9AQCrPQEAqz0BAKs9AQCrPQEAqz0BAKs9AQCrPQEAWD4BAFg+AQBYPgEAWD4BAFg+AQBYPgEAWD4BAFg+AQBYPgEAWD4BAFg+AQBYPgEAWD4BAFg+AQBYPgEAWD4BAFg+AQBYPgEAYQgBAGEIAQBhCAEAYQgBAGEIAQBhCAEAYQgBAGEIAQBhCAEAYQgBAHYvAQB2LwEAdi8BAHYvAQB2LwEAdi8BAHYvAQB2LwEAdi8BAHYvAQB2LwEAdi8BAHYvAQB2LwEAdi8BAHYvAQBYPgEAWD4BAFg+AQBYPgEAWD4BAFg+AQBYPgEAWD4BAFg+AQBYPgEAWD4BAFg+AQBYPgEAWD4BAFg+AQBYPgEAWD4BAFg+AQBYPgEAWD4BAFg+AQBYPgEAWD4BAFg+AQBYPgEAqz0BAKs9AQCrPQEAqz0BAKs9AQCrPQEAqz0BAKs9AQCrPQEAqz0BAKs9AQCrPQEAqz0BAKs9AQCrPQEAqz0BAKs9AQCrPQEAqz0BAKs9AQCrPQEAqz0BAKs9AQCrPQEAqz0BAFg+AQBYPgEAWD4BAFg+AQBYPgEAWD4BAFg+AQBYPgEAWD4BAFg+AQBYPgEAWD4BAFg+AQBYPgEAWD4BAFg+AQBYPgEAWD4BAFg+AQBYPgEAWD4BAFg+AQBYPgEAWD4BAFg+AQBYPgEAWD4BAFg+AQBYPgEAWD4BAFg+AQBYPgEAWD4BAFg+AQBYPgEAWD4BAFg+AQBYPgEAWD4BAFg+AQBYPgEAWD4BAFg+AQBYPgEAWD4BAFg+AQBYPgEAWD4BAFg+AQBYPgEAWD4BAFg+AQBYPgEAWD4BAFg+AQBYPgEAWD4BAFg+AQBYPgEAWD4BAFg+AQBYPgEAWD4BAFg+AQBYPgEAWD4BAFg+AQBYPgEAWD4BAFg+AQBYPgEAWD4BAFg+AQBYPgEAWD4BAFg+AQBYPgEAWD4BAFg+AQBYPgEAWD4BAFg+AQBYPgEAWD4BAFg+AQBYPgEAyy8BAMsvAQDLLwEAyy8BAMsvAQDLLwEAyy8BAMsvAQDLLwEAyy8BAMsvAQDLLwEAyy8BAMsvAQA=",
          "dtype": "i4"
         },
         "yaxis": "y"
        },
        {
         "customdata": [
          [
           "masser sas - terpel",
           "overol dos piezas",
           1.25,
           20
          ],
          [
           "masser sas - terpel",
           "overol dos piezas",
           1.25,
           20
          ],
          [
           "masser sas - terpel",
           "overol dos piezas",
           1.25,
           20
          ],
          [
           "masser sas - terpel",
           "overol dos piezas",
           1.25,
           20
          ],
          [
           "masser sas - terpel",
           "overol dos piezas",
           1.25,
           20
          ],
          [
           "masser sas - terpel",
           "overol dos piezas",
           1.25,
           20
          ],
          [
           "masser sas - terpel",
           "overol dos piezas",
           1.25,
           20
          ],
          [
           "masser sas - terpel",
           "overol dos piezas",
           1.25,
           20
          ],
          [
           "masser sas - terpel",
           "overol dos piezas",
           1.25,
           20
          ],
          [
           "masser sas - terpel",
           "overol dos piezas",
           1.25,
           20
          ]
         ],
         "hovertemplate": "Categoría Proc=overol<br>Costo Total Unitario=%{x}<br>Precio Unitario Sin IVA=%{y}<br>ClienteNombre=%{customdata[0]}<br>Producto=%{customdata[1]}<br>Ganancia=%{customdata[2]}<br>Margen Ganancia Real=%{customdata[3]}<extra></extra>",
         "legendgroup": "overol",
         "marker": {
          "color": "#19d3f3",
          "symbol": "circle"
         },
         "mode": "markers",
         "name": "overol",
         "showlegend": true,
         "type": "scattergl",
         "x": {
          "bdata": "AAAAAEAv8UAAAAAAQC/xQAAAAABAL/FAAAAAAEAv8UAAAAAAQC/xQAAAAABAL/FAAAAAAEAv8UAAAAAAQC/xQAAAAABAL/FAAAAAAEAv8UA=",
          "dtype": "f8"
         },
         "xaxis": "x",
         "y": {
          "bdata": "oHYBAKB2AQCgdgEAoHYBAKB2AQCgdgEAoHYBAKB2AQCgdgEAoHYBAA==",
          "dtype": "i4"
         },
         "yaxis": "y"
        },
        {
         "customdata": [
          [
           "masser sas - terpel",
           "delantal clasico",
           1.54,
           35.06
          ],
          [
           "masser sas - terpel",
           "delantal clasico",
           1.54,
           35.06
          ],
          [
           "masser sas - terpel",
           "delantal clasico",
           1.54,
           35.06
          ],
          [
           "masser sas - terpel",
           "delantal clasico",
           1.54,
           35.06
          ],
          [
           "masser sas - terpel",
           "delantal clasico",
           1.54,
           35.06
          ],
          [
           "masser sas - terpel",
           "delantal clasico",
           1.54,
           35.06
          ],
          [
           "masser sas - terpel",
           "delantal clasico",
           1.54,
           35.06
          ],
          [
           "masser sas - terpel",
           "delantal clasico",
           1.54,
           35.06
          ],
          [
           "masser sas - terpel",
           "delantal clasico",
           1.54,
           35.06
          ],
          [
           "masser sas - terpel",
           "delantal clasico",
           1.54,
           35.06
          ],
          [
           "masser sas - terpel",
           "delantal clasico",
           1.54,
           35.06
          ],
          [
           "masser sas - terpel",
           "delantal clasico",
           1.54,
           35.06
          ],
          [
           "masser sas - terpel",
           "delantal clasico",
           1.54,
           35.06
          ],
          [
           "masser sas - terpel",
           "delantal clasico",
           1.54,
           35.06
          ],
          [
           "masser sas - terpel",
           "delantal clasico",
           1.52,
           34.21
          ],
          [
           "masser sas - terpel",
           "delantal clasico",
           1.52,
           34.21
          ],
          [
           "masser sas - terpel",
           "delantal clasico",
           1.52,
           34.21
          ],
          [
           "masser sas - terpel",
           "delantal clasico",
           1.52,
           34.21
          ],
          [
           "masser sas - terpel",
           "delantal clasico",
           1.52,
           34.21
          ],
          [
           "masser sas - terpel",
           "delantal clasico",
           1.52,
           34.21
          ],
          [
           "masser sas - terpel",
           "delantal clasico",
           1.52,
           34.21
          ],
          [
           "masser sas - terpel",
           "delantal clasico",
           1.43,
           30.07
          ],
          [
           "masser sas - terpel",
           "delantal clasico",
           1.43,
           30.07
          ],
          [
           "masser sas - terpel",
           "delantal clasico",
           1.43,
           30.07
          ],
          [
           "masser sas - terpel",
           "delantal clasico",
           1.43,
           30.07
          ],
          [
           "masser sas - terpel",
           "delantal clasico",
           1.43,
           30.07
          ],
          [
           "masser sas - terpel",
           "delantal clasico",
           1.43,
           30.07
          ],
          [
           "masser sas - terpel",
           "delantal clasico",
           1.35,
           25.93
          ],
          [
           "masser sas - terpel",
           "delantal clasico",
           1.35,
           25.93
          ],
          [
           "masser sas - terpel",
           "delantal clasico",
           1.35,
           25.93
          ],
          [
           "masser sas - terpel",
           "delantal clasico",
           1.35,
           25.93
          ],
          [
           "masser sas - terpel",
           "delantal clasico",
           1.35,
           25.93
          ],
          [
           "masser sas - terpel",
           "delantal clasico",
           1.35,
           25.93
          ],
          [
           "masser sas - terpel",
           "delantal clasico",
           1.3,
           23.08
          ],
          [
           "masser sas - terpel",
           "delantal clasico",
           1.3,
           23.08
          ],
          [
           "masser sas - terpel",
           "delantal clasico",
           1.3,
           23.08
          ],
          [
           "masser sas - terpel",
           "delantal clasico",
           1.3,
           23.08
          ],
          [
           "masser sas - terpel",
           "delantal clasico",
           1.3,
           23.08
          ],
          [
           "masser sas - terpel",
           "delantal clasico",
           1.43,
           30.07
          ],
          [
           "masser sas - terpel",
           "delantal clasico",
           1.43,
           30.07
          ],
          [
           "masser sas - terpel",
           "delantal clasico",
           1.43,
           30.07
          ],
          [
           "masser sas - terpel",
           "delantal clasico",
           1.43,
           30.07
          ],
          [
           "masser sas - terpel",
           "delantal clasico",
           1.43,
           30.07
          ],
          [
           "masser sas - terpel",
           "delantal clasico",
           1.43,
           30.07
          ],
          [
           "masser sas - terpel",
           "delantal clasico",
           1.43,
           30.07
          ],
          [
           "masser sas - terpel",
           "delantal clasico",
           1.3,
           23.08
          ],
          [
           "masser sas - terpel",
           "delantal clasico",
           1.3,
           23.08
          ],
          [
           "masser sas - terpel",
           "delantal clasico",
           1.3,
           23.08
          ],
          [
           "masser sas - terpel",
           "delantal clasico",
           1.3,
           23.08
          ],
          [
           "masser sas - terpel",
           "delantal clasico",
           1.3,
           23.08
          ],
          [
           "masser sas - terpel",
           "delantal clasico",
           1.43,
           30.07
          ],
          [
           "masser sas - terpel",
           "delantal clasico",
           1.43,
           30.07
          ],
          [
           "masser sas - terpel",
           "delantal clasico",
           1.43,
           30.07
          ],
          [
           "masser sas - terpel",
           "delantal clasico",
           1.43,
           30.07
          ],
          [
           "masser sas - terpel",
           "delantal clasico",
           1.43,
           30.07
          ],
          [
           "masser sas - terpel",
           "delantal clasico",
           1.43,
           30.07
          ],
          [
           "masser sas - terpel",
           "delantal clasico",
           1.43,
           30.07
          ],
          [
           "masser sas - terpel",
           "delantal clasico",
           1.3,
           23.08
          ],
          [
           "masser sas - terpel",
           "delantal clasico",
           1.3,
           23.08
          ],
          [
           "masser sas - terpel",
           "delantal clasico",
           1.3,
           23.08
          ],
          [
           "masser sas - terpel",
           "delantal clasico",
           1.3,
           23.08
          ],
          [
           "masser sas - terpel",
           "delantal clasico",
           1.3,
           23.08
          ],
          [
           "masser sas - terpel",
           "delantal clasico",
           1.3,
           23.08
          ],
          [
           "masser sas - terpel",
           "delantal clasico",
           1.3,
           23.08
          ],
          [
           "masser sas - terpel",
           "delantal clasico",
           1.3,
           23.08
          ],
          [
           "masser sas - terpel",
           "delantal clasico",
           1.3,
           23.08
          ],
          [
           "masser sas - terpel",
           "delantal clasico",
           1.3,
           23.08
          ],
          [
           "masser sas - terpel",
           "delantal clasico",
           1.3,
           23.08
          ],
          [
           "masser sas - terpel",
           "delantal clasico",
           1.3,
           23.08
          ],
          [
           "masser sas - terpel",
           "delantal clasico",
           1.3,
           23.08
          ],
          [
           "masser sas - terpel",
           "delantal clasico",
           1.3,
           23.08
          ],
          [
           "masser sas - terpel",
           "delantal clasico",
           1.3,
           23.08
          ],
          [
           "masser sas - terpel",
           "delantal clasico",
           1.3,
           23.08
          ],
          [
           "masser sas - terpel",
           "delantal clasico",
           1.3,
           23.08
          ],
          [
           "masser sas - terpel",
           "delantal clasico",
           1.3,
           23.08
          ],
          [
           "masser sas - terpel",
           "delantal clasico",
           1.3,
           23.08
          ],
          [
           "masser sas - terpel",
           "delantal clasico",
           1.3,
           23.08
          ],
          [
           "masser sas - terpel",
           "delantal clasico",
           1.3,
           23.08
          ],
          [
           "masser sas - terpel",
           "delantal clasico",
           1.43,
           30.07
          ],
          [
           "masser sas - terpel",
           "delantal clasico",
           1.43,
           30.07
          ],
          [
           "masser sas - terpel",
           "delantal clasico",
           1.43,
           30.07
          ],
          [
           "masser sas - terpel",
           "delantal clasico",
           1.43,
           30.07
          ],
          [
           "masser sas - terpel",
           "delantal clasico",
           1.43,
           30.07
          ],
          [
           "masser sas - terpel",
           "delantal clasico",
           1.43,
           30.07
          ],
          [
           "masser sas - terpel",
           "delantal clasico",
           1.43,
           30.07
          ],
          [
           "masser sas - terpel",
           "delantal clasico",
           1.3,
           23.08
          ],
          [
           "masser sas - terpel",
           "delantal clasico",
           1.3,
           23.08
          ],
          [
           "masser sas - terpel",
           "delantal clasico",
           1.3,
           23.08
          ],
          [
           "masser sas - terpel",
           "delantal clasico",
           1.3,
           23.08
          ],
          [
           "masser sas - terpel",
           "delantal clasico",
           1.3,
           23.08
          ],
          [
           "masser sas - terpel",
           "delantal clasico",
           1.43,
           30.07
          ],
          [
           "masser sas - terpel",
           "delantal clasico",
           1.43,
           30.07
          ],
          [
           "masser sas - terpel",
           "delantal clasico",
           1.43,
           30.07
          ],
          [
           "masser sas - terpel",
           "delantal clasico",
           1.43,
           30.07
          ],
          [
           "masser sas - terpel",
           "delantal clasico",
           1.43,
           30.07
          ],
          [
           "masser sas - terpel",
           "delantal clasico",
           1.43,
           30.07
          ],
          [
           "masser sas - terpel",
           "delantal clasico",
           1.43,
           30.07
          ],
          [
           "masser sas - terpel",
           "delantal clasico",
           1.3,
           23.08
          ],
          [
           "masser sas - terpel",
           "delantal clasico",
           1.3,
           23.08
          ],
          [
           "masser sas - terpel",
           "delantal clasico",
           1.3,
           23.08
          ],
          [
           "masser sas - terpel",
           "delantal clasico",
           1.3,
           23.08
          ],
          [
           "masser sas - terpel",
           "delantal clasico",
           1.3,
           23.08
          ],
          [
           "masser sas - terpel",
           "delantal clasico",
           1.3,
           23.08
          ],
          [
           "masser sas - terpel",
           "delantal clasico",
           1.3,
           23.08
          ],
          [
           "masser sas - terpel",
           "delantal clasico",
           1.3,
           23.08
          ],
          [
           "masser sas - terpel",
           "delantal clasico",
           1.3,
           23.08
          ],
          [
           "masser sas - terpel",
           "delantal clasico",
           1.3,
           23.08
          ],
          [
           "masser sas - terpel",
           "delantal clasico",
           1.3,
           23.08
          ],
          [
           "masser sas - terpel",
           "delantal clasico",
           1.3,
           23.08
          ],
          [
           "masser sas - terpel",
           "delantal clasico",
           1.3,
           23.08
          ],
          [
           "masser sas - terpel",
           "delantal clasico",
           1.3,
           23.08
          ],
          [
           "masser sas - terpel",
           "delantal clasico",
           1.3,
           23.08
          ],
          [
           "masser sas - terpel",
           "delantal clasico",
           1.3,
           23.08
          ],
          [
           "masser sas - terpel",
           "delantal clasico",
           1.43,
           30.07
          ],
          [
           "masser sas - terpel",
           "delantal clasico",
           1.43,
           30.07
          ],
          [
           "masser sas - terpel",
           "delantal clasico",
           1.43,
           30.07
          ],
          [
           "masser sas - terpel",
           "delantal clasico",
           1.43,
           30.07
          ],
          [
           "masser sas - terpel",
           "delantal clasico",
           1.43,
           30.07
          ],
          [
           "masser sas - terpel",
           "delantal clasico",
           1.43,
           30.07
          ],
          [
           "masser sas - terpel",
           "delantal clasico",
           1.54,
           35.06
          ],
          [
           "masser sas - terpel",
           "delantal clasico",
           1.54,
           35.06
          ],
          [
           "masser sas - terpel",
           "delantal clasico",
           1.54,
           35.06
          ],
          [
           "masser sas - terpel",
           "delantal clasico",
           1.54,
           35.06
          ],
          [
           "masser sas - terpel",
           "delantal clasico",
           1.54,
           35.06
          ],
          [
           "masser sas - terpel",
           "delantal clasico",
           1.54,
           35.06
          ],
          [
           "masser sas - terpel",
           "delantal clasico",
           1.54,
           35.06
          ],
          [
           "masser sas - terpel",
           "delantal clasico",
           1.35,
           25.93
          ],
          [
           "masser sas - terpel",
           "delantal clasico",
           1.35,
           25.93
          ],
          [
           "masser sas - terpel",
           "delantal clasico",
           1.35,
           25.93
          ],
          [
           "masser sas - terpel",
           "delantal clasico",
           1.35,
           25.93
          ],
          [
           "masser sas - terpel",
           "delantal clasico",
           1.35,
           25.93
          ],
          [
           "masser sas - terpel",
           "delantal clasico",
           1.35,
           25.93
          ],
          [
           "masser sas - terpel",
           "delantal clasico",
           1.43,
           30.07
          ],
          [
           "masser sas - terpel",
           "delantal clasico",
           1.43,
           30.07
          ],
          [
           "masser sas - terpel",
           "delantal clasico",
           1.43,
           30.07
          ],
          [
           "masser sas - terpel",
           "delantal clasico",
           1.43,
           30.07
          ],
          [
           "masser sas - terpel",
           "delantal clasico",
           1.43,
           30.07
          ],
          [
           "masser sas - terpel",
           "delantal clasico",
           1.43,
           30.07
          ],
          [
           "masser sas - terpel",
           "delantal clasico",
           1.54,
           35.06
          ],
          [
           "masser sas - terpel",
           "delantal clasico",
           1.54,
           35.06
          ],
          [
           "masser sas - terpel",
           "delantal clasico",
           1.54,
           35.06
          ],
          [
           "masser sas - terpel",
           "delantal clasico",
           1.54,
           35.06
          ],
          [
           "masser sas - terpel",
           "delantal clasico",
           1.54,
           35.06
          ],
          [
           "masser sas - terpel",
           "delantal clasico",
           1.54,
           35.06
          ],
          [
           "masser sas - terpel",
           "delantal clasico",
           1.54,
           35.06
          ],
          [
           "masser sas - terpel",
           "delantal clasico",
           1.54,
           35.06
          ],
          [
           "masser sas - terpel",
           "delantal clasico",
           1.54,
           35.06
          ],
          [
           "masser sas - terpel",
           "delantal clasico",
           1.54,
           35.06
          ],
          [
           "masser sas - terpel",
           "delantal clasico",
           1.54,
           35.06
          ],
          [
           "masser sas - terpel",
           "delantal clasico",
           1.54,
           35.06
          ],
          [
           "masser sas - terpel",
           "delantal clasico",
           1.54,
           35.06
          ],
          [
           "masser sas - terpel",
           "delantal clasico",
           1.54,
           35.06
          ],
          [
           "masser sas - terpel",
           "delantal clasico",
           1.35,
           25.93
          ],
          [
           "masser sas - terpel",
           "delantal clasico",
           1.35,
           25.93
          ],
          [
           "masser sas - terpel",
           "delantal clasico",
           1.35,
           25.93
          ],
          [
           "masser sas - terpel",
           "delantal clasico",
           1.35,
           25.93
          ],
          [
           "masser sas - terpel",
           "delantal clasico",
           1.35,
           25.93
          ],
          [
           "masser sas - terpel",
           "delantal clasico",
           1.35,
           25.93
          ],
          [
           "masser sas - terpel",
           "delantal clasico",
           1.52,
           34.21
          ],
          [
           "masser sas - terpel",
           "delantal clasico",
           1.52,
           34.21
          ],
          [
           "masser sas - terpel",
           "delantal clasico",
           1.52,
           34.21
          ],
          [
           "masser sas - terpel",
           "delantal clasico",
           1.52,
           34.21
          ],
          [
           "masser sas - terpel",
           "delantal clasico",
           1.52,
           34.21
          ],
          [
           "masser sas - terpel",
           "delantal clasico",
           1.52,
           34.21
          ],
          [
           "masser sas - terpel",
           "delantal clasico",
           1.52,
           34.21
          ],
          [
           "masser sas - terpel",
           "delantal clasico",
           1.52,
           34.21
          ],
          [
           "masser sas - terpel",
           "delantal clasico",
           1.52,
           34.21
          ],
          [
           "masser sas - terpel",
           "delantal clasico",
           1.52,
           34.21
          ],
          [
           "masser sas - terpel",
           "delantal clasico",
           1.52,
           34.21
          ],
          [
           "masser sas - terpel",
           "delantal clasico",
           1.52,
           34.21
          ],
          [
           "masser sas - terpel",
           "delantal clasico",
           1.52,
           34.21
          ],
          [
           "masser sas - terpel",
           "delantal clasico",
           1.52,
           34.21
          ],
          [
           "masser sas - terpel",
           "delantal clasico",
           1.54,
           35.06
          ],
          [
           "masser sas - terpel",
           "delantal clasico",
           1.54,
           35.06
          ],
          [
           "masser sas - terpel",
           "delantal clasico",
           1.54,
           35.06
          ],
          [
           "masser sas - terpel",
           "delantal clasico",
           1.54,
           35.06
          ],
          [
           "masser sas - terpel",
           "delantal clasico",
           1.54,
           35.06
          ],
          [
           "masser sas - terpel",
           "delantal clasico",
           1.54,
           35.06
          ],
          [
           "masser sas - terpel",
           "delantal clasico",
           1.54,
           35.06
          ],
          [
           "masser sas - terpel",
           "delantal clasico",
           1.54,
           35.06
          ],
          [
           "masser sas - terpel",
           "delantal clasico",
           1.54,
           35.06
          ],
          [
           "masser sas - terpel",
           "delantal clasico",
           1.54,
           35.06
          ],
          [
           "masser sas - terpel",
           "delantal clasico",
           1.54,
           35.06
          ],
          [
           "masser sas - terpel",
           "delantal clasico",
           1.54,
           35.06
          ],
          [
           "masser sas - terpel",
           "delantal clasico",
           1.54,
           35.06
          ],
          [
           "masser sas - terpel",
           "delantal clasico",
           1.54,
           35.06
          ],
          [
           "masser sas - terpel",
           "delantal clasico",
           1.54,
           35.06
          ],
          [
           "masser sas - terpel",
           "delantal clasico",
           1.54,
           35.06
          ],
          [
           "masser sas - terpel",
           "delantal clasico",
           1.54,
           35.06
          ],
          [
           "masser sas - terpel",
           "delantal clasico",
           1.54,
           35.06
          ],
          [
           "masser sas - terpel",
           "delantal clasico",
           1.54,
           35.06
          ],
          [
           "masser sas - terpel",
           "delantal clasico",
           1.54,
           35.06
          ],
          [
           "masser sas - terpel",
           "delantal clasico",
           1.54,
           35.06
          ],
          [
           "masser sas - terpel",
           "delantal clasico",
           1.52,
           34.21
          ],
          [
           "masser sas - terpel",
           "delantal clasico",
           1.52,
           34.21
          ],
          [
           "masser sas - terpel",
           "delantal clasico",
           1.52,
           34.21
          ],
          [
           "masser sas - terpel",
           "delantal clasico",
           1.52,
           34.21
          ],
          [
           "masser sas - terpel",
           "delantal clasico",
           1.52,
           34.21
          ],
          [
           "masser sas - terpel",
           "delantal clasico",
           1.52,
           34.21
          ],
          [
           "masser sas - terpel",
           "delantal clasico",
           1.52,
           34.21
          ],
          [
           "masser sas - terpel",
           "delantal clasico",
           1.35,
           25.93
          ],
          [
           "masser sas - terpel",
           "delantal clasico",
           1.35,
           25.93
          ],
          [
           "masser sas - terpel",
           "delantal clasico",
           1.35,
           25.93
          ],
          [
           "masser sas - terpel",
           "delantal clasico",
           1.35,
           25.93
          ],
          [
           "masser sas - terpel",
           "delantal clasico",
           1.35,
           25.93
          ],
          [
           "masser sas - terpel",
           "delantal clasico",
           1.35,
           25.93
          ],
          [
           "masser sas - terpel",
           "delantal clasico",
           1.43,
           30.07
          ],
          [
           "masser sas - terpel",
           "delantal clasico",
           1.43,
           30.07
          ],
          [
           "masser sas - terpel",
           "delantal clasico",
           1.43,
           30.07
          ],
          [
           "masser sas - terpel",
           "delantal clasico",
           1.43,
           30.07
          ],
          [
           "masser sas - terpel",
           "delantal clasico",
           1.43,
           30.07
          ],
          [
           "masser sas - terpel",
           "delantal clasico",
           1.43,
           30.07
          ],
          [
           "masser sas - terpel",
           "delantal clasico",
           1.45,
           31.03
          ],
          [
           "masser sas - terpel",
           "delantal clasico",
           1.45,
           31.03
          ],
          [
           "masser sas - terpel",
           "delantal clasico",
           1.45,
           31.03
          ],
          [
           "masser sas - terpel",
           "delantal clasico",
           1.45,
           31.03
          ],
          [
           "masser sas - terpel",
           "delantal clasico",
           1.54,
           35.06
          ],
          [
           "masser sas - terpel",
           "delantal clasico",
           1.54,
           35.06
          ],
          [
           "masser sas - terpel",
           "delantal clasico",
           1.54,
           35.06
          ],
          [
           "masser sas - terpel",
           "delantal clasico",
           1.54,
           35.06
          ],
          [
           "masser sas - terpel",
           "delantal clasico",
           1.54,
           35.06
          ],
          [
           "masser sas - terpel",
           "delantal clasico",
           1.54,
           35.06
          ],
          [
           "masser sas - terpel",
           "delantal clasico",
           1.54,
           35.06
          ],
          [
           "masser sas - terpel",
           "delantal clasico",
           1.53,
           34.64
          ],
          [
           "masser sas - terpel",
           "delantal clasico",
           1.53,
           34.64
          ],
          [
           "masser sas - terpel",
           "delantal clasico",
           1.53,
           34.64
          ],
          [
           "masser sas - terpel",
           "delantal clasico",
           1.53,
           34.64
          ],
          [
           "masser sas - terpel",
           "delantal clasico",
           1.53,
           34.64
          ],
          [
           "masser sas - terpel",
           "delantal clasico",
           1.53,
           34.64
          ],
          [
           "masser sas - terpel",
           "delantal clasico",
           1.53,
           34.64
          ],
          [
           "masser sas - terpel",
           "delantal clasico",
           1.43,
           30.07
          ],
          [
           "masser sas - terpel",
           "delantal clasico",
           1.43,
           30.07
          ],
          [
           "masser sas - terpel",
           "delantal clasico",
           1.43,
           30.07
          ],
          [
           "masser sas - terpel",
           "delantal clasico",
           1.43,
           30.07
          ],
          [
           "masser sas - terpel",
           "delantal clasico",
           1.43,
           30.07
          ],
          [
           "masser sas - terpel",
           "delantal clasico",
           1.43,
           30.07
          ],
          [
           "masser sas - terpel",
           "delantal clasico",
           1.43,
           30.07
          ],
          [
           "masser sas - terpel",
           "delantal clasico",
           1.35,
           25.93
          ],
          [
           "masser sas - terpel",
           "delantal clasico",
           1.35,
           25.93
          ],
          [
           "masser sas - terpel",
           "delantal clasico",
           1.35,
           25.93
          ],
          [
           "masser sas - terpel",
           "delantal clasico",
           1.35,
           25.93
          ],
          [
           "masser sas - terpel",
           "delantal clasico",
           1.35,
           25.93
          ],
          [
           "masser sas - terpel",
           "delantal clasico",
           1.35,
           25.93
          ],
          [
           "masser sas - terpel",
           "delantal clasico",
           1.29,
           22.48
          ],
          [
           "masser sas - terpel",
           "delantal clasico",
           1.29,
           22.48
          ],
          [
           "masser sas - terpel",
           "delantal clasico",
           1.29,
           22.48
          ],
          [
           "masser sas - terpel",
           "delantal clasico",
           1.29,
           22.48
          ],
          [
           "masser sas - terpel",
           "delantal clasico",
           1.29,
           22.48
          ],
          [
           "masser sas - terpel",
           "delantal clasico",
           1.29,
           22.48
          ],
          [
           "masser sas - terpel",
           "delantal clasico",
           1.43,
           30.07
          ],
          [
           "masser sas - terpel",
           "delantal clasico",
           1.43,
           30.07
          ],
          [
           "masser sas - terpel",
           "delantal clasico",
           1.43,
           30.07
          ],
          [
           "masser sas - terpel",
           "delantal clasico",
           1.43,
           30.07
          ],
          [
           "masser sas - terpel",
           "delantal clasico",
           1.43,
           30.07
          ],
          [
           "masser sas - terpel",
           "delantal clasico",
           1.43,
           30.07
          ],
          [
           "masser sas - terpel",
           "delantal clasico",
           1.43,
           30.07
          ],
          [
           "masser sas - terpel",
           "delantal clasico",
           1.44,
           30.56
          ],
          [
           "masser sas - terpel",
           "delantal clasico",
           1.44,
           30.56
          ],
          [
           "masser sas - terpel",
           "delantal clasico",
           1.44,
           30.56
          ],
          [
           "masser sas - terpel",
           "delantal clasico",
           1.44,
           30.56
          ],
          [
           "masser sas - terpel",
           "delantal clasico",
           1.44,
           30.56
          ],
          [
           "masser sas - terpel",
           "delantal clasico",
           1.44,
           30.56
          ],
          [
           "masser sas - terpel",
           "delantal clasico",
           1.44,
           30.56
          ],
          [
           "masser sas - terpel",
           "delantal clasico",
           1.44,
           30.56
          ],
          [
           "masser sas - terpel",
           "delantal clasico",
           1.44,
           30.56
          ],
          [
           "masser sas - terpel",
           "delantal clasico",
           1.44,
           30.56
          ],
          [
           "masser sas - terpel",
           "delantal clasico",
           1.44,
           30.56
          ],
          [
           "masser sas - terpel",
           "delantal clasico",
           1.44,
           30.56
          ],
          [
           "masser sas - terpel",
           "delantal clasico",
           1.44,
           30.56
          ],
          [
           "masser sas - terpel",
           "delantal clasico",
           1.44,
           30.56
          ],
          [
           "masser sas - terpel",
           "delantal clasico",
           1.44,
           30.56
          ],
          [
           "masser sas - terpel",
           "delantal clasico",
           1.44,
           30.56
          ],
          [
           "masser sas - terpel",
           "delantal clasico",
           1.44,
           30.56
          ],
          [
           "masser sas - terpel",
           "delantal clasico",
           1.44,
           30.56
          ],
          [
           "masser sas - terpel",
           "delantal clasico",
           1.44,
           30.56
          ],
          [
           "masser sas - terpel",
           "delantal clasico",
           1.44,
           30.56
          ],
          [
           "masser sas - terpel",
           "delantal clasico",
           1.44,
           30.56
          ],
          [
           "masser sas - terpel",
           "delantal clasico",
           1.44,
           30.56
          ],
          [
           "masser sas - terpel",
           "delantal clasico",
           1.44,
           30.56
          ],
          [
           "masser sas - terpel",
           "delantal clasico",
           1.44,
           30.56
          ],
          [
           "masser sas - terpel",
           "delantal clasico",
           1.43,
           30.07
          ],
          [
           "masser sas - terpel",
           "delantal clasico",
           1.43,
           30.07
          ],
          [
           "masser sas - terpel",
           "delantal clasico",
           1.43,
           30.07
          ],
          [
           "masser sas - terpel",
           "delantal clasico",
           1.43,
           30.07
          ],
          [
           "masser sas - terpel",
           "delantal clasico",
           1.43,
           30.07
          ],
          [
           "masser sas - terpel",
           "delantal clasico",
           1.43,
           30.07
          ],
          [
           "masser sas - terpel",
           "delantal clasico",
           1.43,
           30.07
          ],
          [
           "masser sas - terpel",
           "delantal clasico",
           1.43,
           30.07
          ],
          [
           "masser sas - terpel",
           "delantal clasico",
           1.43,
           30.07
          ],
          [
           "masser sas - terpel",
           "delantal clasico",
           1.43,
           30.07
          ],
          [
           "masser sas - terpel",
           "delantal clasico",
           1.43,
           30.07
          ],
          [
           "masser sas - terpel",
           "delantal clasico",
           1.43,
           30.07
          ],
          [
           "masser sas - terpel",
           "delantal clasico",
           1.43,
           30.07
          ],
          [
           "masser sas - terpel",
           "delantal clasico",
           1.43,
           30.07
          ],
          [
           "masser sas - terpel",
           "delantal clasico",
           1.43,
           30.07
          ],
          [
           "masser sas - terpel",
           "delantal clasico",
           1.43,
           30.07
          ],
          [
           "masser sas - terpel",
           "delantal clasico",
           1.43,
           30.07
          ],
          [
           "masser sas - terpel",
           "delantal clasico",
           1.43,
           30.07
          ],
          [
           "masser sas - terpel",
           "delantal clasico",
           1.43,
           30.07
          ],
          [
           "masser sas - terpel",
           "delantal clasico",
           1.43,
           30.07
          ],
          [
           "masser sas - terpel",
           "delantal clasico",
           1.43,
           30.07
          ],
          [
           "masser sas - terpel",
           "delantal clasico",
           1.43,
           30.07
          ],
          [
           "masser sas - terpel",
           "delantal clasico",
           1.43,
           30.07
          ],
          [
           "masser sas - terpel",
           "delantal clasico",
           1.43,
           30.07
          ],
          [
           "masser sas - terpel",
           "delantal clasico",
           1.43,
           30.07
          ],
          [
           "masser sas - terpel",
           "delantal clasico",
           1.43,
           30.07
          ],
          [
           "masser sas - terpel",
           "delantal clasico",
           1.43,
           30.07
          ],
          [
           "masser sas - terpel",
           "delantal clasico",
           1.43,
           30.07
          ],
          [
           "masser sas - terpel",
           "delantal clasico",
           1.43,
           30.07
          ],
          [
           "masser sas - terpel",
           "delantal clasico",
           1.43,
           30.07
          ],
          [
           "masser sas - terpel",
           "delantal clasico",
           1.43,
           30.07
          ],
          [
           "masser sas - terpel",
           "delantal clasico",
           1.43,
           30.07
          ],
          [
           "masser sas - terpel",
           "delantal clasico",
           1.43,
           30.07
          ],
          [
           "masser sas - terpel",
           "delantal clasico",
           1.43,
           30.07
          ],
          [
           "masser sas - terpel",
           "delantal clasico",
           1.43,
           30.07
          ],
          [
           "masser sas - terpel",
           "delantal clasico",
           1.44,
           30.56
          ],
          [
           "masser sas - terpel",
           "delantal clasico",
           1.44,
           30.56
          ],
          [
           "masser sas - terpel",
           "delantal clasico",
           1.44,
           30.56
          ],
          [
           "masser sas - terpel",
           "delantal clasico",
           1.44,
           30.56
          ],
          [
           "masser sas - terpel",
           "delantal clasico",
           1.44,
           30.56
          ],
          [
           "masser sas - terpel",
           "delantal clasico",
           1.44,
           30.56
          ],
          [
           "masser sas - terpel",
           "delantal clasico",
           1.43,
           30.07
          ],
          [
           "masser sas - terpel",
           "delantal clasico",
           1.43,
           30.07
          ],
          [
           "masser sas - terpel",
           "delantal clasico",
           1.43,
           30.07
          ],
          [
           "masser sas - terpel",
           "delantal clasico",
           1.43,
           30.07
          ],
          [
           "masser sas - terpel",
           "delantal clasico",
           1.43,
           30.07
          ],
          [
           "masser sas - terpel",
           "delantal clasico",
           1.43,
           30.07
          ],
          [
           "masser sas - terpel",
           "delantal clasico",
           1.43,
           30.07
          ],
          [
           "masser sas - terpel",
           "delantal clasico",
           1.44,
           30.56
          ],
          [
           "masser sas - terpel",
           "delantal clasico",
           1.44,
           30.56
          ],
          [
           "masser sas - terpel",
           "delantal clasico",
           1.44,
           30.56
          ],
          [
           "masser sas - terpel",
           "delantal clasico",
           1.44,
           30.56
          ],
          [
           "masser sas - terpel",
           "delantal clasico",
           1.44,
           30.56
          ],
          [
           "masser sas - terpel",
           "delantal clasico",
           1.44,
           30.56
          ],
          [
           "masser sas - terpel",
           "delantal clasico",
           1.43,
           30.07
          ],
          [
           "masser sas - terpel",
           "delantal clasico",
           1.43,
           30.07
          ],
          [
           "masser sas - terpel",
           "delantal clasico",
           1.43,
           30.07
          ],
          [
           "masser sas - terpel",
           "delantal clasico",
           1.43,
           30.07
          ],
          [
           "masser sas - terpel",
           "delantal clasico",
           1.43,
           30.07
          ],
          [
           "masser sas - terpel",
           "delantal clasico",
           1.43,
           30.07
          ],
          [
           "masser sas - terpel",
           "delantal clasico",
           1.43,
           30.07
          ],
          [
           "masser sas - terpel",
           "delantal clasico",
           1.44,
           30.56
          ],
          [
           "masser sas - terpel",
           "delantal clasico",
           1.44,
           30.56
          ],
          [
           "masser sas - terpel",
           "delantal clasico",
           1.44,
           30.56
          ],
          [
           "masser sas - terpel",
           "delantal clasico",
           1.44,
           30.56
          ],
          [
           "masser sas - terpel",
           "delantal clasico",
           1.44,
           30.56
          ],
          [
           "masser sas - terpel",
           "delantal clasico",
           1.44,
           30.56
          ]
         ],
         "hovertemplate": "Categoría Proc=delantal<br>Costo Total Unitario=%{x}<br>Precio Unitario Sin IVA=%{y}<br>ClienteNombre=%{customdata[0]}<br>Producto=%{customdata[1]}<br>Ganancia=%{customdata[2]}<br>Margen Ganancia Real=%{customdata[3]}<extra></extra>",
         "legendgroup": "delantal",
         "marker": {
          "color": "#FF6692",
          "symbol": "circle"
         },
         "mode": "markers",
         "name": "delantal",
         "showlegend": true,
         "type": "scattergl",
         "x": {
          "bdata": "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",
          "dtype": "f8"
         },
         "xaxis": "x",
         "y": {
          "bdata": "b2VvZW9lb2VvZW9lb2VvZW9lb2VvZW9lb2VvZSlkKWQpZClkKWQpZClkb2VvZW9lb2VvZW9lJGUkZSRlJGUkZSRltU+1T7VPtU+1TylkKWQpZClkKWQpZClkKWQpZClkKWQpZLVPtU+1T7VPtU+1T7VPtU+1T7VPtU+1T7VPtU+1T7VPtU8QSRBJEEkQSRBJEEm1T7VPtU+1T7VPKWQpZClkKWQpZClkKWQpZClkKWQpZClktU+1T7VPtU+1T7VPtU+1T7VPtU+1T7VPtU+1T7VPtU+1TxBJEEkQSRBJEEkQSW9lb2VvZW9lb2VvZW9lb2VvZW9lb2VvZW9lJGUkZSRlJGUkZSRlb2VvZW9lb2VvZW9lb2VvZW9lb2VvZW9lb2VvZW9lb2VvZW9lb2VvZSRlJGUkZSRlJGUkZSlkKWQpZClkKWQpZClkKWQpZClkKWQpZClkKWRvZW9lb2VvZW9lb2VvZW9lb2VvZW9lb2VvZW9lb2VvZW9lb2VvZW9lb2UpZClkKWQpZClkKWQpZCRlJGUkZSRlJGUkZW9lb2VvZW9lb2VvZQBbAFsAWwBbb2VvZW9lb2VvZW9lb2VOZU5lTmVOZU5lTmVOZchayFrIWshayFrIWshaJGUkZSRlJGUkZSRl/lL+Uv5S/lL+Uv5SyFrIWshayFrIWshayFoPVA9UD1QPVA9UD1QPVA9UD1QPVA9UD1QPVA9UD1QPVA9UD1QPVA9UD1QPVA9UD1TIWshayFrIWshayFrIWshayFrIWshayFrIWshayFrIWshayFrIWshayFrIWshayFrIWshayFrIWilkKWQpZClkKWQpZClkpVylXKVcpVylXKVcKWQpZClkKWQpZClkKWSlXKVcpVylXKVcpVwpZClkKWQpZClkKWQpZKVcpVylXKVcpVylXA==",
          "dtype": "i2"
         },
         "yaxis": "y"
        },
        {
         "customdata": [
          [
           "masser sas - terpel",
           "camisa manga larga",
           1.4,
           28.57
          ],
          [
           "masser sas - terpel",
           "camisa manga larga",
           1.4,
           28.57
          ],
          [
           "masser sas - terpel",
           "camisa manga larga",
           1.4,
           28.57
          ],
          [
           "masser sas - terpel",
           "camisa manga larga",
           1.4,
           28.57
          ],
          [
           "masser sas - terpel",
           "camisa manga larga",
           1.4,
           28.57
          ],
          [
           "masser sas - terpel",
           "camisa manga larga",
           1.4,
           28.57
          ],
          [
           "masser sas - terpel",
           "camisa",
           1.4,
           28.57
          ],
          [
           "masser sas - terpel",
           "camisa",
           1.4,
           28.57
          ],
          [
           "masser sas - terpel",
           "camisa",
           1.4,
           28.57
          ],
          [
           "masser sas - terpel",
           "camisa",
           1.4,
           28.57
          ],
          [
           "masser sas - terpel",
           "camisa",
           1.4,
           28.57
          ],
          [
           "masser sas - terpel",
           "camisa",
           1.4,
           28.57
          ],
          [
           "masser sas - terpel",
           "camisa manga larga",
           1.49,
           32.89
          ],
          [
           "masser sas - terpel",
           "camisa manga larga",
           1.49,
           32.89
          ],
          [
           "masser sas - terpel",
           "camisa manga larga",
           1.49,
           32.89
          ],
          [
           "masser sas - terpel",
           "camisa manga larga",
           1.49,
           32.89
          ],
          [
           "masser sas - terpel",
           "camisa manga larga",
           1.49,
           32.89
          ],
          [
           "masser sas - terpel",
           "gorra curva",
           1.29,
           22.48
          ],
          [
           "masser sas - terpel",
           "gorra curva",
           1.29,
           22.48
          ],
          [
           "masser sas - terpel",
           "gorra curva",
           1.29,
           22.48
          ],
          [
           "masser sas - terpel",
           "gorra curva",
           1.29,
           22.48
          ],
          [
           "masser sas - terpel",
           "gorra curva",
           1.29,
           22.48
          ],
          [
           "masser sas - terpel",
           "camisa",
           1.49,
           32.89
          ],
          [
           "masser sas - terpel",
           "camisa",
           1.49,
           32.89
          ],
          [
           "masser sas - terpel",
           "camisa",
           1.49,
           32.89
          ],
          [
           "masser sas - terpel",
           "camisa",
           1.49,
           32.89
          ],
          [
           "masser sas - terpel",
           "camisa",
           1.49,
           32.89
          ],
          [
           "masser sas - terpel",
           "camisa manga larga",
           1.49,
           32.89
          ],
          [
           "masser sas - terpel",
           "camisa manga larga",
           1.49,
           32.89
          ],
          [
           "masser sas - terpel",
           "camisa manga larga",
           1.49,
           32.89
          ],
          [
           "masser sas - terpel",
           "camisa manga larga",
           1.49,
           32.89
          ],
          [
           "masser sas - terpel",
           "camisa manga larga",
           1.49,
           32.89
          ],
          [
           "masser sas - terpel",
           "camisa",
           1.24,
           19.35
          ],
          [
           "masser sas - terpel",
           "camisa",
           1.24,
           19.35
          ],
          [
           "masser sas - terpel",
           "camisa",
           1.24,
           19.35
          ],
          [
           "masser sas - terpel",
           "camisa",
           1.24,
           19.35
          ],
          [
           "masser sas - terpel",
           "camisa",
           1.24,
           19.35
          ],
          [
           "masser sas - terpel",
           "camisa",
           1.24,
           19.35
          ],
          [
           "masser sas - terpel",
           "camisa",
           1.24,
           19.35
          ],
          [
           "masser sas - terpel",
           "camisa",
           1.24,
           19.35
          ],
          [
           "masser sas - terpel",
           "camisa",
           1.24,
           19.35
          ],
          [
           "masser sas - terpel",
           "camisa",
           1.24,
           19.35
          ],
          [
           "masser sas - terpel",
           "camisa",
           1.24,
           19.35
          ],
          [
           "masser sas - terpel",
           "camisa",
           1.24,
           19.35
          ],
          [
           "masser sas - terpel",
           "camisa manga larga",
           1.4,
           28.57
          ],
          [
           "masser sas - terpel",
           "camisa manga larga",
           1.4,
           28.57
          ],
          [
           "masser sas - terpel",
           "camisa manga larga",
           1.4,
           28.57
          ],
          [
           "masser sas - terpel",
           "camisa manga larga",
           1.4,
           28.57
          ],
          [
           "masser sas - terpel",
           "camisa manga larga",
           1.4,
           28.57
          ],
          [
           "masser sas - terpel",
           "camisa manga larga",
           1.4,
           28.57
          ],
          [
           "masser sas - terpel",
           "camisa",
           1.4,
           28.57
          ],
          [
           "masser sas - terpel",
           "camisa",
           1.4,
           28.57
          ],
          [
           "masser sas - terpel",
           "camisa",
           1.4,
           28.57
          ],
          [
           "masser sas - terpel",
           "camisa",
           1.4,
           28.57
          ],
          [
           "masser sas - terpel",
           "camisa",
           1.4,
           28.57
          ],
          [
           "masser sas - terpel",
           "camisa",
           1.4,
           28.57
          ],
          [
           "masser sas - terpel",
           "camisa manga larga",
           1.4,
           28.57
          ],
          [
           "masser sas - terpel",
           "camisa manga larga",
           1.4,
           28.57
          ],
          [
           "masser sas - terpel",
           "camisa manga larga",
           1.4,
           28.57
          ],
          [
           "masser sas - terpel",
           "camisa manga larga",
           1.4,
           28.57
          ],
          [
           "masser sas - terpel",
           "camisa manga larga",
           1.4,
           28.57
          ],
          [
           "masser sas - terpel",
           "camisa manga larga",
           1.4,
           28.57
          ],
          [
           "masser sas - terpel",
           "camisa",
           1.4,
           28.57
          ],
          [
           "masser sas - terpel",
           "camisa",
           1.4,
           28.57
          ],
          [
           "masser sas - terpel",
           "camisa",
           1.4,
           28.57
          ],
          [
           "masser sas - terpel",
           "camisa",
           1.4,
           28.57
          ],
          [
           "masser sas - terpel",
           "camisa",
           1.4,
           28.57
          ],
          [
           "masser sas - terpel",
           "camisa",
           1.4,
           28.57
          ],
          [
           "masser sas - terpel",
           "camisa manga larga",
           1.49,
           32.89
          ],
          [
           "masser sas - terpel",
           "camisa manga larga",
           1.49,
           32.89
          ],
          [
           "masser sas - terpel",
           "camisa manga larga",
           1.49,
           32.89
          ],
          [
           "masser sas - terpel",
           "camisa manga larga",
           1.49,
           32.89
          ],
          [
           "masser sas - terpel",
           "camisa manga larga",
           1.49,
           32.89
          ],
          [
           "masser sas - terpel",
           "chaqueta sport",
           1.22,
           18.03
          ],
          [
           "masser sas - terpel",
           "chaqueta sport",
           1.22,
           18.03
          ],
          [
           "masser sas - terpel",
           "chaqueta sport",
           1.22,
           18.03
          ],
          [
           "masser sas - terpel",
           "chaqueta sport",
           1.22,
           18.03
          ],
          [
           "masser sas - terpel",
           "chaqueta sport",
           1.22,
           18.03
          ],
          [
           "masser sas - terpel",
           "chaqueta sport",
           1.22,
           18.03
          ],
          [
           "masser sas - terpel",
           "chaqueta sport",
           1.22,
           18.03
          ],
          [
           "masser sas - terpel",
           "chaqueta sport",
           1.22,
           18.03
          ],
          [
           "masser sas - terpel",
           "chaqueta sport",
           1.22,
           18.03
          ],
          [
           "masser sas - terpel",
           "chaqueta sport",
           1.22,
           18.03
          ],
          [
           "masser sas - terpel",
           "camisa manga larga",
           1.4,
           28.57
          ],
          [
           "masser sas - terpel",
           "camisa manga larga",
           1.4,
           28.57
          ],
          [
           "masser sas - terpel",
           "camisa manga larga",
           1.4,
           28.57
          ],
          [
           "masser sas - terpel",
           "camisa manga larga",
           1.4,
           28.57
          ],
          [
           "masser sas - terpel",
           "camisa manga larga",
           1.4,
           28.57
          ],
          [
           "masser sas - terpel",
           "camisa manga larga",
           1.4,
           28.57
          ],
          [
           "masser sas - terpel",
           "camisa",
           1.4,
           28.57
          ],
          [
           "masser sas - terpel",
           "camisa",
           1.4,
           28.57
          ],
          [
           "masser sas - terpel",
           "camisa",
           1.4,
           28.57
          ],
          [
           "masser sas - terpel",
           "camisa",
           1.4,
           28.57
          ],
          [
           "masser sas - terpel",
           "camisa",
           1.4,
           28.57
          ],
          [
           "masser sas - terpel",
           "camisa",
           1.4,
           28.57
          ],
          [
           "masser sas - terpel",
           "camisa manga larga",
           1.4,
           28.57
          ],
          [
           "masser sas - terpel",
           "camisa manga larga",
           1.4,
           28.57
          ],
          [
           "masser sas - terpel",
           "camisa manga larga",
           1.4,
           28.57
          ],
          [
           "masser sas - terpel",
           "camisa manga larga",
           1.4,
           28.57
          ],
          [
           "masser sas - terpel",
           "camisa manga larga",
           1.4,
           28.57
          ],
          [
           "masser sas - terpel",
           "camisa manga larga",
           1.4,
           28.57
          ],
          [
           "masser sas - terpel",
           "camisa",
           1.4,
           28.57
          ],
          [
           "masser sas - terpel",
           "camisa",
           1.4,
           28.57
          ],
          [
           "masser sas - terpel",
           "camisa",
           1.4,
           28.57
          ],
          [
           "masser sas - terpel",
           "camisa",
           1.4,
           28.57
          ],
          [
           "masser sas - terpel",
           "camisa",
           1.4,
           28.57
          ],
          [
           "masser sas - terpel",
           "camisa",
           1.4,
           28.57
          ],
          [
           "masser sas - terpel",
           "camisa manga larga",
           1.4,
           28.57
          ],
          [
           "masser sas - terpel",
           "camisa manga larga",
           1.4,
           28.57
          ],
          [
           "masser sas - terpel",
           "camisa manga larga",
           1.4,
           28.57
          ],
          [
           "masser sas - terpel",
           "camisa manga larga",
           1.4,
           28.57
          ],
          [
           "masser sas - terpel",
           "camisa manga larga",
           1.4,
           28.57
          ],
          [
           "masser sas - terpel",
           "camisa manga larga",
           1.4,
           28.57
          ],
          [
           "masser sas - terpel",
           "camisa",
           1.4,
           28.57
          ],
          [
           "masser sas - terpel",
           "camisa",
           1.4,
           28.57
          ],
          [
           "masser sas - terpel",
           "camisa",
           1.4,
           28.57
          ],
          [
           "masser sas - terpel",
           "camisa",
           1.4,
           28.57
          ],
          [
           "masser sas - terpel",
           "camisa",
           1.4,
           28.57
          ],
          [
           "masser sas - terpel",
           "camisa",
           1.4,
           28.57
          ],
          [
           "masser sas - terpel",
           "camiseta polo",
           1.44,
           30.56
          ],
          [
           "masser sas - terpel",
           "camiseta polo",
           1.44,
           30.56
          ],
          [
           "masser sas - terpel",
           "camiseta polo",
           1.44,
           30.56
          ],
          [
           "masser sas - terpel",
           "camiseta polo",
           1.44,
           30.56
          ],
          [
           "masser sas - terpel",
           "camiseta polo",
           1.44,
           30.56
          ],
          [
           "masser sas - terpel",
           "camiseta polo",
           1.44,
           30.56
          ],
          [
           "masser sas - terpel",
           "camiseta polo",
           1.44,
           30.56
          ],
          [
           "masser sas - terpel",
           "camiseta polo",
           1.44,
           30.56
          ],
          [
           "masser sas - terpel",
           "camiseta polo",
           1.44,
           30.56
          ],
          [
           "masser sas - terpel",
           "gorra curva",
           1.2,
           16.67
          ],
          [
           "masser sas - terpel",
           "gorra curva",
           1.2,
           16.67
          ],
          [
           "masser sas - terpel",
           "gorra curva",
           1.2,
           16.67
          ],
          [
           "masser sas - terpel",
           "gorra curva",
           1.2,
           16.67
          ],
          [
           "masser sas - terpel",
           "camisa manga larga",
           1.8,
           44.44
          ],
          [
           "masser sas - terpel",
           "camisa manga larga",
           1.8,
           44.44
          ],
          [
           "masser sas - terpel",
           "camisa manga larga",
           1.8,
           44.44
          ],
          [
           "masser sas - terpel",
           "camisa manga larga",
           1.8,
           44.44
          ],
          [
           "masser sas - terpel",
           "camisa manga larga",
           1.8,
           44.44
          ],
          [
           "masser sas - terpel",
           "camisa manga larga",
           1.8,
           44.44
          ],
          [
           "masser sas - terpel",
           "camisa",
           1.36,
           26.47
          ],
          [
           "masser sas - terpel",
           "camisa",
           1.36,
           26.47
          ],
          [
           "masser sas - terpel",
           "camisa",
           1.36,
           26.47
          ],
          [
           "masser sas - terpel",
           "camisa",
           1.36,
           26.47
          ],
          [
           "masser sas - terpel",
           "camisa",
           1.36,
           26.47
          ],
          [
           "masser sas - terpel",
           "camisa",
           1.36,
           26.47
          ],
          [
           "masser sas - terpel",
           "oxford",
           1.36,
           26.47
          ],
          [
           "masser sas - terpel",
           "oxford",
           1.36,
           26.47
          ],
          [
           "masser sas - terpel",
           "oxford",
           1.36,
           26.47
          ],
          [
           "masser sas - terpel",
           "oxford",
           1.36,
           26.47
          ],
          [
           "masser sas - terpel",
           "oxford",
           1.36,
           26.47
          ],
          [
           "masser sas - terpel",
           "oxford",
           1.36,
           26.47
          ],
          [
           "masser sas - terpel",
           "oxford",
           1.4,
           28.57
          ],
          [
           "masser sas - terpel",
           "oxford",
           1.4,
           28.57
          ],
          [
           "masser sas - terpel",
           "oxford",
           1.4,
           28.57
          ],
          [
           "masser sas - terpel",
           "oxford",
           1.4,
           28.57
          ],
          [
           "masser sas - terpel",
           "oxford",
           1.4,
           28.57
          ],
          [
           "masser sas - terpel",
           "oxford",
           1.4,
           28.57
          ],
          [
           "masser sas - terpel",
           "camisa",
           1.36,
           26.47
          ],
          [
           "masser sas - terpel",
           "camisa",
           1.36,
           26.47
          ],
          [
           "masser sas - terpel",
           "camisa",
           1.36,
           26.47
          ],
          [
           "masser sas - terpel",
           "camisa",
           1.36,
           26.47
          ],
          [
           "masser sas - terpel",
           "camisa",
           1.36,
           26.47
          ],
          [
           "masser sas - terpel",
           "camisa",
           1.36,
           26.47
          ],
          [
           "masser sas - terpel",
           "oxford",
           1.36,
           26.47
          ],
          [
           "masser sas - terpel",
           "oxford",
           1.36,
           26.47
          ],
          [
           "masser sas - terpel",
           "oxford",
           1.36,
           26.47
          ],
          [
           "masser sas - terpel",
           "oxford",
           1.36,
           26.47
          ],
          [
           "masser sas - terpel",
           "oxford",
           1.36,
           26.47
          ],
          [
           "masser sas - terpel",
           "oxford",
           1.36,
           26.47
          ],
          [
           "masser sas - terpel",
           "camisa",
           1.36,
           26.47
          ],
          [
           "masser sas - terpel",
           "camisa",
           1.36,
           26.47
          ],
          [
           "masser sas - terpel",
           "camisa",
           1.36,
           26.47
          ],
          [
           "masser sas - terpel",
           "camisa",
           1.36,
           26.47
          ],
          [
           "masser sas - terpel",
           "camisa",
           1.36,
           26.47
          ],
          [
           "masser sas - terpel",
           "camisa",
           1.36,
           26.47
          ],
          [
           "masser sas - terpel",
           "oxford",
           1.36,
           26.47
          ],
          [
           "masser sas - terpel",
           "oxford",
           1.36,
           26.47
          ],
          [
           "masser sas - terpel",
           "oxford",
           1.36,
           26.47
          ],
          [
           "masser sas - terpel",
           "oxford",
           1.36,
           26.47
          ],
          [
           "masser sas - terpel",
           "oxford",
           1.36,
           26.47
          ],
          [
           "masser sas - terpel",
           "oxford",
           1.36,
           26.47
          ]
         ],
         "hovertemplate": "Categoría Proc=camisa<br>Costo Total Unitario=%{x}<br>Precio Unitario Sin IVA=%{y}<br>ClienteNombre=%{customdata[0]}<br>Producto=%{customdata[1]}<br>Ganancia=%{customdata[2]}<br>Margen Ganancia Real=%{customdata[3]}<extra></extra>",
         "legendgroup": "camisa",
         "marker": {
          "color": "#B6E880",
          "symbol": "circle"
         },
         "mode": "markers",
         "name": "camisa",
         "showlegend": true,
         "type": "scattergl",
         "x": {
          "bdata": "AAAAAABj30AAAAAAAGPfQAAAAAAAY99AAAAAAABj30AAAAAAAGPfQAAAAAAAY99AAAAAAABj30AAAAAAAGPfQAAAAAAAY99AAAAAAABj30AAAAAAAGPfQAAAAAAAY99AAAAAAACh3UAAAAAAAKHdQAAAAAAAod1AAAAAAACh3UAAAAAAAKHdQAAAAAAA8sJAAAAAAADywkAAAAAAAPLCQAAAAAAA8sJAAAAAAADywkAAAAAAAKHdQAAAAAAAod1AAAAAAACh3UAAAAAAAKHdQAAAAAAAod1AAAAAAACh3UAAAAAAAKHdQAAAAAAAod1AAAAAAACh3UAAAAAAAKHdQAAAAACAJN5AAAAAAIAk3kAAAAAAgCTeQAAAAACAJN5AAAAAAIAk3kAAAAAAgCTeQAAAAADAKdxAAAAAAMAp3EAAAAAAwCncQAAAAADAKdxAAAAAAMAp3EAAAAAAwCncQAAAAAAAY99AAAAAAABj30AAAAAAAGPfQAAAAAAAY99AAAAAAABj30AAAAAAAGPfQAAAAAAAY99AAAAAAABj30AAAAAAAGPfQAAAAAAAY99AAAAAAABj30AAAAAAAGPfQAAAAAAAY99AAAAAAABj30AAAAAAAGPfQAAAAAAAY99AAAAAAABj30AAAAAAAGPfQAAAAAAAY99AAAAAAABj30AAAAAAAGPfQAAAAAAAY99AAAAAAABj30AAAAAAAGPfQAAAAAAAod1AAAAAAACh3UAAAAAAAKHdQAAAAAAAod1AAAAAAACh3UAAAAAAQNztQAAAAABA3O1AAAAAAEDc7UAAAAAAQNztQAAAAABA3O1AAAAAAEDc7UAAAAAAQNztQAAAAABA3O1AAAAAAEDc7UAAAAAAQNztQAAAAAAAY99AAAAAAABj30AAAAAAAGPfQAAAAAAAY99AAAAAAABj30AAAAAAAGPfQAAAAAAAY99AAAAAAABj30AAAAAAAGPfQAAAAAAAY99AAAAAAABj30AAAAAAAGPfQAAAAAAAY99AAAAAAABj30AAAAAAAGPfQAAAAAAAY99AAAAAAABj30AAAAAAAGPfQAAAAAAAY99AAAAAAABj30AAAAAAAGPfQAAAAAAAY99AAAAAAABj30AAAAAAAGPfQAAAAAAAY99AAAAAAABj30AAAAAAAGPfQAAAAAAAY99AAAAAAABj30AAAAAAAGPfQAAAAAAAY99AAAAAAABj30AAAAAAAGPfQAAAAAAAY99AAAAAAABj30AAAAAAAGPfQAAAAAAAQdRAAAAAAABB1EAAAAAAAEHUQAAAAAAAQdRAAAAAAABB1EAAAAAAAEHUQAAAAAAAQdRAAAAAAABB1EAAAAAAAEHUQAAAAAAAh8RAAAAAAACHxEAAAAAAAIfEQAAAAAAAh8RAAAAAAABj30AAAAAAAGPfQAAAAAAAY99AAAAAAABj30AAAAAAAGPfQAAAAAAAY99AAAAAAIBG20AAAAAAgEbbQAAAAACARttAAAAAAIBG20AAAAAAgEbbQAAAAACARttAAAAAAIA320AAAAAAgDfbQAAAAACAN9tAAAAAAIA320AAAAAAgDfbQAAAAACAN9tAAAAAAICN4EAAAAAAgI3gQAAAAACAjeBAAAAAAICN4EAAAAAAgI3gQAAAAACAjeBAAAAAAIBG20AAAAAAgEbbQAAAAACARttAAAAAAIBG20AAAAAAgEbbQAAAAACARttAAAAAAIA320AAAAAAgDfbQAAAAACAN9tAAAAAAIA320AAAAAAgDfbQAAAAACAN9tAAAAAAIBG20AAAAAAgEbbQAAAAACARttAAAAAAIBG20AAAAAAgEbbQAAAAACARttAAAAAAIA320AAAAAAgDfbQAAAAACAN9tAAAAAAIA320AAAAAAgDfbQAAAAACAN9tA",
          "dtype": "f8"
         },
         "xaxis": "x",
         "y": {
          "bdata": "lr8AAJa/AACWvwAAlr8AAJa/AACWvwAAlr8AAJa/AACWvwAAlr8AAJa/AACWvwAAfMAAAHzAAAB8wAAAfMAAAHzAAAB8wAAAfMAAAHzAAAB8wAAAfMAAAHzAAAB8wAAAfMAAAHzAAAB8wAAAfMAAAHzAAAB8wAAAfMAAAHzAAACdnQAAnZ0AAJ2dAACdnQAAnZ0AAJ2dAABDmAAAQ5gAAEOYAABDmAAAQ5gAAEOYAACWvwAAlr8AAJa/AACWvwAAlr8AAJa/AACWvwAAlr8AAJa/AACWvwAAlr8AAJa/AACWvwAAlr8AAJa/AACWvwAAlr8AAJa/AACWvwAAlr8AAJa/AACWvwAAlr8AAJa/AAB8wAAAfMAAAHzAAAB8wAAAfMAAAHzAAAB8wAAAfMAAAHzAAAB8wAAAfMAAAHzAAAB8wAAAfMAAAHzAAACWvwAAlr8AAJa/AACWvwAAlr8AAJa/AACWvwAAlr8AAJa/AACWvwAAlr8AAJa/AACWvwAAlr8AAJa/AACWvwAAlr8AAJa/AACWvwAAlr8AAJa/AACWvwAAlr8AAJa/AACWvwAAlr8AAJa/AACWvwAAlr8AAJa/AACWvwAAlr8AAJa/AACWvwAAlr8AAJa/AABT9gAAU/YAAFP2AABT9gAAU/YAAFP2AABT9gAAU/YAAFP2AABT9gAAU/YAAFP2AABT9gAAU/YAAFP2AABT9gAAU/YAAFP2AABT9gAAvKEAALyhAAC8oQAAvKEAALyhAAC8oQAAYqEAAGKhAABioQAAYqEAAGKhAABioQAAE8oAABPKAAATygAAE8oAABPKAAATygAAvKEAALyhAAC8oQAAvKEAALyhAAC8oQAAYqEAAGKhAABioQAAYqEAAGKhAABioQAAvKEAALyhAAC8oQAAvKEAALyhAAC8oQAAYqEAAGKhAABioQAAYqEAAGKhAABioQAA",
          "dtype": "i4"
         },
         "yaxis": "y"
        },
        {
         "customdata": [
          [
           "masser sas - terpel",
           "bata tipo laboratorio",
           1.3,
           23.08
          ],
          [
           "masser sas - terpel",
           "bata tipo laboratorio",
           1.3,
           23.08
          ],
          [
           "masser sas - terpel",
           "bata tipo laboratorio",
           1.3,
           23.08
          ],
          [
           "masser sas - terpel",
           "bata tipo laboratorio",
           1.3,
           23.08
          ],
          [
           "masser sas - terpel",
           "bata tipo laboratorio",
           1.3,
           23.08
          ],
          [
           "masser sas - terpel",
           "bata tipo laboratorio",
           1.3,
           23.08
          ],
          [
           "masser sas - terpel",
           "bata tipo laboratorio",
           1.3,
           23.08
          ]
         ],
         "hovertemplate": "Categoría Proc=bata<br>Costo Total Unitario=%{x}<br>Precio Unitario Sin IVA=%{y}<br>ClienteNombre=%{customdata[0]}<br>Producto=%{customdata[1]}<br>Ganancia=%{customdata[2]}<br>Margen Ganancia Real=%{customdata[3]}<extra></extra>",
         "legendgroup": "bata",
         "marker": {
          "color": "#FF97FF",
          "symbol": "circle"
         },
         "mode": "markers",
         "name": "bata",
         "showlegend": true,
         "type": "scattergl",
         "x": {
          "bdata": "AAAAAADL4UAAAAAAAMvhQAAAAAAAy+FAAAAAAADL4UAAAAAAAMvhQAAAAAAAy+FAAAAAAADL4UA=",
          "dtype": "f8"
         },
         "xaxis": "x",
         "y": {
          "bdata": "tMkAALTJAAC0yQAAtMkAALTJAAC0yQAAtMkAAA==",
          "dtype": "i4"
         },
         "yaxis": "y"
        },
        {
         "customdata": [
          [
           "organización terpel sa (terpel)",
           "saco cuello cerrado",
           1.6,
           37.5
          ],
          [
           "organización terpel sa (terpel)",
           "saco cuello cerrado",
           1.6,
           37.5
          ],
          [
           "organización terpel sa (terpel)",
           "saco cuello cerrado",
           1.6,
           37.5
          ],
          [
           "organización terpel sa (terpel)",
           "saco cuello cerrado",
           1.6,
           37.5
          ],
          [
           "organización terpel sa (terpel)",
           "cerrado capota",
           1.6,
           37.5
          ],
          [
           "organización terpel sa (terpel)",
           "cerrado capota",
           1.6,
           37.5
          ],
          [
           "organización terpel sa (terpel)",
           "cerrado capota",
           1.6,
           37.5
          ],
          [
           "organización terpel sa (terpel)",
           "cerrado capota",
           1.6,
           37.5
          ],
          [
           "organización terpel sa (terpel)",
           "saco cuello cerrado",
           1.6,
           37.5
          ],
          [
           "organización terpel sa (terpel)",
           "saco cuello cerrado",
           1.6,
           37.5
          ],
          [
           "organización terpel sa (terpel)",
           "saco cuello cerrado",
           1.6,
           37.5
          ],
          [
           "organización terpel sa (terpel)",
           "saco cuello cerrado",
           1.6,
           37.5
          ],
          [
           "organización terpel sa (terpel)",
           "cerrado capota",
           1.6,
           37.5
          ],
          [
           "organización terpel sa (terpel)",
           "cerrado capota",
           1.6,
           37.5
          ],
          [
           "organización terpel sa (terpel)",
           "cerrado capota",
           1.6,
           37.5
          ],
          [
           "organización terpel sa (terpel)",
           "cerrado capota",
           1.6,
           37.5
          ],
          [
           "organización terpel sa (terpel)",
           "saco tejido",
           1.4,
           28.57
          ],
          [
           "organización terpel sa (terpel)",
           "saco tejido",
           1.4,
           28.57
          ],
          [
           "organización terpel sa (terpel)",
           "saco tejido",
           1.4,
           28.57
          ],
          [
           "organización terpel sa (terpel)",
           "saco tejido",
           1.4,
           28.57
          ],
          [
           "organización terpel sa (terpel)",
           "saco tejido",
           1.4,
           28.57
          ],
          [
           "organización terpel sa (terpel)",
           "saco tejido",
           1.4,
           28.57
          ],
          [
           "organización terpel sa (terpel)",
           "saco tejido",
           1.4,
           28.57
          ],
          [
           "organización terpel sa (terpel)",
           "saco tejido",
           1.4,
           28.57
          ],
          [
           "organización terpel sa (terpel)",
           "cerrado capota",
           1.4,
           28.57
          ],
          [
           "organización terpel sa (terpel)",
           "cerrado capota",
           1.4,
           28.57
          ],
          [
           "organización terpel sa (terpel)",
           "cerrado capota",
           1.4,
           28.57
          ],
          [
           "organización terpel sa (terpel)",
           "cerrado capota",
           1.4,
           28.57
          ],
          [
           "organización terpel sa (terpel)",
           "saco tejido",
           1.4,
           28.57
          ],
          [
           "organización terpel sa (terpel)",
           "saco tejido",
           1.4,
           28.57
          ],
          [
           "organización terpel sa (terpel)",
           "saco tejido",
           1.4,
           28.57
          ],
          [
           "organización terpel sa (terpel)",
           "saco tejido",
           1.4,
           28.57
          ],
          [
           "organización terpel sa (terpel)",
           "cerrado capota",
           1.4,
           28.57
          ],
          [
           "organización terpel sa (terpel)",
           "cerrado capota",
           1.4,
           28.57
          ],
          [
           "organización terpel sa (terpel)",
           "cerrado capota",
           1.4,
           28.57
          ],
          [
           "organización terpel sa (terpel)",
           "cerrado capota",
           1.4,
           28.57
          ],
          [
           "organización terpel sa (terpel)",
           "saco tejido",
           1.4,
           28.57
          ],
          [
           "organización terpel sa (terpel)",
           "saco tejido",
           1.4,
           28.57
          ],
          [
           "organización terpel sa (terpel)",
           "saco tejido",
           1.4,
           28.57
          ],
          [
           "organización terpel sa (terpel)",
           "saco tejido",
           1.4,
           28.57
          ]
         ],
         "hovertemplate": "Categoría Proc=sacos<br>Costo Total Unitario=%{x}<br>Precio Unitario Sin IVA=%{y}<br>ClienteNombre=%{customdata[0]}<br>Producto=%{customdata[1]}<br>Ganancia=%{customdata[2]}<br>Margen Ganancia Real=%{customdata[3]}<extra></extra>",
         "legendgroup": "sacos",
         "marker": {
          "color": "#FECB52",
          "symbol": "circle"
         },
         "mode": "markers",
         "name": "sacos",
         "showlegend": true,
         "type": "scattergl",
         "x": {
          "bdata": "AAAAAJBQ8EAAAAAAkFDwQAAAAACQUPBAAAAAAJBQ8EAAAAAA0JvxQAAAAADQm/FAAAAAANCb8UAAAAAA0JvxQAAAAACQUPBAAAAAAJBQ8EAAAAAAkFDwQAAAAACQUPBAAAAAANCb8UAAAAAA0JvxQAAAAADQm/FAAAAAANCb8UAAAAAAgM3iQAAAAACAzeJAAAAAAIDN4kAAAAAAgM3iQAAAAACAzeJAAAAAAIDN4kAAAAAAgM3iQAAAAACAzeJAAAAAAACW5UAAAAAAAJblQAAAAAAAluVAAAAAAACW5UAAAAAAgM3iQAAAAACAzeJAAAAAAIDN4kAAAAAAgM3iQAAAAAAAluVAAAAAAACW5UAAAAAAAJblQAAAAAAAluVAAAAAAIDN4kAAAAAAgM3iQAAAAACAzeJAAAAAAIDN4kA=",
          "dtype": "f8"
         },
         "xaxis": "x",
         "y": {
          "bdata": "LhcBAC4XAQAuFwEALhcBAC4XAQAuFwEALhcBAC4XAQBtLgEAbS4BAG0uAQBtLgEAbS4BAG0uAQBtLgEAbS4BAIzlAACM5QAAjOUAAIzlAACM5QAAjOUAAIzlAACM5QAAhgcBAIYHAQCGBwEAhgcBAIYHAQCGBwEAhgcBAIYHAQCM5QAAjOUAAIzlAACM5QAAjOUAAIzlAACM5QAAjOUAAA==",
          "dtype": "i4"
         },
         "yaxis": "y"
        },
        {
         "customdata": [
          [
           "masser sas - terpel",
           "bordado",
           1.8,
           44.44
          ],
          [
           "masser sas - terpel",
           "estampado",
           2.5,
           60
          ]
         ],
         "hovertemplate": "Categoría Proc=servicios<br>Costo Total Unitario=%{x}<br>Precio Unitario Sin IVA=%{y}<br>ClienteNombre=%{customdata[0]}<br>Producto=%{customdata[1]}<br>Ganancia=%{customdata[2]}<br>Margen Ganancia Real=%{customdata[3]}<extra></extra>",
         "legendgroup": "servicios",
         "marker": {
          "color": "#636efa",
          "symbol": "circle"
         },
         "mode": "markers",
         "name": "servicios",
         "showlegend": true,
         "type": "scattergl",
         "x": {
          "bdata": "AAAAAADglUAAAAAAAMCSQA==",
          "dtype": "f8"
         },
         "xaxis": "x",
         "y": {
          "bdata": "uwrGDA==",
          "dtype": "i2"
         },
         "yaxis": "y"
        },
        {
         "customdata": [
          [
           "organización terpel sa (terpel)",
           "hoddie cerrado",
           1.65,
           39.39
          ],
          [
           "organización terpel sa (terpel)",
           "hoddie cerrado",
           1.65,
           39.39
          ],
          [
           "organización terpel sa (terpel)",
           "hoddie cerrado",
           1.65,
           39.39
          ],
          [
           "organización terpel sa (terpel)",
           "hoddie cerrado",
           1.65,
           39.39
          ],
          [
           "organización terpel sa (terpel)",
           "hoddie cerrado",
           1.65,
           39.39
          ],
          [
           "organización terpel sa (terpel)",
           "hoddie cerrado",
           1.65,
           39.39
          ],
          [
           "organización terpel sa (terpel)",
           "hoddie cerrado",
           1.65,
           39.39
          ],
          [
           "organización terpel sa (terpel)",
           "saco fleece",
           1.33,
           24.81
          ],
          [
           "organización terpel sa (terpel)",
           "saco fleece",
           1.33,
           24.81
          ],
          [
           "organización terpel sa (terpel)",
           "saco fleece",
           1.33,
           24.81
          ],
          [
           "organización terpel sa (terpel)",
           "saco fleece",
           1.33,
           24.81
          ],
          [
           "organización terpel sa (terpel)",
           "saco fleece",
           1.33,
           24.81
          ],
          [
           "organización terpel sa (terpel)",
           "saco fleece",
           1.33,
           24.81
          ]
         ],
         "hovertemplate": "Categoría Proc=buzo<br>Costo Total Unitario=%{x}<br>Precio Unitario Sin IVA=%{y}<br>ClienteNombre=%{customdata[0]}<br>Producto=%{customdata[1]}<br>Ganancia=%{customdata[2]}<br>Margen Ganancia Real=%{customdata[3]}<extra></extra>",
         "legendgroup": "buzo",
         "marker": {
          "color": "#EF553B",
          "symbol": "circle"
         },
         "mode": "markers",
         "name": "buzo",
         "showlegend": true,
         "type": "scattergl",
         "x": {
          "bdata": "AAAAAIAF5kAAAAAAgAXmQAAAAACABeZAAAAAAIAF5kAAAAAAgAXmQAAAAACABeZAAAAAAIAF5kAAAAAAAM3lQAAAAAAAzeVAAAAAAADN5UAAAAAAAM3lQAAAAAAAzeVAAAAAAADN5UA=",
          "dtype": "f8"
         },
         "xaxis": "x",
         "y": {
          "bdata": "2DwBANg8AQDYPAEA2DwBANg8AQDYPAEA2DwBANb8AADW/AAA1vwAANb8AADW/AAA1vwAAA==",
          "dtype": "i4"
         },
         "yaxis": "y"
        }
       ],
       "layout": {
        "legend": {
         "title": {
          "text": "Categoría"
         },
         "tracegroupgap": 0
        },
        "template": {
         "data": {
          "bar": [
           {
            "error_x": {
             "color": "#2a3f5f"
            },
            "error_y": {
             "color": "#2a3f5f"
            },
            "marker": {
             "line": {
              "color": "#E5ECF6",
              "width": 0.5
             },
             "pattern": {
              "fillmode": "overlay",
              "size": 10,
              "solidity": 0.2
             }
            },
            "type": "bar"
           }
          ],
          "barpolar": [
           {
            "marker": {
             "line": {
              "color": "#E5ECF6",
              "width": 0.5
             },
             "pattern": {
              "fillmode": "overlay",
              "size": 10,
              "solidity": 0.2
             }
            },
            "type": "barpolar"
           }
          ],
          "carpet": [
           {
            "aaxis": {
             "endlinecolor": "#2a3f5f",
             "gridcolor": "white",
             "linecolor": "white",
             "minorgridcolor": "white",
             "startlinecolor": "#2a3f5f"
            },
            "baxis": {
             "endlinecolor": "#2a3f5f",
             "gridcolor": "white",
             "linecolor": "white",
             "minorgridcolor": "white",
             "startlinecolor": "#2a3f5f"
            },
            "type": "carpet"
           }
          ],
          "choropleth": [
           {
            "colorbar": {
             "outlinewidth": 0,
             "ticks": ""
            },
            "type": "choropleth"
           }
          ],
          "contour": [
           {
            "colorbar": {
             "outlinewidth": 0,
             "ticks": ""
            },
            "colorscale": [
             [
              0,
              "#0d0887"
             ],
             [
              0.1111111111111111,
              "#46039f"
             ],
             [
              0.2222222222222222,
              "#7201a8"
             ],
             [
              0.3333333333333333,
              "#9c179e"
             ],
             [
              0.4444444444444444,
              "#bd3786"
             ],
             [
              0.5555555555555556,
              "#d8576b"
             ],
             [
              0.6666666666666666,
              "#ed7953"
             ],
             [
              0.7777777777777778,
              "#fb9f3a"
             ],
             [
              0.8888888888888888,
              "#fdca26"
             ],
             [
              1,
              "#f0f921"
             ]
            ],
            "type": "contour"
           }
          ],
          "contourcarpet": [
           {
            "colorbar": {
             "outlinewidth": 0,
             "ticks": ""
            },
            "type": "contourcarpet"
           }
          ],
          "heatmap": [
           {
            "colorbar": {
             "outlinewidth": 0,
             "ticks": ""
            },
            "colorscale": [
             [
              0,
              "#0d0887"
             ],
             [
              0.1111111111111111,
              "#46039f"
             ],
             [
              0.2222222222222222,
              "#7201a8"
             ],
             [
              0.3333333333333333,
              "#9c179e"
             ],
             [
              0.4444444444444444,
              "#bd3786"
             ],
             [
              0.5555555555555556,
              "#d8576b"
             ],
             [
              0.6666666666666666,
              "#ed7953"
             ],
             [
              0.7777777777777778,
              "#fb9f3a"
             ],
             [
              0.8888888888888888,
              "#fdca26"
             ],
             [
              1,
              "#f0f921"
             ]
            ],
            "type": "heatmap"
           }
          ],
          "histogram": [
           {
            "marker": {
             "pattern": {
              "fillmode": "overlay",
              "size": 10,
              "solidity": 0.2
             }
            },
            "type": "histogram"
           }
          ],
          "histogram2d": [
           {
            "colorbar": {
             "outlinewidth": 0,
             "ticks": ""
            },
            "colorscale": [
             [
              0,
              "#0d0887"
             ],
             [
              0.1111111111111111,
              "#46039f"
             ],
             [
              0.2222222222222222,
              "#7201a8"
             ],
             [
              0.3333333333333333,
              "#9c179e"
             ],
             [
              0.4444444444444444,
              "#bd3786"
             ],
             [
              0.5555555555555556,
              "#d8576b"
             ],
             [
              0.6666666666666666,
              "#ed7953"
             ],
             [
              0.7777777777777778,
              "#fb9f3a"
             ],
             [
              0.8888888888888888,
              "#fdca26"
             ],
             [
              1,
              "#f0f921"
             ]
            ],
            "type": "histogram2d"
           }
          ],
          "histogram2dcontour": [
           {
            "colorbar": {
             "outlinewidth": 0,
             "ticks": ""
            },
            "colorscale": [
             [
              0,
              "#0d0887"
             ],
             [
              0.1111111111111111,
              "#46039f"
             ],
             [
              0.2222222222222222,
              "#7201a8"
             ],
             [
              0.3333333333333333,
              "#9c179e"
             ],
             [
              0.4444444444444444,
              "#bd3786"
             ],
             [
              0.5555555555555556,
              "#d8576b"
             ],
             [
              0.6666666666666666,
              "#ed7953"
             ],
             [
              0.7777777777777778,
              "#fb9f3a"
             ],
             [
              0.8888888888888888,
              "#fdca26"
             ],
             [
              1,
              "#f0f921"
             ]
            ],
            "type": "histogram2dcontour"
           }
          ],
          "mesh3d": [
           {
            "colorbar": {
             "outlinewidth": 0,
             "ticks": ""
            },
            "type": "mesh3d"
           }
          ],
          "parcoords": [
           {
            "line": {
             "colorbar": {
              "outlinewidth": 0,
              "ticks": ""
             }
            },
            "type": "parcoords"
           }
          ],
          "pie": [
           {
            "automargin": true,
            "type": "pie"
           }
          ],
          "scatter": [
           {
            "fillpattern": {
             "fillmode": "overlay",
             "size": 10,
             "solidity": 0.2
            },
            "type": "scatter"
           }
          ],
          "scatter3d": [
           {
            "line": {
             "colorbar": {
              "outlinewidth": 0,
              "ticks": ""
             }
            },
            "marker": {
             "colorbar": {
              "outlinewidth": 0,
              "ticks": ""
             }
            },
            "type": "scatter3d"
           }
          ],
          "scattercarpet": [
           {
            "marker": {
             "colorbar": {
              "outlinewidth": 0,
              "ticks": ""
             }
            },
            "type": "scattercarpet"
           }
          ],
          "scattergeo": [
           {
            "marker": {
             "colorbar": {
              "outlinewidth": 0,
              "ticks": ""
             }
            },
            "type": "scattergeo"
           }
          ],
          "scattergl": [
           {
            "marker": {
             "colorbar": {
              "outlinewidth": 0,
              "ticks": ""
             }
            },
            "type": "scattergl"
           }
          ],
          "scattermap": [
           {
            "marker": {
             "colorbar": {
              "outlinewidth": 0,
              "ticks": ""
             }
            },
            "type": "scattermap"
           }
          ],
          "scattermapbox": [
           {
            "marker": {
             "colorbar": {
              "outlinewidth": 0,
              "ticks": ""
             }
            },
            "type": "scattermapbox"
           }
          ],
          "scatterpolar": [
           {
            "marker": {
             "colorbar": {
              "outlinewidth": 0,
              "ticks": ""
             }
            },
            "type": "scatterpolar"
           }
          ],
          "scatterpolargl": [
           {
            "marker": {
             "colorbar": {
              "outlinewidth": 0,
              "ticks": ""
             }
            },
            "type": "scatterpolargl"
           }
          ],
          "scatterternary": [
           {
            "marker": {
             "colorbar": {
              "outlinewidth": 0,
              "ticks": ""
             }
            },
            "type": "scatterternary"
           }
          ],
          "surface": [
           {
            "colorbar": {
             "outlinewidth": 0,
             "ticks": ""
            },
            "colorscale": [
             [
              0,
              "#0d0887"
             ],
             [
              0.1111111111111111,
              "#46039f"
             ],
             [
              0.2222222222222222,
              "#7201a8"
             ],
             [
              0.3333333333333333,
              "#9c179e"
             ],
             [
              0.4444444444444444,
              "#bd3786"
             ],
             [
              0.5555555555555556,
              "#d8576b"
             ],
             [
              0.6666666666666666,
              "#ed7953"
             ],
             [
              0.7777777777777778,
              "#fb9f3a"
             ],
             [
              0.8888888888888888,
              "#fdca26"
             ],
             [
              1,
              "#f0f921"
             ]
            ],
            "type": "surface"
           }
          ],
          "table": [
           {
            "cells": {
             "fill": {
              "color": "#EBF0F8"
             },
             "line": {
              "color": "white"
             }
            },
            "header": {
             "fill": {
              "color": "#C8D4E3"
             },
             "line": {
              "color": "white"
             }
            },
            "type": "table"
           }
          ]
         },
         "layout": {
          "annotationdefaults": {
           "arrowcolor": "#2a3f5f",
           "arrowhead": 0,
           "arrowwidth": 1
          },
          "autotypenumbers": "strict",
          "coloraxis": {
           "colorbar": {
            "outlinewidth": 0,
            "ticks": ""
           }
          },
          "colorscale": {
           "diverging": [
            [
             0,
             "#8e0152"
            ],
            [
             0.1,
             "#c51b7d"
            ],
            [
             0.2,
             "#de77ae"
            ],
            [
             0.3,
             "#f1b6da"
            ],
            [
             0.4,
             "#fde0ef"
            ],
            [
             0.5,
             "#f7f7f7"
            ],
            [
             0.6,
             "#e6f5d0"
            ],
            [
             0.7,
             "#b8e186"
            ],
            [
             0.8,
             "#7fbc41"
            ],
            [
             0.9,
             "#4d9221"
            ],
            [
             1,
             "#276419"
            ]
           ],
           "sequential": [
            [
             0,
             "#0d0887"
            ],
            [
             0.1111111111111111,
             "#46039f"
            ],
            [
             0.2222222222222222,
             "#7201a8"
            ],
            [
             0.3333333333333333,
             "#9c179e"
            ],
            [
             0.4444444444444444,
             "#bd3786"
            ],
            [
             0.5555555555555556,
             "#d8576b"
            ],
            [
             0.6666666666666666,
             "#ed7953"
            ],
            [
             0.7777777777777778,
             "#fb9f3a"
            ],
            [
             0.8888888888888888,
             "#fdca26"
            ],
            [
             1,
             "#f0f921"
            ]
           ],
           "sequentialminus": [
            [
             0,
             "#0d0887"
            ],
            [
             0.1111111111111111,
             "#46039f"
            ],
            [
             0.2222222222222222,
             "#7201a8"
            ],
            [
             0.3333333333333333,
             "#9c179e"
            ],
            [
             0.4444444444444444,
             "#bd3786"
            ],
            [
             0.5555555555555556,
             "#d8576b"
            ],
            [
             0.6666666666666666,
             "#ed7953"
            ],
            [
             0.7777777777777778,
             "#fb9f3a"
            ],
            [
             0.8888888888888888,
             "#fdca26"
            ],
            [
             1,
             "#f0f921"
            ]
           ]
          },
          "colorway": [
           "#636efa",
           "#EF553B",
           "#00cc96",
           "#ab63fa",
           "#FFA15A",
           "#19d3f3",
           "#FF6692",
           "#B6E880",
           "#FF97FF",
           "#FECB52"
          ],
          "font": {
           "color": "#2a3f5f"
          },
          "geo": {
           "bgcolor": "white",
           "lakecolor": "white",
           "landcolor": "#E5ECF6",
           "showlakes": true,
           "showland": true,
           "subunitcolor": "white"
          },
          "hoverlabel": {
           "align": "left"
          },
          "hovermode": "closest",
          "mapbox": {
           "style": "light"
          },
          "paper_bgcolor": "white",
          "plot_bgcolor": "#E5ECF6",
          "polar": {
           "angularaxis": {
            "gridcolor": "white",
            "linecolor": "white",
            "ticks": ""
           },
           "bgcolor": "#E5ECF6",
           "radialaxis": {
            "gridcolor": "white",
            "linecolor": "white",
            "ticks": ""
           }
          },
          "scene": {
           "xaxis": {
            "backgroundcolor": "#E5ECF6",
            "gridcolor": "white",
            "gridwidth": 2,
            "linecolor": "white",
            "showbackground": true,
            "ticks": "",
            "zerolinecolor": "white"
           },
           "yaxis": {
            "backgroundcolor": "#E5ECF6",
            "gridcolor": "white",
            "gridwidth": 2,
            "linecolor": "white",
            "showbackground": true,
            "ticks": "",
            "zerolinecolor": "white"
           },
           "zaxis": {
            "backgroundcolor": "#E5ECF6",
            "gridcolor": "white",
            "gridwidth": 2,
            "linecolor": "white",
            "showbackground": true,
            "ticks": "",
            "zerolinecolor": "white"
           }
          },
          "shapedefaults": {
           "line": {
            "color": "#2a3f5f"
           }
          },
          "ternary": {
           "aaxis": {
            "gridcolor": "white",
            "linecolor": "white",
            "ticks": ""
           },
           "baxis": {
            "gridcolor": "white",
            "linecolor": "white",
            "ticks": ""
           },
           "bgcolor": "#E5ECF6",
           "caxis": {
            "gridcolor": "white",
            "linecolor": "white",
            "ticks": ""
           }
          },
          "title": {
           "x": 0.05
          },
          "xaxis": {
           "automargin": true,
           "gridcolor": "white",
           "linecolor": "white",
           "ticks": "",
           "title": {
            "standoff": 15
           },
           "zerolinecolor": "white",
           "zerolinewidth": 2
          },
          "yaxis": {
           "automargin": true,
           "gridcolor": "white",
           "linecolor": "white",
           "ticks": "",
           "title": {
            "standoff": 15
           },
           "zerolinecolor": "white",
           "zerolinewidth": 2
          }
         }
        },
        "title": {
         "text": "Relación entre Costo Unitario y Precio de Venta"
        },
        "xaxis": {
         "anchor": "y",
         "domain": [
          0,
          1
         ],
         "title": {
          "text": "Costo Total Unitario"
         }
        },
        "yaxis": {
         "anchor": "x",
         "domain": [
          0,
          1
         ],
         "title": {
          "text": "Precio Unitario Sin IVA"
         }
        }
       }
      }
     },
     "metadata": {},
     "output_type": "display_data"
    },
    {
     "data": {
      "application/vnd.plotly.v1+json": {
       "config": {
        "plotlyServerURL": "https://plot.ly"
       },
       "data": [
        {
         "hovertemplate": "Creado El=%{x}<br>Margen Ganancia Real=%{y}<extra></extra>",
         "legendgroup": "",
         "line": {
          "color": "#636efa",
          "dash": "solid"
         },
         "marker": {
          "symbol": "circle"
         },
         "mode": "lines+markers",
         "name": "",
         "orientation": "v",
         "showlegend": false,
         "type": "scatter",
         "x": [
          "2024-01-01T00:00:00.000000000",
          "2024-02-01T00:00:00.000000000",
          "2024-03-01T00:00:00.000000000",
          "2024-04-01T00:00:00.000000000",
          "2024-05-01T00:00:00.000000000",
          "2024-06-01T00:00:00.000000000",
          "2024-07-01T00:00:00.000000000",
          "2024-08-01T00:00:00.000000000",
          "2024-09-01T00:00:00.000000000",
          "2024-10-01T00:00:00.000000000",
          "2024-12-01T00:00:00.000000000"
         ],
         "xaxis": "x",
         "y": {
          "bdata": "yJGQqU+8OkCVwX9ijgw3QClcj8L1qDdAXiAYObXEOUDNKx9nNl47QKOE7muogzpAgLyq1zjwN0DnDrcMjoM7QNy4y3LxEDZAkZCXuWoiO0B8bolTvwc0QA==",
          "dtype": "f8"
         },
         "yaxis": "y"
        }
       ],
       "layout": {
        "legend": {
         "tracegroupgap": 0
        },
        "template": {
         "data": {
          "bar": [
           {
            "error_x": {
             "color": "#2a3f5f"
            },
            "error_y": {
             "color": "#2a3f5f"
            },
            "marker": {
             "line": {
              "color": "#E5ECF6",
              "width": 0.5
             },
             "pattern": {
              "fillmode": "overlay",
              "size": 10,
              "solidity": 0.2
             }
            },
            "type": "bar"
           }
          ],
          "barpolar": [
           {
            "marker": {
             "line": {
              "color": "#E5ECF6",
              "width": 0.5
             },
             "pattern": {
              "fillmode": "overlay",
              "size": 10,
              "solidity": 0.2
             }
            },
            "type": "barpolar"
           }
          ],
          "carpet": [
           {
            "aaxis": {
             "endlinecolor": "#2a3f5f",
             "gridcolor": "white",
             "linecolor": "white",
             "minorgridcolor": "white",
             "startlinecolor": "#2a3f5f"
            },
            "baxis": {
             "endlinecolor": "#2a3f5f",
             "gridcolor": "white",
             "linecolor": "white",
             "minorgridcolor": "white",
             "startlinecolor": "#2a3f5f"
            },
            "type": "carpet"
           }
          ],
          "choropleth": [
           {
            "colorbar": {
             "outlinewidth": 0,
             "ticks": ""
            },
            "type": "choropleth"
           }
          ],
          "contour": [
           {
            "colorbar": {
             "outlinewidth": 0,
             "ticks": ""
            },
            "colorscale": [
             [
              0,
              "#0d0887"
             ],
             [
              0.1111111111111111,
              "#46039f"
             ],
             [
              0.2222222222222222,
              "#7201a8"
             ],
             [
              0.3333333333333333,
              "#9c179e"
             ],
             [
              0.4444444444444444,
              "#bd3786"
             ],
             [
              0.5555555555555556,
              "#d8576b"
             ],
             [
              0.6666666666666666,
              "#ed7953"
             ],
             [
              0.7777777777777778,
              "#fb9f3a"
             ],
             [
              0.8888888888888888,
              "#fdca26"
             ],
             [
              1,
              "#f0f921"
             ]
            ],
            "type": "contour"
           }
          ],
          "contourcarpet": [
           {
            "colorbar": {
             "outlinewidth": 0,
             "ticks": ""
            },
            "type": "contourcarpet"
           }
          ],
          "heatmap": [
           {
            "colorbar": {
             "outlinewidth": 0,
             "ticks": ""
            },
            "colorscale": [
             [
              0,
              "#0d0887"
             ],
             [
              0.1111111111111111,
              "#46039f"
             ],
             [
              0.2222222222222222,
              "#7201a8"
             ],
             [
              0.3333333333333333,
              "#9c179e"
             ],
             [
              0.4444444444444444,
              "#bd3786"
             ],
             [
              0.5555555555555556,
              "#d8576b"
             ],
             [
              0.6666666666666666,
              "#ed7953"
             ],
             [
              0.7777777777777778,
              "#fb9f3a"
             ],
             [
              0.8888888888888888,
              "#fdca26"
             ],
             [
              1,
              "#f0f921"
             ]
            ],
            "type": "heatmap"
           }
          ],
          "histogram": [
           {
            "marker": {
             "pattern": {
              "fillmode": "overlay",
              "size": 10,
              "solidity": 0.2
             }
            },
            "type": "histogram"
           }
          ],
          "histogram2d": [
           {
            "colorbar": {
             "outlinewidth": 0,
             "ticks": ""
            },
            "colorscale": [
             [
              0,
              "#0d0887"
             ],
             [
              0.1111111111111111,
              "#46039f"
             ],
             [
              0.2222222222222222,
              "#7201a8"
             ],
             [
              0.3333333333333333,
              "#9c179e"
             ],
             [
              0.4444444444444444,
              "#bd3786"
             ],
             [
              0.5555555555555556,
              "#d8576b"
             ],
             [
              0.6666666666666666,
              "#ed7953"
             ],
             [
              0.7777777777777778,
              "#fb9f3a"
             ],
             [
              0.8888888888888888,
              "#fdca26"
             ],
             [
              1,
              "#f0f921"
             ]
            ],
            "type": "histogram2d"
           }
          ],
          "histogram2dcontour": [
           {
            "colorbar": {
             "outlinewidth": 0,
             "ticks": ""
            },
            "colorscale": [
             [
              0,
              "#0d0887"
             ],
             [
              0.1111111111111111,
              "#46039f"
             ],
             [
              0.2222222222222222,
              "#7201a8"
             ],
             [
              0.3333333333333333,
              "#9c179e"
             ],
             [
              0.4444444444444444,
              "#bd3786"
             ],
             [
              0.5555555555555556,
              "#d8576b"
             ],
             [
              0.6666666666666666,
              "#ed7953"
             ],
             [
              0.7777777777777778,
              "#fb9f3a"
             ],
             [
              0.8888888888888888,
              "#fdca26"
             ],
             [
              1,
              "#f0f921"
             ]
            ],
            "type": "histogram2dcontour"
           }
          ],
          "mesh3d": [
           {
            "colorbar": {
             "outlinewidth": 0,
             "ticks": ""
            },
            "type": "mesh3d"
           }
          ],
          "parcoords": [
           {
            "line": {
             "colorbar": {
              "outlinewidth": 0,
              "ticks": ""
             }
            },
            "type": "parcoords"
           }
          ],
          "pie": [
           {
            "automargin": true,
            "type": "pie"
           }
          ],
          "scatter": [
           {
            "fillpattern": {
             "fillmode": "overlay",
             "size": 10,
             "solidity": 0.2
            },
            "type": "scatter"
           }
          ],
          "scatter3d": [
           {
            "line": {
             "colorbar": {
              "outlinewidth": 0,
              "ticks": ""
             }
            },
            "marker": {
             "colorbar": {
              "outlinewidth": 0,
              "ticks": ""
             }
            },
            "type": "scatter3d"
           }
          ],
          "scattercarpet": [
           {
            "marker": {
             "colorbar": {
              "outlinewidth": 0,
              "ticks": ""
             }
            },
            "type": "scattercarpet"
           }
          ],
          "scattergeo": [
           {
            "marker": {
             "colorbar": {
              "outlinewidth": 0,
              "ticks": ""
             }
            },
            "type": "scattergeo"
           }
          ],
          "scattergl": [
           {
            "marker": {
             "colorbar": {
              "outlinewidth": 0,
              "ticks": ""
             }
            },
            "type": "scattergl"
           }
          ],
          "scattermap": [
           {
            "marker": {
             "colorbar": {
              "outlinewidth": 0,
              "ticks": ""
             }
            },
            "type": "scattermap"
           }
          ],
          "scattermapbox": [
           {
            "marker": {
             "colorbar": {
              "outlinewidth": 0,
              "ticks": ""
             }
            },
            "type": "scattermapbox"
           }
          ],
          "scatterpolar": [
           {
            "marker": {
             "colorbar": {
              "outlinewidth": 0,
              "ticks": ""
             }
            },
            "type": "scatterpolar"
           }
          ],
          "scatterpolargl": [
           {
            "marker": {
             "colorbar": {
              "outlinewidth": 0,
              "ticks": ""
             }
            },
            "type": "scatterpolargl"
           }
          ],
          "scatterternary": [
           {
            "marker": {
             "colorbar": {
              "outlinewidth": 0,
              "ticks": ""
             }
            },
            "type": "scatterternary"
           }
          ],
          "surface": [
           {
            "colorbar": {
             "outlinewidth": 0,
             "ticks": ""
            },
            "colorscale": [
             [
              0,
              "#0d0887"
             ],
             [
              0.1111111111111111,
              "#46039f"
             ],
             [
              0.2222222222222222,
              "#7201a8"
             ],
             [
              0.3333333333333333,
              "#9c179e"
             ],
             [
              0.4444444444444444,
              "#bd3786"
             ],
             [
              0.5555555555555556,
              "#d8576b"
             ],
             [
              0.6666666666666666,
              "#ed7953"
             ],
             [
              0.7777777777777778,
              "#fb9f3a"
             ],
             [
              0.8888888888888888,
              "#fdca26"
             ],
             [
              1,
              "#f0f921"
             ]
            ],
            "type": "surface"
           }
          ],
          "table": [
           {
            "cells": {
             "fill": {
              "color": "#EBF0F8"
             },
             "line": {
              "color": "white"
             }
            },
            "header": {
             "fill": {
              "color": "#C8D4E3"
             },
             "line": {
              "color": "white"
             }
            },
            "type": "table"
           }
          ]
         },
         "layout": {
          "annotationdefaults": {
           "arrowcolor": "#2a3f5f",
           "arrowhead": 0,
           "arrowwidth": 1
          },
          "autotypenumbers": "strict",
          "coloraxis": {
           "colorbar": {
            "outlinewidth": 0,
            "ticks": ""
           }
          },
          "colorscale": {
           "diverging": [
            [
             0,
             "#8e0152"
            ],
            [
             0.1,
             "#c51b7d"
            ],
            [
             0.2,
             "#de77ae"
            ],
            [
             0.3,
             "#f1b6da"
            ],
            [
             0.4,
             "#fde0ef"
            ],
            [
             0.5,
             "#f7f7f7"
            ],
            [
             0.6,
             "#e6f5d0"
            ],
            [
             0.7,
             "#b8e186"
            ],
            [
             0.8,
             "#7fbc41"
            ],
            [
             0.9,
             "#4d9221"
            ],
            [
             1,
             "#276419"
            ]
           ],
           "sequential": [
            [
             0,
             "#0d0887"
            ],
            [
             0.1111111111111111,
             "#46039f"
            ],
            [
             0.2222222222222222,
             "#7201a8"
            ],
            [
             0.3333333333333333,
             "#9c179e"
            ],
            [
             0.4444444444444444,
             "#bd3786"
            ],
            [
             0.5555555555555556,
             "#d8576b"
            ],
            [
             0.6666666666666666,
             "#ed7953"
            ],
            [
             0.7777777777777778,
             "#fb9f3a"
            ],
            [
             0.8888888888888888,
             "#fdca26"
            ],
            [
             1,
             "#f0f921"
            ]
           ],
           "sequentialminus": [
            [
             0,
             "#0d0887"
            ],
            [
             0.1111111111111111,
             "#46039f"
            ],
            [
             0.2222222222222222,
             "#7201a8"
            ],
            [
             0.3333333333333333,
             "#9c179e"
            ],
            [
             0.4444444444444444,
             "#bd3786"
            ],
            [
             0.5555555555555556,
             "#d8576b"
            ],
            [
             0.6666666666666666,
             "#ed7953"
            ],
            [
             0.7777777777777778,
             "#fb9f3a"
            ],
            [
             0.8888888888888888,
             "#fdca26"
            ],
            [
             1,
             "#f0f921"
            ]
           ]
          },
          "colorway": [
           "#636efa",
           "#EF553B",
           "#00cc96",
           "#ab63fa",
           "#FFA15A",
           "#19d3f3",
           "#FF6692",
           "#B6E880",
           "#FF97FF",
           "#FECB52"
          ],
          "font": {
           "color": "#2a3f5f"
          },
          "geo": {
           "bgcolor": "white",
           "lakecolor": "white",
           "landcolor": "#E5ECF6",
           "showlakes": true,
           "showland": true,
           "subunitcolor": "white"
          },
          "hoverlabel": {
           "align": "left"
          },
          "hovermode": "closest",
          "mapbox": {
           "style": "light"
          },
          "paper_bgcolor": "white",
          "plot_bgcolor": "#E5ECF6",
          "polar": {
           "angularaxis": {
            "gridcolor": "white",
            "linecolor": "white",
            "ticks": ""
           },
           "bgcolor": "#E5ECF6",
           "radialaxis": {
            "gridcolor": "white",
            "linecolor": "white",
            "ticks": ""
           }
          },
          "scene": {
           "xaxis": {
            "backgroundcolor": "#E5ECF6",
            "gridcolor": "white",
            "gridwidth": 2,
            "linecolor": "white",
            "showbackground": true,
            "ticks": "",
            "zerolinecolor": "white"
           },
           "yaxis": {
            "backgroundcolor": "#E5ECF6",
            "gridcolor": "white",
            "gridwidth": 2,
            "linecolor": "white",
            "showbackground": true,
            "ticks": "",
            "zerolinecolor": "white"
           },
           "zaxis": {
            "backgroundcolor": "#E5ECF6",
            "gridcolor": "white",
            "gridwidth": 2,
            "linecolor": "white",
            "showbackground": true,
            "ticks": "",
            "zerolinecolor": "white"
           }
          },
          "shapedefaults": {
           "line": {
            "color": "#2a3f5f"
           }
          },
          "ternary": {
           "aaxis": {
            "gridcolor": "white",
            "linecolor": "white",
            "ticks": ""
           },
           "baxis": {
            "gridcolor": "white",
            "linecolor": "white",
            "ticks": ""
           },
           "bgcolor": "#E5ECF6",
           "caxis": {
            "gridcolor": "white",
            "linecolor": "white",
            "ticks": ""
           }
          },
          "title": {
           "x": 0.05
          },
          "xaxis": {
           "automargin": true,
           "gridcolor": "white",
           "linecolor": "white",
           "ticks": "",
           "title": {
            "standoff": 15
           },
           "zerolinecolor": "white",
           "zerolinewidth": 2
          },
          "yaxis": {
           "automargin": true,
           "gridcolor": "white",
           "linecolor": "white",
           "ticks": "",
           "title": {
            "standoff": 15
           },
           "zerolinecolor": "white",
           "zerolinewidth": 2
          }
         }
        },
        "title": {
         "text": "Evolución Mensual del Margen de Ganancia Promedio"
        },
        "xaxis": {
         "anchor": "y",
         "domain": [
          0,
          1
         ],
         "dtick": "M1",
         "tickformat": "%b %Y",
         "title": {
          "text": "Mes"
         }
        },
        "yaxis": {
         "anchor": "x",
         "domain": [
          0,
          1
         ],
         "title": {
          "text": "Margen de Ganancia Promedio (%)"
         }
        }
       }
      }
     },
     "metadata": {},
     "output_type": "display_data"
    }
   ],
   "source": [
    "grafica_rentabilidad_boxplot().show()\n",
    "grafica_costo_vs_precio().show()\n",
    "grafica_rentabilidad_mensual().show()"
   ]
  },
  {
   "cell_type": "code",
   "execution_count": 30,
   "id": "ec0735b8",
   "metadata": {},
   "outputs": [],
   "source": [
    "import plotly.graph_objects as go\n",
    "from plotly.subplots import make_subplots\n",
    "\n",
    "def grafica_dashboard_mensual():\n",
    "    # Preparación de datos mensuales\n",
    "    df_mensual = (\n",
    "        df_maestro_2024\n",
    "        .groupby(df_maestro_2024[\"Creado El\"].dt.to_period(\"M\"))\n",
    "        .agg({\n",
    "            \"Total Pieza\": \"sum\",\n",
    "            \"CostoTotalInsumo\": \"sum\",\n",
    "            \"Margen Ganancia Real\": \"mean\"\n",
    "        })\n",
    "        .reset_index()\n",
    "    )\n",
    "    df_mensual[\"Creado El\"] = df_mensual[\"Creado El\"].dt.to_timestamp()\n",
    "\n",
    "    # Subplots (3 filas, 1 columna)\n",
    "    fig = make_subplots(\n",
    "        rows=3, cols=1,\n",
    "        shared_xaxes=True,\n",
    "        vertical_spacing=0.08,\n",
    "        subplot_titles=(\"Volumen producido\", \"Costo de Materias Primas\", \"Rentabilidad Promedio\")\n",
    "    )\n",
    "\n",
    "    # 1️⃣ Volumen producido\n",
    "    fig.add_trace(\n",
    "        go.Scatter(\n",
    "            x=df_mensual[\"Creado El\"],\n",
    "            y=df_mensual[\"Total Pieza\"],\n",
    "            mode=\"lines+markers\",\n",
    "            name=\"Volumen\"\n",
    "        ),\n",
    "        row=1, col=1\n",
    "    )\n",
    "\n",
    "    # 2️⃣ Costo de materias primas\n",
    "    fig.add_trace(\n",
    "        go.Scatter(\n",
    "            x=df_mensual[\"Creado El\"],\n",
    "            y=df_mensual[\"CostoTotalInsumo\"],\n",
    "            mode=\"lines+markers\",\n",
    "            name=\"Costo Materias Primas\"\n",
    "        ),\n",
    "        row=2, col=1\n",
    "    )\n",
    "\n",
    "    # 3️⃣ Rentabilidad promedio\n",
    "    fig.add_trace(\n",
    "        go.Scatter(\n",
    "            x=df_mensual[\"Creado El\"],\n",
    "            y=df_mensual[\"Margen Ganancia Real\"],\n",
    "            mode=\"lines+markers\",\n",
    "            name=\"Rentabilidad\"\n",
    "        ),\n",
    "        row=3, col=1\n",
    "    )\n",
    "\n",
    "    # Layout general\n",
    "    fig.update_layout(\n",
    "        height=900,\n",
    "        title=\"Dashboard Mensual Consolidado (Producción, Costos y Rentabilidad)\",\n",
    "        showlegend=False,\n",
    "    )\n",
    "\n",
    "    # Configurar el eje X para mostrar etiquetas mensuales\n",
    "    fig.update_xaxes(\n",
    "        title_text=\"Mes\",\n",
    "        dtick=\"M1\",  # Intervalo de 1 mes\n",
    "        tickformat=\"%b %Y\",  # Formato: abreviatura del mes y año\n",
    "        row=3, col=1\n",
    "    )\n",
    "    fig.update_yaxes(title_text=\"Volumen (piezas)\", row=1, col=1)\n",
    "    fig.update_yaxes(title_text=\"Costo Total (moneda)\", row=2, col=1)\n",
    "    fig.update_yaxes(title_text=\"Rentabilidad (%)\", row=3, col=1)\n",
    "\n",
    "    return fig"
   ]
  },
  {
   "cell_type": "code",
   "execution_count": 31,
   "id": "e757bd47",
   "metadata": {},
   "outputs": [
    {
     "data": {
      "application/vnd.plotly.v1+json": {
       "config": {
        "plotlyServerURL": "https://plot.ly"
       },
       "data": [
        {
         "mode": "lines+markers",
         "name": "Volumen",
         "type": "scatter",
         "x": [
          "2024-01-01T00:00:00.000000000",
          "2024-02-01T00:00:00.000000000",
          "2024-03-01T00:00:00.000000000",
          "2024-04-01T00:00:00.000000000",
          "2024-05-01T00:00:00.000000000",
          "2024-06-01T00:00:00.000000000",
          "2024-07-01T00:00:00.000000000",
          "2024-08-01T00:00:00.000000000",
          "2024-09-01T00:00:00.000000000",
          "2024-10-01T00:00:00.000000000",
          "2024-12-01T00:00:00.000000000"
         ],
         "xaxis": "x",
         "y": {
          "bdata": "AAAAAGDZA0EAAAAAAJDrQAAAAAAAcNdAAAAAAIA59kAAAAAAAGWxQAAAAADwFfhAAAAAAAB1u0AAAAAAwEPWQAAAAABgEPlAAAAAAGBb9EAAAAAAAAynQA==",
          "dtype": "f8"
         },
         "yaxis": "y"
        },
        {
         "mode": "lines+markers",
         "name": "Costo Materias Primas",
         "type": "scatter",
         "x": [
          "2024-01-01T00:00:00.000000000",
          "2024-02-01T00:00:00.000000000",
          "2024-03-01T00:00:00.000000000",
          "2024-04-01T00:00:00.000000000",
          "2024-05-01T00:00:00.000000000",
          "2024-06-01T00:00:00.000000000",
          "2024-07-01T00:00:00.000000000",
          "2024-08-01T00:00:00.000000000",
          "2024-09-01T00:00:00.000000000",
          "2024-10-01T00:00:00.000000000",
          "2024-12-01T00:00:00.000000000"
         ],
         "xaxis": "x2",
         "y": {
          "bdata": "C9ejAKO7z0FnZma6Xli4QQAAAHC7zLFBAABAcJLswkHhehQuFJV1Qa5HoYx0GLdB7FG47hr4cUGPwvXEVPCQQZqZec4JgMFBzcxMwBG4q0EAAAAA9JVwQQ==",
          "dtype": "f8"
         },
         "yaxis": "y2"
        },
        {
         "mode": "lines+markers",
         "name": "Rentabilidad",
         "type": "scatter",
         "x": [
          "2024-01-01T00:00:00.000000000",
          "2024-02-01T00:00:00.000000000",
          "2024-03-01T00:00:00.000000000",
          "2024-04-01T00:00:00.000000000",
          "2024-05-01T00:00:00.000000000",
          "2024-06-01T00:00:00.000000000",
          "2024-07-01T00:00:00.000000000",
          "2024-08-01T00:00:00.000000000",
          "2024-09-01T00:00:00.000000000",
          "2024-10-01T00:00:00.000000000",
          "2024-12-01T00:00:00.000000000"
         ],
         "xaxis": "x3",
         "y": {
          "bdata": "yJGQqU+8OkCVwX9ijgw3QClcj8L1qDdAXiAYObXEOUDNKx9nNl47QKOE7muogzpAgLyq1zjwN0DnDrcMjoM7QNy4y3LxEDZAkZCXuWoiO0B8bolTvwc0QA==",
          "dtype": "f8"
         },
         "yaxis": "y3"
        }
       ],
       "layout": {
        "annotations": [
         {
          "font": {
           "size": 16
          },
          "showarrow": false,
          "text": "Volumen producido",
          "x": 0.5,
          "xanchor": "center",
          "xref": "paper",
          "y": 1,
          "yanchor": "bottom",
          "yref": "paper"
         },
         {
          "font": {
           "size": 16
          },
          "showarrow": false,
          "text": "Costo de Materias Primas",
          "x": 0.5,
          "xanchor": "center",
          "xref": "paper",
          "y": 0.6399999999999999,
          "yanchor": "bottom",
          "yref": "paper"
         },
         {
          "font": {
           "size": 16
          },
          "showarrow": false,
          "text": "Rentabilidad Promedio",
          "x": 0.5,
          "xanchor": "center",
          "xref": "paper",
          "y": 0.27999999999999997,
          "yanchor": "bottom",
          "yref": "paper"
         }
        ],
        "height": 900,
        "showlegend": false,
        "template": {
         "data": {
          "bar": [
           {
            "error_x": {
             "color": "#2a3f5f"
            },
            "error_y": {
             "color": "#2a3f5f"
            },
            "marker": {
             "line": {
              "color": "#E5ECF6",
              "width": 0.5
             },
             "pattern": {
              "fillmode": "overlay",
              "size": 10,
              "solidity": 0.2
             }
            },
            "type": "bar"
           }
          ],
          "barpolar": [
           {
            "marker": {
             "line": {
              "color": "#E5ECF6",
              "width": 0.5
             },
             "pattern": {
              "fillmode": "overlay",
              "size": 10,
              "solidity": 0.2
             }
            },
            "type": "barpolar"
           }
          ],
          "carpet": [
           {
            "aaxis": {
             "endlinecolor": "#2a3f5f",
             "gridcolor": "white",
             "linecolor": "white",
             "minorgridcolor": "white",
             "startlinecolor": "#2a3f5f"
            },
            "baxis": {
             "endlinecolor": "#2a3f5f",
             "gridcolor": "white",
             "linecolor": "white",
             "minorgridcolor": "white",
             "startlinecolor": "#2a3f5f"
            },
            "type": "carpet"
           }
          ],
          "choropleth": [
           {
            "colorbar": {
             "outlinewidth": 0,
             "ticks": ""
            },
            "type": "choropleth"
           }
          ],
          "contour": [
           {
            "colorbar": {
             "outlinewidth": 0,
             "ticks": ""
            },
            "colorscale": [
             [
              0,
              "#0d0887"
             ],
             [
              0.1111111111111111,
              "#46039f"
             ],
             [
              0.2222222222222222,
              "#7201a8"
             ],
             [
              0.3333333333333333,
              "#9c179e"
             ],
             [
              0.4444444444444444,
              "#bd3786"
             ],
             [
              0.5555555555555556,
              "#d8576b"
             ],
             [
              0.6666666666666666,
              "#ed7953"
             ],
             [
              0.7777777777777778,
              "#fb9f3a"
             ],
             [
              0.8888888888888888,
              "#fdca26"
             ],
             [
              1,
              "#f0f921"
             ]
            ],
            "type": "contour"
           }
          ],
          "contourcarpet": [
           {
            "colorbar": {
             "outlinewidth": 0,
             "ticks": ""
            },
            "type": "contourcarpet"
           }
          ],
          "heatmap": [
           {
            "colorbar": {
             "outlinewidth": 0,
             "ticks": ""
            },
            "colorscale": [
             [
              0,
              "#0d0887"
             ],
             [
              0.1111111111111111,
              "#46039f"
             ],
             [
              0.2222222222222222,
              "#7201a8"
             ],
             [
              0.3333333333333333,
              "#9c179e"
             ],
             [
              0.4444444444444444,
              "#bd3786"
             ],
             [
              0.5555555555555556,
              "#d8576b"
             ],
             [
              0.6666666666666666,
              "#ed7953"
             ],
             [
              0.7777777777777778,
              "#fb9f3a"
             ],
             [
              0.8888888888888888,
              "#fdca26"
             ],
             [
              1,
              "#f0f921"
             ]
            ],
            "type": "heatmap"
           }
          ],
          "histogram": [
           {
            "marker": {
             "pattern": {
              "fillmode": "overlay",
              "size": 10,
              "solidity": 0.2
             }
            },
            "type": "histogram"
           }
          ],
          "histogram2d": [
           {
            "colorbar": {
             "outlinewidth": 0,
             "ticks": ""
            },
            "colorscale": [
             [
              0,
              "#0d0887"
             ],
             [
              0.1111111111111111,
              "#46039f"
             ],
             [
              0.2222222222222222,
              "#7201a8"
             ],
             [
              0.3333333333333333,
              "#9c179e"
             ],
             [
              0.4444444444444444,
              "#bd3786"
             ],
             [
              0.5555555555555556,
              "#d8576b"
             ],
             [
              0.6666666666666666,
              "#ed7953"
             ],
             [
              0.7777777777777778,
              "#fb9f3a"
             ],
             [
              0.8888888888888888,
              "#fdca26"
             ],
             [
              1,
              "#f0f921"
             ]
            ],
            "type": "histogram2d"
           }
          ],
          "histogram2dcontour": [
           {
            "colorbar": {
             "outlinewidth": 0,
             "ticks": ""
            },
            "colorscale": [
             [
              0,
              "#0d0887"
             ],
             [
              0.1111111111111111,
              "#46039f"
             ],
             [
              0.2222222222222222,
              "#7201a8"
             ],
             [
              0.3333333333333333,
              "#9c179e"
             ],
             [
              0.4444444444444444,
              "#bd3786"
             ],
             [
              0.5555555555555556,
              "#d8576b"
             ],
             [
              0.6666666666666666,
              "#ed7953"
             ],
             [
              0.7777777777777778,
              "#fb9f3a"
             ],
             [
              0.8888888888888888,
              "#fdca26"
             ],
             [
              1,
              "#f0f921"
             ]
            ],
            "type": "histogram2dcontour"
           }
          ],
          "mesh3d": [
           {
            "colorbar": {
             "outlinewidth": 0,
             "ticks": ""
            },
            "type": "mesh3d"
           }
          ],
          "parcoords": [
           {
            "line": {
             "colorbar": {
              "outlinewidth": 0,
              "ticks": ""
             }
            },
            "type": "parcoords"
           }
          ],
          "pie": [
           {
            "automargin": true,
            "type": "pie"
           }
          ],
          "scatter": [
           {
            "fillpattern": {
             "fillmode": "overlay",
             "size": 10,
             "solidity": 0.2
            },
            "type": "scatter"
           }
          ],
          "scatter3d": [
           {
            "line": {
             "colorbar": {
              "outlinewidth": 0,
              "ticks": ""
             }
            },
            "marker": {
             "colorbar": {
              "outlinewidth": 0,
              "ticks": ""
             }
            },
            "type": "scatter3d"
           }
          ],
          "scattercarpet": [
           {
            "marker": {
             "colorbar": {
              "outlinewidth": 0,
              "ticks": ""
             }
            },
            "type": "scattercarpet"
           }
          ],
          "scattergeo": [
           {
            "marker": {
             "colorbar": {
              "outlinewidth": 0,
              "ticks": ""
             }
            },
            "type": "scattergeo"
           }
          ],
          "scattergl": [
           {
            "marker": {
             "colorbar": {
              "outlinewidth": 0,
              "ticks": ""
             }
            },
            "type": "scattergl"
           }
          ],
          "scattermap": [
           {
            "marker": {
             "colorbar": {
              "outlinewidth": 0,
              "ticks": ""
             }
            },
            "type": "scattermap"
           }
          ],
          "scattermapbox": [
           {
            "marker": {
             "colorbar": {
              "outlinewidth": 0,
              "ticks": ""
             }
            },
            "type": "scattermapbox"
           }
          ],
          "scatterpolar": [
           {
            "marker": {
             "colorbar": {
              "outlinewidth": 0,
              "ticks": ""
             }
            },
            "type": "scatterpolar"
           }
          ],
          "scatterpolargl": [
           {
            "marker": {
             "colorbar": {
              "outlinewidth": 0,
              "ticks": ""
             }
            },
            "type": "scatterpolargl"
           }
          ],
          "scatterternary": [
           {
            "marker": {
             "colorbar": {
              "outlinewidth": 0,
              "ticks": ""
             }
            },
            "type": "scatterternary"
           }
          ],
          "surface": [
           {
            "colorbar": {
             "outlinewidth": 0,
             "ticks": ""
            },
            "colorscale": [
             [
              0,
              "#0d0887"
             ],
             [
              0.1111111111111111,
              "#46039f"
             ],
             [
              0.2222222222222222,
              "#7201a8"
             ],
             [
              0.3333333333333333,
              "#9c179e"
             ],
             [
              0.4444444444444444,
              "#bd3786"
             ],
             [
              0.5555555555555556,
              "#d8576b"
             ],
             [
              0.6666666666666666,
              "#ed7953"
             ],
             [
              0.7777777777777778,
              "#fb9f3a"
             ],
             [
              0.8888888888888888,
              "#fdca26"
             ],
             [
              1,
              "#f0f921"
             ]
            ],
            "type": "surface"
           }
          ],
          "table": [
           {
            "cells": {
             "fill": {
              "color": "#EBF0F8"
             },
             "line": {
              "color": "white"
             }
            },
            "header": {
             "fill": {
              "color": "#C8D4E3"
             },
             "line": {
              "color": "white"
             }
            },
            "type": "table"
           }
          ]
         },
         "layout": {
          "annotationdefaults": {
           "arrowcolor": "#2a3f5f",
           "arrowhead": 0,
           "arrowwidth": 1
          },
          "autotypenumbers": "strict",
          "coloraxis": {
           "colorbar": {
            "outlinewidth": 0,
            "ticks": ""
           }
          },
          "colorscale": {
           "diverging": [
            [
             0,
             "#8e0152"
            ],
            [
             0.1,
             "#c51b7d"
            ],
            [
             0.2,
             "#de77ae"
            ],
            [
             0.3,
             "#f1b6da"
            ],
            [
             0.4,
             "#fde0ef"
            ],
            [
             0.5,
             "#f7f7f7"
            ],
            [
             0.6,
             "#e6f5d0"
            ],
            [
             0.7,
             "#b8e186"
            ],
            [
             0.8,
             "#7fbc41"
            ],
            [
             0.9,
             "#4d9221"
            ],
            [
             1,
             "#276419"
            ]
           ],
           "sequential": [
            [
             0,
             "#0d0887"
            ],
            [
             0.1111111111111111,
             "#46039f"
            ],
            [
             0.2222222222222222,
             "#7201a8"
            ],
            [
             0.3333333333333333,
             "#9c179e"
            ],
            [
             0.4444444444444444,
             "#bd3786"
            ],
            [
             0.5555555555555556,
             "#d8576b"
            ],
            [
             0.6666666666666666,
             "#ed7953"
            ],
            [
             0.7777777777777778,
             "#fb9f3a"
            ],
            [
             0.8888888888888888,
             "#fdca26"
            ],
            [
             1,
             "#f0f921"
            ]
           ],
           "sequentialminus": [
            [
             0,
             "#0d0887"
            ],
            [
             0.1111111111111111,
             "#46039f"
            ],
            [
             0.2222222222222222,
             "#7201a8"
            ],
            [
             0.3333333333333333,
             "#9c179e"
            ],
            [
             0.4444444444444444,
             "#bd3786"
            ],
            [
             0.5555555555555556,
             "#d8576b"
            ],
            [
             0.6666666666666666,
             "#ed7953"
            ],
            [
             0.7777777777777778,
             "#fb9f3a"
            ],
            [
             0.8888888888888888,
             "#fdca26"
            ],
            [
             1,
             "#f0f921"
            ]
           ]
          },
          "colorway": [
           "#636efa",
           "#EF553B",
           "#00cc96",
           "#ab63fa",
           "#FFA15A",
           "#19d3f3",
           "#FF6692",
           "#B6E880",
           "#FF97FF",
           "#FECB52"
          ],
          "font": {
           "color": "#2a3f5f"
          },
          "geo": {
           "bgcolor": "white",
           "lakecolor": "white",
           "landcolor": "#E5ECF6",
           "showlakes": true,
           "showland": true,
           "subunitcolor": "white"
          },
          "hoverlabel": {
           "align": "left"
          },
          "hovermode": "closest",
          "mapbox": {
           "style": "light"
          },
          "paper_bgcolor": "white",
          "plot_bgcolor": "#E5ECF6",
          "polar": {
           "angularaxis": {
            "gridcolor": "white",
            "linecolor": "white",
            "ticks": ""
           },
           "bgcolor": "#E5ECF6",
           "radialaxis": {
            "gridcolor": "white",
            "linecolor": "white",
            "ticks": ""
           }
          },
          "scene": {
           "xaxis": {
            "backgroundcolor": "#E5ECF6",
            "gridcolor": "white",
            "gridwidth": 2,
            "linecolor": "white",
            "showbackground": true,
            "ticks": "",
            "zerolinecolor": "white"
           },
           "yaxis": {
            "backgroundcolor": "#E5ECF6",
            "gridcolor": "white",
            "gridwidth": 2,
            "linecolor": "white",
            "showbackground": true,
            "ticks": "",
            "zerolinecolor": "white"
           },
           "zaxis": {
            "backgroundcolor": "#E5ECF6",
            "gridcolor": "white",
            "gridwidth": 2,
            "linecolor": "white",
            "showbackground": true,
            "ticks": "",
            "zerolinecolor": "white"
           }
          },
          "shapedefaults": {
           "line": {
            "color": "#2a3f5f"
           }
          },
          "ternary": {
           "aaxis": {
            "gridcolor": "white",
            "linecolor": "white",
            "ticks": ""
           },
           "baxis": {
            "gridcolor": "white",
            "linecolor": "white",
            "ticks": ""
           },
           "bgcolor": "#E5ECF6",
           "caxis": {
            "gridcolor": "white",
            "linecolor": "white",
            "ticks": ""
           }
          },
          "title": {
           "x": 0.05
          },
          "xaxis": {
           "automargin": true,
           "gridcolor": "white",
           "linecolor": "white",
           "ticks": "",
           "title": {
            "standoff": 15
           },
           "zerolinecolor": "white",
           "zerolinewidth": 2
          },
          "yaxis": {
           "automargin": true,
           "gridcolor": "white",
           "linecolor": "white",
           "ticks": "",
           "title": {
            "standoff": 15
           },
           "zerolinecolor": "white",
           "zerolinewidth": 2
          }
         }
        },
        "title": {
         "text": "Dashboard Mensual Consolidado (Producción, Costos y Rentabilidad)"
        },
        "xaxis": {
         "anchor": "y",
         "domain": [
          0,
          1
         ],
         "matches": "x3",
         "showticklabels": false
        },
        "xaxis2": {
         "anchor": "y2",
         "domain": [
          0,
          1
         ],
         "matches": "x3",
         "showticklabels": false
        },
        "xaxis3": {
         "anchor": "y3",
         "domain": [
          0,
          1
         ],
         "dtick": "M1",
         "tickformat": "%b %Y",
         "title": {
          "text": "Mes"
         }
        },
        "yaxis": {
         "anchor": "x",
         "domain": [
          0.72,
          1
         ],
         "title": {
          "text": "Volumen (piezas)"
         }
        },
        "yaxis2": {
         "anchor": "x2",
         "domain": [
          0.36,
          0.6399999999999999
         ],
         "title": {
          "text": "Costo Total (moneda)"
         }
        },
        "yaxis3": {
         "anchor": "x3",
         "domain": [
          0,
          0.27999999999999997
         ],
         "title": {
          "text": "Rentabilidad (%)"
         }
        }
       }
      }
     },
     "metadata": {},
     "output_type": "display_data"
    }
   ],
   "source": [
    "grafica_dashboard_mensual().show()\n"
   ]
  },
  {
   "cell_type": "code",
   "execution_count": 32,
   "id": "be26bfdc",
   "metadata": {},
   "outputs": [],
   "source": [
    "df_maestro_2024.to_parquet(\"data/df_maestro_2024.parquet\", index=False)"
   ]
  },
  {
   "cell_type": "markdown",
   "id": "48ac6242",
   "metadata": {},
   "source": [
    "## Exportación reporte HTML"
   ]
  },
  {
   "cell_type": "code",
   "execution_count": null,
   "id": "566d24c8",
   "metadata": {},
   "outputs": [
    {
     "name": "stdout",
     "output_type": "stream",
     "text": [
      "Dashboard exportado exitosamente en: exported_dashboards\\index.html\n"
     ]
    }
   ],
   "source": [
    "from plotly.io import write_html\n",
    "import os\n",
    "\n",
    "def export_dashboard():\n",
    "    # Crear un directorio para guardar el archivo HTML si no existe\n",
    "    output_dir = \"dashboards\"\n",
    "    os.makedirs(output_dir, exist_ok=True)\n",
    "    \n",
    "    # Crear un archivo HTML con las gráficas\n",
    "    with open(os.path.join(output_dir, \"index.html\"), \"w\", encoding=\"utf-8\") as f:\n",
    "        f.write(\"\"\"<!DOCTYPE html>\\n<html lang='en'>\\n<head>\\n<meta charset='UTF-8'>\\n<meta name='viewport' content='width=device-width, initial-scale=1.0'>\\n<title>Dashboard</title>\\n</head>\\n<body>\\n<h1>Dashboard Consolidado</h1>\\n\"\"\")\n",
    "        \n",
    "        # Volúmenes de producción\n",
    "        f.write(\"<h2>Volumenes de Producción</h2>\\n\")\n",
    "        grafica_volumenes_fig = grafica_volumenes()\n",
    "        write_html(grafica_volumenes_fig, file=f, full_html=False, include_plotlyjs='cdn')\n",
    "        grafica_voluenes_bajo_total_fig = grafica_voluenes_bajo_total()\n",
    "        write_html(grafica_voluenes_bajo_total_fig, file=f, full_html=False, include_plotlyjs='cdn')\n",
    "\n",
    "        # Materias primas e insumos\n",
    "        f.write(\"<h2>Distribución de Costos por Insumos / Materias Primas / Servicios de Producción</h2>\\n\")\n",
    "        fig_heatmap = grafica_heatmap_insumos()\n",
    "        write_html(fig_heatmap, file=f, full_html=False, include_plotlyjs='cdn')\n",
    "        fig_treemap = grafica_treemap_insumos()\n",
    "        write_html(fig_treemap, file=f, full_html=False, include_plotlyjs='cdn')\n",
    "        fig_top_insumos = grafica_top_insumos()\n",
    "        write_html(fig_top_insumos, file=f, full_html=False, include_plotlyjs='cdn')\n",
    "        \n",
    "        # Rentabilidad\n",
    "        f.write(\"<h2>Rentabilidad</h2>\\n\")\n",
    "        fig_boxplot = grafica_rentabilidad_boxplot()\n",
    "        write_html(fig_boxplot, file=f, full_html=False, include_plotlyjs='cdn')\n",
    "        fig_scatter = grafica_costo_vs_precio()\n",
    "        write_html(fig_scatter, file=f, full_html=False, include_plotlyjs='cdn')\n",
    "        fig_rentabilidad_mensual = grafica_rentabilidad_mensual()\n",
    "        write_html(fig_rentabilidad_mensual, file=f, full_html=False, include_plotlyjs='cdn')\n",
    "        fig_dashboard = grafica_dashboard_mensual()\n",
    "        write_html(fig_dashboard, file=f, full_html=False, include_plotlyjs='cdn')\n",
    "        \n",
    "        f.write(\"</body>\\n</html>\")\n",
    "    \n",
    "    print(f\"Dashboard exportado exitosamente en: {os.path.join(output_dir, 'index.html')}\")\n",
    "    \n",
    "# Llamar a la función para exportar el dashboard\n",
    "export_dashboard()"
   ]
  },
  {
   "cell_type": "code",
   "execution_count": null,
   "id": "8ed231bf",
   "metadata": {},
   "outputs": [],
   "source": []
  }
 ],
 "metadata": {
  "kernelspec": {
   "display_name": "Terpel",
   "language": "python",
   "name": "python3"
  },
  "language_info": {
   "codemirror_mode": {
    "name": "ipython",
    "version": 3
   },
   "file_extension": ".py",
   "mimetype": "text/x-python",
   "name": "python",
   "nbconvert_exporter": "python",
   "pygments_lexer": "ipython3",
   "version": "3.11.9"
  }
 },
 "nbformat": 4,
 "nbformat_minor": 5
}
